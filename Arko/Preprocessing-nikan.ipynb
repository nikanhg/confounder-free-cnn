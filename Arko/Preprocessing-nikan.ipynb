{
 "cells": [
  {
   "cell_type": "markdown",
   "metadata": {},
   "source": [
    "# OCTDL Preprocessing"
   ]
  },
  {
   "cell_type": "markdown",
   "metadata": {},
   "source": [
    "### Overview"
   ]
  },
  {
   "cell_type": "markdown",
   "metadata": {},
   "source": [
    "This notebook is designed for preprocessing a OCTDL, which is a crucial step in preparing data for training machine learning models, particularly in medical imaging tasks. Preprocessing ensures that the input data is consistent in format, size, and type, which helps in achieving better performance and more reliable results from the models. Optical coherence tomography (OCT) is a non-invasive imaging technique with extensive clinical applications in ophthalmology. OCT enables the visualization of the retinal layers, playing a vital role in the early detection and monitoring of retinal diseases"
   ]
  },
  {
   "cell_type": "markdown",
   "metadata": {},
   "source": [
    "### Objective"
   ]
  },
  {
   "cell_type": "markdown",
   "metadata": {},
   "source": [
    "* Data Cleaning: To ensure the dataset only contains relevant and properly labeled images.\n",
    "\n",
    "* Data Splitting: To divide the data into training, validation, and test sets based on patient IDs. This separation is important to avoid data leakage where information from the test set is known during training, potentially leading to overfitting and poor model generalization.\n",
    "\n",
    "* Image Preprocessing: To standardize the images by resizing, cropping, and padding. This uniformity is crucial for the algorithm to learn effectively without bias from varying image sizes or scales."
   ]
  },
  {
   "cell_type": "markdown",
   "metadata": {},
   "source": [
    "### Dataset"
   ]
  },
  {
   "cell_type": "markdown",
   "metadata": {},
   "source": [
    " The dataset comprises 2064 images originating from 821 distinct patients. The dataset is meticulously organized, with each image accompanied by a detailed metadata record in a CSV file. This file encapsulates various attributes such as ‘file_name’, ‘disease’, ‘subcategory’, ‘condition’, ‘patient_id’, ‘eye’, ‘sex’, ‘year’, ‘image_width’, and ‘image_height’. Here, the ‘year’ attribute specifically denotes the year the image was taken, providing temporal context which could be relevant for longitudinal studies or tracking disease progression.\n",
    "\n",
    "This dataset encapsulates a broad spectrum of seven disease classes, which include: \n",
    "* Age-related Macular Degeneration (AMD)\n",
    "* Diabetic Macular Edema (DME)\n",
    "* Epiretinal Membrane (ERM) \n",
    "* Retinal Artery Occlusion (RAO)\n",
    "* Vitreoretinal Interface Disease (VID)\n",
    "* Retinal Vein Occlusion (RVO)\n",
    "* Normal (NO)"
   ]
  },
  {
   "cell_type": "markdown",
   "metadata": {},
   "source": [
    "These classes form the basis for developing predictive models that aim to diagnose these conditions from the retinal images. The notebook's setup for preprocessing — including cleaning, splitting, and standardizing the images — is tailored to prepare this dataset for subsequent analysis and model training, ensuring that the data used in training, validation, and testing phases is representative, balanced, and adheres strictly to the required input format for deep learning models. "
   ]
  },
  {
   "cell_type": "code",
   "execution_count": 4,
   "metadata": {},
   "outputs": [],
   "source": [
    "#pip install opencv-python\n",
    "import os\n",
    "from os import listdir\n",
    "from os.path import isfile\n",
    "from os.path import join\n",
    "from pathlib import Path\n",
    "import cv2\n",
    "from math import ceil\n",
    "import argparse\n",
    "from tqdm import tqdm\n",
    "from sklearn.model_selection import train_test_split\n",
    "import pandas as pd"
   ]
  },
  {
   "cell_type": "code",
   "execution_count": 5,
   "metadata": {},
   "outputs": [
    {
     "data": {
      "text/html": [
       "<div>\n",
       "<style scoped>\n",
       "    .dataframe tbody tr th:only-of-type {\n",
       "        vertical-align: middle;\n",
       "    }\n",
       "\n",
       "    .dataframe tbody tr th {\n",
       "        vertical-align: top;\n",
       "    }\n",
       "\n",
       "    .dataframe thead th {\n",
       "        text-align: right;\n",
       "    }\n",
       "</style>\n",
       "<table border=\"1\" class=\"dataframe\">\n",
       "  <thead>\n",
       "    <tr style=\"text-align: right;\">\n",
       "      <th></th>\n",
       "      <th>file_name</th>\n",
       "      <th>disease</th>\n",
       "      <th>subcategory</th>\n",
       "      <th>condition</th>\n",
       "      <th>patient_id</th>\n",
       "      <th>eye</th>\n",
       "      <th>sex</th>\n",
       "      <th>year</th>\n",
       "      <th>image_width</th>\n",
       "      <th>image_hight</th>\n",
       "    </tr>\n",
       "  </thead>\n",
       "  <tbody>\n",
       "    <tr>\n",
       "      <th>0</th>\n",
       "      <td>amd_1047099_1</td>\n",
       "      <td>AMD</td>\n",
       "      <td>intermediate</td>\n",
       "      <td>MNV_suspected</td>\n",
       "      <td>1047099</td>\n",
       "      <td>0</td>\n",
       "      <td>0</td>\n",
       "      <td>0</td>\n",
       "      <td>1101</td>\n",
       "      <td>410</td>\n",
       "    </tr>\n",
       "    <tr>\n",
       "      <th>1</th>\n",
       "      <td>amd_1047099_2</td>\n",
       "      <td>AMD</td>\n",
       "      <td>intermediate</td>\n",
       "      <td>MNV_suspected</td>\n",
       "      <td>1047099</td>\n",
       "      <td>0</td>\n",
       "      <td>0</td>\n",
       "      <td>0</td>\n",
       "      <td>731</td>\n",
       "      <td>265</td>\n",
       "    </tr>\n",
       "    <tr>\n",
       "      <th>2</th>\n",
       "      <td>amd_1047099_3</td>\n",
       "      <td>AMD</td>\n",
       "      <td>intermediate</td>\n",
       "      <td>MNV_suspected</td>\n",
       "      <td>1047099</td>\n",
       "      <td>0</td>\n",
       "      <td>0</td>\n",
       "      <td>0</td>\n",
       "      <td>1100</td>\n",
       "      <td>410</td>\n",
       "    </tr>\n",
       "    <tr>\n",
       "      <th>3</th>\n",
       "      <td>amd_1047099_4</td>\n",
       "      <td>AMD</td>\n",
       "      <td>intermediate</td>\n",
       "      <td>MNV_suspected</td>\n",
       "      <td>1047099</td>\n",
       "      <td>0</td>\n",
       "      <td>0</td>\n",
       "      <td>0</td>\n",
       "      <td>882</td>\n",
       "      <td>321</td>\n",
       "    </tr>\n",
       "    <tr>\n",
       "      <th>4</th>\n",
       "      <td>amd_1084498_1</td>\n",
       "      <td>AMD</td>\n",
       "      <td>late</td>\n",
       "      <td>MNV</td>\n",
       "      <td>1084498</td>\n",
       "      <td>0</td>\n",
       "      <td>0</td>\n",
       "      <td>0</td>\n",
       "      <td>882</td>\n",
       "      <td>321</td>\n",
       "    </tr>\n",
       "    <tr>\n",
       "      <th>...</th>\n",
       "      <td>...</td>\n",
       "      <td>...</td>\n",
       "      <td>...</td>\n",
       "      <td>...</td>\n",
       "      <td>...</td>\n",
       "      <td>...</td>\n",
       "      <td>...</td>\n",
       "      <td>...</td>\n",
       "      <td>...</td>\n",
       "      <td>...</td>\n",
       "    </tr>\n",
       "    <tr>\n",
       "      <th>2059</th>\n",
       "      <td>vid_9300009_2</td>\n",
       "      <td>VID</td>\n",
       "      <td>LH</td>\n",
       "      <td>MH</td>\n",
       "      <td>9300009</td>\n",
       "      <td>OS</td>\n",
       "      <td>F</td>\n",
       "      <td>1959</td>\n",
       "      <td>879</td>\n",
       "      <td>288</td>\n",
       "    </tr>\n",
       "    <tr>\n",
       "      <th>2060</th>\n",
       "      <td>vid_9412101_1</td>\n",
       "      <td>VID</td>\n",
       "      <td>MH</td>\n",
       "      <td>MH</td>\n",
       "      <td>9412101</td>\n",
       "      <td>0</td>\n",
       "      <td>0</td>\n",
       "      <td>0</td>\n",
       "      <td>913</td>\n",
       "      <td>288</td>\n",
       "    </tr>\n",
       "    <tr>\n",
       "      <th>2061</th>\n",
       "      <td>vid_9474645_1</td>\n",
       "      <td>VID</td>\n",
       "      <td>LH</td>\n",
       "      <td>MH</td>\n",
       "      <td>9474645</td>\n",
       "      <td>0</td>\n",
       "      <td>0</td>\n",
       "      <td>0</td>\n",
       "      <td>579</td>\n",
       "      <td>211</td>\n",
       "    </tr>\n",
       "    <tr>\n",
       "      <th>2062</th>\n",
       "      <td>vid_9474645_2</td>\n",
       "      <td>VID</td>\n",
       "      <td>LH</td>\n",
       "      <td>MH</td>\n",
       "      <td>9474645</td>\n",
       "      <td>0</td>\n",
       "      <td>0</td>\n",
       "      <td>0</td>\n",
       "      <td>579</td>\n",
       "      <td>210</td>\n",
       "    </tr>\n",
       "    <tr>\n",
       "      <th>2063</th>\n",
       "      <td>vid_9774695_1</td>\n",
       "      <td>VID</td>\n",
       "      <td>MH</td>\n",
       "      <td>MH</td>\n",
       "      <td>9774695</td>\n",
       "      <td>0</td>\n",
       "      <td>0</td>\n",
       "      <td>0</td>\n",
       "      <td>1101</td>\n",
       "      <td>407</td>\n",
       "    </tr>\n",
       "  </tbody>\n",
       "</table>\n",
       "<p>2064 rows × 10 columns</p>\n",
       "</div>"
      ],
      "text/plain": [
       "          file_name disease   subcategory      condition  patient_id eye sex  \\\n",
       "0     amd_1047099_1     AMD  intermediate  MNV_suspected     1047099   0   0   \n",
       "1     amd_1047099_2     AMD  intermediate  MNV_suspected     1047099   0   0   \n",
       "2     amd_1047099_3     AMD  intermediate  MNV_suspected     1047099   0   0   \n",
       "3     amd_1047099_4     AMD  intermediate  MNV_suspected     1047099   0   0   \n",
       "4     amd_1084498_1     AMD          late            MNV     1084498   0   0   \n",
       "...             ...     ...           ...            ...         ...  ..  ..   \n",
       "2059  vid_9300009_2     VID            LH             MH     9300009  OS   F   \n",
       "2060  vid_9412101_1     VID            MH             MH     9412101   0   0   \n",
       "2061  vid_9474645_1     VID            LH             MH     9474645   0   0   \n",
       "2062  vid_9474645_2     VID            LH             MH     9474645   0   0   \n",
       "2063  vid_9774695_1     VID            MH             MH     9774695   0   0   \n",
       "\n",
       "      year  image_width  image_hight  \n",
       "0        0         1101          410  \n",
       "1        0          731          265  \n",
       "2        0         1100          410  \n",
       "3        0          882          321  \n",
       "4        0          882          321  \n",
       "...    ...          ...          ...  \n",
       "2059  1959          879          288  \n",
       "2060     0          913          288  \n",
       "2061     0          579          211  \n",
       "2062     0          579          210  \n",
       "2063     0         1101          407  \n",
       "\n",
       "[2064 rows x 10 columns]"
      ]
     },
     "execution_count": 5,
     "metadata": {},
     "output_type": "execute_result"
    }
   ],
   "source": [
    "df_labels = pd.read_csv('C:/Users/hgnik/OneDrive/Desktop/Code/confounder-free-cnn/OCTDL/OCTDL_labels.csv')\n",
    "df_labels"
   ]
  },
  {
   "cell_type": "code",
   "execution_count": 7,
   "metadata": {},
   "outputs": [
    {
     "name": "stdout",
     "output_type": "stream",
     "text": [
      "448\n",
      "disease\n",
      "AMD    348\n",
      "NO      48\n",
      "ERM     22\n",
      "VID     18\n",
      "RVO      8\n",
      "DME      4\n",
      "Name: count, dtype: int64\n"
     ]
    },
    {
     "data": {
      "text/html": [
       "<div>\n",
       "<style scoped>\n",
       "    .dataframe tbody tr th:only-of-type {\n",
       "        vertical-align: middle;\n",
       "    }\n",
       "\n",
       "    .dataframe tbody tr th {\n",
       "        vertical-align: top;\n",
       "    }\n",
       "\n",
       "    .dataframe thead th {\n",
       "        text-align: right;\n",
       "    }\n",
       "</style>\n",
       "<table border=\"1\" class=\"dataframe\">\n",
       "  <thead>\n",
       "    <tr style=\"text-align: right;\">\n",
       "      <th></th>\n",
       "      <th>file_name</th>\n",
       "      <th>disease</th>\n",
       "      <th>subcategory</th>\n",
       "      <th>condition</th>\n",
       "      <th>patient_id</th>\n",
       "      <th>eye</th>\n",
       "      <th>sex</th>\n",
       "      <th>year</th>\n",
       "      <th>image_width</th>\n",
       "      <th>image_hight</th>\n",
       "    </tr>\n",
       "  </thead>\n",
       "  <tbody>\n",
       "    <tr>\n",
       "      <th>0</th>\n",
       "      <td>amd_1101816_1</td>\n",
       "      <td>AMD</td>\n",
       "      <td>late</td>\n",
       "      <td>MNV</td>\n",
       "      <td>1101816</td>\n",
       "      <td>OD</td>\n",
       "      <td>F</td>\n",
       "      <td>1941</td>\n",
       "      <td>882</td>\n",
       "      <td>322</td>\n",
       "    </tr>\n",
       "    <tr>\n",
       "      <th>1</th>\n",
       "      <td>amd_1101816_2</td>\n",
       "      <td>AMD</td>\n",
       "      <td>late</td>\n",
       "      <td>MNV</td>\n",
       "      <td>1101816</td>\n",
       "      <td>OD</td>\n",
       "      <td>F</td>\n",
       "      <td>1941</td>\n",
       "      <td>882</td>\n",
       "      <td>322</td>\n",
       "    </tr>\n",
       "    <tr>\n",
       "      <th>2</th>\n",
       "      <td>amd_1101816_3</td>\n",
       "      <td>AMD</td>\n",
       "      <td>late</td>\n",
       "      <td>MNV</td>\n",
       "      <td>1101816</td>\n",
       "      <td>OS</td>\n",
       "      <td>F</td>\n",
       "      <td>1941</td>\n",
       "      <td>882</td>\n",
       "      <td>322</td>\n",
       "    </tr>\n",
       "  </tbody>\n",
       "</table>\n",
       "</div>"
      ],
      "text/plain": [
       "       file_name disease subcategory condition  patient_id eye sex  year  \\\n",
       "0  amd_1101816_1     AMD        late       MNV     1101816  OD   F  1941   \n",
       "1  amd_1101816_2     AMD        late       MNV     1101816  OD   F  1941   \n",
       "2  amd_1101816_3     AMD        late       MNV     1101816  OS   F  1941   \n",
       "\n",
       "   image_width  image_hight  \n",
       "0          882          322  \n",
       "1          882          322  \n",
       "2          882          322  "
      ]
     },
     "execution_count": 7,
     "metadata": {},
     "output_type": "execute_result"
    }
   ],
   "source": [
    "# data understaning\n",
    "df_labels = df_labels[df_labels['year'] != 0]\n",
    "df_labels.reset_index(drop=True, inplace=True)\n",
    "print(len(df_labels))\n",
    "print(df_labels['disease'].value_counts())\n",
    "df_labels.head(3)"
   ]
  },
  {
   "cell_type": "code",
   "execution_count": null,
   "metadata": {},
   "outputs": [],
   "source": []
  },
  {
   "cell_type": "code",
   "execution_count": 8,
   "metadata": {},
   "outputs": [
    {
     "name": "stdout",
     "output_type": "stream",
     "text": [
      "418\n",
      "disease\n",
      "1    348\n",
      "0     70\n",
      "Name: count, dtype: int64\n"
     ]
    }
   ],
   "source": [
    "# relabeling\n",
    "df_labels = df_labels[(df_labels['disease'] != 'VID') & (df_labels['disease'] != 'RVO') & (df_labels['disease'] != 'DME')]\n",
    "df_labels['disease'] = df_labels['disease'].apply(lambda x: 1 if x == 'AMD' else 0)\n",
    "print(len(df_labels))\n",
    "print(df_labels['disease'].value_counts())"
   ]
  },
  {
   "cell_type": "code",
   "execution_count": null,
   "metadata": {},
   "outputs": [],
   "source": [
    "dir = \"C:/Users/hgnik/OneDrive/Desktop/Code/confounder-free-cnn/OCTDL\"\n",
    "#Input \n",
    "dataset_folder = dir + \"/OCTDL images/\"\n",
    "#lables for each Input\n",
    "labels_path = dir + \"/OCTDL_labels.csv\"\n",
    "#Output\n",
    "output_folder = dir + \"/output\"\n",
    "#Defines the ratio for central cropping of images; 1 means no cropping. default=1\n",
    "crop_ratio = 1\n",
    "#Specifies the dimensions to which images should be resized Default is 512\n",
    "image_dim =512\n",
    "#validation set\n",
    "val_ratio = 0.15\n",
    "#test_ratio\n",
    "test_ratio = 0.25\n",
    "#A boolean flag that, when true, indicates images should be padded to become square. Default is False\n",
    "padding = True\n",
    "#A boolean flag that, when true, indicates images should be cropped centrally according to the crop_ratio Default is False.\n",
    "crop = False\n",
    "#A boolean flag that, when true, indicates images should be resized to image_dim. Default is False.\n",
    "resize =True"
   ]
  },
  {
   "cell_type": "markdown",
   "metadata": {},
   "source": [
    "describing the directory and data cleaning parameters for preprocessing of the data"
   ]
  },
  {
   "cell_type": "code",
   "execution_count": null,
   "metadata": {},
   "outputs": [],
   "source": [
    "labels = ['AMD', 'DME', 'ERM', 'NO', 'VID']\n",
    "folders = ['train', 'val', 'test']"
   ]
  },
  {
   "cell_type": "markdown",
   "metadata": {},
   "source": [
    "Classes and name of folders for cleaned data"
   ]
  },
  {
   "cell_type": "code",
   "execution_count": null,
   "metadata": {},
   "outputs": [],
   "source": [
    "def padding(img):\n",
    "    \"\"\"Returns padded to square image\n",
    "    \"\"\"\n",
    "    height = img.shape[0]\n",
    "    width = img.shape[1]\n",
    "    if width == height:\n",
    "        return img\n",
    "    elif width > height:\n",
    "        left = 0\n",
    "        right = 0\n",
    "        bottom = ceil((width - height) / 2)\n",
    "        top = ceil((width - height) / 2)\n",
    "        result = cv2.copyMakeBorder(img, top, bottom, left, right, cv2.BORDER_CONSTANT, value=(0, 0, 0)) #cv2.copyMakeBorder is used to apply this padding, where the new borders are filled with black color\n",
    "        return result\n",
    "    else:\n",
    "        left = ceil((height - width) / 2)\n",
    "        right = ceil((height - width) / 2)\n",
    "        bottom = 0\n",
    "        top = 0\n",
    "        result = cv2.copyMakeBorder(img, top, bottom, left, right, cv2.BORDER_CONSTANT, value=(0, 0, 0))\n",
    "        return result"
   ]
  },
  {
   "cell_type": "markdown",
   "metadata": {},
   "source": [
    "takes an image (referred to as img) and adjusts it so that it becomes a square. It ensures that the width and height of the image are the same by adding black-colored borders where necessary."
   ]
  },
  {
   "cell_type": "markdown",
   "metadata": {},
   "source": [
    "* It first measures the height and width of the input image. If the width and height are the same, the function just returns the image as it is.\n",
    "\n",
    "*  If the image has more width than height, it calculates how much padding is needed to make the image square and adds it equally to the top and bottom of the image.\n",
    "\n",
    "* If the image has more height than width, it calculates the padding needed and adds it equally to the left and right sides of the image.\n",
    "\n",
    "Note: cv2.copyMakeBorder is used to apply this padding, where the new borders are filled with black color"
   ]
  },
  {
   "cell_type": "code",
   "execution_count": null,
   "metadata": {},
   "outputs": [],
   "source": [
    "def center_crop(img, dim):\n",
    "    \"\"\"Returns center cropped image\n",
    "    \"\"\"\n",
    "    width, height = img.shape[1], img.shape[0]\n",
    "    # process crop width and height for max available dimension\n",
    "    crop_width = dim[0] if dim[0] < img.shape[1] else img.shape[1]\n",
    "    crop_height = dim[1] if dim[1] < img.shape[0] else img.shape[0]\n",
    "    mid_x, mid_y = int(width/2), int(height/2)\n",
    "    cw2, ch2 = int(crop_width/2), int(crop_height/2)\n",
    "    crop_img = img[mid_y-ch2:mid_y+ch2, mid_x-cw2:mid_x+cw2]\n",
    "    return crop_img"
   ]
  },
  {
   "cell_type": "markdown",
   "metadata": {},
   "source": [
    "This takes an image and a dimensions of the image as input and returns a version of the image that has been cropped around the center to the specified dimensions. "
   ]
  },
  {
   "cell_type": "markdown",
   "metadata": {},
   "source": [
    "* It first determines the current width and height of the image by accessing the image’s shape.\n",
    "\n",
    "*  Then checks the desired crop dimensions provided in dim. It then ensures these dimensions do not exceed the image’s actual size. If the desired dimensions are larger than the image, it keeps the orignal dimensions. \n",
    "\n",
    "* It calculates the center point of the image by dividing the width and height by two.\n",
    "\n",
    "* To make sure the cropping is centered, it calculates half the width and half the height of the crop dimensions. This helps in determining the exact boundaries of the crop area.\n",
    "\n",
    "* FInally it calculates where to start and stop the crop in both vertical and horizontal directions. It uses the center of the image as a reference point, and crops it"
   ]
  },
  {
   "cell_type": "code",
   "execution_count": null,
   "metadata": {},
   "outputs": [],
   "source": [
    "def scale_image(img, factor=1):\n",
    "    width = int(img.shape[1] * factor)\n",
    "    height = int(img.shape[0] * factor)\n",
    "    dsize = (width, height)\n",
    "    output = cv2.resize(img, dsize, interpolation=cv2.INTER_LANCZOS4)\n",
    "    return output"
   ]
  },
  {
   "cell_type": "markdown",
   "metadata": {},
   "source": [
    "The function scale_image is designed to resize an image by a given scale factor, keeping the image's proportions the same. "
   ]
  },
  {
   "cell_type": "markdown",
   "metadata": {},
   "source": [
    "Note: cv2.INTER_LANCZOS4 is used for reducing or increasing image size while maintaining high image quality."
   ]
  },
  {
   "cell_type": "code",
   "execution_count": null,
   "metadata": {},
   "outputs": [],
   "source": [
    "def preprocessing(root_folder, output_folder, file, folder, crop_ratio, dim, label, padding_bool, crop_bool, resize_bool):\n",
    "    img = cv2.imread(os.path.join(root_folder, label, file))\n",
    "    if padding_bool:\n",
    "        img = padding(img)\n",
    "    if crop_bool:\n",
    "        img = center_crop(img, (img.shape[1] * crop_ratio, img.shape[0] * crop_ratio))\n",
    "    if resize_bool:\n",
    "        img = cv2.resize(img, dim, interpolation=cv2.INTER_LANCZOS4)    #cv2.INTER_LANCZOS4 is used for reducing or increasing image size while maintaining high image quality.\n",
    "    cv2.imwrite(os.path.join(output_folder, folder, label, Path(file).name), img, [cv2.IMWRITE_JPEG_QUALITY, 100])  #image is saved with high JPEG quality (100), which means minimal compression and maximal quality."
   ]
  },
  {
   "cell_type": "markdown",
   "metadata": {},
   "source": [
    "Calls the functions for resizing, cropping and padding, based on the padding_bool, crop_bool and resize_bool. Then saves the images in output folder -> file_name( train, test, and val) -> disease class -> image name"
   ]
  },
  {
   "cell_type": "code",
   "execution_count": null,
   "metadata": {},
   "outputs": [
    {
     "data": {
      "text/html": [
       "<div>\n",
       "<style scoped>\n",
       "    .dataframe tbody tr th:only-of-type {\n",
       "        vertical-align: middle;\n",
       "    }\n",
       "\n",
       "    .dataframe tbody tr th {\n",
       "        vertical-align: top;\n",
       "    }\n",
       "\n",
       "    .dataframe thead th {\n",
       "        text-align: right;\n",
       "    }\n",
       "</style>\n",
       "<table border=\"1\" class=\"dataframe\">\n",
       "  <thead>\n",
       "    <tr style=\"text-align: right;\">\n",
       "      <th></th>\n",
       "      <th>disease</th>\n",
       "      <th>Patient count</th>\n",
       "      <th>Percentage Of Total</th>\n",
       "    </tr>\n",
       "  </thead>\n",
       "  <tbody>\n",
       "    <tr>\n",
       "      <th>0</th>\n",
       "      <td>AMD</td>\n",
       "      <td>148</td>\n",
       "      <td>78.72</td>\n",
       "    </tr>\n",
       "    <tr>\n",
       "      <th>1</th>\n",
       "      <td>DME</td>\n",
       "      <td>1</td>\n",
       "      <td>0.53</td>\n",
       "    </tr>\n",
       "    <tr>\n",
       "      <th>2</th>\n",
       "      <td>ERM</td>\n",
       "      <td>12</td>\n",
       "      <td>6.38</td>\n",
       "    </tr>\n",
       "    <tr>\n",
       "      <th>3</th>\n",
       "      <td>NO</td>\n",
       "      <td>16</td>\n",
       "      <td>8.51</td>\n",
       "    </tr>\n",
       "    <tr>\n",
       "      <th>4</th>\n",
       "      <td>RVO</td>\n",
       "      <td>4</td>\n",
       "      <td>2.13</td>\n",
       "    </tr>\n",
       "    <tr>\n",
       "      <th>5</th>\n",
       "      <td>VID</td>\n",
       "      <td>7</td>\n",
       "      <td>3.72</td>\n",
       "    </tr>\n",
       "  </tbody>\n",
       "</table>\n",
       "</div>"
      ],
      "text/plain": [
       "  disease  Patient count  Percentage Of Total\n",
       "0     AMD            148                78.72\n",
       "1     DME              1                 0.53\n",
       "2     ERM             12                 6.38\n",
       "3      NO             16                 8.51\n",
       "4     RVO              4                 2.13\n",
       "5     VID              7                 3.72"
      ]
     },
     "execution_count": 24,
     "metadata": {},
     "output_type": "execute_result"
    }
   ],
   "source": [
    "root_folder = dataset_folder\n",
    "train_ratio = 1 - val_ratio - test_ratio\n",
    "dim = (image_dim, image_dim)\n",
    "padding_bool = padding\n",
    "crop_bool = crop\n",
    "resize_bool = resize\n",
    "#Reading the Labels\n",
    "df = pd.read_csv(labels_path)\n",
    "df= df[df['sex'] != '0']\n",
    "\n",
    "image_ids = set(df['file_name'])\n",
    "base_directory = dir +  '/OCTDL images/'\n",
    "diseases = df['disease'].unique()\n",
    "\n",
    "for disease in diseases:\n",
    "    disease_folder_path = os.path.join(dataset_folder, disease)\n",
    "    \n",
    "    if not os.path.exists(disease_folder_path):\n",
    "        print(f\"Folder not found: {disease_folder_path}\")\n",
    "        continue\n",
    "    \n",
    "    files = os.listdir(disease_folder_path)\n",
    "    \n",
    "    for file in files:\n",
    "        if file.split('.')[0] not in image_ids:\n",
    "            file_path = os.path.join(disease_folder_path, file)\n",
    "            os.remove(file_path)\n",
    "            print(f\"Deleted {file_path}\")\n",
    "\n",
    "class_dist = df[['disease','patient_id']].groupby('disease')['patient_id'].nunique().reset_index(name='Patient count')\n",
    "total_unique_patients = class_dist['Patient count'].sum()\n",
    "class_dist['Percentage Of Total'] = ((class_dist['Patient count'] / total_unique_patients) * 100).round(2)\n",
    "class_dist"
   ]
  },
  {
   "cell_type": "markdown",
   "metadata": {},
   "source": [
    "we focus on ensuring that only images associated with patients who have valid sex  are retained. This preprocessing is crucial in the context of analyzing and comparing the performance of two types of neural networks: Convolutional Neural Networks (CNN) and Confounder Free Neural Networks (CF-NET), with sex as confounding variables."
   ]
  },
  {
   "cell_type": "code",
   "execution_count": null,
   "metadata": {},
   "outputs": [],
   "source": [
    "for folder in folders:\n",
    "    for label in labels:\n",
    "        Path(os.path.join(output_folder, folder, label)).mkdir(parents=True, exist_ok=True)"
   ]
  },
  {
   "cell_type": "markdown",
   "metadata": {},
   "source": [
    "Creates the output folder"
   ]
  },
  {
   "cell_type": "code",
   "execution_count": null,
   "metadata": {},
   "outputs": [
    {
     "name": "stderr",
     "output_type": "stream",
     "text": [
      "100%|██████████| 5/5 [00:00<00:00, 624.47it/s]"
     ]
    },
    {
     "name": "stdout",
     "output_type": "stream",
     "text": [
      "AMD 206 57 85\n",
      "Skipping DME due to insufficient data.\n",
      "ERM 13 1 8\n",
      "NO 28 4 16\n",
      "Skipping VID due to insufficient data.\n"
     ]
    },
    {
     "name": "stderr",
     "output_type": "stream",
     "text": [
      "\n"
     ]
    }
   ],
   "source": [
    "for label in tqdm(labels):\n",
    "        df_label = df[df['disease'] == label][['file_name', 'disease', 'patient_id']]\n",
    "        patients_list = df_label.patient_id.unique()\n",
    "        if len(patients_list) < 10:\n",
    "            print(f\"Skipping {label} due to insufficient data.\")\n",
    "            continue\n",
    "        train_patients, test_patients = train_test_split(patients_list, test_size=1 - train_ratio)\n",
    "        val_patients, test_patients = train_test_split(test_patients, test_size=test_ratio / (test_ratio + val_ratio))\n",
    "        df_label_train = df_label[df_label['patient_id'].isin(train_patients)]\n",
    "        df_label_val = df_label[df_label['patient_id'].isin(val_patients)]\n",
    "        df_label_test = df_label[df_label['patient_id'].isin(test_patients)]\n",
    "        \n",
    "        print(label, len(df_label_train), len(df_label_val), len(df_label_test))"
   ]
  },
  {
   "cell_type": "markdown",
   "metadata": {},
   "source": [
    "Divides the dataset into training, validation, and test subsets based on patient data for different disease classes."
   ]
  },
  {
   "cell_type": "markdown",
   "metadata": {},
   "source": [
    "* It loops through each unique disease class stored in labels. The progress of this loop is tracked using tqdm, (displays a progress bar).\n",
    "* For each disease class, it selects image names, classes, and patient IDs from df that match the current label.\n",
    "* The code identifies unique patient IDs associated with each label. If a disease class has fewer than 10 unique patients\n",
    "* It splits the list of patient IDs into training validation, and test groups based on a ratio \n",
    "* Creates 3 new df for each train, test and val dataset"
   ]
  },
  {
   "cell_type": "code",
   "execution_count": null,
   "metadata": {},
   "outputs": [],
   "source": [
    "for i in range(0, len(df_label_train)):\n",
    "    file_name = df_label_train.iloc[i, 0] + '.jpg'\n",
    "    file_label = df_label_train.iloc[i, 1]    \n",
    "    preprocessing(root_folder, output_folder, file_name, 'train', crop_ratio, dim, file_label, padding_bool, crop_bool, resize_bool)\n",
    "\n",
    "for i in range(0, len(df_label_test)):\n",
    "    file_name = df_label_test.iloc[i, 0] + '.jpg'\n",
    "    file_label = df_label_test.iloc[i, 1]    \n",
    "    preprocessing(root_folder, output_folder, file_name, 'test', crop_ratio, dim, file_label, padding_bool, crop_bool, resize_bool)    \n",
    "\n",
    "for i in range(0, len(df_label_val)):\n",
    "    file_name = df_label_val.iloc[i, 0] + '.jpg'\n",
    "    file_label = df_label_val.iloc[i, 1]    \n",
    "    preprocessing(root_folder, output_folder, file_name, 'val', crop_ratio, dim, file_label, padding_bool, crop_bool, resize_bool) "
   ]
  },
  {
   "cell_type": "markdown",
   "metadata": {},
   "source": [
    "Executes the function preprocessing for each df(train, validation, and test) which in-turn calls the functions for resizing, cropping and padding."
   ]
  },
  {
   "cell_type": "code",
   "execution_count": null,
   "metadata": {},
   "outputs": [],
   "source": []
  },
  {
   "cell_type": "code",
   "execution_count": null,
   "metadata": {},
   "outputs": [],
   "source": []
  },
  {
   "cell_type": "code",
   "execution_count": null,
   "metadata": {},
   "outputs": [],
   "source": [
    "df_labels = pd.read_csv('C:/Users/hgnik/OneDrive/Desktop/Code/confounder-free-cnn/OCTDL/OCTDL_labels.csv')\n",
    "df_labels"
   ]
  },
  {
   "cell_type": "code",
   "execution_count": null,
   "metadata": {},
   "outputs": [],
   "source": [
    "# data understaning\n",
    "df_labels = df_labels[df_labels['year'] != 0]\n",
    "df_labels.reset_index(drop=True, inplace=True)\n",
    "print(len(df_labels))\n",
    "print(df_labels['disease'].value_counts())\n",
    "df_label.head(3)"
   ]
  },
  {
   "cell_type": "code",
   "execution_count": null,
   "metadata": {},
   "outputs": [],
   "source": [
    "# relabeling\n",
    "df_labels['disease'] = df_labels['disease'].apply(lambda x: 1 if x == 'AMD' else 0)\n",
    "print(len(df_labels))\n",
    "print(df_labels['disease'].value_counts())"
   ]
  },
  {
   "cell_type": "code",
   "execution_count": null,
   "metadata": {},
   "outputs": [],
   "source": [
    "import matplotlib.pyplot as plt\n",
    "import matplotlib.image as mpimg\n",
    "\n",
    "# Path to your image file\n",
    "image_path = os.path.join(image_directory, df_labels['file_name'][1] + \".jpg\")\n",
    "\n",
    "# Load the image using Matplotlib\n",
    "image = mpimg.imread(image_path)\n",
    "\n",
    "# Display the image\n",
    "plt.imshow(image)\n",
    "plt.axis('off')  # Turn off axis labels\n",
    "plt.show()"
   ]
  },
  {
   "cell_type": "code",
   "execution_count": null,
   "metadata": {},
   "outputs": [],
   "source": [
    "# replacing the names with paths\n",
    "df_labels['file_name'] = df_labels['file_name'].apply(lambda x:os.path.join(image_directory, x + \".jpg\"))\n",
    "df_labels['file_name'].head(3)"
   ]
  },
  {
   "cell_type": "code",
   "execution_count": 9,
   "metadata": {},
   "outputs": [
    {
     "name": "stdout",
     "output_type": "stream",
     "text": [
      "Files copied successfully.\n"
     ]
    }
   ],
   "source": [
    "import os\n",
    "import shutil\n",
    "\n",
    "# Source directory containing folders and subfolders with files\n",
    "source_directory = \"C:/Users/hgnik/OneDrive/Desktop/Code/confounder-free-cnn/OCTDL/output\"\n",
    "\n",
    "# Destination directory to save all files\n",
    "destination_directory = \"C:/Users/hgnik/OneDrive/Desktop/Code/confounder-free-cnn/OCTDL/output-2\"\n",
    "\n",
    "# Walk through the directory tree and copy files\n",
    "for root, dirs, files in os.walk(source_directory):\n",
    "    for file in files:\n",
    "        # Construct the source and destination paths\n",
    "        source_path = os.path.join(root, file)\n",
    "        relative_path = os.path.relpath(root, source_directory)  # Relative path from source directory\n",
    "        destination_path = os.path.join(destination_directory, file)\n",
    "        \n",
    "        # Create directories in the destination if they don't exist\n",
    "        os.makedirs(os.path.dirname(destination_path), exist_ok=True)\n",
    "        \n",
    "        # Copy the file to the destination directory\n",
    "        shutil.copyfile(source_path, destination_path)\n",
    "\n",
    "print(\"Files copied successfully.\")"
   ]
  },
  {
   "cell_type": "code",
   "execution_count": 10,
   "metadata": {},
   "outputs": [
    {
     "name": "stdout",
     "output_type": "stream",
     "text": [
      "All images are available in the directory.\n"
     ]
    }
   ],
   "source": [
    "image_names = df_labels['file_name']\n",
    "\n",
    "# Directory where your images are stored\n",
    "image_directory = \"C:/Users/hgnik/OneDrive/Desktop/Code/confounder-free-cnn/OCTDL/output-2\"\n",
    "\n",
    "# List to store missing image names\n",
    "missing_images = []\n",
    "\n",
    "# Check if each image file exists in the directory\n",
    "for image_name in image_names:\n",
    "    image_path = os.path.join(image_directory, image_name + \".jpg\")  # assuming jpg extension\n",
    "    if not os.path.exists(image_path):\n",
    "        # If the image file doesn't exist, add its name to the list of missing images\n",
    "        missing_images.append(image_name)\n",
    "\n",
    "# Print missing images\n",
    "if missing_images:\n",
    "    print(\"The following images are missing:\")\n",
    "    for image_name in missing_images:\n",
    "        print(image_name)\n",
    "else:\n",
    "    print(\"All images are available in the directory.\")"
   ]
  },
  {
   "cell_type": "code",
   "execution_count": 11,
   "metadata": {},
   "outputs": [
    {
     "data": {
      "text/html": [
       "<div>\n",
       "<style scoped>\n",
       "    .dataframe tbody tr th:only-of-type {\n",
       "        vertical-align: middle;\n",
       "    }\n",
       "\n",
       "    .dataframe tbody tr th {\n",
       "        vertical-align: top;\n",
       "    }\n",
       "\n",
       "    .dataframe thead th {\n",
       "        text-align: right;\n",
       "    }\n",
       "</style>\n",
       "<table border=\"1\" class=\"dataframe\">\n",
       "  <thead>\n",
       "    <tr style=\"text-align: right;\">\n",
       "      <th></th>\n",
       "      <th>file_name</th>\n",
       "      <th>disease</th>\n",
       "      <th>subcategory</th>\n",
       "      <th>condition</th>\n",
       "      <th>patient_id</th>\n",
       "      <th>eye</th>\n",
       "      <th>sex</th>\n",
       "      <th>year</th>\n",
       "      <th>image_width</th>\n",
       "      <th>image_hight</th>\n",
       "    </tr>\n",
       "  </thead>\n",
       "  <tbody>\n",
       "    <tr>\n",
       "      <th>0</th>\n",
       "      <td>amd_1101816_1</td>\n",
       "      <td>1</td>\n",
       "      <td>late</td>\n",
       "      <td>MNV</td>\n",
       "      <td>1101816</td>\n",
       "      <td>OD</td>\n",
       "      <td>F</td>\n",
       "      <td>1941</td>\n",
       "      <td>882</td>\n",
       "      <td>322</td>\n",
       "    </tr>\n",
       "    <tr>\n",
       "      <th>1</th>\n",
       "      <td>amd_1101816_2</td>\n",
       "      <td>1</td>\n",
       "      <td>late</td>\n",
       "      <td>MNV</td>\n",
       "      <td>1101816</td>\n",
       "      <td>OD</td>\n",
       "      <td>F</td>\n",
       "      <td>1941</td>\n",
       "      <td>882</td>\n",
       "      <td>322</td>\n",
       "    </tr>\n",
       "    <tr>\n",
       "      <th>2</th>\n",
       "      <td>amd_1101816_3</td>\n",
       "      <td>1</td>\n",
       "      <td>late</td>\n",
       "      <td>MNV</td>\n",
       "      <td>1101816</td>\n",
       "      <td>OS</td>\n",
       "      <td>F</td>\n",
       "      <td>1941</td>\n",
       "      <td>882</td>\n",
       "      <td>322</td>\n",
       "    </tr>\n",
       "    <tr>\n",
       "      <th>3</th>\n",
       "      <td>amd_1101816_4</td>\n",
       "      <td>1</td>\n",
       "      <td>late</td>\n",
       "      <td>MNV</td>\n",
       "      <td>1101816</td>\n",
       "      <td>OS</td>\n",
       "      <td>F</td>\n",
       "      <td>1941</td>\n",
       "      <td>882</td>\n",
       "      <td>322</td>\n",
       "    </tr>\n",
       "    <tr>\n",
       "      <th>4</th>\n",
       "      <td>amd_1191668_1</td>\n",
       "      <td>1</td>\n",
       "      <td>intermediate</td>\n",
       "      <td>MNV_suspected</td>\n",
       "      <td>1191668</td>\n",
       "      <td>OD</td>\n",
       "      <td>F</td>\n",
       "      <td>1948</td>\n",
       "      <td>882</td>\n",
       "      <td>322</td>\n",
       "    </tr>\n",
       "    <tr>\n",
       "      <th>...</th>\n",
       "      <td>...</td>\n",
       "      <td>...</td>\n",
       "      <td>...</td>\n",
       "      <td>...</td>\n",
       "      <td>...</td>\n",
       "      <td>...</td>\n",
       "      <td>...</td>\n",
       "      <td>...</td>\n",
       "      <td>...</td>\n",
       "      <td>...</td>\n",
       "    </tr>\n",
       "    <tr>\n",
       "      <th>417</th>\n",
       "      <td>no_9054704_2</td>\n",
       "      <td>0</td>\n",
       "      <td>emmetropia</td>\n",
       "      <td>NO</td>\n",
       "      <td>9054704</td>\n",
       "      <td>OD</td>\n",
       "      <td>M</td>\n",
       "      <td>1955</td>\n",
       "      <td>882</td>\n",
       "      <td>318</td>\n",
       "    </tr>\n",
       "    <tr>\n",
       "      <th>418</th>\n",
       "      <td>no_9317962_1</td>\n",
       "      <td>0</td>\n",
       "      <td>emmetropia</td>\n",
       "      <td>NO</td>\n",
       "      <td>9317962</td>\n",
       "      <td>OD</td>\n",
       "      <td>F</td>\n",
       "      <td>1947</td>\n",
       "      <td>882</td>\n",
       "      <td>322</td>\n",
       "    </tr>\n",
       "    <tr>\n",
       "      <th>419</th>\n",
       "      <td>no_9317962_2</td>\n",
       "      <td>0</td>\n",
       "      <td>emmetropia</td>\n",
       "      <td>NO</td>\n",
       "      <td>9317962</td>\n",
       "      <td>OS</td>\n",
       "      <td>F</td>\n",
       "      <td>1947</td>\n",
       "      <td>882</td>\n",
       "      <td>314</td>\n",
       "    </tr>\n",
       "    <tr>\n",
       "      <th>420</th>\n",
       "      <td>no_9663705_1</td>\n",
       "      <td>0</td>\n",
       "      <td>emmetropia</td>\n",
       "      <td>NO</td>\n",
       "      <td>9663705</td>\n",
       "      <td>OD</td>\n",
       "      <td>F</td>\n",
       "      <td>1952</td>\n",
       "      <td>914</td>\n",
       "      <td>291</td>\n",
       "    </tr>\n",
       "    <tr>\n",
       "      <th>421</th>\n",
       "      <td>no_9663705_2</td>\n",
       "      <td>0</td>\n",
       "      <td>emmetropia</td>\n",
       "      <td>NO</td>\n",
       "      <td>9663705</td>\n",
       "      <td>OD</td>\n",
       "      <td>F</td>\n",
       "      <td>1952</td>\n",
       "      <td>914</td>\n",
       "      <td>291</td>\n",
       "    </tr>\n",
       "  </tbody>\n",
       "</table>\n",
       "<p>418 rows × 10 columns</p>\n",
       "</div>"
      ],
      "text/plain": [
       "         file_name  disease   subcategory      condition  patient_id eye sex  \\\n",
       "0    amd_1101816_1        1          late            MNV     1101816  OD   F   \n",
       "1    amd_1101816_2        1          late            MNV     1101816  OD   F   \n",
       "2    amd_1101816_3        1          late            MNV     1101816  OS   F   \n",
       "3    amd_1101816_4        1          late            MNV     1101816  OS   F   \n",
       "4    amd_1191668_1        1  intermediate  MNV_suspected     1191668  OD   F   \n",
       "..             ...      ...           ...            ...         ...  ..  ..   \n",
       "417   no_9054704_2        0    emmetropia             NO     9054704  OD   M   \n",
       "418   no_9317962_1        0    emmetropia             NO     9317962  OD   F   \n",
       "419   no_9317962_2        0    emmetropia             NO     9317962  OS   F   \n",
       "420   no_9663705_1        0    emmetropia             NO     9663705  OD   F   \n",
       "421   no_9663705_2        0    emmetropia             NO     9663705  OD   F   \n",
       "\n",
       "     year  image_width  image_hight  \n",
       "0    1941          882          322  \n",
       "1    1941          882          322  \n",
       "2    1941          882          322  \n",
       "3    1941          882          322  \n",
       "4    1948          882          322  \n",
       "..    ...          ...          ...  \n",
       "417  1955          882          318  \n",
       "418  1947          882          322  \n",
       "419  1947          882          314  \n",
       "420  1952          914          291  \n",
       "421  1952          914          291  \n",
       "\n",
       "[418 rows x 10 columns]"
      ]
     },
     "execution_count": 11,
     "metadata": {},
     "output_type": "execute_result"
    }
   ],
   "source": [
    "df_labels"
   ]
  },
  {
   "cell_type": "code",
   "execution_count": 12,
   "metadata": {},
   "outputs": [
    {
     "name": "stdout",
     "output_type": "stream",
     "text": [
      "The image is grayscale.\n"
     ]
    }
   ],
   "source": [
    "#  checking gray scale\n",
    "from PIL import Image\n",
    "\n",
    "def is_grayscale(image_path):\n",
    "    \"\"\"\n",
    "    Check if the image at the given path is grayscale or not.\n",
    "    \n",
    "    Args:\n",
    "    image_path (str): Path to the image file.\n",
    "    \n",
    "    Returns:\n",
    "    bool: True if the image is grayscale, False otherwise.\n",
    "    \"\"\"\n",
    "    # Open the image\n",
    "    img = Image.open(image_path)\n",
    "    \n",
    "    # Convert the image to grayscale (L mode) and compare with the original\n",
    "    return img.convert('L').mode == 'L'\n",
    "\n",
    "# Example usage\n",
    "image_path = os.path.join(image_directory, df_labels['file_name'][0] + \".jpg\")\n",
    "if is_grayscale(image_path):\n",
    "    print(\"The image is grayscale.\")\n",
    "else:\n",
    "    print(\"The image is not grayscale.\")"
   ]
  },
  {
   "cell_type": "code",
   "execution_count": 13,
   "metadata": {},
   "outputs": [
    {
     "name": "stdout",
     "output_type": "stream",
     "text": [
      "Image type: 3D\n"
     ]
    }
   ],
   "source": [
    "import numpy as np\n",
    "\n",
    "# checking dimensions\n",
    "\n",
    "def image_dimensions(image_path):\n",
    "    \"\"\"\n",
    "    Check if the image at the given path is 2D or 3D.\n",
    "    \n",
    "    Args:\n",
    "    image_path (str): Path to the image file.\n",
    "    \n",
    "    Returns:\n",
    "    str: '2D' if the image is grayscale, '3D' if the image is color.\n",
    "    \"\"\"\n",
    "    # Load the image using a library like Pillow or OpenCV\n",
    "    # Assuming you're using PIL (Pillow)\n",
    "    from PIL import Image\n",
    "    \n",
    "    img = Image.open(image_path)\n",
    "    \n",
    "    # Convert the image to a NumPy array\n",
    "    img_array = np.array(img)\n",
    "    \n",
    "    # Check the number of dimensions\n",
    "    if len(img_array.shape) == 2:\n",
    "        return '2D'  # Grayscale image\n",
    "    elif len(img_array.shape) == 3:\n",
    "        return '3D'  # Color image\n",
    "    else:\n",
    "        return 'Unknown'\n",
    "\n",
    "# Example usage\n",
    "image_path = os.path.join(image_directory, df_labels['file_name'][0] + \".jpg\")\n",
    "image_type = image_dimensions(image_path)\n",
    "print(\"Image type:\", image_type)"
   ]
  },
  {
   "cell_type": "code",
   "execution_count": 14,
   "metadata": {},
   "outputs": [],
   "source": [
    "def is_grayscale(image_path):\n",
    "    \"\"\"\n",
    "    Check if the image at the given path is grayscale or not.\n",
    "    \n",
    "    Args:\n",
    "    image_path (str): Path to the image file.\n",
    "    \n",
    "    Returns:\n",
    "    bool: True if the image is grayscale, False otherwise.\n",
    "    \"\"\"\n",
    "    # Open the image\n",
    "    img = Image.open(image_path)\n",
    "    \n",
    "    # Convert the image to a NumPy array\n",
    "    img_array = np.array(img)\n",
    "    \n",
    "    # Check if the image has only one channel\n",
    "    return len(img_array.shape) == 2 or (len(img_array.shape) == 3 and img_array.shape[2] == 1)\n"
   ]
  },
  {
   "cell_type": "code",
   "execution_count": 15,
   "metadata": {},
   "outputs": [
    {
     "name": "stdout",
     "output_type": "stream",
     "text": [
      "False\n"
     ]
    }
   ],
   "source": [
    "print(is_grayscale(image_path))"
   ]
  },
  {
   "cell_type": "code",
   "execution_count": 16,
   "metadata": {},
   "outputs": [
    {
     "data": {
      "text/html": [
       "<div>\n",
       "<style scoped>\n",
       "    .dataframe tbody tr th:only-of-type {\n",
       "        vertical-align: middle;\n",
       "    }\n",
       "\n",
       "    .dataframe tbody tr th {\n",
       "        vertical-align: top;\n",
       "    }\n",
       "\n",
       "    .dataframe thead th {\n",
       "        text-align: right;\n",
       "    }\n",
       "</style>\n",
       "<table border=\"1\" class=\"dataframe\">\n",
       "  <thead>\n",
       "    <tr style=\"text-align: right;\">\n",
       "      <th></th>\n",
       "      <th>file_name</th>\n",
       "      <th>disease</th>\n",
       "      <th>subcategory</th>\n",
       "      <th>condition</th>\n",
       "      <th>patient_id</th>\n",
       "      <th>eye</th>\n",
       "      <th>sex</th>\n",
       "      <th>year</th>\n",
       "      <th>image_width</th>\n",
       "      <th>image_hight</th>\n",
       "    </tr>\n",
       "  </thead>\n",
       "  <tbody>\n",
       "    <tr>\n",
       "      <th>0</th>\n",
       "      <td>amd_1101816_1</td>\n",
       "      <td>1</td>\n",
       "      <td>late</td>\n",
       "      <td>MNV</td>\n",
       "      <td>1101816</td>\n",
       "      <td>OD</td>\n",
       "      <td>F</td>\n",
       "      <td>1941</td>\n",
       "      <td>882</td>\n",
       "      <td>322</td>\n",
       "    </tr>\n",
       "    <tr>\n",
       "      <th>1</th>\n",
       "      <td>amd_1101816_2</td>\n",
       "      <td>1</td>\n",
       "      <td>late</td>\n",
       "      <td>MNV</td>\n",
       "      <td>1101816</td>\n",
       "      <td>OD</td>\n",
       "      <td>F</td>\n",
       "      <td>1941</td>\n",
       "      <td>882</td>\n",
       "      <td>322</td>\n",
       "    </tr>\n",
       "    <tr>\n",
       "      <th>2</th>\n",
       "      <td>amd_1101816_3</td>\n",
       "      <td>1</td>\n",
       "      <td>late</td>\n",
       "      <td>MNV</td>\n",
       "      <td>1101816</td>\n",
       "      <td>OS</td>\n",
       "      <td>F</td>\n",
       "      <td>1941</td>\n",
       "      <td>882</td>\n",
       "      <td>322</td>\n",
       "    </tr>\n",
       "    <tr>\n",
       "      <th>3</th>\n",
       "      <td>amd_1101816_4</td>\n",
       "      <td>1</td>\n",
       "      <td>late</td>\n",
       "      <td>MNV</td>\n",
       "      <td>1101816</td>\n",
       "      <td>OS</td>\n",
       "      <td>F</td>\n",
       "      <td>1941</td>\n",
       "      <td>882</td>\n",
       "      <td>322</td>\n",
       "    </tr>\n",
       "    <tr>\n",
       "      <th>4</th>\n",
       "      <td>amd_1191668_1</td>\n",
       "      <td>1</td>\n",
       "      <td>intermediate</td>\n",
       "      <td>MNV_suspected</td>\n",
       "      <td>1191668</td>\n",
       "      <td>OD</td>\n",
       "      <td>F</td>\n",
       "      <td>1948</td>\n",
       "      <td>882</td>\n",
       "      <td>322</td>\n",
       "    </tr>\n",
       "    <tr>\n",
       "      <th>...</th>\n",
       "      <td>...</td>\n",
       "      <td>...</td>\n",
       "      <td>...</td>\n",
       "      <td>...</td>\n",
       "      <td>...</td>\n",
       "      <td>...</td>\n",
       "      <td>...</td>\n",
       "      <td>...</td>\n",
       "      <td>...</td>\n",
       "      <td>...</td>\n",
       "    </tr>\n",
       "    <tr>\n",
       "      <th>417</th>\n",
       "      <td>no_9054704_2</td>\n",
       "      <td>0</td>\n",
       "      <td>emmetropia</td>\n",
       "      <td>NO</td>\n",
       "      <td>9054704</td>\n",
       "      <td>OD</td>\n",
       "      <td>M</td>\n",
       "      <td>1955</td>\n",
       "      <td>882</td>\n",
       "      <td>318</td>\n",
       "    </tr>\n",
       "    <tr>\n",
       "      <th>418</th>\n",
       "      <td>no_9317962_1</td>\n",
       "      <td>0</td>\n",
       "      <td>emmetropia</td>\n",
       "      <td>NO</td>\n",
       "      <td>9317962</td>\n",
       "      <td>OD</td>\n",
       "      <td>F</td>\n",
       "      <td>1947</td>\n",
       "      <td>882</td>\n",
       "      <td>322</td>\n",
       "    </tr>\n",
       "    <tr>\n",
       "      <th>419</th>\n",
       "      <td>no_9317962_2</td>\n",
       "      <td>0</td>\n",
       "      <td>emmetropia</td>\n",
       "      <td>NO</td>\n",
       "      <td>9317962</td>\n",
       "      <td>OS</td>\n",
       "      <td>F</td>\n",
       "      <td>1947</td>\n",
       "      <td>882</td>\n",
       "      <td>314</td>\n",
       "    </tr>\n",
       "    <tr>\n",
       "      <th>420</th>\n",
       "      <td>no_9663705_1</td>\n",
       "      <td>0</td>\n",
       "      <td>emmetropia</td>\n",
       "      <td>NO</td>\n",
       "      <td>9663705</td>\n",
       "      <td>OD</td>\n",
       "      <td>F</td>\n",
       "      <td>1952</td>\n",
       "      <td>914</td>\n",
       "      <td>291</td>\n",
       "    </tr>\n",
       "    <tr>\n",
       "      <th>421</th>\n",
       "      <td>no_9663705_2</td>\n",
       "      <td>0</td>\n",
       "      <td>emmetropia</td>\n",
       "      <td>NO</td>\n",
       "      <td>9663705</td>\n",
       "      <td>OD</td>\n",
       "      <td>F</td>\n",
       "      <td>1952</td>\n",
       "      <td>914</td>\n",
       "      <td>291</td>\n",
       "    </tr>\n",
       "  </tbody>\n",
       "</table>\n",
       "<p>418 rows × 10 columns</p>\n",
       "</div>"
      ],
      "text/plain": [
       "         file_name  disease   subcategory      condition  patient_id eye sex  \\\n",
       "0    amd_1101816_1        1          late            MNV     1101816  OD   F   \n",
       "1    amd_1101816_2        1          late            MNV     1101816  OD   F   \n",
       "2    amd_1101816_3        1          late            MNV     1101816  OS   F   \n",
       "3    amd_1101816_4        1          late            MNV     1101816  OS   F   \n",
       "4    amd_1191668_1        1  intermediate  MNV_suspected     1191668  OD   F   \n",
       "..             ...      ...           ...            ...         ...  ..  ..   \n",
       "417   no_9054704_2        0    emmetropia             NO     9054704  OD   M   \n",
       "418   no_9317962_1        0    emmetropia             NO     9317962  OD   F   \n",
       "419   no_9317962_2        0    emmetropia             NO     9317962  OS   F   \n",
       "420   no_9663705_1        0    emmetropia             NO     9663705  OD   F   \n",
       "421   no_9663705_2        0    emmetropia             NO     9663705  OD   F   \n",
       "\n",
       "     year  image_width  image_hight  \n",
       "0    1941          882          322  \n",
       "1    1941          882          322  \n",
       "2    1941          882          322  \n",
       "3    1941          882          322  \n",
       "4    1948          882          322  \n",
       "..    ...          ...          ...  \n",
       "417  1955          882          318  \n",
       "418  1947          882          322  \n",
       "419  1947          882          314  \n",
       "420  1952          914          291  \n",
       "421  1952          914          291  \n",
       "\n",
       "[418 rows x 10 columns]"
      ]
     },
     "execution_count": 16,
     "metadata": {},
     "output_type": "execute_result"
    }
   ],
   "source": [
    "df_labels"
   ]
  },
  {
   "cell_type": "code",
   "execution_count": 19,
   "metadata": {},
   "outputs": [],
   "source": [
    "df_labels['file_path'] = df_labels['file_name'].apply(lambda x: os.path.join(image_directory, x + \".jpg\"))"
   ]
  },
  {
   "cell_type": "code",
   "execution_count": 21,
   "metadata": {},
   "outputs": [
    {
     "data": {
      "text/plain": [
       "'C:/Users/hgnik/OneDrive/Desktop/Code/confounder-free-cnn/OCTDL/output-2\\\\amd_1101816_1.jpg'"
      ]
     },
     "execution_count": 21,
     "metadata": {},
     "output_type": "execute_result"
    }
   ],
   "source": [
    "df_labels['file_path'][0]"
   ]
  },
  {
   "cell_type": "code",
   "execution_count": 23,
   "metadata": {},
   "outputs": [
    {
     "data": {
      "image/png": "[encoded data removed]",
      "text/plain": [
       "<Figure size 640x480 with 1 Axes>"
      ]
     },
     "metadata": {},
     "output_type": "display_data"
    }
   ],
   "source": [
    "import matplotlib.pyplot as plt\n",
    "import matplotlib.image as mpimg\n",
    "\n",
    "# Load the image using Matplotlib\n",
    "image = mpimg.imread(df_labels['file_path'][0])\n",
    "\n",
    "# Display the image\n",
    "plt.imshow(image)\n",
    "plt.axis('off')  # Turn off axis labels\n",
    "plt.show()"
   ]
  },
  {
   "cell_type": "code",
   "execution_count": 24,
   "metadata": {},
   "outputs": [],
   "source": [
    "df_labels.to_csv('df_labels.csv')"
   ]
  },
  {
   "cell_type": "code",
   "execution_count": null,
   "metadata": {},
   "outputs": [],
   "source": []
  }
 ],
 "metadata": {
  "kernelspec": {
   "display_name": "base",
   "language": "python",
   "name": "python3"
  },
  "language_info": {
   "codemirror_mode": {
    "name": "ipython",
    "version": 3
   },
   "file_extension": ".py",
   "mimetype": "text/x-python",
   "name": "python",
   "nbconvert_exporter": "python",
   "pygments_lexer": "ipython3",
   "version": "3.11.5"
  }
 },
 "nbformat": 4,
 "nbformat_minor": 2
}
