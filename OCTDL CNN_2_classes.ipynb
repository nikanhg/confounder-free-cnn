{
 "cells": [
  {
   "cell_type": "markdown",
   "metadata": {},
   "source": [
    "# Data Preprocessing"
   ]
  },
  {
   "cell_type": "code",
   "execution_count": 10,
   "metadata": {},
   "outputs": [],
   "source": [
    "#pip install opencv-python\n",
    "import os\n",
    "from os import listdir\n",
    "from os.path import isfile\n",
    "from os.path import join\n",
    "from pathlib import Path\n",
    "import cv2\n",
    "from math import ceil\n",
    "import argparse\n",
    "from tqdm import tqdm\n",
    "from sklearn.model_selection import train_test_split\n",
    "import pandas as pd\n",
    "import yaml\n",
    "\n",
    "\n",
    "import random\n",
    "import numpy as np\n",
    "from torch.utils.tensorboard import SummaryWriter\n",
    "from utils.func import *\n",
    "from train import train, evaluate\n",
    "from utils.metrics import Estimator\n",
    "from data.builder import generate_dataset\n",
    "from modules.builder import generate_model\n",
    "import hydra\n",
    "from hydra import initialize, compose\n",
    "from omegaconf import DictConfig\n",
    "import shutil\n",
    "\n"
   ]
  },
  {
   "cell_type": "code",
   "execution_count": 11,
   "metadata": {},
   "outputs": [],
   "source": [
    "#Input \n",
    "dir= \"C:/Users/x4287225/Desktop/confounder-free-cnn/OCTDL\"\n",
    "dataset_folder = dir + \"/OCTDL images/\"\n",
    "#lables for each Input\n",
    "labels_path = dir + \"/OCTDL_labels.csv\"\n",
    "#Output\n",
    "output_folder = dir + \"/output\"\n",
    "#model save path\n",
    "save_path = dir + \"/run\"\n",
    "#Config file\n",
    "cg = dir + \"/configs/OCTDL.yaml\"\n",
    "config_path = dir + '/configs'\n",
    "#Defines the ratio for central cropping of images; 1 means no cropping. default=1\n",
    "crop_ratio = 1\n",
    "#Specifies the dimensions to which images should be resized Default is 512\n",
    "image_dim =512\n",
    "#validation set\n",
    "val_ratio = 0.15\n",
    "#test_ratio\n",
    "test_ratio = 0.25\n",
    "#A boolean flag that, when true, indicates images should be padded to become square. Default is False\n",
    "padding = True\n",
    "#A boolean flag that, when true, indicates images should be cropped centrally according to the crop_ratio Default is False.\n",
    "crop = False\n",
    "#A boolean flag that, when true, indicates images should be resized to image_dim. Default is False.\n",
    "resize =True\n",
    "labels = ['AMD', 'OTHERS',]\n",
    "folders = ['train', 'val', 'test']"
   ]
  },
  {
   "cell_type": "code",
   "execution_count": 12,
   "metadata": {},
   "outputs": [],
   "source": [
    "\n",
    "def main():\n",
    "    root_folder = dataset_folder\n",
    "    train_ratio = 1 - val_ratio - test_ratio\n",
    "    dim = (image_dim, image_dim)\n",
    "    padding_bool = padding\n",
    "    crop_bool = crop\n",
    "    resize_bool = resize\n",
    "    #Creating the output folder\n",
    "    for folder in folders:\n",
    "        for label in labels:\n",
    "            Path(os.path.join(output_folder, folder, label)).mkdir(parents=True, exist_ok=True)\n",
    "    \n",
    "    #Setting up Train Test Validation \n",
    "    for label in tqdm(labels):\n",
    "        df_label = df[df['disease'] == label][['file_name', 'disease', 'patient_id']]\n",
    "        patients_list = df_label.patient_id.unique()\n",
    "        if len(patients_list) < 10:\n",
    "            print(f\"Skipping {label} due to insufficient data.\")\n",
    "            continue\n",
    "        train_patients, test_patients = train_test_split(patients_list, test_size=1 - train_ratio)\n",
    "        val_patients, test_patients = train_test_split(test_patients, test_size=test_ratio / (test_ratio + val_ratio))\n",
    "        df_label_train = df_label[df_label['patient_id'].isin(train_patients)]\n",
    "        df_label_val = df_label[df_label['patient_id'].isin(val_patients)]\n",
    "        df_label_test = df_label[df_label['patient_id'].isin(test_patients)]\n",
    "        \n",
    "        print(label, len(df_label_train), len(df_label_val), len(df_label_test))\n",
    "        #Data Augmentation on the Input data (Resizing, Cropping and Padding)\n",
    "        for i in range(0, len(df_label_train)):\n",
    "            file_name = df_label_train.iloc[i, 0] + '.jpg'\n",
    "            file_label = df_label_train.iloc[i, 1]   \n",
    "            preprocessing(root_folder, output_folder, file_name, 'train', crop_ratio, dim, file_label, padding_bool, crop_bool, resize_bool)\n",
    " \n",
    "        for i in range(0, len(df_label_test)):\n",
    "            file_name = df_label_test.iloc[i, 0] + '.jpg'\n",
    "            file_label = df_label_test.iloc[i, 1]    \n",
    "            preprocessing(root_folder, output_folder, file_name, 'test', crop_ratio, dim, file_label, padding_bool, crop_bool, resize_bool)    \n",
    "    \n",
    "        for i in range(0, len(df_label_val)):\n",
    "            file_name = df_label_val.iloc[i, 0] + '.jpg'\n",
    "            file_label = df_label_val.iloc[i, 1]    \n",
    "            preprocessing(root_folder, output_folder, file_name, 'val', crop_ratio, dim, file_label, padding_bool, crop_bool, resize_bool) \n",
    "\n",
    "\n",
    "def preprocessing(root_folder, output_folder, file, folder, crop_ratio, dim, label, padding_bool, crop_bool, resize_bool):\n",
    "    img = cv2.imread(os.path.join(root_folder, label, file))\n",
    "    if padding_bool:\n",
    "        img = padding(img)\n",
    "    if crop_bool:\n",
    "        img = center_crop(img, (img.shape[1] * crop_ratio, img.shape[0] * crop_ratio))\n",
    "    if resize_bool:\n",
    "        img = cv2.resize(img, dim, interpolation=cv2.INTER_LANCZOS4)    #cv2.INTER_LANCZOS4 is used for reducing or increasing image size while maintaining high image quality.\n",
    "    cv2.imwrite(os.path.join(output_folder, folder, label, Path(file).name), img, [cv2.IMWRITE_JPEG_QUALITY, 100])  #image is saved with high JPEG quality (100), which means minimal compression and maximal quality."
   ]
  },
  {
   "cell_type": "code",
   "execution_count": 13,
   "metadata": {},
   "outputs": [],
   "source": [
    "def padding(img):\n",
    "    \"\"\"Returns padded to square image\n",
    "    \"\"\"\n",
    "    height = img.shape[0]\n",
    "    width = img.shape[1]\n",
    "    if width == height:\n",
    "        return img\n",
    "    elif width > height:\n",
    "        left = 0\n",
    "        right = 0\n",
    "        bottom = ceil((width - height) / 2)\n",
    "        top = ceil((width - height) / 2)\n",
    "        result = cv2.copyMakeBorder(img, top, bottom, left, right, cv2.BORDER_CONSTANT, value=(0, 0, 0))\n",
    "        return result\n",
    "    else:\n",
    "        left = ceil((height - width) / 2)\n",
    "        right = ceil((height - width) / 2)\n",
    "        bottom = 0\n",
    "        top = 0\n",
    "        result = cv2.copyMakeBorder(img, top, bottom, left, right, cv2.BORDER_CONSTANT, value=(0, 0, 0))\n",
    "        return result\n",
    "\n",
    "\n",
    "def center_crop(img, dim):\n",
    "    \"\"\"Returns center cropped image\n",
    "    \"\"\"\n",
    "    width, height = img.shape[1], img.shape[0]\n",
    "    # process crop width and height for max available dimension\n",
    "    crop_width = dim[0] if dim[0] < img.shape[1] else img.shape[1]\n",
    "    crop_height = dim[1] if dim[1] < img.shape[0] else img.shape[0]\n",
    "    mid_x, mid_y = int(width/2), int(height/2)\n",
    "    cw2, ch2 = int(crop_width/2), int(crop_height/2)\n",
    "    crop_img = img[mid_y-ch2:mid_y+ch2, mid_x-cw2:mid_x+cw2]\n",
    "    return crop_img\n",
    "\n",
    "def scale_image(img, factor=1):\n",
    "    \"\"\"Returns resize image by scale factor.\n",
    "    This helps to retain resolution ratio while resizing.\n",
    "    Args:\n",
    "    img: image to be scaled\n",
    "    factor: scale factor to resize\"\n",
    "    \"\"\"\n",
    "    width = int(img.shape[1] * factor)\n",
    "    height = int(img.shape[0] * factor)\n",
    "    dsize = (width, height)\n",
    "    output = cv2.resize(img, dsize, interpolation=cv2.INTER_LANCZOS4)\n",
    "    return output"
   ]
  },
  {
   "cell_type": "code",
   "execution_count": 14,
   "metadata": {},
   "outputs": [],
   "source": [
    "#Reading the Labels\n",
    "df = pd.read_csv(labels_path)\n",
    "df= df[df['sex'] != '0']"
   ]
  },
  {
   "cell_type": "code",
   "execution_count": 15,
   "metadata": {},
   "outputs": [
    {
     "name": "stdout",
     "output_type": "stream",
     "text": [
      "Deleted C:/Users/x4287225/Desktop/confounder-free-cnn/OCTDL/OCTDL images/AMD\\amd_1047099_1.jpg\n",
      "Deleted C:/Users/x4287225/Desktop/confounder-free-cnn/OCTDL/OCTDL images/AMD\\amd_1047099_2.jpg\n",
      "Deleted C:/Users/x4287225/Desktop/confounder-free-cnn/OCTDL/OCTDL images/AMD\\amd_1047099_3.jpg\n",
      "Deleted C:/Users/x4287225/Desktop/confounder-free-cnn/OCTDL/OCTDL images/AMD\\amd_1047099_4.jpg\n",
      "Deleted C:/Users/x4287225/Desktop/confounder-free-cnn/OCTDL/OCTDL images/AMD\\amd_1084498_1.jpg\n",
      "Deleted C:/Users/x4287225/Desktop/confounder-free-cnn/OCTDL/OCTDL images/AMD\\amd_1084498_2.jpg\n",
      "Deleted C:/Users/x4287225/Desktop/confounder-free-cnn/OCTDL/OCTDL images/AMD\\amd_1084498_3.jpg\n",
      "Deleted C:/Users/x4287225/Desktop/confounder-free-cnn/OCTDL/OCTDL images/AMD\\amd_1096590_1.jpg\n",
      "Deleted C:/Users/x4287225/Desktop/confounder-free-cnn/OCTDL/OCTDL images/AMD\\amd_1096590_2.jpg\n",
      "Deleted C:/Users/x4287225/Desktop/confounder-free-cnn/OCTDL/OCTDL images/AMD\\amd_1096590_3.jpg\n",
      "Deleted C:/Users/x4287225/Desktop/confounder-free-cnn/OCTDL/OCTDL images/AMD\\amd_1096590_4.jpg\n",
      "Deleted C:/Users/x4287225/Desktop/confounder-free-cnn/OCTDL/OCTDL images/AMD\\amd_1096590_5.jpg\n",
      "Deleted C:/Users/x4287225/Desktop/confounder-free-cnn/OCTDL/OCTDL images/AMD\\amd_1131743_1.jpg\n",
      "Deleted C:/Users/x4287225/Desktop/confounder-free-cnn/OCTDL/OCTDL images/AMD\\amd_1163930_1.jpg\n",
      "Deleted C:/Users/x4287225/Desktop/confounder-free-cnn/OCTDL/OCTDL images/AMD\\amd_1163930_2.jpg\n",
      "Deleted C:/Users/x4287225/Desktop/confounder-free-cnn/OCTDL/OCTDL images/AMD\\amd_1163930_3.jpg\n",
      "Deleted C:/Users/x4287225/Desktop/confounder-free-cnn/OCTDL/OCTDL images/AMD\\amd_1168623_1.jpg\n",
      "Deleted C:/Users/x4287225/Desktop/confounder-free-cnn/OCTDL/OCTDL images/AMD\\amd_1168623_2.jpg\n",
      "Deleted C:/Users/x4287225/Desktop/confounder-free-cnn/OCTDL/OCTDL images/AMD\\amd_1178825_1.jpg\n",
      "Deleted C:/Users/x4287225/Desktop/confounder-free-cnn/OCTDL/OCTDL images/AMD\\amd_1178825_2.jpg\n",
      "Deleted C:/Users/x4287225/Desktop/confounder-free-cnn/OCTDL/OCTDL images/AMD\\amd_1178825_3.jpg\n",
      "Deleted C:/Users/x4287225/Desktop/confounder-free-cnn/OCTDL/OCTDL images/AMD\\amd_1178825_4.jpg\n",
      "Deleted C:/Users/x4287225/Desktop/confounder-free-cnn/OCTDL/OCTDL images/AMD\\amd_1178825_5.jpg\n",
      "Deleted C:/Users/x4287225/Desktop/confounder-free-cnn/OCTDL/OCTDL images/AMD\\amd_1214406_1.jpg\n",
      "Deleted C:/Users/x4287225/Desktop/confounder-free-cnn/OCTDL/OCTDL images/AMD\\amd_1214406_2.jpg\n",
      "Deleted C:/Users/x4287225/Desktop/confounder-free-cnn/OCTDL/OCTDL images/AMD\\amd_1214406_3.jpg\n",
      "Deleted C:/Users/x4287225/Desktop/confounder-free-cnn/OCTDL/OCTDL images/AMD\\amd_1214406_4.jpg\n",
      "Deleted C:/Users/x4287225/Desktop/confounder-free-cnn/OCTDL/OCTDL images/AMD\\amd_1262241_1.jpg\n",
      "Deleted C:/Users/x4287225/Desktop/confounder-free-cnn/OCTDL/OCTDL images/AMD\\amd_1262241_2.jpg\n",
      "Deleted C:/Users/x4287225/Desktop/confounder-free-cnn/OCTDL/OCTDL images/AMD\\amd_1262241_3.jpg\n",
      "Deleted C:/Users/x4287225/Desktop/confounder-free-cnn/OCTDL/OCTDL images/AMD\\amd_1262241_4.jpg\n",
      "Deleted C:/Users/x4287225/Desktop/confounder-free-cnn/OCTDL/OCTDL images/AMD\\amd_1262241_5.jpg\n",
      "Deleted C:/Users/x4287225/Desktop/confounder-free-cnn/OCTDL/OCTDL images/AMD\\amd_1262241_6.jpg\n",
      "Deleted C:/Users/x4287225/Desktop/confounder-free-cnn/OCTDL/OCTDL images/AMD\\amd_1262241_7.jpg\n",
      "Deleted C:/Users/x4287225/Desktop/confounder-free-cnn/OCTDL/OCTDL images/AMD\\amd_1275229_1.jpg\n",
      "Deleted C:/Users/x4287225/Desktop/confounder-free-cnn/OCTDL/OCTDL images/AMD\\amd_1275229_2.jpg\n",
      "Deleted C:/Users/x4287225/Desktop/confounder-free-cnn/OCTDL/OCTDL images/AMD\\amd_1275229_3.jpg\n",
      "Deleted C:/Users/x4287225/Desktop/confounder-free-cnn/OCTDL/OCTDL images/AMD\\amd_1283443_1.jpg\n",
      "Deleted C:/Users/x4287225/Desktop/confounder-free-cnn/OCTDL/OCTDL images/AMD\\amd_1283443_2.jpg\n",
      "Deleted C:/Users/x4287225/Desktop/confounder-free-cnn/OCTDL/OCTDL images/AMD\\amd_1283443_3.jpg\n",
      "Deleted C:/Users/x4287225/Desktop/confounder-free-cnn/OCTDL/OCTDL images/AMD\\amd_1283443_4.jpg\n",
      "Deleted C:/Users/x4287225/Desktop/confounder-free-cnn/OCTDL/OCTDL images/AMD\\amd_1285648_1.jpg\n",
      "Deleted C:/Users/x4287225/Desktop/confounder-free-cnn/OCTDL/OCTDL images/AMD\\amd_1285648_2.jpg\n",
      "Deleted C:/Users/x4287225/Desktop/confounder-free-cnn/OCTDL/OCTDL images/AMD\\amd_1333129_1.jpg\n",
      "Deleted C:/Users/x4287225/Desktop/confounder-free-cnn/OCTDL/OCTDL images/AMD\\amd_1333129_2.jpg\n",
      "Deleted C:/Users/x4287225/Desktop/confounder-free-cnn/OCTDL/OCTDL images/AMD\\amd_1333129_3.jpg\n",
      "Deleted C:/Users/x4287225/Desktop/confounder-free-cnn/OCTDL/OCTDL images/AMD\\amd_1333129_4.jpg\n",
      "Deleted C:/Users/x4287225/Desktop/confounder-free-cnn/OCTDL/OCTDL images/AMD\\amd_1356382_1.jpg\n",
      "Deleted C:/Users/x4287225/Desktop/confounder-free-cnn/OCTDL/OCTDL images/AMD\\amd_1356382_2.jpg\n",
      "Deleted C:/Users/x4287225/Desktop/confounder-free-cnn/OCTDL/OCTDL images/AMD\\amd_1472602_1.jpg\n",
      "Deleted C:/Users/x4287225/Desktop/confounder-free-cnn/OCTDL/OCTDL images/AMD\\amd_1472602_2.jpg\n",
      "Deleted C:/Users/x4287225/Desktop/confounder-free-cnn/OCTDL/OCTDL images/AMD\\amd_1472602_3.jpg\n",
      "Deleted C:/Users/x4287225/Desktop/confounder-free-cnn/OCTDL/OCTDL images/AMD\\amd_1472602_4.jpg\n",
      "Deleted C:/Users/x4287225/Desktop/confounder-free-cnn/OCTDL/OCTDL images/AMD\\amd_1472602_5.jpg\n",
      "Deleted C:/Users/x4287225/Desktop/confounder-free-cnn/OCTDL/OCTDL images/AMD\\amd_1472602_6.jpg\n",
      "Deleted C:/Users/x4287225/Desktop/confounder-free-cnn/OCTDL/OCTDL images/AMD\\amd_1475608_1.jpg\n",
      "Deleted C:/Users/x4287225/Desktop/confounder-free-cnn/OCTDL/OCTDL images/AMD\\amd_1475608_2.jpg\n",
      "Deleted C:/Users/x4287225/Desktop/confounder-free-cnn/OCTDL/OCTDL images/AMD\\amd_1475608_3.jpg\n",
      "Deleted C:/Users/x4287225/Desktop/confounder-free-cnn/OCTDL/OCTDL images/AMD\\amd_1475608_4.jpg\n",
      "Deleted C:/Users/x4287225/Desktop/confounder-free-cnn/OCTDL/OCTDL images/AMD\\amd_1475608_5.jpg\n",
      "Deleted C:/Users/x4287225/Desktop/confounder-free-cnn/OCTDL/OCTDL images/AMD\\amd_1475608_6.jpg\n",
      "Deleted C:/Users/x4287225/Desktop/confounder-free-cnn/OCTDL/OCTDL images/AMD\\amd_1485373_1.jpg\n",
      "Deleted C:/Users/x4287225/Desktop/confounder-free-cnn/OCTDL/OCTDL images/AMD\\amd_1485373_2.jpg\n",
      "Deleted C:/Users/x4287225/Desktop/confounder-free-cnn/OCTDL/OCTDL images/AMD\\amd_1485373_3.jpg\n",
      "Deleted C:/Users/x4287225/Desktop/confounder-free-cnn/OCTDL/OCTDL images/AMD\\amd_1513396_1.jpg\n",
      "Deleted C:/Users/x4287225/Desktop/confounder-free-cnn/OCTDL/OCTDL images/AMD\\amd_1513396_2.jpg\n",
      "Deleted C:/Users/x4287225/Desktop/confounder-free-cnn/OCTDL/OCTDL images/AMD\\amd_1513396_3.jpg\n",
      "Deleted C:/Users/x4287225/Desktop/confounder-free-cnn/OCTDL/OCTDL images/AMD\\amd_1521791_1.jpg\n",
      "Deleted C:/Users/x4287225/Desktop/confounder-free-cnn/OCTDL/OCTDL images/AMD\\amd_1521791_2.jpg\n",
      "Deleted C:/Users/x4287225/Desktop/confounder-free-cnn/OCTDL/OCTDL images/AMD\\amd_1521791_3.jpg\n",
      "Deleted C:/Users/x4287225/Desktop/confounder-free-cnn/OCTDL/OCTDL images/AMD\\amd_1521791_4.jpg\n",
      "Deleted C:/Users/x4287225/Desktop/confounder-free-cnn/OCTDL/OCTDL images/AMD\\amd_1523323_1.jpg\n",
      "Deleted C:/Users/x4287225/Desktop/confounder-free-cnn/OCTDL/OCTDL images/AMD\\amd_1523323_2.jpg\n",
      "Deleted C:/Users/x4287225/Desktop/confounder-free-cnn/OCTDL/OCTDL images/AMD\\amd_1523323_3.jpg\n",
      "Deleted C:/Users/x4287225/Desktop/confounder-free-cnn/OCTDL/OCTDL images/AMD\\amd_1523323_4.jpg\n",
      "Deleted C:/Users/x4287225/Desktop/confounder-free-cnn/OCTDL/OCTDL images/AMD\\amd_1639741_1.jpg\n",
      "Deleted C:/Users/x4287225/Desktop/confounder-free-cnn/OCTDL/OCTDL images/AMD\\amd_1639741_2.jpg\n",
      "Deleted C:/Users/x4287225/Desktop/confounder-free-cnn/OCTDL/OCTDL images/AMD\\amd_1639741_3.jpg\n",
      "Deleted C:/Users/x4287225/Desktop/confounder-free-cnn/OCTDL/OCTDL images/AMD\\amd_1669733_1.jpg\n",
      "Deleted C:/Users/x4287225/Desktop/confounder-free-cnn/OCTDL/OCTDL images/AMD\\amd_1777380_1.jpg\n",
      "Deleted C:/Users/x4287225/Desktop/confounder-free-cnn/OCTDL/OCTDL images/AMD\\amd_1777380_2.jpg\n",
      "Deleted C:/Users/x4287225/Desktop/confounder-free-cnn/OCTDL/OCTDL images/AMD\\amd_1777380_3.jpg\n",
      "Deleted C:/Users/x4287225/Desktop/confounder-free-cnn/OCTDL/OCTDL images/AMD\\amd_1777380_4.jpg\n",
      "Deleted C:/Users/x4287225/Desktop/confounder-free-cnn/OCTDL/OCTDL images/AMD\\amd_1777380_5.jpg\n",
      "Deleted C:/Users/x4287225/Desktop/confounder-free-cnn/OCTDL/OCTDL images/AMD\\amd_1777380_6.jpg\n",
      "Deleted C:/Users/x4287225/Desktop/confounder-free-cnn/OCTDL/OCTDL images/AMD\\amd_1781906_1.jpg\n",
      "Deleted C:/Users/x4287225/Desktop/confounder-free-cnn/OCTDL/OCTDL images/AMD\\amd_1815432_1.jpg\n",
      "Deleted C:/Users/x4287225/Desktop/confounder-free-cnn/OCTDL/OCTDL images/AMD\\amd_1840755_1.jpg\n",
      "Deleted C:/Users/x4287225/Desktop/confounder-free-cnn/OCTDL/OCTDL images/AMD\\amd_1840755_2.jpg\n",
      "Deleted C:/Users/x4287225/Desktop/confounder-free-cnn/OCTDL/OCTDL images/AMD\\amd_1840755_3.jpg\n",
      "Deleted C:/Users/x4287225/Desktop/confounder-free-cnn/OCTDL/OCTDL images/AMD\\amd_1840755_4.jpg\n",
      "Deleted C:/Users/x4287225/Desktop/confounder-free-cnn/OCTDL/OCTDL images/AMD\\amd_1871309_1.jpg\n",
      "Deleted C:/Users/x4287225/Desktop/confounder-free-cnn/OCTDL/OCTDL images/AMD\\amd_1871309_2.jpg\n",
      "Deleted C:/Users/x4287225/Desktop/confounder-free-cnn/OCTDL/OCTDL images/AMD\\amd_1893730_1.jpg\n",
      "Deleted C:/Users/x4287225/Desktop/confounder-free-cnn/OCTDL/OCTDL images/AMD\\amd_1893730_2.jpg\n",
      "Deleted C:/Users/x4287225/Desktop/confounder-free-cnn/OCTDL/OCTDL images/AMD\\amd_1893730_3.jpg\n",
      "Deleted C:/Users/x4287225/Desktop/confounder-free-cnn/OCTDL/OCTDL images/AMD\\amd_1893730_4.jpg\n",
      "Deleted C:/Users/x4287225/Desktop/confounder-free-cnn/OCTDL/OCTDL images/AMD\\amd_1893730_5.jpg\n",
      "Deleted C:/Users/x4287225/Desktop/confounder-free-cnn/OCTDL/OCTDL images/AMD\\amd_1957252_1.jpg\n",
      "Deleted C:/Users/x4287225/Desktop/confounder-free-cnn/OCTDL/OCTDL images/AMD\\amd_1957252_2.jpg\n",
      "Deleted C:/Users/x4287225/Desktop/confounder-free-cnn/OCTDL/OCTDL images/AMD\\amd_1963173_1.jpg\n",
      "Deleted C:/Users/x4287225/Desktop/confounder-free-cnn/OCTDL/OCTDL images/AMD\\amd_2006405_1.jpg\n",
      "Deleted C:/Users/x4287225/Desktop/confounder-free-cnn/OCTDL/OCTDL images/AMD\\amd_2009727_1.jpg\n",
      "Deleted C:/Users/x4287225/Desktop/confounder-free-cnn/OCTDL/OCTDL images/AMD\\amd_2009727_2.jpg\n",
      "Deleted C:/Users/x4287225/Desktop/confounder-free-cnn/OCTDL/OCTDL images/AMD\\amd_2015599_1.jpg\n",
      "Deleted C:/Users/x4287225/Desktop/confounder-free-cnn/OCTDL/OCTDL images/AMD\\amd_2015599_2.jpg\n",
      "Deleted C:/Users/x4287225/Desktop/confounder-free-cnn/OCTDL/OCTDL images/AMD\\amd_2015599_3.jpg\n",
      "Deleted C:/Users/x4287225/Desktop/confounder-free-cnn/OCTDL/OCTDL images/AMD\\amd_2037257_1.jpg\n",
      "Deleted C:/Users/x4287225/Desktop/confounder-free-cnn/OCTDL/OCTDL images/AMD\\amd_2037257_2.jpg\n",
      "Deleted C:/Users/x4287225/Desktop/confounder-free-cnn/OCTDL/OCTDL images/AMD\\amd_2037257_3.jpg\n",
      "Deleted C:/Users/x4287225/Desktop/confounder-free-cnn/OCTDL/OCTDL images/AMD\\amd_2037257_4.jpg\n",
      "Deleted C:/Users/x4287225/Desktop/confounder-free-cnn/OCTDL/OCTDL images/AMD\\amd_2092184_1.jpg\n",
      "Deleted C:/Users/x4287225/Desktop/confounder-free-cnn/OCTDL/OCTDL images/AMD\\amd_2092184_2.jpg\n",
      "Deleted C:/Users/x4287225/Desktop/confounder-free-cnn/OCTDL/OCTDL images/AMD\\amd_2092184_3.jpg\n",
      "Deleted C:/Users/x4287225/Desktop/confounder-free-cnn/OCTDL/OCTDL images/AMD\\amd_2092184_4.jpg\n",
      "Deleted C:/Users/x4287225/Desktop/confounder-free-cnn/OCTDL/OCTDL images/AMD\\amd_2108530_1.jpg\n",
      "Deleted C:/Users/x4287225/Desktop/confounder-free-cnn/OCTDL/OCTDL images/AMD\\amd_2108530_2.jpg\n",
      "Deleted C:/Users/x4287225/Desktop/confounder-free-cnn/OCTDL/OCTDL images/AMD\\amd_2131154_1.jpg\n",
      "Deleted C:/Users/x4287225/Desktop/confounder-free-cnn/OCTDL/OCTDL images/AMD\\amd_2131154_2.jpg\n",
      "Deleted C:/Users/x4287225/Desktop/confounder-free-cnn/OCTDL/OCTDL images/AMD\\amd_2135874_1.jpg\n",
      "Deleted C:/Users/x4287225/Desktop/confounder-free-cnn/OCTDL/OCTDL images/AMD\\amd_2135874_2.jpg\n",
      "Deleted C:/Users/x4287225/Desktop/confounder-free-cnn/OCTDL/OCTDL images/AMD\\amd_2135874_3.jpg\n",
      "Deleted C:/Users/x4287225/Desktop/confounder-free-cnn/OCTDL/OCTDL images/AMD\\amd_2154602_1.jpg\n",
      "Deleted C:/Users/x4287225/Desktop/confounder-free-cnn/OCTDL/OCTDL images/AMD\\amd_2154602_2.jpg\n",
      "Deleted C:/Users/x4287225/Desktop/confounder-free-cnn/OCTDL/OCTDL images/AMD\\amd_2158716_1.jpg\n",
      "Deleted C:/Users/x4287225/Desktop/confounder-free-cnn/OCTDL/OCTDL images/AMD\\amd_2158716_2.jpg\n",
      "Deleted C:/Users/x4287225/Desktop/confounder-free-cnn/OCTDL/OCTDL images/AMD\\amd_2238858_1.jpg\n",
      "Deleted C:/Users/x4287225/Desktop/confounder-free-cnn/OCTDL/OCTDL images/AMD\\amd_2238858_2.jpg\n",
      "Deleted C:/Users/x4287225/Desktop/confounder-free-cnn/OCTDL/OCTDL images/AMD\\amd_2238858_3.jpg\n",
      "Deleted C:/Users/x4287225/Desktop/confounder-free-cnn/OCTDL/OCTDL images/AMD\\amd_2238858_4.jpg\n",
      "Deleted C:/Users/x4287225/Desktop/confounder-free-cnn/OCTDL/OCTDL images/AMD\\amd_2238858_5.jpg\n",
      "Deleted C:/Users/x4287225/Desktop/confounder-free-cnn/OCTDL/OCTDL images/AMD\\amd_2238858_6.jpg\n",
      "Deleted C:/Users/x4287225/Desktop/confounder-free-cnn/OCTDL/OCTDL images/AMD\\amd_2291508_1.jpg\n",
      "Deleted C:/Users/x4287225/Desktop/confounder-free-cnn/OCTDL/OCTDL images/AMD\\amd_2291508_2.jpg\n",
      "Deleted C:/Users/x4287225/Desktop/confounder-free-cnn/OCTDL/OCTDL images/AMD\\amd_2291508_3.jpg\n",
      "Deleted C:/Users/x4287225/Desktop/confounder-free-cnn/OCTDL/OCTDL images/AMD\\amd_2291508_4.jpg\n",
      "Deleted C:/Users/x4287225/Desktop/confounder-free-cnn/OCTDL/OCTDL images/AMD\\amd_2297831_1.jpg\n",
      "Deleted C:/Users/x4287225/Desktop/confounder-free-cnn/OCTDL/OCTDL images/AMD\\amd_2297831_2.jpg\n",
      "Deleted C:/Users/x4287225/Desktop/confounder-free-cnn/OCTDL/OCTDL images/AMD\\amd_2393634_1.jpg\n",
      "Deleted C:/Users/x4287225/Desktop/confounder-free-cnn/OCTDL/OCTDL images/AMD\\amd_2393634_2.jpg\n",
      "Deleted C:/Users/x4287225/Desktop/confounder-free-cnn/OCTDL/OCTDL images/AMD\\amd_2403661_1.jpg\n",
      "Deleted C:/Users/x4287225/Desktop/confounder-free-cnn/OCTDL/OCTDL images/AMD\\amd_2403661_2.jpg\n",
      "Deleted C:/Users/x4287225/Desktop/confounder-free-cnn/OCTDL/OCTDL images/AMD\\amd_2403661_3.jpg\n",
      "Deleted C:/Users/x4287225/Desktop/confounder-free-cnn/OCTDL/OCTDL images/AMD\\amd_2403661_4.jpg\n",
      "Deleted C:/Users/x4287225/Desktop/confounder-free-cnn/OCTDL/OCTDL images/AMD\\amd_2403661_5.jpg\n",
      "Deleted C:/Users/x4287225/Desktop/confounder-free-cnn/OCTDL/OCTDL images/AMD\\amd_2403661_6.jpg\n",
      "Deleted C:/Users/x4287225/Desktop/confounder-free-cnn/OCTDL/OCTDL images/AMD\\amd_2481392_1.jpg\n",
      "Deleted C:/Users/x4287225/Desktop/confounder-free-cnn/OCTDL/OCTDL images/AMD\\amd_2481392_2.jpg\n",
      "Deleted C:/Users/x4287225/Desktop/confounder-free-cnn/OCTDL/OCTDL images/AMD\\amd_2505815_1.jpg\n",
      "Deleted C:/Users/x4287225/Desktop/confounder-free-cnn/OCTDL/OCTDL images/AMD\\amd_2505815_2.jpg\n",
      "Deleted C:/Users/x4287225/Desktop/confounder-free-cnn/OCTDL/OCTDL images/AMD\\amd_2505815_3.jpg\n",
      "Deleted C:/Users/x4287225/Desktop/confounder-free-cnn/OCTDL/OCTDL images/AMD\\amd_2505815_4.jpg\n",
      "Deleted C:/Users/x4287225/Desktop/confounder-free-cnn/OCTDL/OCTDL images/AMD\\amd_2567390_1.jpg\n",
      "Deleted C:/Users/x4287225/Desktop/confounder-free-cnn/OCTDL/OCTDL images/AMD\\amd_2567390_2.jpg\n",
      "Deleted C:/Users/x4287225/Desktop/confounder-free-cnn/OCTDL/OCTDL images/AMD\\amd_2568606_1.jpg\n",
      "Deleted C:/Users/x4287225/Desktop/confounder-free-cnn/OCTDL/OCTDL images/AMD\\amd_2568606_2.jpg\n",
      "Deleted C:/Users/x4287225/Desktop/confounder-free-cnn/OCTDL/OCTDL images/AMD\\amd_2568606_3.jpg\n",
      "Deleted C:/Users/x4287225/Desktop/confounder-free-cnn/OCTDL/OCTDL images/AMD\\amd_2651525_1.jpg\n",
      "Deleted C:/Users/x4287225/Desktop/confounder-free-cnn/OCTDL/OCTDL images/AMD\\amd_2651525_2.jpg\n",
      "Deleted C:/Users/x4287225/Desktop/confounder-free-cnn/OCTDL/OCTDL images/AMD\\amd_2651525_3.jpg\n",
      "Deleted C:/Users/x4287225/Desktop/confounder-free-cnn/OCTDL/OCTDL images/AMD\\amd_2651525_4.jpg\n",
      "Deleted C:/Users/x4287225/Desktop/confounder-free-cnn/OCTDL/OCTDL images/AMD\\amd_2651525_5.jpg\n",
      "Deleted C:/Users/x4287225/Desktop/confounder-free-cnn/OCTDL/OCTDL images/AMD\\amd_2677606_1.jpg\n",
      "Deleted C:/Users/x4287225/Desktop/confounder-free-cnn/OCTDL/OCTDL images/AMD\\amd_2677606_2.jpg\n",
      "Deleted C:/Users/x4287225/Desktop/confounder-free-cnn/OCTDL/OCTDL images/AMD\\amd_2690090_1.jpg\n",
      "Deleted C:/Users/x4287225/Desktop/confounder-free-cnn/OCTDL/OCTDL images/AMD\\amd_2690090_2.jpg\n",
      "Deleted C:/Users/x4287225/Desktop/confounder-free-cnn/OCTDL/OCTDL images/AMD\\amd_2715738_1.jpg\n",
      "Deleted C:/Users/x4287225/Desktop/confounder-free-cnn/OCTDL/OCTDL images/AMD\\amd_2715738_2.jpg\n",
      "Deleted C:/Users/x4287225/Desktop/confounder-free-cnn/OCTDL/OCTDL images/AMD\\amd_2715738_3.jpg\n",
      "Deleted C:/Users/x4287225/Desktop/confounder-free-cnn/OCTDL/OCTDL images/AMD\\amd_2715738_4.jpg\n",
      "Deleted C:/Users/x4287225/Desktop/confounder-free-cnn/OCTDL/OCTDL images/AMD\\amd_2809762_1.jpg\n",
      "Deleted C:/Users/x4287225/Desktop/confounder-free-cnn/OCTDL/OCTDL images/AMD\\amd_2809762_2.jpg\n",
      "Deleted C:/Users/x4287225/Desktop/confounder-free-cnn/OCTDL/OCTDL images/AMD\\amd_2809762_3.jpg\n",
      "Deleted C:/Users/x4287225/Desktop/confounder-free-cnn/OCTDL/OCTDL images/AMD\\amd_2820037_1.jpg\n",
      "Deleted C:/Users/x4287225/Desktop/confounder-free-cnn/OCTDL/OCTDL images/AMD\\amd_2820037_2.jpg\n",
      "Deleted C:/Users/x4287225/Desktop/confounder-free-cnn/OCTDL/OCTDL images/AMD\\amd_2827250_1.jpg\n",
      "Deleted C:/Users/x4287225/Desktop/confounder-free-cnn/OCTDL/OCTDL images/AMD\\amd_2827250_2.jpg\n",
      "Deleted C:/Users/x4287225/Desktop/confounder-free-cnn/OCTDL/OCTDL images/AMD\\amd_2827250_3.jpg\n",
      "Deleted C:/Users/x4287225/Desktop/confounder-free-cnn/OCTDL/OCTDL images/AMD\\amd_2849896_1.jpg\n",
      "Deleted C:/Users/x4287225/Desktop/confounder-free-cnn/OCTDL/OCTDL images/AMD\\amd_2849896_2.jpg\n",
      "Deleted C:/Users/x4287225/Desktop/confounder-free-cnn/OCTDL/OCTDL images/AMD\\amd_2849896_3.jpg\n",
      "Deleted C:/Users/x4287225/Desktop/confounder-free-cnn/OCTDL/OCTDL images/AMD\\amd_2849896_4.jpg\n",
      "Deleted C:/Users/x4287225/Desktop/confounder-free-cnn/OCTDL/OCTDL images/AMD\\amd_2849896_5.jpg\n",
      "Deleted C:/Users/x4287225/Desktop/confounder-free-cnn/OCTDL/OCTDL images/AMD\\amd_2865077_1.jpg\n",
      "Deleted C:/Users/x4287225/Desktop/confounder-free-cnn/OCTDL/OCTDL images/AMD\\amd_2945668_1.jpg\n",
      "Deleted C:/Users/x4287225/Desktop/confounder-free-cnn/OCTDL/OCTDL images/AMD\\amd_2945668_2.jpg\n",
      "Deleted C:/Users/x4287225/Desktop/confounder-free-cnn/OCTDL/OCTDL images/AMD\\amd_2945668_3.jpg\n",
      "Deleted C:/Users/x4287225/Desktop/confounder-free-cnn/OCTDL/OCTDL images/AMD\\amd_2945668_4.jpg\n",
      "Deleted C:/Users/x4287225/Desktop/confounder-free-cnn/OCTDL/OCTDL images/AMD\\amd_2945668_5.jpg\n",
      "Deleted C:/Users/x4287225/Desktop/confounder-free-cnn/OCTDL/OCTDL images/AMD\\amd_2945668_6.jpg\n",
      "Deleted C:/Users/x4287225/Desktop/confounder-free-cnn/OCTDL/OCTDL images/AMD\\amd_3053793_1.jpg\n",
      "Deleted C:/Users/x4287225/Desktop/confounder-free-cnn/OCTDL/OCTDL images/AMD\\amd_3053793_2.jpg\n",
      "Deleted C:/Users/x4287225/Desktop/confounder-free-cnn/OCTDL/OCTDL images/AMD\\amd_3053793_3.jpg\n",
      "Deleted C:/Users/x4287225/Desktop/confounder-free-cnn/OCTDL/OCTDL images/AMD\\amd_3053793_4.jpg\n",
      "Deleted C:/Users/x4287225/Desktop/confounder-free-cnn/OCTDL/OCTDL images/AMD\\amd_3071419_1.jpg\n",
      "Deleted C:/Users/x4287225/Desktop/confounder-free-cnn/OCTDL/OCTDL images/AMD\\amd_3071419_2.jpg\n",
      "Deleted C:/Users/x4287225/Desktop/confounder-free-cnn/OCTDL/OCTDL images/AMD\\amd_3071419_3.jpg\n",
      "Deleted C:/Users/x4287225/Desktop/confounder-free-cnn/OCTDL/OCTDL images/AMD\\amd_3071419_4.jpg\n",
      "Deleted C:/Users/x4287225/Desktop/confounder-free-cnn/OCTDL/OCTDL images/AMD\\amd_3077077_1.jpg\n",
      "Deleted C:/Users/x4287225/Desktop/confounder-free-cnn/OCTDL/OCTDL images/AMD\\amd_3077077_2.jpg\n",
      "Deleted C:/Users/x4287225/Desktop/confounder-free-cnn/OCTDL/OCTDL images/AMD\\amd_3077077_3.jpg\n",
      "Deleted C:/Users/x4287225/Desktop/confounder-free-cnn/OCTDL/OCTDL images/AMD\\amd_3131555_1.jpg\n",
      "Deleted C:/Users/x4287225/Desktop/confounder-free-cnn/OCTDL/OCTDL images/AMD\\amd_3131555_2.jpg\n",
      "Deleted C:/Users/x4287225/Desktop/confounder-free-cnn/OCTDL/OCTDL images/AMD\\amd_3131555_3.jpg\n",
      "Deleted C:/Users/x4287225/Desktop/confounder-free-cnn/OCTDL/OCTDL images/AMD\\amd_3131555_4.jpg\n",
      "Deleted C:/Users/x4287225/Desktop/confounder-free-cnn/OCTDL/OCTDL images/AMD\\amd_3138563_1.jpg\n",
      "Deleted C:/Users/x4287225/Desktop/confounder-free-cnn/OCTDL/OCTDL images/AMD\\amd_3138563_2.jpg\n",
      "Deleted C:/Users/x4287225/Desktop/confounder-free-cnn/OCTDL/OCTDL images/AMD\\amd_3138563_3.jpg\n",
      "Deleted C:/Users/x4287225/Desktop/confounder-free-cnn/OCTDL/OCTDL images/AMD\\amd_3200845_1.jpg\n",
      "Deleted C:/Users/x4287225/Desktop/confounder-free-cnn/OCTDL/OCTDL images/AMD\\amd_3200845_2.jpg\n",
      "Deleted C:/Users/x4287225/Desktop/confounder-free-cnn/OCTDL/OCTDL images/AMD\\amd_3221755_1.jpg\n",
      "Deleted C:/Users/x4287225/Desktop/confounder-free-cnn/OCTDL/OCTDL images/AMD\\amd_3221755_2.jpg\n",
      "Deleted C:/Users/x4287225/Desktop/confounder-free-cnn/OCTDL/OCTDL images/AMD\\amd_3221755_3.jpg\n",
      "Deleted C:/Users/x4287225/Desktop/confounder-free-cnn/OCTDL/OCTDL images/AMD\\amd_3221755_4.jpg\n",
      "Deleted C:/Users/x4287225/Desktop/confounder-free-cnn/OCTDL/OCTDL images/AMD\\amd_3239293_1.jpg\n",
      "Deleted C:/Users/x4287225/Desktop/confounder-free-cnn/OCTDL/OCTDL images/AMD\\amd_3239293_2.jpg\n",
      "Deleted C:/Users/x4287225/Desktop/confounder-free-cnn/OCTDL/OCTDL images/AMD\\amd_3274975_1.jpg\n",
      "Deleted C:/Users/x4287225/Desktop/confounder-free-cnn/OCTDL/OCTDL images/AMD\\amd_3274975_2.jpg\n",
      "Deleted C:/Users/x4287225/Desktop/confounder-free-cnn/OCTDL/OCTDL images/AMD\\amd_3274975_3.jpg\n",
      "Deleted C:/Users/x4287225/Desktop/confounder-free-cnn/OCTDL/OCTDL images/AMD\\amd_3290368_1.jpg\n",
      "Deleted C:/Users/x4287225/Desktop/confounder-free-cnn/OCTDL/OCTDL images/AMD\\amd_3290368_2.jpg\n",
      "Deleted C:/Users/x4287225/Desktop/confounder-free-cnn/OCTDL/OCTDL images/AMD\\amd_3313367_1.jpg\n",
      "Deleted C:/Users/x4287225/Desktop/confounder-free-cnn/OCTDL/OCTDL images/AMD\\amd_3313367_2.jpg\n",
      "Deleted C:/Users/x4287225/Desktop/confounder-free-cnn/OCTDL/OCTDL images/AMD\\amd_3313367_3.jpg\n",
      "Deleted C:/Users/x4287225/Desktop/confounder-free-cnn/OCTDL/OCTDL images/AMD\\amd_3313367_4.jpg\n",
      "Deleted C:/Users/x4287225/Desktop/confounder-free-cnn/OCTDL/OCTDL images/AMD\\amd_3313367_5.jpg\n",
      "Deleted C:/Users/x4287225/Desktop/confounder-free-cnn/OCTDL/OCTDL images/AMD\\amd_3332563_1.jpg\n",
      "Deleted C:/Users/x4287225/Desktop/confounder-free-cnn/OCTDL/OCTDL images/AMD\\amd_3332563_2.jpg\n",
      "Deleted C:/Users/x4287225/Desktop/confounder-free-cnn/OCTDL/OCTDL images/AMD\\amd_3332563_3.jpg\n",
      "Deleted C:/Users/x4287225/Desktop/confounder-free-cnn/OCTDL/OCTDL images/AMD\\amd_3332563_4.jpg\n",
      "Deleted C:/Users/x4287225/Desktop/confounder-free-cnn/OCTDL/OCTDL images/AMD\\amd_3335355_1.jpg\n",
      "Deleted C:/Users/x4287225/Desktop/confounder-free-cnn/OCTDL/OCTDL images/AMD\\amd_3335355_2.jpg\n",
      "Deleted C:/Users/x4287225/Desktop/confounder-free-cnn/OCTDL/OCTDL images/AMD\\amd_3335355_3.jpg\n",
      "Deleted C:/Users/x4287225/Desktop/confounder-free-cnn/OCTDL/OCTDL images/AMD\\amd_3335355_4.jpg\n",
      "Deleted C:/Users/x4287225/Desktop/confounder-free-cnn/OCTDL/OCTDL images/AMD\\amd_3348395_1.jpg\n",
      "Deleted C:/Users/x4287225/Desktop/confounder-free-cnn/OCTDL/OCTDL images/AMD\\amd_3348395_2.jpg\n",
      "Deleted C:/Users/x4287225/Desktop/confounder-free-cnn/OCTDL/OCTDL images/AMD\\amd_3348395_3.jpg\n",
      "Deleted C:/Users/x4287225/Desktop/confounder-free-cnn/OCTDL/OCTDL images/AMD\\amd_3348395_4.jpg\n",
      "Deleted C:/Users/x4287225/Desktop/confounder-free-cnn/OCTDL/OCTDL images/AMD\\amd_3361925_1.jpg\n",
      "Deleted C:/Users/x4287225/Desktop/confounder-free-cnn/OCTDL/OCTDL images/AMD\\amd_3368240_1.jpg\n",
      "Deleted C:/Users/x4287225/Desktop/confounder-free-cnn/OCTDL/OCTDL images/AMD\\amd_3368240_2.jpg\n",
      "Deleted C:/Users/x4287225/Desktop/confounder-free-cnn/OCTDL/OCTDL images/AMD\\amd_3404975_1.jpg\n",
      "Deleted C:/Users/x4287225/Desktop/confounder-free-cnn/OCTDL/OCTDL images/AMD\\amd_3404975_2.jpg\n",
      "Deleted C:/Users/x4287225/Desktop/confounder-free-cnn/OCTDL/OCTDL images/AMD\\amd_3404975_3.jpg\n",
      "Deleted C:/Users/x4287225/Desktop/confounder-free-cnn/OCTDL/OCTDL images/AMD\\amd_3404975_4.jpg\n",
      "Deleted C:/Users/x4287225/Desktop/confounder-free-cnn/OCTDL/OCTDL images/AMD\\amd_3409596_1.jpg\n",
      "Deleted C:/Users/x4287225/Desktop/confounder-free-cnn/OCTDL/OCTDL images/AMD\\amd_3409596_2.jpg\n",
      "Deleted C:/Users/x4287225/Desktop/confounder-free-cnn/OCTDL/OCTDL images/AMD\\amd_3409596_3.jpg\n",
      "Deleted C:/Users/x4287225/Desktop/confounder-free-cnn/OCTDL/OCTDL images/AMD\\amd_3441858_1.jpg\n",
      "Deleted C:/Users/x4287225/Desktop/confounder-free-cnn/OCTDL/OCTDL images/AMD\\amd_3441858_2.jpg\n",
      "Deleted C:/Users/x4287225/Desktop/confounder-free-cnn/OCTDL/OCTDL images/AMD\\amd_3441858_3.jpg\n",
      "Deleted C:/Users/x4287225/Desktop/confounder-free-cnn/OCTDL/OCTDL images/AMD\\amd_3441858_4.jpg\n",
      "Deleted C:/Users/x4287225/Desktop/confounder-free-cnn/OCTDL/OCTDL images/AMD\\amd_3452568_1.jpg\n",
      "Deleted C:/Users/x4287225/Desktop/confounder-free-cnn/OCTDL/OCTDL images/AMD\\amd_3452568_2.jpg\n",
      "Deleted C:/Users/x4287225/Desktop/confounder-free-cnn/OCTDL/OCTDL images/AMD\\amd_3452568_3.jpg\n",
      "Deleted C:/Users/x4287225/Desktop/confounder-free-cnn/OCTDL/OCTDL images/AMD\\amd_3471270_1.jpg\n",
      "Deleted C:/Users/x4287225/Desktop/confounder-free-cnn/OCTDL/OCTDL images/AMD\\amd_3471270_2.jpg\n",
      "Deleted C:/Users/x4287225/Desktop/confounder-free-cnn/OCTDL/OCTDL images/AMD\\amd_3471270_3.jpg\n",
      "Deleted C:/Users/x4287225/Desktop/confounder-free-cnn/OCTDL/OCTDL images/AMD\\amd_3471270_4.jpg\n",
      "Deleted C:/Users/x4287225/Desktop/confounder-free-cnn/OCTDL/OCTDL images/AMD\\amd_3471270_5.jpg\n",
      "Deleted C:/Users/x4287225/Desktop/confounder-free-cnn/OCTDL/OCTDL images/AMD\\amd_3471270_6.jpg\n",
      "Deleted C:/Users/x4287225/Desktop/confounder-free-cnn/OCTDL/OCTDL images/AMD\\amd_3471270_7.jpg\n",
      "Deleted C:/Users/x4287225/Desktop/confounder-free-cnn/OCTDL/OCTDL images/AMD\\amd_3471270_8.jpg\n",
      "Deleted C:/Users/x4287225/Desktop/confounder-free-cnn/OCTDL/OCTDL images/AMD\\amd_3471270_9.jpg\n",
      "Deleted C:/Users/x4287225/Desktop/confounder-free-cnn/OCTDL/OCTDL images/AMD\\amd_3477917_1.jpg\n",
      "Deleted C:/Users/x4287225/Desktop/confounder-free-cnn/OCTDL/OCTDL images/AMD\\amd_3477917_2.jpg\n",
      "Deleted C:/Users/x4287225/Desktop/confounder-free-cnn/OCTDL/OCTDL images/AMD\\amd_3477917_3.jpg\n",
      "Deleted C:/Users/x4287225/Desktop/confounder-free-cnn/OCTDL/OCTDL images/AMD\\amd_3477917_4.jpg\n",
      "Deleted C:/Users/x4287225/Desktop/confounder-free-cnn/OCTDL/OCTDL images/AMD\\amd_3477917_5.jpg\n",
      "Deleted C:/Users/x4287225/Desktop/confounder-free-cnn/OCTDL/OCTDL images/AMD\\amd_3524341_1.jpg\n",
      "Deleted C:/Users/x4287225/Desktop/confounder-free-cnn/OCTDL/OCTDL images/AMD\\amd_3524341_2.jpg\n",
      "Deleted C:/Users/x4287225/Desktop/confounder-free-cnn/OCTDL/OCTDL images/AMD\\amd_3524341_3.jpg\n",
      "Deleted C:/Users/x4287225/Desktop/confounder-free-cnn/OCTDL/OCTDL images/AMD\\amd_3562708_1.jpg\n",
      "Deleted C:/Users/x4287225/Desktop/confounder-free-cnn/OCTDL/OCTDL images/AMD\\amd_3562708_2.jpg\n",
      "Deleted C:/Users/x4287225/Desktop/confounder-free-cnn/OCTDL/OCTDL images/AMD\\amd_3562708_3.jpg\n",
      "Deleted C:/Users/x4287225/Desktop/confounder-free-cnn/OCTDL/OCTDL images/AMD\\amd_3562708_4.jpg\n",
      "Deleted C:/Users/x4287225/Desktop/confounder-free-cnn/OCTDL/OCTDL images/AMD\\amd_3562708_5.jpg\n",
      "Deleted C:/Users/x4287225/Desktop/confounder-free-cnn/OCTDL/OCTDL images/AMD\\amd_3567855_1.jpg\n",
      "Deleted C:/Users/x4287225/Desktop/confounder-free-cnn/OCTDL/OCTDL images/AMD\\amd_3567855_2.jpg\n",
      "Deleted C:/Users/x4287225/Desktop/confounder-free-cnn/OCTDL/OCTDL images/AMD\\amd_3567855_3.jpg\n",
      "Deleted C:/Users/x4287225/Desktop/confounder-free-cnn/OCTDL/OCTDL images/AMD\\amd_3567855_4.jpg\n",
      "Deleted C:/Users/x4287225/Desktop/confounder-free-cnn/OCTDL/OCTDL images/AMD\\amd_3574277_1.jpg\n",
      "Deleted C:/Users/x4287225/Desktop/confounder-free-cnn/OCTDL/OCTDL images/AMD\\amd_3574277_2.jpg\n",
      "Deleted C:/Users/x4287225/Desktop/confounder-free-cnn/OCTDL/OCTDL images/AMD\\amd_3579180_1.jpg\n",
      "Deleted C:/Users/x4287225/Desktop/confounder-free-cnn/OCTDL/OCTDL images/AMD\\amd_3579180_2.jpg\n",
      "Deleted C:/Users/x4287225/Desktop/confounder-free-cnn/OCTDL/OCTDL images/AMD\\amd_3579180_3.jpg\n",
      "Deleted C:/Users/x4287225/Desktop/confounder-free-cnn/OCTDL/OCTDL images/AMD\\amd_3579180_4.jpg\n",
      "Deleted C:/Users/x4287225/Desktop/confounder-free-cnn/OCTDL/OCTDL images/AMD\\amd_3579180_5.jpg\n",
      "Deleted C:/Users/x4287225/Desktop/confounder-free-cnn/OCTDL/OCTDL images/AMD\\amd_3622632_1.jpg\n",
      "Deleted C:/Users/x4287225/Desktop/confounder-free-cnn/OCTDL/OCTDL images/AMD\\amd_3637521_1.jpg\n",
      "Deleted C:/Users/x4287225/Desktop/confounder-free-cnn/OCTDL/OCTDL images/AMD\\amd_3637521_2.jpg\n",
      "Deleted C:/Users/x4287225/Desktop/confounder-free-cnn/OCTDL/OCTDL images/AMD\\amd_3661614_1.jpg\n",
      "Deleted C:/Users/x4287225/Desktop/confounder-free-cnn/OCTDL/OCTDL images/AMD\\amd_3661614_2.jpg\n",
      "Deleted C:/Users/x4287225/Desktop/confounder-free-cnn/OCTDL/OCTDL images/AMD\\amd_3661614_3.jpg\n",
      "Deleted C:/Users/x4287225/Desktop/confounder-free-cnn/OCTDL/OCTDL images/AMD\\amd_3678132_1.jpg\n",
      "Deleted C:/Users/x4287225/Desktop/confounder-free-cnn/OCTDL/OCTDL images/AMD\\amd_3678132_2.jpg\n",
      "Deleted C:/Users/x4287225/Desktop/confounder-free-cnn/OCTDL/OCTDL images/AMD\\amd_3678132_3.jpg\n",
      "Deleted C:/Users/x4287225/Desktop/confounder-free-cnn/OCTDL/OCTDL images/AMD\\amd_3687545_1.jpg\n",
      "Deleted C:/Users/x4287225/Desktop/confounder-free-cnn/OCTDL/OCTDL images/AMD\\amd_3687545_2.jpg\n",
      "Deleted C:/Users/x4287225/Desktop/confounder-free-cnn/OCTDL/OCTDL images/AMD\\amd_3738234_1.jpg\n",
      "Deleted C:/Users/x4287225/Desktop/confounder-free-cnn/OCTDL/OCTDL images/AMD\\amd_3738234_2.jpg\n",
      "Deleted C:/Users/x4287225/Desktop/confounder-free-cnn/OCTDL/OCTDL images/AMD\\amd_3738234_3.jpg\n",
      "Deleted C:/Users/x4287225/Desktop/confounder-free-cnn/OCTDL/OCTDL images/AMD\\amd_3738234_4.jpg\n",
      "Deleted C:/Users/x4287225/Desktop/confounder-free-cnn/OCTDL/OCTDL images/AMD\\amd_3742741_1.jpg\n",
      "Deleted C:/Users/x4287225/Desktop/confounder-free-cnn/OCTDL/OCTDL images/AMD\\amd_3742741_2.jpg\n",
      "Deleted C:/Users/x4287225/Desktop/confounder-free-cnn/OCTDL/OCTDL images/AMD\\amd_3742741_3.jpg\n",
      "Deleted C:/Users/x4287225/Desktop/confounder-free-cnn/OCTDL/OCTDL images/AMD\\amd_3743676_1.jpg\n",
      "Deleted C:/Users/x4287225/Desktop/confounder-free-cnn/OCTDL/OCTDL images/AMD\\amd_3743676_2.jpg\n",
      "Deleted C:/Users/x4287225/Desktop/confounder-free-cnn/OCTDL/OCTDL images/AMD\\amd_3810654_1.jpg\n",
      "Deleted C:/Users/x4287225/Desktop/confounder-free-cnn/OCTDL/OCTDL images/AMD\\amd_3810654_2.jpg\n",
      "Deleted C:/Users/x4287225/Desktop/confounder-free-cnn/OCTDL/OCTDL images/AMD\\amd_3810654_3.jpg\n",
      "Deleted C:/Users/x4287225/Desktop/confounder-free-cnn/OCTDL/OCTDL images/AMD\\amd_3820954_1.jpg\n",
      "Deleted C:/Users/x4287225/Desktop/confounder-free-cnn/OCTDL/OCTDL images/AMD\\amd_3820954_2.jpg\n",
      "Deleted C:/Users/x4287225/Desktop/confounder-free-cnn/OCTDL/OCTDL images/AMD\\amd_3982435_1.jpg\n",
      "Deleted C:/Users/x4287225/Desktop/confounder-free-cnn/OCTDL/OCTDL images/AMD\\amd_3982435_2.jpg\n",
      "Deleted C:/Users/x4287225/Desktop/confounder-free-cnn/OCTDL/OCTDL images/AMD\\amd_3982435_3.jpg\n",
      "Deleted C:/Users/x4287225/Desktop/confounder-free-cnn/OCTDL/OCTDL images/AMD\\amd_3982435_4.jpg\n",
      "Deleted C:/Users/x4287225/Desktop/confounder-free-cnn/OCTDL/OCTDL images/AMD\\amd_3982435_5.jpg\n",
      "Deleted C:/Users/x4287225/Desktop/confounder-free-cnn/OCTDL/OCTDL images/AMD\\amd_3982435_6.jpg\n",
      "Deleted C:/Users/x4287225/Desktop/confounder-free-cnn/OCTDL/OCTDL images/AMD\\amd_3982435_7.jpg\n",
      "Deleted C:/Users/x4287225/Desktop/confounder-free-cnn/OCTDL/OCTDL images/AMD\\amd_3991221_1.jpg\n",
      "Deleted C:/Users/x4287225/Desktop/confounder-free-cnn/OCTDL/OCTDL images/AMD\\amd_3991221_2.jpg\n",
      "Deleted C:/Users/x4287225/Desktop/confounder-free-cnn/OCTDL/OCTDL images/AMD\\amd_3991221_3.jpg\n",
      "Deleted C:/Users/x4287225/Desktop/confounder-free-cnn/OCTDL/OCTDL images/AMD\\amd_4006332_1.jpg\n",
      "Deleted C:/Users/x4287225/Desktop/confounder-free-cnn/OCTDL/OCTDL images/AMD\\amd_4047021_1.jpg\n",
      "Deleted C:/Users/x4287225/Desktop/confounder-free-cnn/OCTDL/OCTDL images/AMD\\amd_4047021_2.jpg\n",
      "Deleted C:/Users/x4287225/Desktop/confounder-free-cnn/OCTDL/OCTDL images/AMD\\amd_4064960_1.jpg\n",
      "Deleted C:/Users/x4287225/Desktop/confounder-free-cnn/OCTDL/OCTDL images/AMD\\amd_4064960_2.jpg\n",
      "Deleted C:/Users/x4287225/Desktop/confounder-free-cnn/OCTDL/OCTDL images/AMD\\amd_4069275_1.jpg\n",
      "Deleted C:/Users/x4287225/Desktop/confounder-free-cnn/OCTDL/OCTDL images/AMD\\amd_4069275_2.jpg\n",
      "Deleted C:/Users/x4287225/Desktop/confounder-free-cnn/OCTDL/OCTDL images/AMD\\amd_4069275_3.jpg\n",
      "Deleted C:/Users/x4287225/Desktop/confounder-free-cnn/OCTDL/OCTDL images/AMD\\amd_4069275_4.jpg\n",
      "Deleted C:/Users/x4287225/Desktop/confounder-free-cnn/OCTDL/OCTDL images/AMD\\amd_4113554_1.jpg\n",
      "Deleted C:/Users/x4287225/Desktop/confounder-free-cnn/OCTDL/OCTDL images/AMD\\amd_4113554_2.jpg\n",
      "Deleted C:/Users/x4287225/Desktop/confounder-free-cnn/OCTDL/OCTDL images/AMD\\amd_4113554_3.jpg\n",
      "Deleted C:/Users/x4287225/Desktop/confounder-free-cnn/OCTDL/OCTDL images/AMD\\amd_4113554_4.jpg\n",
      "Deleted C:/Users/x4287225/Desktop/confounder-free-cnn/OCTDL/OCTDL images/AMD\\amd_4125745_1.jpg\n",
      "Deleted C:/Users/x4287225/Desktop/confounder-free-cnn/OCTDL/OCTDL images/AMD\\amd_4125745_2.jpg\n",
      "Deleted C:/Users/x4287225/Desktop/confounder-free-cnn/OCTDL/OCTDL images/AMD\\amd_4125745_3.jpg\n",
      "Deleted C:/Users/x4287225/Desktop/confounder-free-cnn/OCTDL/OCTDL images/AMD\\amd_4125745_4.jpg\n",
      "Deleted C:/Users/x4287225/Desktop/confounder-free-cnn/OCTDL/OCTDL images/AMD\\amd_4125745_5.jpg\n",
      "Deleted C:/Users/x4287225/Desktop/confounder-free-cnn/OCTDL/OCTDL images/AMD\\amd_4125745_6.jpg\n",
      "Deleted C:/Users/x4287225/Desktop/confounder-free-cnn/OCTDL/OCTDL images/AMD\\amd_4207802_1.jpg\n",
      "Deleted C:/Users/x4287225/Desktop/confounder-free-cnn/OCTDL/OCTDL images/AMD\\amd_4207802_2.jpg\n",
      "Deleted C:/Users/x4287225/Desktop/confounder-free-cnn/OCTDL/OCTDL images/AMD\\amd_4207802_3.jpg\n",
      "Deleted C:/Users/x4287225/Desktop/confounder-free-cnn/OCTDL/OCTDL images/AMD\\amd_4256065_1.jpg\n",
      "Deleted C:/Users/x4287225/Desktop/confounder-free-cnn/OCTDL/OCTDL images/AMD\\amd_4256065_2.jpg\n",
      "Deleted C:/Users/x4287225/Desktop/confounder-free-cnn/OCTDL/OCTDL images/AMD\\amd_4256065_3.jpg\n",
      "Deleted C:/Users/x4287225/Desktop/confounder-free-cnn/OCTDL/OCTDL images/AMD\\amd_4280718_1.jpg\n",
      "Deleted C:/Users/x4287225/Desktop/confounder-free-cnn/OCTDL/OCTDL images/AMD\\amd_4280718_2.jpg\n",
      "Deleted C:/Users/x4287225/Desktop/confounder-free-cnn/OCTDL/OCTDL images/AMD\\amd_4280718_3.jpg\n",
      "Deleted C:/Users/x4287225/Desktop/confounder-free-cnn/OCTDL/OCTDL images/AMD\\amd_4280718_4.jpg\n",
      "Deleted C:/Users/x4287225/Desktop/confounder-free-cnn/OCTDL/OCTDL images/AMD\\amd_4280718_5.jpg\n",
      "Deleted C:/Users/x4287225/Desktop/confounder-free-cnn/OCTDL/OCTDL images/AMD\\amd_4280718_6.jpg\n",
      "Deleted C:/Users/x4287225/Desktop/confounder-free-cnn/OCTDL/OCTDL images/AMD\\amd_4280718_7.jpg\n",
      "Deleted C:/Users/x4287225/Desktop/confounder-free-cnn/OCTDL/OCTDL images/AMD\\amd_4280718_8.jpg\n",
      "Deleted C:/Users/x4287225/Desktop/confounder-free-cnn/OCTDL/OCTDL images/AMD\\amd_4309193_1.jpg\n",
      "Deleted C:/Users/x4287225/Desktop/confounder-free-cnn/OCTDL/OCTDL images/AMD\\amd_4309193_2.jpg\n",
      "Deleted C:/Users/x4287225/Desktop/confounder-free-cnn/OCTDL/OCTDL images/AMD\\amd_4309193_3.jpg\n",
      "Deleted C:/Users/x4287225/Desktop/confounder-free-cnn/OCTDL/OCTDL images/AMD\\amd_4342416_1.jpg\n",
      "Deleted C:/Users/x4287225/Desktop/confounder-free-cnn/OCTDL/OCTDL images/AMD\\amd_4361406_1.jpg\n",
      "Deleted C:/Users/x4287225/Desktop/confounder-free-cnn/OCTDL/OCTDL images/AMD\\amd_4361406_2.jpg\n",
      "Deleted C:/Users/x4287225/Desktop/confounder-free-cnn/OCTDL/OCTDL images/AMD\\amd_4395173_1.jpg\n",
      "Deleted C:/Users/x4287225/Desktop/confounder-free-cnn/OCTDL/OCTDL images/AMD\\amd_4395173_2.jpg\n",
      "Deleted C:/Users/x4287225/Desktop/confounder-free-cnn/OCTDL/OCTDL images/AMD\\amd_4420649_1.jpg\n",
      "Deleted C:/Users/x4287225/Desktop/confounder-free-cnn/OCTDL/OCTDL images/AMD\\amd_4420649_2.jpg\n",
      "Deleted C:/Users/x4287225/Desktop/confounder-free-cnn/OCTDL/OCTDL images/AMD\\amd_4428303_1.jpg\n",
      "Deleted C:/Users/x4287225/Desktop/confounder-free-cnn/OCTDL/OCTDL images/AMD\\amd_4428303_2.jpg\n",
      "Deleted C:/Users/x4287225/Desktop/confounder-free-cnn/OCTDL/OCTDL images/AMD\\amd_4431545_1.jpg\n",
      "Deleted C:/Users/x4287225/Desktop/confounder-free-cnn/OCTDL/OCTDL images/AMD\\amd_4431545_2.jpg\n",
      "Deleted C:/Users/x4287225/Desktop/confounder-free-cnn/OCTDL/OCTDL images/AMD\\amd_4442117_1.jpg\n",
      "Deleted C:/Users/x4287225/Desktop/confounder-free-cnn/OCTDL/OCTDL images/AMD\\amd_4442117_2.jpg\n",
      "Deleted C:/Users/x4287225/Desktop/confounder-free-cnn/OCTDL/OCTDL images/AMD\\amd_4442117_3.jpg\n",
      "Deleted C:/Users/x4287225/Desktop/confounder-free-cnn/OCTDL/OCTDL images/AMD\\amd_4443541_1.jpg\n",
      "Deleted C:/Users/x4287225/Desktop/confounder-free-cnn/OCTDL/OCTDL images/AMD\\amd_4443541_2.jpg\n",
      "Deleted C:/Users/x4287225/Desktop/confounder-free-cnn/OCTDL/OCTDL images/AMD\\amd_4443541_3.jpg\n",
      "Deleted C:/Users/x4287225/Desktop/confounder-free-cnn/OCTDL/OCTDL images/AMD\\amd_4509078_1.jpg\n",
      "Deleted C:/Users/x4287225/Desktop/confounder-free-cnn/OCTDL/OCTDL images/AMD\\amd_4510340_1.jpg\n",
      "Deleted C:/Users/x4287225/Desktop/confounder-free-cnn/OCTDL/OCTDL images/AMD\\amd_4536271_1.jpg\n",
      "Deleted C:/Users/x4287225/Desktop/confounder-free-cnn/OCTDL/OCTDL images/AMD\\amd_4536271_2.jpg\n",
      "Deleted C:/Users/x4287225/Desktop/confounder-free-cnn/OCTDL/OCTDL images/AMD\\amd_4536271_3.jpg\n",
      "Deleted C:/Users/x4287225/Desktop/confounder-free-cnn/OCTDL/OCTDL images/AMD\\amd_4536271_4.jpg\n",
      "Deleted C:/Users/x4287225/Desktop/confounder-free-cnn/OCTDL/OCTDL images/AMD\\amd_4574657_1.jpg\n",
      "Deleted C:/Users/x4287225/Desktop/confounder-free-cnn/OCTDL/OCTDL images/AMD\\amd_4574657_2.jpg\n",
      "Deleted C:/Users/x4287225/Desktop/confounder-free-cnn/OCTDL/OCTDL images/AMD\\amd_4574657_3.jpg\n",
      "Deleted C:/Users/x4287225/Desktop/confounder-free-cnn/OCTDL/OCTDL images/AMD\\amd_4574657_4.jpg\n",
      "Deleted C:/Users/x4287225/Desktop/confounder-free-cnn/OCTDL/OCTDL images/AMD\\amd_4574657_5.jpg\n",
      "Deleted C:/Users/x4287225/Desktop/confounder-free-cnn/OCTDL/OCTDL images/AMD\\amd_4602844_1.jpg\n",
      "Deleted C:/Users/x4287225/Desktop/confounder-free-cnn/OCTDL/OCTDL images/AMD\\amd_4602844_2.jpg\n",
      "Deleted C:/Users/x4287225/Desktop/confounder-free-cnn/OCTDL/OCTDL images/AMD\\amd_4602844_3.jpg\n",
      "Deleted C:/Users/x4287225/Desktop/confounder-free-cnn/OCTDL/OCTDL images/AMD\\amd_4602844_4.jpg\n",
      "Deleted C:/Users/x4287225/Desktop/confounder-free-cnn/OCTDL/OCTDL images/AMD\\amd_4620289_1.jpg\n",
      "Deleted C:/Users/x4287225/Desktop/confounder-free-cnn/OCTDL/OCTDL images/AMD\\amd_4620289_2.jpg\n",
      "Deleted C:/Users/x4287225/Desktop/confounder-free-cnn/OCTDL/OCTDL images/AMD\\amd_4627982_1.jpg\n",
      "Deleted C:/Users/x4287225/Desktop/confounder-free-cnn/OCTDL/OCTDL images/AMD\\amd_4627982_2.jpg\n",
      "Deleted C:/Users/x4287225/Desktop/confounder-free-cnn/OCTDL/OCTDL images/AMD\\amd_4627982_3.jpg\n",
      "Deleted C:/Users/x4287225/Desktop/confounder-free-cnn/OCTDL/OCTDL images/AMD\\amd_4627982_4.jpg\n",
      "Deleted C:/Users/x4287225/Desktop/confounder-free-cnn/OCTDL/OCTDL images/AMD\\amd_4627982_5.jpg\n",
      "Deleted C:/Users/x4287225/Desktop/confounder-free-cnn/OCTDL/OCTDL images/AMD\\amd_4718237_1.jpg\n",
      "Deleted C:/Users/x4287225/Desktop/confounder-free-cnn/OCTDL/OCTDL images/AMD\\amd_4718237_2.jpg\n",
      "Deleted C:/Users/x4287225/Desktop/confounder-free-cnn/OCTDL/OCTDL images/AMD\\amd_4718237_3.jpg\n",
      "Deleted C:/Users/x4287225/Desktop/confounder-free-cnn/OCTDL/OCTDL images/AMD\\amd_4722059_1.jpg\n",
      "Deleted C:/Users/x4287225/Desktop/confounder-free-cnn/OCTDL/OCTDL images/AMD\\amd_4722059_2.jpg\n",
      "Deleted C:/Users/x4287225/Desktop/confounder-free-cnn/OCTDL/OCTDL images/AMD\\amd_4722059_3.jpg\n",
      "Deleted C:/Users/x4287225/Desktop/confounder-free-cnn/OCTDL/OCTDL images/AMD\\amd_4730968_1.jpg\n",
      "Deleted C:/Users/x4287225/Desktop/confounder-free-cnn/OCTDL/OCTDL images/AMD\\amd_4730968_2.jpg\n",
      "Deleted C:/Users/x4287225/Desktop/confounder-free-cnn/OCTDL/OCTDL images/AMD\\amd_4730968_3.jpg\n",
      "Deleted C:/Users/x4287225/Desktop/confounder-free-cnn/OCTDL/OCTDL images/AMD\\amd_4730968_4.jpg\n",
      "Deleted C:/Users/x4287225/Desktop/confounder-free-cnn/OCTDL/OCTDL images/AMD\\amd_4812691_1.jpg\n",
      "Deleted C:/Users/x4287225/Desktop/confounder-free-cnn/OCTDL/OCTDL images/AMD\\amd_4812691_2.jpg\n",
      "Deleted C:/Users/x4287225/Desktop/confounder-free-cnn/OCTDL/OCTDL images/AMD\\amd_4812691_3.jpg\n",
      "Deleted C:/Users/x4287225/Desktop/confounder-free-cnn/OCTDL/OCTDL images/AMD\\amd_4812942_1.jpg\n",
      "Deleted C:/Users/x4287225/Desktop/confounder-free-cnn/OCTDL/OCTDL images/AMD\\amd_4812942_2.jpg\n",
      "Deleted C:/Users/x4287225/Desktop/confounder-free-cnn/OCTDL/OCTDL images/AMD\\amd_4812942_3.jpg\n",
      "Deleted C:/Users/x4287225/Desktop/confounder-free-cnn/OCTDL/OCTDL images/AMD\\amd_4812942_4.jpg\n",
      "Deleted C:/Users/x4287225/Desktop/confounder-free-cnn/OCTDL/OCTDL images/AMD\\amd_4857278_1.jpg\n",
      "Deleted C:/Users/x4287225/Desktop/confounder-free-cnn/OCTDL/OCTDL images/AMD\\amd_4857278_2.jpg\n",
      "Deleted C:/Users/x4287225/Desktop/confounder-free-cnn/OCTDL/OCTDL images/AMD\\amd_4857278_3.jpg\n",
      "Deleted C:/Users/x4287225/Desktop/confounder-free-cnn/OCTDL/OCTDL images/AMD\\amd_4857278_4.jpg\n",
      "Deleted C:/Users/x4287225/Desktop/confounder-free-cnn/OCTDL/OCTDL images/AMD\\amd_4857278_5.jpg\n",
      "Deleted C:/Users/x4287225/Desktop/confounder-free-cnn/OCTDL/OCTDL images/AMD\\amd_4886366_1.jpg\n",
      "Deleted C:/Users/x4287225/Desktop/confounder-free-cnn/OCTDL/OCTDL images/AMD\\amd_4886366_2.jpg\n",
      "Deleted C:/Users/x4287225/Desktop/confounder-free-cnn/OCTDL/OCTDL images/AMD\\amd_4886366_3.jpg\n",
      "Deleted C:/Users/x4287225/Desktop/confounder-free-cnn/OCTDL/OCTDL images/AMD\\amd_4886366_4.jpg\n",
      "Deleted C:/Users/x4287225/Desktop/confounder-free-cnn/OCTDL/OCTDL images/AMD\\amd_4986761_1.jpg\n",
      "Deleted C:/Users/x4287225/Desktop/confounder-free-cnn/OCTDL/OCTDL images/AMD\\amd_5022300_1.jpg\n",
      "Deleted C:/Users/x4287225/Desktop/confounder-free-cnn/OCTDL/OCTDL images/AMD\\amd_5022300_2.jpg\n",
      "Deleted C:/Users/x4287225/Desktop/confounder-free-cnn/OCTDL/OCTDL images/AMD\\amd_5064254_1.jpg\n",
      "Deleted C:/Users/x4287225/Desktop/confounder-free-cnn/OCTDL/OCTDL images/AMD\\amd_5064254_2.jpg\n",
      "Deleted C:/Users/x4287225/Desktop/confounder-free-cnn/OCTDL/OCTDL images/AMD\\amd_5064254_3.jpg\n",
      "Deleted C:/Users/x4287225/Desktop/confounder-free-cnn/OCTDL/OCTDL images/AMD\\amd_5064254_4.jpg\n",
      "Deleted C:/Users/x4287225/Desktop/confounder-free-cnn/OCTDL/OCTDL images/AMD\\amd_5064254_5.jpg\n",
      "Deleted C:/Users/x4287225/Desktop/confounder-free-cnn/OCTDL/OCTDL images/AMD\\amd_5078997_1.jpg\n",
      "Deleted C:/Users/x4287225/Desktop/confounder-free-cnn/OCTDL/OCTDL images/AMD\\amd_5078997_2.jpg\n",
      "Deleted C:/Users/x4287225/Desktop/confounder-free-cnn/OCTDL/OCTDL images/AMD\\amd_5078997_3.jpg\n",
      "Deleted C:/Users/x4287225/Desktop/confounder-free-cnn/OCTDL/OCTDL images/AMD\\amd_5101394_1.jpg\n",
      "Deleted C:/Users/x4287225/Desktop/confounder-free-cnn/OCTDL/OCTDL images/AMD\\amd_5101394_2.jpg\n",
      "Deleted C:/Users/x4287225/Desktop/confounder-free-cnn/OCTDL/OCTDL images/AMD\\amd_5126334_1.jpg\n",
      "Deleted C:/Users/x4287225/Desktop/confounder-free-cnn/OCTDL/OCTDL images/AMD\\amd_5126334_2.jpg\n",
      "Deleted C:/Users/x4287225/Desktop/confounder-free-cnn/OCTDL/OCTDL images/AMD\\amd_5142371_1.jpg\n",
      "Deleted C:/Users/x4287225/Desktop/confounder-free-cnn/OCTDL/OCTDL images/AMD\\amd_5142371_2.jpg\n",
      "Deleted C:/Users/x4287225/Desktop/confounder-free-cnn/OCTDL/OCTDL images/AMD\\amd_5183288_1.jpg\n",
      "Deleted C:/Users/x4287225/Desktop/confounder-free-cnn/OCTDL/OCTDL images/AMD\\amd_5183288_2.jpg\n",
      "Deleted C:/Users/x4287225/Desktop/confounder-free-cnn/OCTDL/OCTDL images/AMD\\amd_5183288_3.jpg\n",
      "Deleted C:/Users/x4287225/Desktop/confounder-free-cnn/OCTDL/OCTDL images/AMD\\amd_5183288_4.jpg\n",
      "Deleted C:/Users/x4287225/Desktop/confounder-free-cnn/OCTDL/OCTDL images/AMD\\amd_5207127_1.jpg\n",
      "Deleted C:/Users/x4287225/Desktop/confounder-free-cnn/OCTDL/OCTDL images/AMD\\amd_5207127_2.jpg\n",
      "Deleted C:/Users/x4287225/Desktop/confounder-free-cnn/OCTDL/OCTDL images/AMD\\amd_5207127_3.jpg\n",
      "Deleted C:/Users/x4287225/Desktop/confounder-free-cnn/OCTDL/OCTDL images/AMD\\amd_5207127_4.jpg\n",
      "Deleted C:/Users/x4287225/Desktop/confounder-free-cnn/OCTDL/OCTDL images/AMD\\amd_5265526_1.jpg\n",
      "Deleted C:/Users/x4287225/Desktop/confounder-free-cnn/OCTDL/OCTDL images/AMD\\amd_5265526_2.jpg\n",
      "Deleted C:/Users/x4287225/Desktop/confounder-free-cnn/OCTDL/OCTDL images/AMD\\amd_5265526_3.jpg\n",
      "Deleted C:/Users/x4287225/Desktop/confounder-free-cnn/OCTDL/OCTDL images/AMD\\amd_5265526_4.jpg\n",
      "Deleted C:/Users/x4287225/Desktop/confounder-free-cnn/OCTDL/OCTDL images/AMD\\amd_5265526_5.jpg\n",
      "Deleted C:/Users/x4287225/Desktop/confounder-free-cnn/OCTDL/OCTDL images/AMD\\amd_5265526_6.jpg\n",
      "Deleted C:/Users/x4287225/Desktop/confounder-free-cnn/OCTDL/OCTDL images/AMD\\amd_5344946_1.jpg\n",
      "Deleted C:/Users/x4287225/Desktop/confounder-free-cnn/OCTDL/OCTDL images/AMD\\amd_5344946_2.jpg\n",
      "Deleted C:/Users/x4287225/Desktop/confounder-free-cnn/OCTDL/OCTDL images/AMD\\amd_5344946_3.jpg\n",
      "Deleted C:/Users/x4287225/Desktop/confounder-free-cnn/OCTDL/OCTDL images/AMD\\amd_5344946_4.jpg\n",
      "Deleted C:/Users/x4287225/Desktop/confounder-free-cnn/OCTDL/OCTDL images/AMD\\amd_5344946_5.jpg\n",
      "Deleted C:/Users/x4287225/Desktop/confounder-free-cnn/OCTDL/OCTDL images/AMD\\amd_5344946_6.jpg\n",
      "Deleted C:/Users/x4287225/Desktop/confounder-free-cnn/OCTDL/OCTDL images/AMD\\amd_5410141_1.jpg\n",
      "Deleted C:/Users/x4287225/Desktop/confounder-free-cnn/OCTDL/OCTDL images/AMD\\amd_5410141_2.jpg\n",
      "Deleted C:/Users/x4287225/Desktop/confounder-free-cnn/OCTDL/OCTDL images/AMD\\amd_5410141_3.jpg\n",
      "Deleted C:/Users/x4287225/Desktop/confounder-free-cnn/OCTDL/OCTDL images/AMD\\amd_5410141_4.jpg\n",
      "Deleted C:/Users/x4287225/Desktop/confounder-free-cnn/OCTDL/OCTDL images/AMD\\amd_5413226_1.jpg\n",
      "Deleted C:/Users/x4287225/Desktop/confounder-free-cnn/OCTDL/OCTDL images/AMD\\amd_5413226_2.jpg\n",
      "Deleted C:/Users/x4287225/Desktop/confounder-free-cnn/OCTDL/OCTDL images/AMD\\amd_5413226_3.jpg\n",
      "Deleted C:/Users/x4287225/Desktop/confounder-free-cnn/OCTDL/OCTDL images/AMD\\amd_5413226_4.jpg\n",
      "Deleted C:/Users/x4287225/Desktop/confounder-free-cnn/OCTDL/OCTDL images/AMD\\amd_5413226_5.jpg\n",
      "Deleted C:/Users/x4287225/Desktop/confounder-free-cnn/OCTDL/OCTDL images/AMD\\amd_5413226_6.jpg\n",
      "Deleted C:/Users/x4287225/Desktop/confounder-free-cnn/OCTDL/OCTDL images/AMD\\amd_5418162_1.jpg\n",
      "Deleted C:/Users/x4287225/Desktop/confounder-free-cnn/OCTDL/OCTDL images/AMD\\amd_5454570_1.jpg\n",
      "Deleted C:/Users/x4287225/Desktop/confounder-free-cnn/OCTDL/OCTDL images/AMD\\amd_5454570_2.jpg\n",
      "Deleted C:/Users/x4287225/Desktop/confounder-free-cnn/OCTDL/OCTDL images/AMD\\amd_5454570_3.jpg\n",
      "Deleted C:/Users/x4287225/Desktop/confounder-free-cnn/OCTDL/OCTDL images/AMD\\amd_5454570_4.jpg\n",
      "Deleted C:/Users/x4287225/Desktop/confounder-free-cnn/OCTDL/OCTDL images/AMD\\amd_5454570_5.jpg\n",
      "Deleted C:/Users/x4287225/Desktop/confounder-free-cnn/OCTDL/OCTDL images/AMD\\amd_5518151_1.jpg\n",
      "Deleted C:/Users/x4287225/Desktop/confounder-free-cnn/OCTDL/OCTDL images/AMD\\amd_5518151_2.jpg\n",
      "Deleted C:/Users/x4287225/Desktop/confounder-free-cnn/OCTDL/OCTDL images/AMD\\amd_5519932_1.jpg\n",
      "Deleted C:/Users/x4287225/Desktop/confounder-free-cnn/OCTDL/OCTDL images/AMD\\amd_5519932_2.jpg\n",
      "Deleted C:/Users/x4287225/Desktop/confounder-free-cnn/OCTDL/OCTDL images/AMD\\amd_5618499_1.jpg\n",
      "Deleted C:/Users/x4287225/Desktop/confounder-free-cnn/OCTDL/OCTDL images/AMD\\amd_5618499_2.jpg\n",
      "Deleted C:/Users/x4287225/Desktop/confounder-free-cnn/OCTDL/OCTDL images/AMD\\amd_5618499_3.jpg\n",
      "Deleted C:/Users/x4287225/Desktop/confounder-free-cnn/OCTDL/OCTDL images/AMD\\amd_5618499_4.jpg\n",
      "Deleted C:/Users/x4287225/Desktop/confounder-free-cnn/OCTDL/OCTDL images/AMD\\amd_5633820_1.jpg\n",
      "Deleted C:/Users/x4287225/Desktop/confounder-free-cnn/OCTDL/OCTDL images/AMD\\amd_5644771_1.jpg\n",
      "Deleted C:/Users/x4287225/Desktop/confounder-free-cnn/OCTDL/OCTDL images/AMD\\amd_5673346_1.jpg\n",
      "Deleted C:/Users/x4287225/Desktop/confounder-free-cnn/OCTDL/OCTDL images/AMD\\amd_5673346_2.jpg\n",
      "Deleted C:/Users/x4287225/Desktop/confounder-free-cnn/OCTDL/OCTDL images/AMD\\amd_5689194_1.jpg\n",
      "Deleted C:/Users/x4287225/Desktop/confounder-free-cnn/OCTDL/OCTDL images/AMD\\amd_5689194_2.jpg\n",
      "Deleted C:/Users/x4287225/Desktop/confounder-free-cnn/OCTDL/OCTDL images/AMD\\amd_5689194_3.jpg\n",
      "Deleted C:/Users/x4287225/Desktop/confounder-free-cnn/OCTDL/OCTDL images/AMD\\amd_5689194_4.jpg\n",
      "Deleted C:/Users/x4287225/Desktop/confounder-free-cnn/OCTDL/OCTDL images/AMD\\amd_5748269_1.jpg\n",
      "Deleted C:/Users/x4287225/Desktop/confounder-free-cnn/OCTDL/OCTDL images/AMD\\amd_5748269_2.jpg\n",
      "Deleted C:/Users/x4287225/Desktop/confounder-free-cnn/OCTDL/OCTDL images/AMD\\amd_5748269_3.jpg\n",
      "Deleted C:/Users/x4287225/Desktop/confounder-free-cnn/OCTDL/OCTDL images/AMD\\amd_5748269_4.jpg\n",
      "Deleted C:/Users/x4287225/Desktop/confounder-free-cnn/OCTDL/OCTDL images/AMD\\amd_5748269_5.jpg\n",
      "Deleted C:/Users/x4287225/Desktop/confounder-free-cnn/OCTDL/OCTDL images/AMD\\amd_5748269_6.jpg\n",
      "Deleted C:/Users/x4287225/Desktop/confounder-free-cnn/OCTDL/OCTDL images/AMD\\amd_5748269_7.jpg\n",
      "Deleted C:/Users/x4287225/Desktop/confounder-free-cnn/OCTDL/OCTDL images/AMD\\amd_5753910_1.jpg\n",
      "Deleted C:/Users/x4287225/Desktop/confounder-free-cnn/OCTDL/OCTDL images/AMD\\amd_5753910_2.jpg\n",
      "Deleted C:/Users/x4287225/Desktop/confounder-free-cnn/OCTDL/OCTDL images/AMD\\amd_5798907_1.jpg\n",
      "Deleted C:/Users/x4287225/Desktop/confounder-free-cnn/OCTDL/OCTDL images/AMD\\amd_5798907_2.jpg\n",
      "Deleted C:/Users/x4287225/Desktop/confounder-free-cnn/OCTDL/OCTDL images/AMD\\amd_5836001_1.jpg\n",
      "Deleted C:/Users/x4287225/Desktop/confounder-free-cnn/OCTDL/OCTDL images/AMD\\amd_5836001_2.jpg\n",
      "Deleted C:/Users/x4287225/Desktop/confounder-free-cnn/OCTDL/OCTDL images/AMD\\amd_5836001_3.jpg\n",
      "Deleted C:/Users/x4287225/Desktop/confounder-free-cnn/OCTDL/OCTDL images/AMD\\amd_5836001_4.jpg\n",
      "Deleted C:/Users/x4287225/Desktop/confounder-free-cnn/OCTDL/OCTDL images/AMD\\amd_5953930_1.jpg\n",
      "Deleted C:/Users/x4287225/Desktop/confounder-free-cnn/OCTDL/OCTDL images/AMD\\amd_5953930_2.jpg\n",
      "Deleted C:/Users/x4287225/Desktop/confounder-free-cnn/OCTDL/OCTDL images/AMD\\amd_5977122_1.jpg\n",
      "Deleted C:/Users/x4287225/Desktop/confounder-free-cnn/OCTDL/OCTDL images/AMD\\amd_5977122_2.jpg\n",
      "Deleted C:/Users/x4287225/Desktop/confounder-free-cnn/OCTDL/OCTDL images/AMD\\amd_5977122_3.jpg\n",
      "Deleted C:/Users/x4287225/Desktop/confounder-free-cnn/OCTDL/OCTDL images/AMD\\amd_5977122_4.jpg\n",
      "Deleted C:/Users/x4287225/Desktop/confounder-free-cnn/OCTDL/OCTDL images/AMD\\amd_5987793_1.jpg\n",
      "Deleted C:/Users/x4287225/Desktop/confounder-free-cnn/OCTDL/OCTDL images/AMD\\amd_5987793_2.jpg\n",
      "Deleted C:/Users/x4287225/Desktop/confounder-free-cnn/OCTDL/OCTDL images/AMD\\amd_6002827_1.jpg\n",
      "Deleted C:/Users/x4287225/Desktop/confounder-free-cnn/OCTDL/OCTDL images/AMD\\amd_6002827_2.jpg\n",
      "Deleted C:/Users/x4287225/Desktop/confounder-free-cnn/OCTDL/OCTDL images/AMD\\amd_6002827_3.jpg\n",
      "Deleted C:/Users/x4287225/Desktop/confounder-free-cnn/OCTDL/OCTDL images/AMD\\amd_6002827_4.jpg\n",
      "Deleted C:/Users/x4287225/Desktop/confounder-free-cnn/OCTDL/OCTDL images/AMD\\amd_6094846_1.jpg\n",
      "Deleted C:/Users/x4287225/Desktop/confounder-free-cnn/OCTDL/OCTDL images/AMD\\amd_6094846_2.jpg\n",
      "Deleted C:/Users/x4287225/Desktop/confounder-free-cnn/OCTDL/OCTDL images/AMD\\amd_6094846_3.jpg\n",
      "Deleted C:/Users/x4287225/Desktop/confounder-free-cnn/OCTDL/OCTDL images/AMD\\amd_6117772_1.jpg\n",
      "Deleted C:/Users/x4287225/Desktop/confounder-free-cnn/OCTDL/OCTDL images/AMD\\amd_6185375_1.jpg\n",
      "Deleted C:/Users/x4287225/Desktop/confounder-free-cnn/OCTDL/OCTDL images/AMD\\amd_6217472_1.jpg\n",
      "Deleted C:/Users/x4287225/Desktop/confounder-free-cnn/OCTDL/OCTDL images/AMD\\amd_6217472_2.jpg\n",
      "Deleted C:/Users/x4287225/Desktop/confounder-free-cnn/OCTDL/OCTDL images/AMD\\amd_6217472_3.jpg\n",
      "Deleted C:/Users/x4287225/Desktop/confounder-free-cnn/OCTDL/OCTDL images/AMD\\amd_6233823_1.jpg\n",
      "Deleted C:/Users/x4287225/Desktop/confounder-free-cnn/OCTDL/OCTDL images/AMD\\amd_6233823_2.jpg\n",
      "Deleted C:/Users/x4287225/Desktop/confounder-free-cnn/OCTDL/OCTDL images/AMD\\amd_6238176_1.jpg\n",
      "Deleted C:/Users/x4287225/Desktop/confounder-free-cnn/OCTDL/OCTDL images/AMD\\amd_6238176_2.jpg\n",
      "Deleted C:/Users/x4287225/Desktop/confounder-free-cnn/OCTDL/OCTDL images/AMD\\amd_6238176_3.jpg\n",
      "Deleted C:/Users/x4287225/Desktop/confounder-free-cnn/OCTDL/OCTDL images/AMD\\amd_6238176_4.jpg\n",
      "Deleted C:/Users/x4287225/Desktop/confounder-free-cnn/OCTDL/OCTDL images/AMD\\amd_6290380_1.jpg\n",
      "Deleted C:/Users/x4287225/Desktop/confounder-free-cnn/OCTDL/OCTDL images/AMD\\amd_6290380_2.jpg\n",
      "Deleted C:/Users/x4287225/Desktop/confounder-free-cnn/OCTDL/OCTDL images/AMD\\amd_6290380_3.jpg\n",
      "Deleted C:/Users/x4287225/Desktop/confounder-free-cnn/OCTDL/OCTDL images/AMD\\amd_6290380_4.jpg\n",
      "Deleted C:/Users/x4287225/Desktop/confounder-free-cnn/OCTDL/OCTDL images/AMD\\amd_6315463_1.jpg\n",
      "Deleted C:/Users/x4287225/Desktop/confounder-free-cnn/OCTDL/OCTDL images/AMD\\amd_6315463_2.jpg\n",
      "Deleted C:/Users/x4287225/Desktop/confounder-free-cnn/OCTDL/OCTDL images/AMD\\amd_6315463_3.jpg\n",
      "Deleted C:/Users/x4287225/Desktop/confounder-free-cnn/OCTDL/OCTDL images/AMD\\amd_6315463_4.jpg\n",
      "Deleted C:/Users/x4287225/Desktop/confounder-free-cnn/OCTDL/OCTDL images/AMD\\amd_6329888_1.jpg\n",
      "Deleted C:/Users/x4287225/Desktop/confounder-free-cnn/OCTDL/OCTDL images/AMD\\amd_6329888_2.jpg\n",
      "Deleted C:/Users/x4287225/Desktop/confounder-free-cnn/OCTDL/OCTDL images/AMD\\amd_6329888_3.jpg\n",
      "Deleted C:/Users/x4287225/Desktop/confounder-free-cnn/OCTDL/OCTDL images/AMD\\amd_6329888_4.jpg\n",
      "Deleted C:/Users/x4287225/Desktop/confounder-free-cnn/OCTDL/OCTDL images/AMD\\amd_6329888_5.jpg\n",
      "Deleted C:/Users/x4287225/Desktop/confounder-free-cnn/OCTDL/OCTDL images/AMD\\amd_6329888_6.jpg\n",
      "Deleted C:/Users/x4287225/Desktop/confounder-free-cnn/OCTDL/OCTDL images/AMD\\amd_6329888_7.jpg\n",
      "Deleted C:/Users/x4287225/Desktop/confounder-free-cnn/OCTDL/OCTDL images/AMD\\amd_6329888_8.jpg\n",
      "Deleted C:/Users/x4287225/Desktop/confounder-free-cnn/OCTDL/OCTDL images/AMD\\amd_6340594_1.jpg\n",
      "Deleted C:/Users/x4287225/Desktop/confounder-free-cnn/OCTDL/OCTDL images/AMD\\amd_6340594_2.jpg\n",
      "Deleted C:/Users/x4287225/Desktop/confounder-free-cnn/OCTDL/OCTDL images/AMD\\amd_6340594_3.jpg\n",
      "Deleted C:/Users/x4287225/Desktop/confounder-free-cnn/OCTDL/OCTDL images/AMD\\amd_6401167_1.jpg\n",
      "Deleted C:/Users/x4287225/Desktop/confounder-free-cnn/OCTDL/OCTDL images/AMD\\amd_6401167_2.jpg\n",
      "Deleted C:/Users/x4287225/Desktop/confounder-free-cnn/OCTDL/OCTDL images/AMD\\amd_6404569_1.jpg\n",
      "Deleted C:/Users/x4287225/Desktop/confounder-free-cnn/OCTDL/OCTDL images/AMD\\amd_6404569_2.jpg\n",
      "Deleted C:/Users/x4287225/Desktop/confounder-free-cnn/OCTDL/OCTDL images/AMD\\amd_6404569_3.jpg\n",
      "Deleted C:/Users/x4287225/Desktop/confounder-free-cnn/OCTDL/OCTDL images/AMD\\amd_6497902_1.jpg\n",
      "Deleted C:/Users/x4287225/Desktop/confounder-free-cnn/OCTDL/OCTDL images/AMD\\amd_6497902_2.jpg\n",
      "Deleted C:/Users/x4287225/Desktop/confounder-free-cnn/OCTDL/OCTDL images/AMD\\amd_6539674_1.jpg\n",
      "Deleted C:/Users/x4287225/Desktop/confounder-free-cnn/OCTDL/OCTDL images/AMD\\amd_6539674_2.jpg\n",
      "Deleted C:/Users/x4287225/Desktop/confounder-free-cnn/OCTDL/OCTDL images/AMD\\amd_6539674_3.jpg\n",
      "Deleted C:/Users/x4287225/Desktop/confounder-free-cnn/OCTDL/OCTDL images/AMD\\amd_6553810_1.jpg\n",
      "Deleted C:/Users/x4287225/Desktop/confounder-free-cnn/OCTDL/OCTDL images/AMD\\amd_6553810_2.jpg\n",
      "Deleted C:/Users/x4287225/Desktop/confounder-free-cnn/OCTDL/OCTDL images/AMD\\amd_6554588_1.jpg\n",
      "Deleted C:/Users/x4287225/Desktop/confounder-free-cnn/OCTDL/OCTDL images/AMD\\amd_6554588_2.jpg\n",
      "Deleted C:/Users/x4287225/Desktop/confounder-free-cnn/OCTDL/OCTDL images/AMD\\amd_6575378_1.jpg\n",
      "Deleted C:/Users/x4287225/Desktop/confounder-free-cnn/OCTDL/OCTDL images/AMD\\amd_6575378_2.jpg\n",
      "Deleted C:/Users/x4287225/Desktop/confounder-free-cnn/OCTDL/OCTDL images/AMD\\amd_6611243_1.jpg\n",
      "Deleted C:/Users/x4287225/Desktop/confounder-free-cnn/OCTDL/OCTDL images/AMD\\amd_6611243_2.jpg\n",
      "Deleted C:/Users/x4287225/Desktop/confounder-free-cnn/OCTDL/OCTDL images/AMD\\amd_6611243_3.jpg\n",
      "Deleted C:/Users/x4287225/Desktop/confounder-free-cnn/OCTDL/OCTDL images/AMD\\amd_6611243_4.jpg\n",
      "Deleted C:/Users/x4287225/Desktop/confounder-free-cnn/OCTDL/OCTDL images/AMD\\amd_6633389_1.jpg\n",
      "Deleted C:/Users/x4287225/Desktop/confounder-free-cnn/OCTDL/OCTDL images/AMD\\amd_6633389_2.jpg\n",
      "Deleted C:/Users/x4287225/Desktop/confounder-free-cnn/OCTDL/OCTDL images/AMD\\amd_6698539_1.jpg\n",
      "Deleted C:/Users/x4287225/Desktop/confounder-free-cnn/OCTDL/OCTDL images/AMD\\amd_6698539_2.jpg\n",
      "Deleted C:/Users/x4287225/Desktop/confounder-free-cnn/OCTDL/OCTDL images/AMD\\amd_6698539_3.jpg\n",
      "Deleted C:/Users/x4287225/Desktop/confounder-free-cnn/OCTDL/OCTDL images/AMD\\amd_6698539_4.jpg\n",
      "Deleted C:/Users/x4287225/Desktop/confounder-free-cnn/OCTDL/OCTDL images/AMD\\amd_6723643_1.jpg\n",
      "Deleted C:/Users/x4287225/Desktop/confounder-free-cnn/OCTDL/OCTDL images/AMD\\amd_6723643_2.jpg\n",
      "Deleted C:/Users/x4287225/Desktop/confounder-free-cnn/OCTDL/OCTDL images/AMD\\amd_6723643_3.jpg\n",
      "Deleted C:/Users/x4287225/Desktop/confounder-free-cnn/OCTDL/OCTDL images/AMD\\amd_6770367_1.jpg\n",
      "Deleted C:/Users/x4287225/Desktop/confounder-free-cnn/OCTDL/OCTDL images/AMD\\amd_6770367_2.jpg\n",
      "Deleted C:/Users/x4287225/Desktop/confounder-free-cnn/OCTDL/OCTDL images/AMD\\amd_6772642_1.jpg\n",
      "Deleted C:/Users/x4287225/Desktop/confounder-free-cnn/OCTDL/OCTDL images/AMD\\amd_6772642_2.jpg\n",
      "Deleted C:/Users/x4287225/Desktop/confounder-free-cnn/OCTDL/OCTDL images/AMD\\amd_6772642_3.jpg\n",
      "Deleted C:/Users/x4287225/Desktop/confounder-free-cnn/OCTDL/OCTDL images/AMD\\amd_6772642_4.jpg\n",
      "Deleted C:/Users/x4287225/Desktop/confounder-free-cnn/OCTDL/OCTDL images/AMD\\amd_6772642_5.jpg\n",
      "Deleted C:/Users/x4287225/Desktop/confounder-free-cnn/OCTDL/OCTDL images/AMD\\amd_6782917_1.jpg\n",
      "Deleted C:/Users/x4287225/Desktop/confounder-free-cnn/OCTDL/OCTDL images/AMD\\amd_6782917_2.jpg\n",
      "Deleted C:/Users/x4287225/Desktop/confounder-free-cnn/OCTDL/OCTDL images/AMD\\amd_6804450_1.jpg\n",
      "Deleted C:/Users/x4287225/Desktop/confounder-free-cnn/OCTDL/OCTDL images/AMD\\amd_6804450_2.jpg\n",
      "Deleted C:/Users/x4287225/Desktop/confounder-free-cnn/OCTDL/OCTDL images/AMD\\amd_6872768_1.jpg\n",
      "Deleted C:/Users/x4287225/Desktop/confounder-free-cnn/OCTDL/OCTDL images/AMD\\amd_6881696_1.jpg\n",
      "Deleted C:/Users/x4287225/Desktop/confounder-free-cnn/OCTDL/OCTDL images/AMD\\amd_6881696_2.jpg\n",
      "Deleted C:/Users/x4287225/Desktop/confounder-free-cnn/OCTDL/OCTDL images/AMD\\amd_6881696_3.jpg\n",
      "Deleted C:/Users/x4287225/Desktop/confounder-free-cnn/OCTDL/OCTDL images/AMD\\amd_6881696_4.jpg\n",
      "Deleted C:/Users/x4287225/Desktop/confounder-free-cnn/OCTDL/OCTDL images/AMD\\amd_6908824_1.jpg\n",
      "Deleted C:/Users/x4287225/Desktop/confounder-free-cnn/OCTDL/OCTDL images/AMD\\amd_6908824_2.jpg\n",
      "Deleted C:/Users/x4287225/Desktop/confounder-free-cnn/OCTDL/OCTDL images/AMD\\amd_6983977_1.jpg\n",
      "Deleted C:/Users/x4287225/Desktop/confounder-free-cnn/OCTDL/OCTDL images/AMD\\amd_6983977_2.jpg\n",
      "Deleted C:/Users/x4287225/Desktop/confounder-free-cnn/OCTDL/OCTDL images/AMD\\amd_6983977_3.jpg\n",
      "Deleted C:/Users/x4287225/Desktop/confounder-free-cnn/OCTDL/OCTDL images/AMD\\amd_7034748_1.jpg\n",
      "Deleted C:/Users/x4287225/Desktop/confounder-free-cnn/OCTDL/OCTDL images/AMD\\amd_7034748_2.jpg\n",
      "Deleted C:/Users/x4287225/Desktop/confounder-free-cnn/OCTDL/OCTDL images/AMD\\amd_7067907_1.jpg\n",
      "Deleted C:/Users/x4287225/Desktop/confounder-free-cnn/OCTDL/OCTDL images/AMD\\amd_7067907_2.jpg\n",
      "Deleted C:/Users/x4287225/Desktop/confounder-free-cnn/OCTDL/OCTDL images/AMD\\amd_7067907_3.jpg\n",
      "Deleted C:/Users/x4287225/Desktop/confounder-free-cnn/OCTDL/OCTDL images/AMD\\amd_7067907_4.jpg\n",
      "Deleted C:/Users/x4287225/Desktop/confounder-free-cnn/OCTDL/OCTDL images/AMD\\amd_7075915_1.jpg\n",
      "Deleted C:/Users/x4287225/Desktop/confounder-free-cnn/OCTDL/OCTDL images/AMD\\amd_7075915_2.jpg\n",
      "Deleted C:/Users/x4287225/Desktop/confounder-free-cnn/OCTDL/OCTDL images/AMD\\amd_7075915_3.jpg\n",
      "Deleted C:/Users/x4287225/Desktop/confounder-free-cnn/OCTDL/OCTDL images/AMD\\amd_7075915_4.jpg\n",
      "Deleted C:/Users/x4287225/Desktop/confounder-free-cnn/OCTDL/OCTDL images/AMD\\amd_7075915_5.jpg\n",
      "Deleted C:/Users/x4287225/Desktop/confounder-free-cnn/OCTDL/OCTDL images/AMD\\amd_7075915_6.jpg\n",
      "Deleted C:/Users/x4287225/Desktop/confounder-free-cnn/OCTDL/OCTDL images/AMD\\amd_7075915_7.jpg\n",
      "Deleted C:/Users/x4287225/Desktop/confounder-free-cnn/OCTDL/OCTDL images/AMD\\amd_7075915_8.jpg\n",
      "Deleted C:/Users/x4287225/Desktop/confounder-free-cnn/OCTDL/OCTDL images/AMD\\amd_7126374_1.jpg\n",
      "Deleted C:/Users/x4287225/Desktop/confounder-free-cnn/OCTDL/OCTDL images/AMD\\amd_7126374_2.jpg\n",
      "Deleted C:/Users/x4287225/Desktop/confounder-free-cnn/OCTDL/OCTDL images/AMD\\amd_7126374_3.jpg\n",
      "Deleted C:/Users/x4287225/Desktop/confounder-free-cnn/OCTDL/OCTDL images/AMD\\amd_7126374_4.jpg\n",
      "Deleted C:/Users/x4287225/Desktop/confounder-free-cnn/OCTDL/OCTDL images/AMD\\amd_7141761_1.jpg\n",
      "Deleted C:/Users/x4287225/Desktop/confounder-free-cnn/OCTDL/OCTDL images/AMD\\amd_7141761_2.jpg\n",
      "Deleted C:/Users/x4287225/Desktop/confounder-free-cnn/OCTDL/OCTDL images/AMD\\amd_7141761_3.jpg\n",
      "Deleted C:/Users/x4287225/Desktop/confounder-free-cnn/OCTDL/OCTDL images/AMD\\amd_7141761_4.jpg\n",
      "Deleted C:/Users/x4287225/Desktop/confounder-free-cnn/OCTDL/OCTDL images/AMD\\amd_7148091_1.jpg\n",
      "Deleted C:/Users/x4287225/Desktop/confounder-free-cnn/OCTDL/OCTDL images/AMD\\amd_7148091_2.jpg\n",
      "Deleted C:/Users/x4287225/Desktop/confounder-free-cnn/OCTDL/OCTDL images/AMD\\amd_7190132_1.jpg\n",
      "Deleted C:/Users/x4287225/Desktop/confounder-free-cnn/OCTDL/OCTDL images/AMD\\amd_7190132_2.jpg\n",
      "Deleted C:/Users/x4287225/Desktop/confounder-free-cnn/OCTDL/OCTDL images/AMD\\amd_7231237_1.jpg\n",
      "Deleted C:/Users/x4287225/Desktop/confounder-free-cnn/OCTDL/OCTDL images/AMD\\amd_7231237_2.jpg\n",
      "Deleted C:/Users/x4287225/Desktop/confounder-free-cnn/OCTDL/OCTDL images/AMD\\amd_7231237_3.jpg\n",
      "Deleted C:/Users/x4287225/Desktop/confounder-free-cnn/OCTDL/OCTDL images/AMD\\amd_7241954_1.jpg\n",
      "Deleted C:/Users/x4287225/Desktop/confounder-free-cnn/OCTDL/OCTDL images/AMD\\amd_7241954_2.jpg\n",
      "Deleted C:/Users/x4287225/Desktop/confounder-free-cnn/OCTDL/OCTDL images/AMD\\amd_7241954_3.jpg\n",
      "Deleted C:/Users/x4287225/Desktop/confounder-free-cnn/OCTDL/OCTDL images/AMD\\amd_7241954_4.jpg\n",
      "Deleted C:/Users/x4287225/Desktop/confounder-free-cnn/OCTDL/OCTDL images/AMD\\amd_7262676_1.jpg\n",
      "Deleted C:/Users/x4287225/Desktop/confounder-free-cnn/OCTDL/OCTDL images/AMD\\amd_7262676_2.jpg\n",
      "Deleted C:/Users/x4287225/Desktop/confounder-free-cnn/OCTDL/OCTDL images/AMD\\amd_7264833_1.jpg\n",
      "Deleted C:/Users/x4287225/Desktop/confounder-free-cnn/OCTDL/OCTDL images/AMD\\amd_7264833_2.jpg\n",
      "Deleted C:/Users/x4287225/Desktop/confounder-free-cnn/OCTDL/OCTDL images/AMD\\amd_7264833_3.jpg\n",
      "Deleted C:/Users/x4287225/Desktop/confounder-free-cnn/OCTDL/OCTDL images/AMD\\amd_7264833_4.jpg\n",
      "Deleted C:/Users/x4287225/Desktop/confounder-free-cnn/OCTDL/OCTDL images/AMD\\amd_7295090_1.jpg\n",
      "Deleted C:/Users/x4287225/Desktop/confounder-free-cnn/OCTDL/OCTDL images/AMD\\amd_7295090_2.jpg\n",
      "Deleted C:/Users/x4287225/Desktop/confounder-free-cnn/OCTDL/OCTDL images/AMD\\amd_7295090_3.jpg\n",
      "Deleted C:/Users/x4287225/Desktop/confounder-free-cnn/OCTDL/OCTDL images/AMD\\amd_7301117_1.jpg\n",
      "Deleted C:/Users/x4287225/Desktop/confounder-free-cnn/OCTDL/OCTDL images/AMD\\amd_7301117_2.jpg\n",
      "Deleted C:/Users/x4287225/Desktop/confounder-free-cnn/OCTDL/OCTDL images/AMD\\amd_7301117_3.jpg\n",
      "Deleted C:/Users/x4287225/Desktop/confounder-free-cnn/OCTDL/OCTDL images/AMD\\amd_7301117_4.jpg\n",
      "Deleted C:/Users/x4287225/Desktop/confounder-free-cnn/OCTDL/OCTDL images/AMD\\amd_7329666_1.jpg\n",
      "Deleted C:/Users/x4287225/Desktop/confounder-free-cnn/OCTDL/OCTDL images/AMD\\amd_7329666_2.jpg\n",
      "Deleted C:/Users/x4287225/Desktop/confounder-free-cnn/OCTDL/OCTDL images/AMD\\amd_7329666_3.jpg\n",
      "Deleted C:/Users/x4287225/Desktop/confounder-free-cnn/OCTDL/OCTDL images/AMD\\amd_7329666_4.jpg\n",
      "Deleted C:/Users/x4287225/Desktop/confounder-free-cnn/OCTDL/OCTDL images/AMD\\amd_7329666_5.jpg\n",
      "Deleted C:/Users/x4287225/Desktop/confounder-free-cnn/OCTDL/OCTDL images/AMD\\amd_7329666_6.jpg\n",
      "Deleted C:/Users/x4287225/Desktop/confounder-free-cnn/OCTDL/OCTDL images/AMD\\amd_7378277_1.jpg\n",
      "Deleted C:/Users/x4287225/Desktop/confounder-free-cnn/OCTDL/OCTDL images/AMD\\amd_7378277_2.jpg\n",
      "Deleted C:/Users/x4287225/Desktop/confounder-free-cnn/OCTDL/OCTDL images/AMD\\amd_7378277_3.jpg\n",
      "Deleted C:/Users/x4287225/Desktop/confounder-free-cnn/OCTDL/OCTDL images/AMD\\amd_7378277_4.jpg\n",
      "Deleted C:/Users/x4287225/Desktop/confounder-free-cnn/OCTDL/OCTDL images/AMD\\amd_7378277_5.jpg\n",
      "Deleted C:/Users/x4287225/Desktop/confounder-free-cnn/OCTDL/OCTDL images/AMD\\amd_7378277_6.jpg\n",
      "Deleted C:/Users/x4287225/Desktop/confounder-free-cnn/OCTDL/OCTDL images/AMD\\amd_7466461_1.jpg\n",
      "Deleted C:/Users/x4287225/Desktop/confounder-free-cnn/OCTDL/OCTDL images/AMD\\amd_7525532_1.jpg\n",
      "Deleted C:/Users/x4287225/Desktop/confounder-free-cnn/OCTDL/OCTDL images/AMD\\amd_7525532_2.jpg\n",
      "Deleted C:/Users/x4287225/Desktop/confounder-free-cnn/OCTDL/OCTDL images/AMD\\amd_7542349_1.jpg\n",
      "Deleted C:/Users/x4287225/Desktop/confounder-free-cnn/OCTDL/OCTDL images/AMD\\amd_7542349_2.jpg\n",
      "Deleted C:/Users/x4287225/Desktop/confounder-free-cnn/OCTDL/OCTDL images/AMD\\amd_7542349_3.jpg\n",
      "Deleted C:/Users/x4287225/Desktop/confounder-free-cnn/OCTDL/OCTDL images/AMD\\amd_7542349_4.jpg\n",
      "Deleted C:/Users/x4287225/Desktop/confounder-free-cnn/OCTDL/OCTDL images/AMD\\amd_7542349_5.jpg\n",
      "Deleted C:/Users/x4287225/Desktop/confounder-free-cnn/OCTDL/OCTDL images/AMD\\amd_7542349_6.jpg\n",
      "Deleted C:/Users/x4287225/Desktop/confounder-free-cnn/OCTDL/OCTDL images/AMD\\amd_7542349_7.jpg\n",
      "Deleted C:/Users/x4287225/Desktop/confounder-free-cnn/OCTDL/OCTDL images/AMD\\amd_7625380_1.jpg\n",
      "Deleted C:/Users/x4287225/Desktop/confounder-free-cnn/OCTDL/OCTDL images/AMD\\amd_7670951_1.jpg\n",
      "Deleted C:/Users/x4287225/Desktop/confounder-free-cnn/OCTDL/OCTDL images/AMD\\amd_7670951_2.jpg\n",
      "Deleted C:/Users/x4287225/Desktop/confounder-free-cnn/OCTDL/OCTDL images/AMD\\amd_7688486_1.jpg\n",
      "Deleted C:/Users/x4287225/Desktop/confounder-free-cnn/OCTDL/OCTDL images/AMD\\amd_7688486_2.jpg\n",
      "Deleted C:/Users/x4287225/Desktop/confounder-free-cnn/OCTDL/OCTDL images/AMD\\amd_7688486_3.jpg\n",
      "Deleted C:/Users/x4287225/Desktop/confounder-free-cnn/OCTDL/OCTDL images/AMD\\amd_7745805_1.jpg\n",
      "Deleted C:/Users/x4287225/Desktop/confounder-free-cnn/OCTDL/OCTDL images/AMD\\amd_7745805_2.jpg\n",
      "Deleted C:/Users/x4287225/Desktop/confounder-free-cnn/OCTDL/OCTDL images/AMD\\amd_7789493_1.jpg\n",
      "Deleted C:/Users/x4287225/Desktop/confounder-free-cnn/OCTDL/OCTDL images/AMD\\amd_7789493_2.jpg\n",
      "Deleted C:/Users/x4287225/Desktop/confounder-free-cnn/OCTDL/OCTDL images/AMD\\amd_7789493_3.jpg\n",
      "Deleted C:/Users/x4287225/Desktop/confounder-free-cnn/OCTDL/OCTDL images/AMD\\amd_7889170_1.jpg\n",
      "Deleted C:/Users/x4287225/Desktop/confounder-free-cnn/OCTDL/OCTDL images/AMD\\amd_7889170_2.jpg\n",
      "Deleted C:/Users/x4287225/Desktop/confounder-free-cnn/OCTDL/OCTDL images/AMD\\amd_7889170_3.jpg\n",
      "Deleted C:/Users/x4287225/Desktop/confounder-free-cnn/OCTDL/OCTDL images/AMD\\amd_7889170_4.jpg\n",
      "Deleted C:/Users/x4287225/Desktop/confounder-free-cnn/OCTDL/OCTDL images/AMD\\amd_7889170_5.jpg\n",
      "Deleted C:/Users/x4287225/Desktop/confounder-free-cnn/OCTDL/OCTDL images/AMD\\amd_7889170_6.jpg\n",
      "Deleted C:/Users/x4287225/Desktop/confounder-free-cnn/OCTDL/OCTDL images/AMD\\amd_7889170_7.jpg\n",
      "Deleted C:/Users/x4287225/Desktop/confounder-free-cnn/OCTDL/OCTDL images/AMD\\amd_7892162_1.jpg\n",
      "Deleted C:/Users/x4287225/Desktop/confounder-free-cnn/OCTDL/OCTDL images/AMD\\amd_7892162_2.jpg\n",
      "Deleted C:/Users/x4287225/Desktop/confounder-free-cnn/OCTDL/OCTDL images/AMD\\amd_7950818_1.jpg\n",
      "Deleted C:/Users/x4287225/Desktop/confounder-free-cnn/OCTDL/OCTDL images/AMD\\amd_7950818_2.jpg\n",
      "Deleted C:/Users/x4287225/Desktop/confounder-free-cnn/OCTDL/OCTDL images/AMD\\amd_7950818_3.jpg\n",
      "Deleted C:/Users/x4287225/Desktop/confounder-free-cnn/OCTDL/OCTDL images/AMD\\amd_7950818_4.jpg\n",
      "Deleted C:/Users/x4287225/Desktop/confounder-free-cnn/OCTDL/OCTDL images/AMD\\amd_7950818_5.jpg\n",
      "Deleted C:/Users/x4287225/Desktop/confounder-free-cnn/OCTDL/OCTDL images/AMD\\amd_7960237_1.jpg\n",
      "Deleted C:/Users/x4287225/Desktop/confounder-free-cnn/OCTDL/OCTDL images/AMD\\amd_7960237_2.jpg\n",
      "Deleted C:/Users/x4287225/Desktop/confounder-free-cnn/OCTDL/OCTDL images/AMD\\amd_8025650_1.jpg\n",
      "Deleted C:/Users/x4287225/Desktop/confounder-free-cnn/OCTDL/OCTDL images/AMD\\amd_8025650_2.jpg\n",
      "Deleted C:/Users/x4287225/Desktop/confounder-free-cnn/OCTDL/OCTDL images/AMD\\amd_8039494_1.jpg\n",
      "Deleted C:/Users/x4287225/Desktop/confounder-free-cnn/OCTDL/OCTDL images/AMD\\amd_8039494_2.jpg\n",
      "Deleted C:/Users/x4287225/Desktop/confounder-free-cnn/OCTDL/OCTDL images/AMD\\amd_8046491_1.jpg\n",
      "Deleted C:/Users/x4287225/Desktop/confounder-free-cnn/OCTDL/OCTDL images/AMD\\amd_8046491_2.jpg\n",
      "Deleted C:/Users/x4287225/Desktop/confounder-free-cnn/OCTDL/OCTDL images/AMD\\amd_8046491_3.jpg\n",
      "Deleted C:/Users/x4287225/Desktop/confounder-free-cnn/OCTDL/OCTDL images/AMD\\amd_8046491_4.jpg\n",
      "Deleted C:/Users/x4287225/Desktop/confounder-free-cnn/OCTDL/OCTDL images/AMD\\amd_8049842_1.jpg\n",
      "Deleted C:/Users/x4287225/Desktop/confounder-free-cnn/OCTDL/OCTDL images/AMD\\amd_8049842_2.jpg\n",
      "Deleted C:/Users/x4287225/Desktop/confounder-free-cnn/OCTDL/OCTDL images/AMD\\amd_8049842_3.jpg\n",
      "Deleted C:/Users/x4287225/Desktop/confounder-free-cnn/OCTDL/OCTDL images/AMD\\amd_8049842_4.jpg\n",
      "Deleted C:/Users/x4287225/Desktop/confounder-free-cnn/OCTDL/OCTDL images/AMD\\amd_8049842_5.jpg\n",
      "Deleted C:/Users/x4287225/Desktop/confounder-free-cnn/OCTDL/OCTDL images/AMD\\amd_8049842_6.jpg\n",
      "Deleted C:/Users/x4287225/Desktop/confounder-free-cnn/OCTDL/OCTDL images/AMD\\amd_8049842_7.jpg\n",
      "Deleted C:/Users/x4287225/Desktop/confounder-free-cnn/OCTDL/OCTDL images/AMD\\amd_8049842_8.jpg\n",
      "Deleted C:/Users/x4287225/Desktop/confounder-free-cnn/OCTDL/OCTDL images/AMD\\amd_8050953_1.jpg\n",
      "Deleted C:/Users/x4287225/Desktop/confounder-free-cnn/OCTDL/OCTDL images/AMD\\amd_8052371_1.jpg\n",
      "Deleted C:/Users/x4287225/Desktop/confounder-free-cnn/OCTDL/OCTDL images/AMD\\amd_8052371_2.jpg\n",
      "Deleted C:/Users/x4287225/Desktop/confounder-free-cnn/OCTDL/OCTDL images/AMD\\amd_8074289_1.jpg\n",
      "Deleted C:/Users/x4287225/Desktop/confounder-free-cnn/OCTDL/OCTDL images/AMD\\amd_8074289_2.jpg\n",
      "Deleted C:/Users/x4287225/Desktop/confounder-free-cnn/OCTDL/OCTDL images/AMD\\amd_8074289_3.jpg\n",
      "Deleted C:/Users/x4287225/Desktop/confounder-free-cnn/OCTDL/OCTDL images/AMD\\amd_8140564_1.jpg\n",
      "Deleted C:/Users/x4287225/Desktop/confounder-free-cnn/OCTDL/OCTDL images/AMD\\amd_8140564_10.jpg\n",
      "Deleted C:/Users/x4287225/Desktop/confounder-free-cnn/OCTDL/OCTDL images/AMD\\amd_8140564_2.jpg\n",
      "Deleted C:/Users/x4287225/Desktop/confounder-free-cnn/OCTDL/OCTDL images/AMD\\amd_8140564_3.jpg\n",
      "Deleted C:/Users/x4287225/Desktop/confounder-free-cnn/OCTDL/OCTDL images/AMD\\amd_8140564_4.jpg\n",
      "Deleted C:/Users/x4287225/Desktop/confounder-free-cnn/OCTDL/OCTDL images/AMD\\amd_8140564_5.jpg\n",
      "Deleted C:/Users/x4287225/Desktop/confounder-free-cnn/OCTDL/OCTDL images/AMD\\amd_8140564_6.jpg\n",
      "Deleted C:/Users/x4287225/Desktop/confounder-free-cnn/OCTDL/OCTDL images/AMD\\amd_8140564_7.jpg\n",
      "Deleted C:/Users/x4287225/Desktop/confounder-free-cnn/OCTDL/OCTDL images/AMD\\amd_8140564_8.jpg\n",
      "Deleted C:/Users/x4287225/Desktop/confounder-free-cnn/OCTDL/OCTDL images/AMD\\amd_8140564_9.jpg\n",
      "Deleted C:/Users/x4287225/Desktop/confounder-free-cnn/OCTDL/OCTDL images/AMD\\amd_8200284_1.jpg\n",
      "Deleted C:/Users/x4287225/Desktop/confounder-free-cnn/OCTDL/OCTDL images/AMD\\amd_8214789_1.jpg\n",
      "Deleted C:/Users/x4287225/Desktop/confounder-free-cnn/OCTDL/OCTDL images/AMD\\amd_8214789_2.jpg\n",
      "Deleted C:/Users/x4287225/Desktop/confounder-free-cnn/OCTDL/OCTDL images/AMD\\amd_8214789_3.jpg\n",
      "Deleted C:/Users/x4287225/Desktop/confounder-free-cnn/OCTDL/OCTDL images/AMD\\amd_8214789_4.jpg\n",
      "Deleted C:/Users/x4287225/Desktop/confounder-free-cnn/OCTDL/OCTDL images/AMD\\amd_8214789_5.jpg\n",
      "Deleted C:/Users/x4287225/Desktop/confounder-free-cnn/OCTDL/OCTDL images/AMD\\amd_8238113_1.jpg\n",
      "Deleted C:/Users/x4287225/Desktop/confounder-free-cnn/OCTDL/OCTDL images/AMD\\amd_8238113_2.jpg\n",
      "Deleted C:/Users/x4287225/Desktop/confounder-free-cnn/OCTDL/OCTDL images/AMD\\amd_8386918_1.jpg\n",
      "Deleted C:/Users/x4287225/Desktop/confounder-free-cnn/OCTDL/OCTDL images/AMD\\amd_8386918_2.jpg\n",
      "Deleted C:/Users/x4287225/Desktop/confounder-free-cnn/OCTDL/OCTDL images/AMD\\amd_8386918_3.jpg\n",
      "Deleted C:/Users/x4287225/Desktop/confounder-free-cnn/OCTDL/OCTDL images/AMD\\amd_8386918_4.jpg\n",
      "Deleted C:/Users/x4287225/Desktop/confounder-free-cnn/OCTDL/OCTDL images/AMD\\amd_8386918_5.jpg\n",
      "Deleted C:/Users/x4287225/Desktop/confounder-free-cnn/OCTDL/OCTDL images/AMD\\amd_8426448_1.jpg\n",
      "Deleted C:/Users/x4287225/Desktop/confounder-free-cnn/OCTDL/OCTDL images/AMD\\amd_8426448_2.jpg\n",
      "Deleted C:/Users/x4287225/Desktop/confounder-free-cnn/OCTDL/OCTDL images/AMD\\amd_8426448_3.jpg\n",
      "Deleted C:/Users/x4287225/Desktop/confounder-free-cnn/OCTDL/OCTDL images/AMD\\amd_8434952_1.jpg\n",
      "Deleted C:/Users/x4287225/Desktop/confounder-free-cnn/OCTDL/OCTDL images/AMD\\amd_8434952_2.jpg\n",
      "Deleted C:/Users/x4287225/Desktop/confounder-free-cnn/OCTDL/OCTDL images/AMD\\amd_8434952_3.jpg\n",
      "Deleted C:/Users/x4287225/Desktop/confounder-free-cnn/OCTDL/OCTDL images/AMD\\amd_8434952_4.jpg\n",
      "Deleted C:/Users/x4287225/Desktop/confounder-free-cnn/OCTDL/OCTDL images/AMD\\amd_8434952_5.jpg\n",
      "Deleted C:/Users/x4287225/Desktop/confounder-free-cnn/OCTDL/OCTDL images/AMD\\amd_8468731_1.jpg\n",
      "Deleted C:/Users/x4287225/Desktop/confounder-free-cnn/OCTDL/OCTDL images/AMD\\amd_8468731_2.jpg\n",
      "Deleted C:/Users/x4287225/Desktop/confounder-free-cnn/OCTDL/OCTDL images/AMD\\amd_8468731_3.jpg\n",
      "Deleted C:/Users/x4287225/Desktop/confounder-free-cnn/OCTDL/OCTDL images/AMD\\amd_8468731_4.jpg\n",
      "Deleted C:/Users/x4287225/Desktop/confounder-free-cnn/OCTDL/OCTDL images/AMD\\amd_8468731_5.jpg\n",
      "Deleted C:/Users/x4287225/Desktop/confounder-free-cnn/OCTDL/OCTDL images/AMD\\amd_8468731_6.jpg\n",
      "Deleted C:/Users/x4287225/Desktop/confounder-free-cnn/OCTDL/OCTDL images/AMD\\amd_8471655_1.jpg\n",
      "Deleted C:/Users/x4287225/Desktop/confounder-free-cnn/OCTDL/OCTDL images/AMD\\amd_8471655_2.jpg\n",
      "Deleted C:/Users/x4287225/Desktop/confounder-free-cnn/OCTDL/OCTDL images/AMD\\amd_8471655_3.jpg\n",
      "Deleted C:/Users/x4287225/Desktop/confounder-free-cnn/OCTDL/OCTDL images/AMD\\amd_8471655_4.jpg\n",
      "Deleted C:/Users/x4287225/Desktop/confounder-free-cnn/OCTDL/OCTDL images/AMD\\amd_8494676_1.jpg\n",
      "Deleted C:/Users/x4287225/Desktop/confounder-free-cnn/OCTDL/OCTDL images/AMD\\amd_8555637_1.jpg\n",
      "Deleted C:/Users/x4287225/Desktop/confounder-free-cnn/OCTDL/OCTDL images/AMD\\amd_8555772_1.jpg\n",
      "Deleted C:/Users/x4287225/Desktop/confounder-free-cnn/OCTDL/OCTDL images/AMD\\amd_8555772_2.jpg\n",
      "Deleted C:/Users/x4287225/Desktop/confounder-free-cnn/OCTDL/OCTDL images/AMD\\amd_8555772_3.jpg\n",
      "Deleted C:/Users/x4287225/Desktop/confounder-free-cnn/OCTDL/OCTDL images/AMD\\amd_8555772_4.jpg\n",
      "Deleted C:/Users/x4287225/Desktop/confounder-free-cnn/OCTDL/OCTDL images/AMD\\amd_8565438_1.jpg\n",
      "Deleted C:/Users/x4287225/Desktop/confounder-free-cnn/OCTDL/OCTDL images/AMD\\amd_8565438_2.jpg\n",
      "Deleted C:/Users/x4287225/Desktop/confounder-free-cnn/OCTDL/OCTDL images/AMD\\amd_8695676_1.jpg\n",
      "Deleted C:/Users/x4287225/Desktop/confounder-free-cnn/OCTDL/OCTDL images/AMD\\amd_8695676_2.jpg\n",
      "Deleted C:/Users/x4287225/Desktop/confounder-free-cnn/OCTDL/OCTDL images/AMD\\amd_8695676_3.jpg\n",
      "Deleted C:/Users/x4287225/Desktop/confounder-free-cnn/OCTDL/OCTDL images/AMD\\amd_8695676_4.jpg\n",
      "Deleted C:/Users/x4287225/Desktop/confounder-free-cnn/OCTDL/OCTDL images/AMD\\amd_8695676_5.jpg\n",
      "Deleted C:/Users/x4287225/Desktop/confounder-free-cnn/OCTDL/OCTDL images/AMD\\amd_8723520_1.jpg\n",
      "Deleted C:/Users/x4287225/Desktop/confounder-free-cnn/OCTDL/OCTDL images/AMD\\amd_8751468_1.jpg\n",
      "Deleted C:/Users/x4287225/Desktop/confounder-free-cnn/OCTDL/OCTDL images/AMD\\amd_8751468_2.jpg\n",
      "Deleted C:/Users/x4287225/Desktop/confounder-free-cnn/OCTDL/OCTDL images/AMD\\amd_8751468_3.jpg\n",
      "Deleted C:/Users/x4287225/Desktop/confounder-free-cnn/OCTDL/OCTDL images/AMD\\amd_8751468_4.jpg\n",
      "Deleted C:/Users/x4287225/Desktop/confounder-free-cnn/OCTDL/OCTDL images/AMD\\amd_8751468_5.jpg\n",
      "Deleted C:/Users/x4287225/Desktop/confounder-free-cnn/OCTDL/OCTDL images/AMD\\amd_8755768_1.jpg\n",
      "Deleted C:/Users/x4287225/Desktop/confounder-free-cnn/OCTDL/OCTDL images/AMD\\amd_8755768_2.jpg\n",
      "Deleted C:/Users/x4287225/Desktop/confounder-free-cnn/OCTDL/OCTDL images/AMD\\amd_8769803_1.jpg\n",
      "Deleted C:/Users/x4287225/Desktop/confounder-free-cnn/OCTDL/OCTDL images/AMD\\amd_8769803_2.jpg\n",
      "Deleted C:/Users/x4287225/Desktop/confounder-free-cnn/OCTDL/OCTDL images/AMD\\amd_8847668_1.jpg\n",
      "Deleted C:/Users/x4287225/Desktop/confounder-free-cnn/OCTDL/OCTDL images/AMD\\amd_8847668_2.jpg\n",
      "Deleted C:/Users/x4287225/Desktop/confounder-free-cnn/OCTDL/OCTDL images/AMD\\amd_8892126_1.jpg\n",
      "Deleted C:/Users/x4287225/Desktop/confounder-free-cnn/OCTDL/OCTDL images/AMD\\amd_8892126_2.jpg\n",
      "Deleted C:/Users/x4287225/Desktop/confounder-free-cnn/OCTDL/OCTDL images/AMD\\amd_8907451_1.jpg\n",
      "Deleted C:/Users/x4287225/Desktop/confounder-free-cnn/OCTDL/OCTDL images/AMD\\amd_8907451_2.jpg\n",
      "Deleted C:/Users/x4287225/Desktop/confounder-free-cnn/OCTDL/OCTDL images/AMD\\amd_8907451_3.jpg\n",
      "Deleted C:/Users/x4287225/Desktop/confounder-free-cnn/OCTDL/OCTDL images/AMD\\amd_8907451_4.jpg\n",
      "Deleted C:/Users/x4287225/Desktop/confounder-free-cnn/OCTDL/OCTDL images/AMD\\amd_8914942_1.jpg\n",
      "Deleted C:/Users/x4287225/Desktop/confounder-free-cnn/OCTDL/OCTDL images/AMD\\amd_8914942_2.jpg\n",
      "Deleted C:/Users/x4287225/Desktop/confounder-free-cnn/OCTDL/OCTDL images/AMD\\amd_8914942_3.jpg\n",
      "Deleted C:/Users/x4287225/Desktop/confounder-free-cnn/OCTDL/OCTDL images/AMD\\amd_8914942_4.jpg\n",
      "Deleted C:/Users/x4287225/Desktop/confounder-free-cnn/OCTDL/OCTDL images/AMD\\amd_8929896_1.jpg\n",
      "Deleted C:/Users/x4287225/Desktop/confounder-free-cnn/OCTDL/OCTDL images/AMD\\amd_8929896_2.jpg\n",
      "Deleted C:/Users/x4287225/Desktop/confounder-free-cnn/OCTDL/OCTDL images/AMD\\amd_8929896_3.jpg\n",
      "Deleted C:/Users/x4287225/Desktop/confounder-free-cnn/OCTDL/OCTDL images/AMD\\amd_8929896_4.jpg\n",
      "Deleted C:/Users/x4287225/Desktop/confounder-free-cnn/OCTDL/OCTDL images/AMD\\amd_8929896_5.jpg\n",
      "Deleted C:/Users/x4287225/Desktop/confounder-free-cnn/OCTDL/OCTDL images/AMD\\amd_8929896_6.jpg\n",
      "Deleted C:/Users/x4287225/Desktop/confounder-free-cnn/OCTDL/OCTDL images/AMD\\amd_8982989_1.jpg\n",
      "Deleted C:/Users/x4287225/Desktop/confounder-free-cnn/OCTDL/OCTDL images/AMD\\amd_8982989_2.jpg\n",
      "Deleted C:/Users/x4287225/Desktop/confounder-free-cnn/OCTDL/OCTDL images/AMD\\amd_8982989_3.jpg\n",
      "Deleted C:/Users/x4287225/Desktop/confounder-free-cnn/OCTDL/OCTDL images/AMD\\amd_8982989_4.jpg\n",
      "Deleted C:/Users/x4287225/Desktop/confounder-free-cnn/OCTDL/OCTDL images/AMD\\amd_9036624_1.jpg\n",
      "Deleted C:/Users/x4287225/Desktop/confounder-free-cnn/OCTDL/OCTDL images/AMD\\amd_9036624_2.jpg\n",
      "Deleted C:/Users/x4287225/Desktop/confounder-free-cnn/OCTDL/OCTDL images/AMD\\amd_9036624_3.jpg\n",
      "Deleted C:/Users/x4287225/Desktop/confounder-free-cnn/OCTDL/OCTDL images/AMD\\amd_9036624_4.jpg\n",
      "Deleted C:/Users/x4287225/Desktop/confounder-free-cnn/OCTDL/OCTDL images/AMD\\amd_9052304_1.jpg\n",
      "Deleted C:/Users/x4287225/Desktop/confounder-free-cnn/OCTDL/OCTDL images/AMD\\amd_9052304_2.jpg\n",
      "Deleted C:/Users/x4287225/Desktop/confounder-free-cnn/OCTDL/OCTDL images/AMD\\amd_9057760_1.jpg\n",
      "Deleted C:/Users/x4287225/Desktop/confounder-free-cnn/OCTDL/OCTDL images/AMD\\amd_9057760_2.jpg\n",
      "Deleted C:/Users/x4287225/Desktop/confounder-free-cnn/OCTDL/OCTDL images/AMD\\amd_9057760_3.jpg\n",
      "Deleted C:/Users/x4287225/Desktop/confounder-free-cnn/OCTDL/OCTDL images/AMD\\amd_9057760_4.jpg\n",
      "Deleted C:/Users/x4287225/Desktop/confounder-free-cnn/OCTDL/OCTDL images/AMD\\amd_9069910_1.jpg\n",
      "Deleted C:/Users/x4287225/Desktop/confounder-free-cnn/OCTDL/OCTDL images/AMD\\amd_9069910_2.jpg\n",
      "Deleted C:/Users/x4287225/Desktop/confounder-free-cnn/OCTDL/OCTDL images/AMD\\amd_9069910_3.jpg\n",
      "Deleted C:/Users/x4287225/Desktop/confounder-free-cnn/OCTDL/OCTDL images/AMD\\amd_9069910_4.jpg\n",
      "Deleted C:/Users/x4287225/Desktop/confounder-free-cnn/OCTDL/OCTDL images/AMD\\amd_9069910_5.jpg\n",
      "Deleted C:/Users/x4287225/Desktop/confounder-free-cnn/OCTDL/OCTDL images/AMD\\amd_9077742_1.jpg\n",
      "Deleted C:/Users/x4287225/Desktop/confounder-free-cnn/OCTDL/OCTDL images/AMD\\amd_9077742_2.jpg\n",
      "Deleted C:/Users/x4287225/Desktop/confounder-free-cnn/OCTDL/OCTDL images/AMD\\amd_9077742_3.jpg\n",
      "Deleted C:/Users/x4287225/Desktop/confounder-free-cnn/OCTDL/OCTDL images/AMD\\amd_9077742_4.jpg\n",
      "Deleted C:/Users/x4287225/Desktop/confounder-free-cnn/OCTDL/OCTDL images/AMD\\amd_9077742_5.jpg\n",
      "Deleted C:/Users/x4287225/Desktop/confounder-free-cnn/OCTDL/OCTDL images/AMD\\amd_9077742_6.jpg\n",
      "Deleted C:/Users/x4287225/Desktop/confounder-free-cnn/OCTDL/OCTDL images/AMD\\amd_9077742_7.jpg\n",
      "Deleted C:/Users/x4287225/Desktop/confounder-free-cnn/OCTDL/OCTDL images/AMD\\amd_9077742_8.jpg\n",
      "Deleted C:/Users/x4287225/Desktop/confounder-free-cnn/OCTDL/OCTDL images/AMD\\amd_9131347_1.jpg\n",
      "Deleted C:/Users/x4287225/Desktop/confounder-free-cnn/OCTDL/OCTDL images/AMD\\amd_9131347_2.jpg\n",
      "Deleted C:/Users/x4287225/Desktop/confounder-free-cnn/OCTDL/OCTDL images/AMD\\amd_9131995_1.jpg\n",
      "Deleted C:/Users/x4287225/Desktop/confounder-free-cnn/OCTDL/OCTDL images/AMD\\amd_9131995_2.jpg\n",
      "Deleted C:/Users/x4287225/Desktop/confounder-free-cnn/OCTDL/OCTDL images/AMD\\amd_9131995_3.jpg\n",
      "Deleted C:/Users/x4287225/Desktop/confounder-free-cnn/OCTDL/OCTDL images/AMD\\amd_9172196_1.jpg\n",
      "Deleted C:/Users/x4287225/Desktop/confounder-free-cnn/OCTDL/OCTDL images/AMD\\amd_9172196_2.jpg\n",
      "Deleted C:/Users/x4287225/Desktop/confounder-free-cnn/OCTDL/OCTDL images/AMD\\amd_9210530_1.jpg\n",
      "Deleted C:/Users/x4287225/Desktop/confounder-free-cnn/OCTDL/OCTDL images/AMD\\amd_9251501_1.jpg\n",
      "Deleted C:/Users/x4287225/Desktop/confounder-free-cnn/OCTDL/OCTDL images/AMD\\amd_9251501_2.jpg\n",
      "Deleted C:/Users/x4287225/Desktop/confounder-free-cnn/OCTDL/OCTDL images/AMD\\amd_9251501_3.jpg\n",
      "Deleted C:/Users/x4287225/Desktop/confounder-free-cnn/OCTDL/OCTDL images/AMD\\amd_9252162_1.jpg\n",
      "Deleted C:/Users/x4287225/Desktop/confounder-free-cnn/OCTDL/OCTDL images/AMD\\amd_9252162_2.jpg\n",
      "Deleted C:/Users/x4287225/Desktop/confounder-free-cnn/OCTDL/OCTDL images/AMD\\amd_9252162_3.jpg\n",
      "Deleted C:/Users/x4287225/Desktop/confounder-free-cnn/OCTDL/OCTDL images/AMD\\amd_9252162_4.jpg\n",
      "Deleted C:/Users/x4287225/Desktop/confounder-free-cnn/OCTDL/OCTDL images/AMD\\amd_9284647_1.jpg\n",
      "Deleted C:/Users/x4287225/Desktop/confounder-free-cnn/OCTDL/OCTDL images/AMD\\amd_9284647_2.jpg\n",
      "Deleted C:/Users/x4287225/Desktop/confounder-free-cnn/OCTDL/OCTDL images/AMD\\amd_9284647_3.jpg\n",
      "Deleted C:/Users/x4287225/Desktop/confounder-free-cnn/OCTDL/OCTDL images/AMD\\amd_9284647_4.jpg\n",
      "Deleted C:/Users/x4287225/Desktop/confounder-free-cnn/OCTDL/OCTDL images/AMD\\amd_9284647_5.jpg\n",
      "Deleted C:/Users/x4287225/Desktop/confounder-free-cnn/OCTDL/OCTDL images/AMD\\amd_9339922_1.jpg\n",
      "Deleted C:/Users/x4287225/Desktop/confounder-free-cnn/OCTDL/OCTDL images/AMD\\amd_9339922_2.jpg\n",
      "Deleted C:/Users/x4287225/Desktop/confounder-free-cnn/OCTDL/OCTDL images/AMD\\amd_9339922_3.jpg\n",
      "Deleted C:/Users/x4287225/Desktop/confounder-free-cnn/OCTDL/OCTDL images/AMD\\amd_9339922_4.jpg\n",
      "Deleted C:/Users/x4287225/Desktop/confounder-free-cnn/OCTDL/OCTDL images/AMD\\amd_9454499_1.jpg\n",
      "Deleted C:/Users/x4287225/Desktop/confounder-free-cnn/OCTDL/OCTDL images/AMD\\amd_9494284_1.jpg\n",
      "Deleted C:/Users/x4287225/Desktop/confounder-free-cnn/OCTDL/OCTDL images/AMD\\amd_9494284_2.jpg\n",
      "Deleted C:/Users/x4287225/Desktop/confounder-free-cnn/OCTDL/OCTDL images/AMD\\amd_9494284_3.jpg\n",
      "Deleted C:/Users/x4287225/Desktop/confounder-free-cnn/OCTDL/OCTDL images/AMD\\amd_9553666_1.jpg\n",
      "Deleted C:/Users/x4287225/Desktop/confounder-free-cnn/OCTDL/OCTDL images/AMD\\amd_9553666_2.jpg\n",
      "Deleted C:/Users/x4287225/Desktop/confounder-free-cnn/OCTDL/OCTDL images/AMD\\amd_9556334_1.jpg\n",
      "Deleted C:/Users/x4287225/Desktop/confounder-free-cnn/OCTDL/OCTDL images/AMD\\amd_9576896_1.jpg\n",
      "Deleted C:/Users/x4287225/Desktop/confounder-free-cnn/OCTDL/OCTDL images/AMD\\amd_9576896_2.jpg\n",
      "Deleted C:/Users/x4287225/Desktop/confounder-free-cnn/OCTDL/OCTDL images/AMD\\amd_9576896_3.jpg\n",
      "Deleted C:/Users/x4287225/Desktop/confounder-free-cnn/OCTDL/OCTDL images/AMD\\amd_9576896_4.jpg\n",
      "Deleted C:/Users/x4287225/Desktop/confounder-free-cnn/OCTDL/OCTDL images/AMD\\amd_9600777_1.jpg\n",
      "Deleted C:/Users/x4287225/Desktop/confounder-free-cnn/OCTDL/OCTDL images/AMD\\amd_9600777_2.jpg\n",
      "Deleted C:/Users/x4287225/Desktop/confounder-free-cnn/OCTDL/OCTDL images/AMD\\amd_9600777_3.jpg\n",
      "Deleted C:/Users/x4287225/Desktop/confounder-free-cnn/OCTDL/OCTDL images/AMD\\amd_9638193_1.jpg\n",
      "Deleted C:/Users/x4287225/Desktop/confounder-free-cnn/OCTDL/OCTDL images/AMD\\amd_9638193_2.jpg\n",
      "Deleted C:/Users/x4287225/Desktop/confounder-free-cnn/OCTDL/OCTDL images/AMD\\amd_9638193_3.jpg\n",
      "Deleted C:/Users/x4287225/Desktop/confounder-free-cnn/OCTDL/OCTDL images/AMD\\amd_9638193_4.jpg\n",
      "Deleted C:/Users/x4287225/Desktop/confounder-free-cnn/OCTDL/OCTDL images/AMD\\amd_9681000_1.jpg\n",
      "Deleted C:/Users/x4287225/Desktop/confounder-free-cnn/OCTDL/OCTDL images/AMD\\amd_9681000_2.jpg\n",
      "Deleted C:/Users/x4287225/Desktop/confounder-free-cnn/OCTDL/OCTDL images/AMD\\amd_9715057_1.jpg\n",
      "Deleted C:/Users/x4287225/Desktop/confounder-free-cnn/OCTDL/OCTDL images/AMD\\amd_9715057_2.jpg\n",
      "Deleted C:/Users/x4287225/Desktop/confounder-free-cnn/OCTDL/OCTDL images/AMD\\amd_9715057_3.jpg\n",
      "Deleted C:/Users/x4287225/Desktop/confounder-free-cnn/OCTDL/OCTDL images/AMD\\amd_9756898_1.jpg\n",
      "Deleted C:/Users/x4287225/Desktop/confounder-free-cnn/OCTDL/OCTDL images/AMD\\amd_9810110_1.jpg\n",
      "Deleted C:/Users/x4287225/Desktop/confounder-free-cnn/OCTDL/OCTDL images/AMD\\amd_9810110_2.jpg\n",
      "Deleted C:/Users/x4287225/Desktop/confounder-free-cnn/OCTDL/OCTDL images/AMD\\amd_9819409_1.jpg\n",
      "Deleted C:/Users/x4287225/Desktop/confounder-free-cnn/OCTDL/OCTDL images/AMD\\amd_9819409_2.jpg\n",
      "Deleted C:/Users/x4287225/Desktop/confounder-free-cnn/OCTDL/OCTDL images/AMD\\amd_9977471_1.jpg\n",
      "Deleted C:/Users/x4287225/Desktop/confounder-free-cnn/OCTDL/OCTDL images/AMD\\amd_9977471_2.jpg\n",
      "Deleted C:/Users/x4287225/Desktop/confounder-free-cnn/OCTDL/OCTDL images/ERM\\erm_1043186_1.jpg\n",
      "Deleted C:/Users/x4287225/Desktop/confounder-free-cnn/OCTDL/OCTDL images/ERM\\erm_1043186_2.jpg\n",
      "Deleted C:/Users/x4287225/Desktop/confounder-free-cnn/OCTDL/OCTDL images/ERM\\erm_1225803_1.jpg\n",
      "Deleted C:/Users/x4287225/Desktop/confounder-free-cnn/OCTDL/OCTDL images/ERM\\erm_1225803_2.jpg\n",
      "Deleted C:/Users/x4287225/Desktop/confounder-free-cnn/OCTDL/OCTDL images/ERM\\erm_1225803_3.jpg\n",
      "Deleted C:/Users/x4287225/Desktop/confounder-free-cnn/OCTDL/OCTDL images/ERM\\erm_1225803_4.jpg\n",
      "Deleted C:/Users/x4287225/Desktop/confounder-free-cnn/OCTDL/OCTDL images/ERM\\erm_1225803_5.jpg\n",
      "Deleted C:/Users/x4287225/Desktop/confounder-free-cnn/OCTDL/OCTDL images/ERM\\erm_1484824_1.jpg\n",
      "Deleted C:/Users/x4287225/Desktop/confounder-free-cnn/OCTDL/OCTDL images/ERM\\erm_1484824_2.jpg\n",
      "Deleted C:/Users/x4287225/Desktop/confounder-free-cnn/OCTDL/OCTDL images/ERM\\erm_1751913_1.jpg\n",
      "Deleted C:/Users/x4287225/Desktop/confounder-free-cnn/OCTDL/OCTDL images/ERM\\erm_1835147_1.jpg\n",
      "Deleted C:/Users/x4287225/Desktop/confounder-free-cnn/OCTDL/OCTDL images/ERM\\erm_1980479_1.jpg\n",
      "Deleted C:/Users/x4287225/Desktop/confounder-free-cnn/OCTDL/OCTDL images/ERM\\erm_1980479_2.jpg\n",
      "Deleted C:/Users/x4287225/Desktop/confounder-free-cnn/OCTDL/OCTDL images/ERM\\erm_1980479_3.jpg\n",
      "Deleted C:/Users/x4287225/Desktop/confounder-free-cnn/OCTDL/OCTDL images/ERM\\erm_2073089_1.jpg\n",
      "Deleted C:/Users/x4287225/Desktop/confounder-free-cnn/OCTDL/OCTDL images/ERM\\erm_2073089_2.jpg\n",
      "Deleted C:/Users/x4287225/Desktop/confounder-free-cnn/OCTDL/OCTDL images/ERM\\erm_2073089_3.jpg\n",
      "Deleted C:/Users/x4287225/Desktop/confounder-free-cnn/OCTDL/OCTDL images/ERM\\erm_2166457_1.jpg\n",
      "Deleted C:/Users/x4287225/Desktop/confounder-free-cnn/OCTDL/OCTDL images/ERM\\erm_2166457_2.jpg\n",
      "Deleted C:/Users/x4287225/Desktop/confounder-free-cnn/OCTDL/OCTDL images/ERM\\erm_2310962_1.jpg\n",
      "Deleted C:/Users/x4287225/Desktop/confounder-free-cnn/OCTDL/OCTDL images/ERM\\erm_2310962_2.jpg\n",
      "Deleted C:/Users/x4287225/Desktop/confounder-free-cnn/OCTDL/OCTDL images/ERM\\erm_2310962_3.jpg\n",
      "Deleted C:/Users/x4287225/Desktop/confounder-free-cnn/OCTDL/OCTDL images/ERM\\erm_2400030_1.jpg\n",
      "Deleted C:/Users/x4287225/Desktop/confounder-free-cnn/OCTDL/OCTDL images/ERM\\erm_2400030_2.jpg\n",
      "Deleted C:/Users/x4287225/Desktop/confounder-free-cnn/OCTDL/OCTDL images/ERM\\erm_2507788_1.jpg\n",
      "Deleted C:/Users/x4287225/Desktop/confounder-free-cnn/OCTDL/OCTDL images/ERM\\erm_2507788_2.jpg\n",
      "Deleted C:/Users/x4287225/Desktop/confounder-free-cnn/OCTDL/OCTDL images/ERM\\erm_2548202_1.jpg\n",
      "Deleted C:/Users/x4287225/Desktop/confounder-free-cnn/OCTDL/OCTDL images/ERM\\erm_2548202_2.jpg\n",
      "Deleted C:/Users/x4287225/Desktop/confounder-free-cnn/OCTDL/OCTDL images/ERM\\erm_2557141_1.jpg\n",
      "Deleted C:/Users/x4287225/Desktop/confounder-free-cnn/OCTDL/OCTDL images/ERM\\erm_2584110_1.jpg\n",
      "Deleted C:/Users/x4287225/Desktop/confounder-free-cnn/OCTDL/OCTDL images/ERM\\erm_2933504_1.jpg\n",
      "Deleted C:/Users/x4287225/Desktop/confounder-free-cnn/OCTDL/OCTDL images/ERM\\erm_3300105_1.jpg\n",
      "Deleted C:/Users/x4287225/Desktop/confounder-free-cnn/OCTDL/OCTDL images/ERM\\erm_3300105_2.jpg\n",
      "Deleted C:/Users/x4287225/Desktop/confounder-free-cnn/OCTDL/OCTDL images/ERM\\erm_3527083_1.jpg\n",
      "Deleted C:/Users/x4287225/Desktop/confounder-free-cnn/OCTDL/OCTDL images/ERM\\erm_3575502_1.jpg\n",
      "Deleted C:/Users/x4287225/Desktop/confounder-free-cnn/OCTDL/OCTDL images/ERM\\erm_3575502_2.jpg\n",
      "Deleted C:/Users/x4287225/Desktop/confounder-free-cnn/OCTDL/OCTDL images/ERM\\erm_3575502_3.jpg\n",
      "Deleted C:/Users/x4287225/Desktop/confounder-free-cnn/OCTDL/OCTDL images/ERM\\erm_3849671_1.jpg\n",
      "Deleted C:/Users/x4287225/Desktop/confounder-free-cnn/OCTDL/OCTDL images/ERM\\erm_3849671_2.jpg\n",
      "Deleted C:/Users/x4287225/Desktop/confounder-free-cnn/OCTDL/OCTDL images/ERM\\erm_4014066_1.jpg\n",
      "Deleted C:/Users/x4287225/Desktop/confounder-free-cnn/OCTDL/OCTDL images/ERM\\erm_4247823_1.jpg\n",
      "Deleted C:/Users/x4287225/Desktop/confounder-free-cnn/OCTDL/OCTDL images/ERM\\erm_4407796_1.jpg\n",
      "Deleted C:/Users/x4287225/Desktop/confounder-free-cnn/OCTDL/OCTDL images/ERM\\erm_4407796_2.jpg\n",
      "Deleted C:/Users/x4287225/Desktop/confounder-free-cnn/OCTDL/OCTDL images/ERM\\erm_4409880_1.jpg\n",
      "Deleted C:/Users/x4287225/Desktop/confounder-free-cnn/OCTDL/OCTDL images/ERM\\erm_4409880_2.jpg\n",
      "Deleted C:/Users/x4287225/Desktop/confounder-free-cnn/OCTDL/OCTDL images/ERM\\erm_4409880_3.jpg\n",
      "Deleted C:/Users/x4287225/Desktop/confounder-free-cnn/OCTDL/OCTDL images/ERM\\erm_4523545_1.jpg\n",
      "Deleted C:/Users/x4287225/Desktop/confounder-free-cnn/OCTDL/OCTDL images/ERM\\erm_4523545_2.jpg\n",
      "Deleted C:/Users/x4287225/Desktop/confounder-free-cnn/OCTDL/OCTDL images/ERM\\erm_4684093_1.jpg\n",
      "Deleted C:/Users/x4287225/Desktop/confounder-free-cnn/OCTDL/OCTDL images/ERM\\erm_4864500_1.jpg\n",
      "Deleted C:/Users/x4287225/Desktop/confounder-free-cnn/OCTDL/OCTDL images/ERM\\erm_4864500_2.jpg\n",
      "Deleted C:/Users/x4287225/Desktop/confounder-free-cnn/OCTDL/OCTDL images/ERM\\erm_4893218_1.jpg\n",
      "Deleted C:/Users/x4287225/Desktop/confounder-free-cnn/OCTDL/OCTDL images/ERM\\erm_4893218_2.jpg\n",
      "Deleted C:/Users/x4287225/Desktop/confounder-free-cnn/OCTDL/OCTDL images/ERM\\erm_5110347_1.jpg\n",
      "Deleted C:/Users/x4287225/Desktop/confounder-free-cnn/OCTDL/OCTDL images/ERM\\erm_5110347_2.jpg\n",
      "Deleted C:/Users/x4287225/Desktop/confounder-free-cnn/OCTDL/OCTDL images/ERM\\erm_5110347_3.jpg\n",
      "Deleted C:/Users/x4287225/Desktop/confounder-free-cnn/OCTDL/OCTDL images/ERM\\erm_5110347_4.jpg\n",
      "Deleted C:/Users/x4287225/Desktop/confounder-free-cnn/OCTDL/OCTDL images/ERM\\erm_5110347_5.jpg\n",
      "Deleted C:/Users/x4287225/Desktop/confounder-free-cnn/OCTDL/OCTDL images/ERM\\erm_5110347_6.jpg\n",
      "Deleted C:/Users/x4287225/Desktop/confounder-free-cnn/OCTDL/OCTDL images/ERM\\erm_5110347_7.jpg\n",
      "Deleted C:/Users/x4287225/Desktop/confounder-free-cnn/OCTDL/OCTDL images/ERM\\erm_5438495_1.jpg\n",
      "Deleted C:/Users/x4287225/Desktop/confounder-free-cnn/OCTDL/OCTDL images/ERM\\erm_5438495_2.jpg\n",
      "Deleted C:/Users/x4287225/Desktop/confounder-free-cnn/OCTDL/OCTDL images/ERM\\erm_5438495_3.jpg\n",
      "Deleted C:/Users/x4287225/Desktop/confounder-free-cnn/OCTDL/OCTDL images/ERM\\erm_5616388_1.jpg\n",
      "Deleted C:/Users/x4287225/Desktop/confounder-free-cnn/OCTDL/OCTDL images/ERM\\erm_5616388_2.jpg\n",
      "Deleted C:/Users/x4287225/Desktop/confounder-free-cnn/OCTDL/OCTDL images/ERM\\erm_5616388_3.jpg\n",
      "Deleted C:/Users/x4287225/Desktop/confounder-free-cnn/OCTDL/OCTDL images/ERM\\erm_5791022_1.jpg\n",
      "Deleted C:/Users/x4287225/Desktop/confounder-free-cnn/OCTDL/OCTDL images/ERM\\erm_5813011_1.jpg\n",
      "Deleted C:/Users/x4287225/Desktop/confounder-free-cnn/OCTDL/OCTDL images/ERM\\erm_5896471_1.jpg\n",
      "Deleted C:/Users/x4287225/Desktop/confounder-free-cnn/OCTDL/OCTDL images/ERM\\erm_5896471_2.jpg\n",
      "Deleted C:/Users/x4287225/Desktop/confounder-free-cnn/OCTDL/OCTDL images/ERM\\erm_5951557_1.jpg\n",
      "Deleted C:/Users/x4287225/Desktop/confounder-free-cnn/OCTDL/OCTDL images/ERM\\erm_5951557_2.jpg\n",
      "Deleted C:/Users/x4287225/Desktop/confounder-free-cnn/OCTDL/OCTDL images/ERM\\erm_6081919_1.jpg\n",
      "Deleted C:/Users/x4287225/Desktop/confounder-free-cnn/OCTDL/OCTDL images/ERM\\erm_6081919_2.jpg\n",
      "Deleted C:/Users/x4287225/Desktop/confounder-free-cnn/OCTDL/OCTDL images/ERM\\erm_6189656_1.jpg\n",
      "Deleted C:/Users/x4287225/Desktop/confounder-free-cnn/OCTDL/OCTDL images/ERM\\erm_6189656_2.jpg\n",
      "Deleted C:/Users/x4287225/Desktop/confounder-free-cnn/OCTDL/OCTDL images/ERM\\erm_6189656_3.jpg\n",
      "Deleted C:/Users/x4287225/Desktop/confounder-free-cnn/OCTDL/OCTDL images/ERM\\erm_6189656_4.jpg\n",
      "Deleted C:/Users/x4287225/Desktop/confounder-free-cnn/OCTDL/OCTDL images/ERM\\erm_6193565_1.jpg\n",
      "Deleted C:/Users/x4287225/Desktop/confounder-free-cnn/OCTDL/OCTDL images/ERM\\erm_6193565_2.jpg\n",
      "Deleted C:/Users/x4287225/Desktop/confounder-free-cnn/OCTDL/OCTDL images/ERM\\erm_6310682_1.jpg\n",
      "Deleted C:/Users/x4287225/Desktop/confounder-free-cnn/OCTDL/OCTDL images/ERM\\erm_6310682_2.jpg\n",
      "Deleted C:/Users/x4287225/Desktop/confounder-free-cnn/OCTDL/OCTDL images/ERM\\erm_6310682_3.jpg\n",
      "Deleted C:/Users/x4287225/Desktop/confounder-free-cnn/OCTDL/OCTDL images/ERM\\erm_6391922_1.jpg\n",
      "Deleted C:/Users/x4287225/Desktop/confounder-free-cnn/OCTDL/OCTDL images/ERM\\erm_6532944_1.jpg\n",
      "Deleted C:/Users/x4287225/Desktop/confounder-free-cnn/OCTDL/OCTDL images/ERM\\erm_6532944_2.jpg\n",
      "Deleted C:/Users/x4287225/Desktop/confounder-free-cnn/OCTDL/OCTDL images/ERM\\erm_6860395_1.jpg\n",
      "Deleted C:/Users/x4287225/Desktop/confounder-free-cnn/OCTDL/OCTDL images/ERM\\erm_7033723_1.jpg\n",
      "Deleted C:/Users/x4287225/Desktop/confounder-free-cnn/OCTDL/OCTDL images/ERM\\erm_7033723_2.jpg\n",
      "Deleted C:/Users/x4287225/Desktop/confounder-free-cnn/OCTDL/OCTDL images/ERM\\erm_7033723_3.jpg\n",
      "Deleted C:/Users/x4287225/Desktop/confounder-free-cnn/OCTDL/OCTDL images/ERM\\erm_7123170_1.jpg\n",
      "Deleted C:/Users/x4287225/Desktop/confounder-free-cnn/OCTDL/OCTDL images/ERM\\erm_7123170_2.jpg\n",
      "Deleted C:/Users/x4287225/Desktop/confounder-free-cnn/OCTDL/OCTDL images/ERM\\erm_7123170_3.jpg\n",
      "Deleted C:/Users/x4287225/Desktop/confounder-free-cnn/OCTDL/OCTDL images/ERM\\erm_7123170_4.jpg\n",
      "Deleted C:/Users/x4287225/Desktop/confounder-free-cnn/OCTDL/OCTDL images/ERM\\erm_7308378_1.jpg\n",
      "Deleted C:/Users/x4287225/Desktop/confounder-free-cnn/OCTDL/OCTDL images/ERM\\erm_7326803_1.jpg\n",
      "Deleted C:/Users/x4287225/Desktop/confounder-free-cnn/OCTDL/OCTDL images/ERM\\erm_7336541_1.jpg\n",
      "Deleted C:/Users/x4287225/Desktop/confounder-free-cnn/OCTDL/OCTDL images/ERM\\erm_7336541_2.jpg\n",
      "Deleted C:/Users/x4287225/Desktop/confounder-free-cnn/OCTDL/OCTDL images/ERM\\erm_7596475_1.jpg\n",
      "Deleted C:/Users/x4287225/Desktop/confounder-free-cnn/OCTDL/OCTDL images/ERM\\erm_7596475_2.jpg\n",
      "Deleted C:/Users/x4287225/Desktop/confounder-free-cnn/OCTDL/OCTDL images/ERM\\erm_7596475_3.jpg\n",
      "Deleted C:/Users/x4287225/Desktop/confounder-free-cnn/OCTDL/OCTDL images/ERM\\erm_7642868_1.jpg\n",
      "Deleted C:/Users/x4287225/Desktop/confounder-free-cnn/OCTDL/OCTDL images/ERM\\erm_7642868_2.jpg\n",
      "Deleted C:/Users/x4287225/Desktop/confounder-free-cnn/OCTDL/OCTDL images/ERM\\erm_7729617_1.jpg\n",
      "Deleted C:/Users/x4287225/Desktop/confounder-free-cnn/OCTDL/OCTDL images/ERM\\erm_7815098_1.jpg\n",
      "Deleted C:/Users/x4287225/Desktop/confounder-free-cnn/OCTDL/OCTDL images/ERM\\erm_7815098_2.jpg\n",
      "Deleted C:/Users/x4287225/Desktop/confounder-free-cnn/OCTDL/OCTDL images/ERM\\erm_7815098_3.jpg\n",
      "Deleted C:/Users/x4287225/Desktop/confounder-free-cnn/OCTDL/OCTDL images/ERM\\erm_7815098_4.jpg\n",
      "Deleted C:/Users/x4287225/Desktop/confounder-free-cnn/OCTDL/OCTDL images/ERM\\erm_7901996_1.jpg\n",
      "Deleted C:/Users/x4287225/Desktop/confounder-free-cnn/OCTDL/OCTDL images/ERM\\erm_7901996_2.jpg\n",
      "Deleted C:/Users/x4287225/Desktop/confounder-free-cnn/OCTDL/OCTDL images/ERM\\erm_7901996_3.jpg\n",
      "Deleted C:/Users/x4287225/Desktop/confounder-free-cnn/OCTDL/OCTDL images/ERM\\erm_8708516_1.jpg\n",
      "Deleted C:/Users/x4287225/Desktop/confounder-free-cnn/OCTDL/OCTDL images/ERM\\erm_8708516_2.jpg\n",
      "Deleted C:/Users/x4287225/Desktop/confounder-free-cnn/OCTDL/OCTDL images/ERM\\erm_8851485_1.jpg\n",
      "Deleted C:/Users/x4287225/Desktop/confounder-free-cnn/OCTDL/OCTDL images/ERM\\erm_8851485_2.jpg\n",
      "Deleted C:/Users/x4287225/Desktop/confounder-free-cnn/OCTDL/OCTDL images/ERM\\erm_8851485_3.jpg\n",
      "Deleted C:/Users/x4287225/Desktop/confounder-free-cnn/OCTDL/OCTDL images/ERM\\erm_8851485_4.jpg\n",
      "Deleted C:/Users/x4287225/Desktop/confounder-free-cnn/OCTDL/OCTDL images/ERM\\erm_8851485_5.jpg\n",
      "Deleted C:/Users/x4287225/Desktop/confounder-free-cnn/OCTDL/OCTDL images/ERM\\erm_9092947_1.jpg\n",
      "Deleted C:/Users/x4287225/Desktop/confounder-free-cnn/OCTDL/OCTDL images/ERM\\erm_9137933_1.jpg\n",
      "Deleted C:/Users/x4287225/Desktop/confounder-free-cnn/OCTDL/OCTDL images/ERM\\erm_9313328_1.jpg\n",
      "Deleted C:/Users/x4287225/Desktop/confounder-free-cnn/OCTDL/OCTDL images/ERM\\erm_9313328_2.jpg\n",
      "Deleted C:/Users/x4287225/Desktop/confounder-free-cnn/OCTDL/OCTDL images/ERM\\erm_9444865_1.jpg\n",
      "Deleted C:/Users/x4287225/Desktop/confounder-free-cnn/OCTDL/OCTDL images/ERM\\erm_9444865_2.jpg\n",
      "Deleted C:/Users/x4287225/Desktop/confounder-free-cnn/OCTDL/OCTDL images/ERM\\erm_9444865_3.jpg\n",
      "Deleted C:/Users/x4287225/Desktop/confounder-free-cnn/OCTDL/OCTDL images/ERM\\erm_9444865_4.jpg\n",
      "Deleted C:/Users/x4287225/Desktop/confounder-free-cnn/OCTDL/OCTDL images/ERM\\erm_9444865_5.jpg\n",
      "Deleted C:/Users/x4287225/Desktop/confounder-free-cnn/OCTDL/OCTDL images/ERM\\erm_9444865_6.jpg\n",
      "Deleted C:/Users/x4287225/Desktop/confounder-free-cnn/OCTDL/OCTDL images/ERM\\erm_9444865_7.jpg\n",
      "Deleted C:/Users/x4287225/Desktop/confounder-free-cnn/OCTDL/OCTDL images/ERM\\erm_9461085_1.jpg\n",
      "Deleted C:/Users/x4287225/Desktop/confounder-free-cnn/OCTDL/OCTDL images/ERM\\erm_9995512_1.jpg\n",
      "Deleted C:/Users/x4287225/Desktop/confounder-free-cnn/OCTDL/OCTDL images/ERM\\erm_9995512_2.jpg\n",
      "Deleted C:/Users/x4287225/Desktop/confounder-free-cnn/OCTDL/OCTDL images/ERM\\erm_9995512_3.jpg\n",
      "Deleted C:/Users/x4287225/Desktop/confounder-free-cnn/OCTDL/OCTDL images/NO\\no_1153297_1.jpg\n",
      "Deleted C:/Users/x4287225/Desktop/confounder-free-cnn/OCTDL/OCTDL images/NO\\no_1153297_2.jpg\n",
      "Deleted C:/Users/x4287225/Desktop/confounder-free-cnn/OCTDL/OCTDL images/NO\\no_1250592_1.jpg\n",
      "Deleted C:/Users/x4287225/Desktop/confounder-free-cnn/OCTDL/OCTDL images/NO\\no_1250592_2.jpg\n",
      "Deleted C:/Users/x4287225/Desktop/confounder-free-cnn/OCTDL/OCTDL images/NO\\no_1250592_3.jpg\n",
      "Deleted C:/Users/x4287225/Desktop/confounder-free-cnn/OCTDL/OCTDL images/NO\\no_1250592_4.jpg\n",
      "Deleted C:/Users/x4287225/Desktop/confounder-free-cnn/OCTDL/OCTDL images/NO\\no_1250592_5.jpg\n",
      "Deleted C:/Users/x4287225/Desktop/confounder-free-cnn/OCTDL/OCTDL images/NO\\no_1250592_6.jpg\n",
      "Deleted C:/Users/x4287225/Desktop/confounder-free-cnn/OCTDL/OCTDL images/NO\\no_1391081_1.jpg\n",
      "Deleted C:/Users/x4287225/Desktop/confounder-free-cnn/OCTDL/OCTDL images/NO\\no_1391081_2.jpg\n",
      "Deleted C:/Users/x4287225/Desktop/confounder-free-cnn/OCTDL/OCTDL images/NO\\no_1391081_3.jpg\n",
      "Deleted C:/Users/x4287225/Desktop/confounder-free-cnn/OCTDL/OCTDL images/NO\\no_1391081_4.jpg\n",
      "Deleted C:/Users/x4287225/Desktop/confounder-free-cnn/OCTDL/OCTDL images/NO\\no_1409061_1.jpg\n",
      "Deleted C:/Users/x4287225/Desktop/confounder-free-cnn/OCTDL/OCTDL images/NO\\no_1409061_2.jpg\n",
      "Deleted C:/Users/x4287225/Desktop/confounder-free-cnn/OCTDL/OCTDL images/NO\\no_1409061_3.jpg\n",
      "Deleted C:/Users/x4287225/Desktop/confounder-free-cnn/OCTDL/OCTDL images/NO\\no_1409061_4.jpg\n",
      "Deleted C:/Users/x4287225/Desktop/confounder-free-cnn/OCTDL/OCTDL images/NO\\no_1409061_5.jpg\n",
      "Deleted C:/Users/x4287225/Desktop/confounder-free-cnn/OCTDL/OCTDL images/NO\\no_1409061_6.jpg\n",
      "Deleted C:/Users/x4287225/Desktop/confounder-free-cnn/OCTDL/OCTDL images/NO\\no_1425855_1.jpg\n",
      "Deleted C:/Users/x4287225/Desktop/confounder-free-cnn/OCTDL/OCTDL images/NO\\no_1541453_1.jpg\n",
      "Deleted C:/Users/x4287225/Desktop/confounder-free-cnn/OCTDL/OCTDL images/NO\\no_1541453_2.jpg\n",
      "Deleted C:/Users/x4287225/Desktop/confounder-free-cnn/OCTDL/OCTDL images/NO\\no_1541453_3.jpg\n",
      "Deleted C:/Users/x4287225/Desktop/confounder-free-cnn/OCTDL/OCTDL images/NO\\no_1544727_1.jpg\n",
      "Deleted C:/Users/x4287225/Desktop/confounder-free-cnn/OCTDL/OCTDL images/NO\\no_1544727_2.jpg\n",
      "Deleted C:/Users/x4287225/Desktop/confounder-free-cnn/OCTDL/OCTDL images/NO\\no_1573735_1.jpg\n",
      "Deleted C:/Users/x4287225/Desktop/confounder-free-cnn/OCTDL/OCTDL images/NO\\no_1722482_1.jpg\n",
      "Deleted C:/Users/x4287225/Desktop/confounder-free-cnn/OCTDL/OCTDL images/NO\\no_1722482_2.jpg\n",
      "Deleted C:/Users/x4287225/Desktop/confounder-free-cnn/OCTDL/OCTDL images/NO\\no_1722482_3.jpg\n",
      "Deleted C:/Users/x4287225/Desktop/confounder-free-cnn/OCTDL/OCTDL images/NO\\no_1722482_4.jpg\n",
      "Deleted C:/Users/x4287225/Desktop/confounder-free-cnn/OCTDL/OCTDL images/NO\\no_1722482_5.jpg\n",
      "Deleted C:/Users/x4287225/Desktop/confounder-free-cnn/OCTDL/OCTDL images/NO\\no_1722482_6.jpg\n",
      "Deleted C:/Users/x4287225/Desktop/confounder-free-cnn/OCTDL/OCTDL images/NO\\no_1722482_7.jpg\n",
      "Deleted C:/Users/x4287225/Desktop/confounder-free-cnn/OCTDL/OCTDL images/NO\\no_1722482_8.jpg\n",
      "Deleted C:/Users/x4287225/Desktop/confounder-free-cnn/OCTDL/OCTDL images/NO\\no_1900103_1.jpg\n",
      "Deleted C:/Users/x4287225/Desktop/confounder-free-cnn/OCTDL/OCTDL images/NO\\no_1900103_2.jpg\n",
      "Deleted C:/Users/x4287225/Desktop/confounder-free-cnn/OCTDL/OCTDL images/NO\\no_1900103_3.jpg\n",
      "Deleted C:/Users/x4287225/Desktop/confounder-free-cnn/OCTDL/OCTDL images/NO\\no_1900103_4.jpg\n",
      "Deleted C:/Users/x4287225/Desktop/confounder-free-cnn/OCTDL/OCTDL images/NO\\no_2215432_1.jpg\n",
      "Deleted C:/Users/x4287225/Desktop/confounder-free-cnn/OCTDL/OCTDL images/NO\\no_2215432_2.jpg\n",
      "Deleted C:/Users/x4287225/Desktop/confounder-free-cnn/OCTDL/OCTDL images/NO\\no_2316477_1.jpg\n",
      "Deleted C:/Users/x4287225/Desktop/confounder-free-cnn/OCTDL/OCTDL images/NO\\no_2316477_2.jpg\n",
      "Deleted C:/Users/x4287225/Desktop/confounder-free-cnn/OCTDL/OCTDL images/NO\\no_2316477_3.jpg\n",
      "Deleted C:/Users/x4287225/Desktop/confounder-free-cnn/OCTDL/OCTDL images/NO\\no_2316477_4.jpg\n",
      "Deleted C:/Users/x4287225/Desktop/confounder-free-cnn/OCTDL/OCTDL images/NO\\no_2316477_5.jpg\n",
      "Deleted C:/Users/x4287225/Desktop/confounder-free-cnn/OCTDL/OCTDL images/NO\\no_2435735_1.jpg\n",
      "Deleted C:/Users/x4287225/Desktop/confounder-free-cnn/OCTDL/OCTDL images/NO\\no_2435735_2.jpg\n",
      "Deleted C:/Users/x4287225/Desktop/confounder-free-cnn/OCTDL/OCTDL images/NO\\no_2435735_3.jpg\n",
      "Deleted C:/Users/x4287225/Desktop/confounder-free-cnn/OCTDL/OCTDL images/NO\\no_2435735_4.jpg\n",
      "Deleted C:/Users/x4287225/Desktop/confounder-free-cnn/OCTDL/OCTDL images/NO\\no_2435735_5.jpg\n",
      "Deleted C:/Users/x4287225/Desktop/confounder-free-cnn/OCTDL/OCTDL images/NO\\no_2497093_1.jpg\n",
      "Deleted C:/Users/x4287225/Desktop/confounder-free-cnn/OCTDL/OCTDL images/NO\\no_2497093_2.jpg\n",
      "Deleted C:/Users/x4287225/Desktop/confounder-free-cnn/OCTDL/OCTDL images/NO\\no_2497093_3.jpg\n",
      "Deleted C:/Users/x4287225/Desktop/confounder-free-cnn/OCTDL/OCTDL images/NO\\no_2497093_4.jpg\n",
      "Deleted C:/Users/x4287225/Desktop/confounder-free-cnn/OCTDL/OCTDL images/NO\\no_2497093_5.jpg\n",
      "Deleted C:/Users/x4287225/Desktop/confounder-free-cnn/OCTDL/OCTDL images/NO\\no_2497093_6.jpg\n",
      "Deleted C:/Users/x4287225/Desktop/confounder-free-cnn/OCTDL/OCTDL images/NO\\no_2559301_1.jpg\n",
      "Deleted C:/Users/x4287225/Desktop/confounder-free-cnn/OCTDL/OCTDL images/NO\\no_2559301_2.jpg\n",
      "Deleted C:/Users/x4287225/Desktop/confounder-free-cnn/OCTDL/OCTDL images/NO\\no_2630526_1.jpg\n",
      "Deleted C:/Users/x4287225/Desktop/confounder-free-cnn/OCTDL/OCTDL images/NO\\no_2647444_1.jpg\n",
      "Deleted C:/Users/x4287225/Desktop/confounder-free-cnn/OCTDL/OCTDL images/NO\\no_2647444_2.jpg\n",
      "Deleted C:/Users/x4287225/Desktop/confounder-free-cnn/OCTDL/OCTDL images/NO\\no_2743200_1.jpg\n",
      "Deleted C:/Users/x4287225/Desktop/confounder-free-cnn/OCTDL/OCTDL images/NO\\no_2743200_2.jpg\n",
      "Deleted C:/Users/x4287225/Desktop/confounder-free-cnn/OCTDL/OCTDL images/NO\\no_2827755_1.jpg\n",
      "Deleted C:/Users/x4287225/Desktop/confounder-free-cnn/OCTDL/OCTDL images/NO\\no_2827755_2.jpg\n",
      "Deleted C:/Users/x4287225/Desktop/confounder-free-cnn/OCTDL/OCTDL images/NO\\no_2827755_3.jpg\n",
      "Deleted C:/Users/x4287225/Desktop/confounder-free-cnn/OCTDL/OCTDL images/NO\\no_2954836_1.jpg\n",
      "Deleted C:/Users/x4287225/Desktop/confounder-free-cnn/OCTDL/OCTDL images/NO\\no_2954836_2.jpg\n",
      "Deleted C:/Users/x4287225/Desktop/confounder-free-cnn/OCTDL/OCTDL images/NO\\no_2954836_3.jpg\n",
      "Deleted C:/Users/x4287225/Desktop/confounder-free-cnn/OCTDL/OCTDL images/NO\\no_2954836_4.jpg\n",
      "Deleted C:/Users/x4287225/Desktop/confounder-free-cnn/OCTDL/OCTDL images/NO\\no_2963516_1.jpg\n",
      "Deleted C:/Users/x4287225/Desktop/confounder-free-cnn/OCTDL/OCTDL images/NO\\no_2963516_2.jpg\n",
      "Deleted C:/Users/x4287225/Desktop/confounder-free-cnn/OCTDL/OCTDL images/NO\\no_2963516_3.jpg\n",
      "Deleted C:/Users/x4287225/Desktop/confounder-free-cnn/OCTDL/OCTDL images/NO\\no_2998550_1.jpg\n",
      "Deleted C:/Users/x4287225/Desktop/confounder-free-cnn/OCTDL/OCTDL images/NO\\no_2998550_2.jpg\n",
      "Deleted C:/Users/x4287225/Desktop/confounder-free-cnn/OCTDL/OCTDL images/NO\\no_2998550_3.jpg\n",
      "Deleted C:/Users/x4287225/Desktop/confounder-free-cnn/OCTDL/OCTDL images/NO\\no_2998550_4.jpg\n",
      "Deleted C:/Users/x4287225/Desktop/confounder-free-cnn/OCTDL/OCTDL images/NO\\no_2998550_5.jpg\n",
      "Deleted C:/Users/x4287225/Desktop/confounder-free-cnn/OCTDL/OCTDL images/NO\\no_3211291_1.jpg\n",
      "Deleted C:/Users/x4287225/Desktop/confounder-free-cnn/OCTDL/OCTDL images/NO\\no_3217068_1.jpg\n",
      "Deleted C:/Users/x4287225/Desktop/confounder-free-cnn/OCTDL/OCTDL images/NO\\no_3217068_2.jpg\n",
      "Deleted C:/Users/x4287225/Desktop/confounder-free-cnn/OCTDL/OCTDL images/NO\\no_3217068_3.jpg\n",
      "Deleted C:/Users/x4287225/Desktop/confounder-free-cnn/OCTDL/OCTDL images/NO\\no_3238025_1.jpg\n",
      "Deleted C:/Users/x4287225/Desktop/confounder-free-cnn/OCTDL/OCTDL images/NO\\no_3238025_2.jpg\n",
      "Deleted C:/Users/x4287225/Desktop/confounder-free-cnn/OCTDL/OCTDL images/NO\\no_3238025_3.jpg\n",
      "Deleted C:/Users/x4287225/Desktop/confounder-free-cnn/OCTDL/OCTDL images/NO\\no_3274030_1.jpg\n",
      "Deleted C:/Users/x4287225/Desktop/confounder-free-cnn/OCTDL/OCTDL images/NO\\no_3274030_2.jpg\n",
      "Deleted C:/Users/x4287225/Desktop/confounder-free-cnn/OCTDL/OCTDL images/NO\\no_3274030_3.jpg\n",
      "Deleted C:/Users/x4287225/Desktop/confounder-free-cnn/OCTDL/OCTDL images/NO\\no_3274030_4.jpg\n",
      "Deleted C:/Users/x4287225/Desktop/confounder-free-cnn/OCTDL/OCTDL images/NO\\no_3274030_5.jpg\n",
      "Deleted C:/Users/x4287225/Desktop/confounder-free-cnn/OCTDL/OCTDL images/NO\\no_3274030_6.jpg\n",
      "Deleted C:/Users/x4287225/Desktop/confounder-free-cnn/OCTDL/OCTDL images/NO\\no_3274030_7.jpg\n",
      "Deleted C:/Users/x4287225/Desktop/confounder-free-cnn/OCTDL/OCTDL images/NO\\no_3473619_1.jpg\n",
      "Deleted C:/Users/x4287225/Desktop/confounder-free-cnn/OCTDL/OCTDL images/NO\\no_3503302_1.jpg\n",
      "Deleted C:/Users/x4287225/Desktop/confounder-free-cnn/OCTDL/OCTDL images/NO\\no_3503302_2.jpg\n",
      "Deleted C:/Users/x4287225/Desktop/confounder-free-cnn/OCTDL/OCTDL images/NO\\no_3593297_1.jpg\n",
      "Deleted C:/Users/x4287225/Desktop/confounder-free-cnn/OCTDL/OCTDL images/NO\\no_3599990_1.jpg\n",
      "Deleted C:/Users/x4287225/Desktop/confounder-free-cnn/OCTDL/OCTDL images/NO\\no_3599990_2.jpg\n",
      "Deleted C:/Users/x4287225/Desktop/confounder-free-cnn/OCTDL/OCTDL images/NO\\no_3599990_3.jpg\n",
      "Deleted C:/Users/x4287225/Desktop/confounder-free-cnn/OCTDL/OCTDL images/NO\\no_3599990_4.jpg\n",
      "Deleted C:/Users/x4287225/Desktop/confounder-free-cnn/OCTDL/OCTDL images/NO\\no_3884649_1.jpg\n",
      "Deleted C:/Users/x4287225/Desktop/confounder-free-cnn/OCTDL/OCTDL images/NO\\no_3884649_2.jpg\n",
      "Deleted C:/Users/x4287225/Desktop/confounder-free-cnn/OCTDL/OCTDL images/NO\\no_3932840_1.jpg\n",
      "Deleted C:/Users/x4287225/Desktop/confounder-free-cnn/OCTDL/OCTDL images/NO\\no_3932840_2.jpg\n",
      "Deleted C:/Users/x4287225/Desktop/confounder-free-cnn/OCTDL/OCTDL images/NO\\no_3932840_3.jpg\n",
      "Deleted C:/Users/x4287225/Desktop/confounder-free-cnn/OCTDL/OCTDL images/NO\\no_4013465_1.jpg\n",
      "Deleted C:/Users/x4287225/Desktop/confounder-free-cnn/OCTDL/OCTDL images/NO\\no_4013465_2.jpg\n",
      "Deleted C:/Users/x4287225/Desktop/confounder-free-cnn/OCTDL/OCTDL images/NO\\no_4035394_1.jpg\n",
      "Deleted C:/Users/x4287225/Desktop/confounder-free-cnn/OCTDL/OCTDL images/NO\\no_4035394_2.jpg\n",
      "Deleted C:/Users/x4287225/Desktop/confounder-free-cnn/OCTDL/OCTDL images/NO\\no_4035394_3.jpg\n",
      "Deleted C:/Users/x4287225/Desktop/confounder-free-cnn/OCTDL/OCTDL images/NO\\no_4035394_4.jpg\n",
      "Deleted C:/Users/x4287225/Desktop/confounder-free-cnn/OCTDL/OCTDL images/NO\\no_4115243_1.jpg\n",
      "Deleted C:/Users/x4287225/Desktop/confounder-free-cnn/OCTDL/OCTDL images/NO\\no_4115243_2.jpg\n",
      "Deleted C:/Users/x4287225/Desktop/confounder-free-cnn/OCTDL/OCTDL images/NO\\no_4115243_3.jpg\n",
      "Deleted C:/Users/x4287225/Desktop/confounder-free-cnn/OCTDL/OCTDL images/NO\\no_4115243_4.jpg\n",
      "Deleted C:/Users/x4287225/Desktop/confounder-free-cnn/OCTDL/OCTDL images/NO\\no_4115243_5.jpg\n",
      "Deleted C:/Users/x4287225/Desktop/confounder-free-cnn/OCTDL/OCTDL images/NO\\no_4115243_6.jpg\n",
      "Deleted C:/Users/x4287225/Desktop/confounder-free-cnn/OCTDL/OCTDL images/NO\\no_4371398_1.jpg\n",
      "Deleted C:/Users/x4287225/Desktop/confounder-free-cnn/OCTDL/OCTDL images/NO\\no_4371398_2.jpg\n",
      "Deleted C:/Users/x4287225/Desktop/confounder-free-cnn/OCTDL/OCTDL images/NO\\no_4424497_1.jpg\n",
      "Deleted C:/Users/x4287225/Desktop/confounder-free-cnn/OCTDL/OCTDL images/NO\\no_4552006_1.jpg\n",
      "Deleted C:/Users/x4287225/Desktop/confounder-free-cnn/OCTDL/OCTDL images/NO\\no_4552006_2.jpg\n",
      "Deleted C:/Users/x4287225/Desktop/confounder-free-cnn/OCTDL/OCTDL images/NO\\no_4641074_1.jpg\n",
      "Deleted C:/Users/x4287225/Desktop/confounder-free-cnn/OCTDL/OCTDL images/NO\\no_4641074_2.jpg\n",
      "Deleted C:/Users/x4287225/Desktop/confounder-free-cnn/OCTDL/OCTDL images/NO\\no_4641074_3.jpg\n",
      "Deleted C:/Users/x4287225/Desktop/confounder-free-cnn/OCTDL/OCTDL images/NO\\no_4770681_1.jpg\n",
      "Deleted C:/Users/x4287225/Desktop/confounder-free-cnn/OCTDL/OCTDL images/NO\\no_4770681_2.jpg\n",
      "Deleted C:/Users/x4287225/Desktop/confounder-free-cnn/OCTDL/OCTDL images/NO\\no_4775536_1.jpg\n",
      "Deleted C:/Users/x4287225/Desktop/confounder-free-cnn/OCTDL/OCTDL images/NO\\no_4775536_2.jpg\n",
      "Deleted C:/Users/x4287225/Desktop/confounder-free-cnn/OCTDL/OCTDL images/NO\\no_4893358_1.jpg\n",
      "Deleted C:/Users/x4287225/Desktop/confounder-free-cnn/OCTDL/OCTDL images/NO\\no_4893358_2.jpg\n",
      "Deleted C:/Users/x4287225/Desktop/confounder-free-cnn/OCTDL/OCTDL images/NO\\no_4893358_3.jpg\n",
      "Deleted C:/Users/x4287225/Desktop/confounder-free-cnn/OCTDL/OCTDL images/NO\\no_4910748_1.jpg\n",
      "Deleted C:/Users/x4287225/Desktop/confounder-free-cnn/OCTDL/OCTDL images/NO\\no_4989962_1.jpg\n",
      "Deleted C:/Users/x4287225/Desktop/confounder-free-cnn/OCTDL/OCTDL images/NO\\no_5128512_1.jpg\n",
      "Deleted C:/Users/x4287225/Desktop/confounder-free-cnn/OCTDL/OCTDL images/NO\\no_5232582_1.jpg\n",
      "Deleted C:/Users/x4287225/Desktop/confounder-free-cnn/OCTDL/OCTDL images/NO\\no_5232582_2.jpg\n",
      "Deleted C:/Users/x4287225/Desktop/confounder-free-cnn/OCTDL/OCTDL images/NO\\no_5232582_3.jpg\n",
      "Deleted C:/Users/x4287225/Desktop/confounder-free-cnn/OCTDL/OCTDL images/NO\\no_5232582_4.jpg\n",
      "Deleted C:/Users/x4287225/Desktop/confounder-free-cnn/OCTDL/OCTDL images/NO\\no_5404372_1.jpg\n",
      "Deleted C:/Users/x4287225/Desktop/confounder-free-cnn/OCTDL/OCTDL images/NO\\no_5404372_2.jpg\n",
      "Deleted C:/Users/x4287225/Desktop/confounder-free-cnn/OCTDL/OCTDL images/NO\\no_5404372_3.jpg\n",
      "Deleted C:/Users/x4287225/Desktop/confounder-free-cnn/OCTDL/OCTDL images/NO\\no_5504078_1.jpg\n",
      "Deleted C:/Users/x4287225/Desktop/confounder-free-cnn/OCTDL/OCTDL images/NO\\no_5504078_2.jpg\n",
      "Deleted C:/Users/x4287225/Desktop/confounder-free-cnn/OCTDL/OCTDL images/NO\\no_5568303_1.jpg\n",
      "Deleted C:/Users/x4287225/Desktop/confounder-free-cnn/OCTDL/OCTDL images/NO\\no_5568303_2.jpg\n",
      "Deleted C:/Users/x4287225/Desktop/confounder-free-cnn/OCTDL/OCTDL images/NO\\no_5568303_3.jpg\n",
      "Deleted C:/Users/x4287225/Desktop/confounder-free-cnn/OCTDL/OCTDL images/NO\\no_5568862_1.jpg\n",
      "Deleted C:/Users/x4287225/Desktop/confounder-free-cnn/OCTDL/OCTDL images/NO\\no_5579663_1.jpg\n",
      "Deleted C:/Users/x4287225/Desktop/confounder-free-cnn/OCTDL/OCTDL images/NO\\no_5615007_1.jpg\n",
      "Deleted C:/Users/x4287225/Desktop/confounder-free-cnn/OCTDL/OCTDL images/NO\\no_5615007_2.jpg\n",
      "Deleted C:/Users/x4287225/Desktop/confounder-free-cnn/OCTDL/OCTDL images/NO\\no_5770081_1.jpg\n",
      "Deleted C:/Users/x4287225/Desktop/confounder-free-cnn/OCTDL/OCTDL images/NO\\no_5770081_2.jpg\n",
      "Deleted C:/Users/x4287225/Desktop/confounder-free-cnn/OCTDL/OCTDL images/NO\\no_6050468_1.jpg\n",
      "Deleted C:/Users/x4287225/Desktop/confounder-free-cnn/OCTDL/OCTDL images/NO\\no_6050468_2.jpg\n",
      "Deleted C:/Users/x4287225/Desktop/confounder-free-cnn/OCTDL/OCTDL images/NO\\no_6052119_1.jpg\n",
      "Deleted C:/Users/x4287225/Desktop/confounder-free-cnn/OCTDL/OCTDL images/NO\\no_6052119_2.jpg\n",
      "Deleted C:/Users/x4287225/Desktop/confounder-free-cnn/OCTDL/OCTDL images/NO\\no_6053204_1.jpg\n",
      "Deleted C:/Users/x4287225/Desktop/confounder-free-cnn/OCTDL/OCTDL images/NO\\no_6053204_2.jpg\n",
      "Deleted C:/Users/x4287225/Desktop/confounder-free-cnn/OCTDL/OCTDL images/NO\\no_6053204_3.jpg\n",
      "Deleted C:/Users/x4287225/Desktop/confounder-free-cnn/OCTDL/OCTDL images/NO\\no_6053204_4.jpg\n",
      "Deleted C:/Users/x4287225/Desktop/confounder-free-cnn/OCTDL/OCTDL images/NO\\no_6053204_5.jpg\n",
      "Deleted C:/Users/x4287225/Desktop/confounder-free-cnn/OCTDL/OCTDL images/NO\\no_6053204_6.jpg\n",
      "Deleted C:/Users/x4287225/Desktop/confounder-free-cnn/OCTDL/OCTDL images/NO\\no_6053204_7.jpg\n",
      "Deleted C:/Users/x4287225/Desktop/confounder-free-cnn/OCTDL/OCTDL images/NO\\no_6053204_8.jpg\n",
      "Deleted C:/Users/x4287225/Desktop/confounder-free-cnn/OCTDL/OCTDL images/NO\\no_6053204_9.jpg\n",
      "Deleted C:/Users/x4287225/Desktop/confounder-free-cnn/OCTDL/OCTDL images/NO\\no_6275676_1.jpg\n",
      "Deleted C:/Users/x4287225/Desktop/confounder-free-cnn/OCTDL/OCTDL images/NO\\no_6275676_2.jpg\n",
      "Deleted C:/Users/x4287225/Desktop/confounder-free-cnn/OCTDL/OCTDL images/NO\\no_6275676_3.jpg\n",
      "Deleted C:/Users/x4287225/Desktop/confounder-free-cnn/OCTDL/OCTDL images/NO\\no_6275676_4.jpg\n",
      "Deleted C:/Users/x4287225/Desktop/confounder-free-cnn/OCTDL/OCTDL images/NO\\no_6275676_5.jpg\n",
      "Deleted C:/Users/x4287225/Desktop/confounder-free-cnn/OCTDL/OCTDL images/NO\\no_6275676_6.jpg\n",
      "Deleted C:/Users/x4287225/Desktop/confounder-free-cnn/OCTDL/OCTDL images/NO\\no_6321529_1.jpg\n",
      "Deleted C:/Users/x4287225/Desktop/confounder-free-cnn/OCTDL/OCTDL images/NO\\no_6321529_2.jpg\n",
      "Deleted C:/Users/x4287225/Desktop/confounder-free-cnn/OCTDL/OCTDL images/NO\\no_6566453_1.jpg\n",
      "Deleted C:/Users/x4287225/Desktop/confounder-free-cnn/OCTDL/OCTDL images/NO\\no_6566453_2.jpg\n",
      "Deleted C:/Users/x4287225/Desktop/confounder-free-cnn/OCTDL/OCTDL images/NO\\no_6566453_3.jpg\n",
      "Deleted C:/Users/x4287225/Desktop/confounder-free-cnn/OCTDL/OCTDL images/NO\\no_6566453_4.jpg\n",
      "Deleted C:/Users/x4287225/Desktop/confounder-free-cnn/OCTDL/OCTDL images/NO\\no_6566453_5.jpg\n",
      "Deleted C:/Users/x4287225/Desktop/confounder-free-cnn/OCTDL/OCTDL images/NO\\no_6731956_1.jpg\n",
      "Deleted C:/Users/x4287225/Desktop/confounder-free-cnn/OCTDL/OCTDL images/NO\\no_6731956_2.jpg\n",
      "Deleted C:/Users/x4287225/Desktop/confounder-free-cnn/OCTDL/OCTDL images/NO\\no_6731956_3.jpg\n",
      "Deleted C:/Users/x4287225/Desktop/confounder-free-cnn/OCTDL/OCTDL images/NO\\no_6731956_4.jpg\n",
      "Deleted C:/Users/x4287225/Desktop/confounder-free-cnn/OCTDL/OCTDL images/NO\\no_6731956_5.jpg\n",
      "Deleted C:/Users/x4287225/Desktop/confounder-free-cnn/OCTDL/OCTDL images/NO\\no_6731956_6.jpg\n",
      "Deleted C:/Users/x4287225/Desktop/confounder-free-cnn/OCTDL/OCTDL images/NO\\no_6757381_1.jpg\n",
      "Deleted C:/Users/x4287225/Desktop/confounder-free-cnn/OCTDL/OCTDL images/NO\\no_6757381_2.jpg\n",
      "Deleted C:/Users/x4287225/Desktop/confounder-free-cnn/OCTDL/OCTDL images/NO\\no_6757381_3.jpg\n",
      "Deleted C:/Users/x4287225/Desktop/confounder-free-cnn/OCTDL/OCTDL images/NO\\no_6757381_4.jpg\n",
      "Deleted C:/Users/x4287225/Desktop/confounder-free-cnn/OCTDL/OCTDL images/NO\\no_6797415_1.jpg\n",
      "Deleted C:/Users/x4287225/Desktop/confounder-free-cnn/OCTDL/OCTDL images/NO\\no_6797415_2.jpg\n",
      "Deleted C:/Users/x4287225/Desktop/confounder-free-cnn/OCTDL/OCTDL images/NO\\no_6797415_3.jpg\n",
      "Deleted C:/Users/x4287225/Desktop/confounder-free-cnn/OCTDL/OCTDL images/NO\\no_6886669_1.jpg\n",
      "Deleted C:/Users/x4287225/Desktop/confounder-free-cnn/OCTDL/OCTDL images/NO\\no_6886669_2.jpg\n",
      "Deleted C:/Users/x4287225/Desktop/confounder-free-cnn/OCTDL/OCTDL images/NO\\no_6886669_3.jpg\n",
      "Deleted C:/Users/x4287225/Desktop/confounder-free-cnn/OCTDL/OCTDL images/NO\\no_6946896_1.jpg\n",
      "Deleted C:/Users/x4287225/Desktop/confounder-free-cnn/OCTDL/OCTDL images/NO\\no_6987249_1.jpg\n",
      "Deleted C:/Users/x4287225/Desktop/confounder-free-cnn/OCTDL/OCTDL images/NO\\no_6987249_2.jpg\n",
      "Deleted C:/Users/x4287225/Desktop/confounder-free-cnn/OCTDL/OCTDL images/NO\\no_6987249_3.jpg\n",
      "Deleted C:/Users/x4287225/Desktop/confounder-free-cnn/OCTDL/OCTDL images/NO\\no_6987249_4.jpg\n",
      "Deleted C:/Users/x4287225/Desktop/confounder-free-cnn/OCTDL/OCTDL images/NO\\no_6987249_5.jpg\n",
      "Deleted C:/Users/x4287225/Desktop/confounder-free-cnn/OCTDL/OCTDL images/NO\\no_6987249_6.jpg\n",
      "Deleted C:/Users/x4287225/Desktop/confounder-free-cnn/OCTDL/OCTDL images/NO\\no_7035263_1.jpg\n",
      "Deleted C:/Users/x4287225/Desktop/confounder-free-cnn/OCTDL/OCTDL images/NO\\no_7052103_1.jpg\n",
      "Deleted C:/Users/x4287225/Desktop/confounder-free-cnn/OCTDL/OCTDL images/NO\\no_7052103_2.jpg\n",
      "Deleted C:/Users/x4287225/Desktop/confounder-free-cnn/OCTDL/OCTDL images/NO\\no_7052103_3.jpg\n",
      "Deleted C:/Users/x4287225/Desktop/confounder-free-cnn/OCTDL/OCTDL images/NO\\no_7052103_4.jpg\n",
      "Deleted C:/Users/x4287225/Desktop/confounder-free-cnn/OCTDL/OCTDL images/NO\\no_7052103_5.jpg\n",
      "Deleted C:/Users/x4287225/Desktop/confounder-free-cnn/OCTDL/OCTDL images/NO\\no_7052103_6.jpg\n",
      "Deleted C:/Users/x4287225/Desktop/confounder-free-cnn/OCTDL/OCTDL images/NO\\no_7052103_7.jpg\n",
      "Deleted C:/Users/x4287225/Desktop/confounder-free-cnn/OCTDL/OCTDL images/NO\\no_7052103_8.jpg\n",
      "Deleted C:/Users/x4287225/Desktop/confounder-free-cnn/OCTDL/OCTDL images/NO\\no_7224912_1.jpg\n",
      "Deleted C:/Users/x4287225/Desktop/confounder-free-cnn/OCTDL/OCTDL images/NO\\no_7224912_2.jpg\n",
      "Deleted C:/Users/x4287225/Desktop/confounder-free-cnn/OCTDL/OCTDL images/NO\\no_7224912_3.jpg\n",
      "Deleted C:/Users/x4287225/Desktop/confounder-free-cnn/OCTDL/OCTDL images/NO\\no_7224912_4.jpg\n",
      "Deleted C:/Users/x4287225/Desktop/confounder-free-cnn/OCTDL/OCTDL images/NO\\no_7224912_5.jpg\n",
      "Deleted C:/Users/x4287225/Desktop/confounder-free-cnn/OCTDL/OCTDL images/NO\\no_7232197_1.jpg\n",
      "Deleted C:/Users/x4287225/Desktop/confounder-free-cnn/OCTDL/OCTDL images/NO\\no_7232197_2.jpg\n",
      "Deleted C:/Users/x4287225/Desktop/confounder-free-cnn/OCTDL/OCTDL images/NO\\no_7232197_3.jpg\n",
      "Deleted C:/Users/x4287225/Desktop/confounder-free-cnn/OCTDL/OCTDL images/NO\\no_7468093_1.jpg\n",
      "Deleted C:/Users/x4287225/Desktop/confounder-free-cnn/OCTDL/OCTDL images/NO\\no_7468093_2.jpg\n",
      "Deleted C:/Users/x4287225/Desktop/confounder-free-cnn/OCTDL/OCTDL images/NO\\no_7468093_3.jpg\n",
      "Deleted C:/Users/x4287225/Desktop/confounder-free-cnn/OCTDL/OCTDL images/NO\\no_7544273_1.jpg\n",
      "Deleted C:/Users/x4287225/Desktop/confounder-free-cnn/OCTDL/OCTDL images/NO\\no_7544273_2.jpg\n",
      "Deleted C:/Users/x4287225/Desktop/confounder-free-cnn/OCTDL/OCTDL images/NO\\no_7647664_1.jpg\n",
      "Deleted C:/Users/x4287225/Desktop/confounder-free-cnn/OCTDL/OCTDL images/NO\\no_7647664_2.jpg\n",
      "Deleted C:/Users/x4287225/Desktop/confounder-free-cnn/OCTDL/OCTDL images/NO\\no_7856551_1.jpg\n",
      "Deleted C:/Users/x4287225/Desktop/confounder-free-cnn/OCTDL/OCTDL images/NO\\no_7856551_2.jpg\n",
      "Deleted C:/Users/x4287225/Desktop/confounder-free-cnn/OCTDL/OCTDL images/NO\\no_7856551_3.jpg\n",
      "Deleted C:/Users/x4287225/Desktop/confounder-free-cnn/OCTDL/OCTDL images/NO\\no_7860459_1.jpg\n",
      "Deleted C:/Users/x4287225/Desktop/confounder-free-cnn/OCTDL/OCTDL images/NO\\no_7860459_2.jpg\n",
      "Deleted C:/Users/x4287225/Desktop/confounder-free-cnn/OCTDL/OCTDL images/NO\\no_7860459_3.jpg\n",
      "Deleted C:/Users/x4287225/Desktop/confounder-free-cnn/OCTDL/OCTDL images/NO\\no_7860459_4.jpg\n",
      "Deleted C:/Users/x4287225/Desktop/confounder-free-cnn/OCTDL/OCTDL images/NO\\no_7860459_5.jpg\n",
      "Deleted C:/Users/x4287225/Desktop/confounder-free-cnn/OCTDL/OCTDL images/NO\\no_7860459_6.jpg\n",
      "Deleted C:/Users/x4287225/Desktop/confounder-free-cnn/OCTDL/OCTDL images/NO\\no_7955135_1.jpg\n",
      "Deleted C:/Users/x4287225/Desktop/confounder-free-cnn/OCTDL/OCTDL images/NO\\no_7955135_2.jpg\n",
      "Deleted C:/Users/x4287225/Desktop/confounder-free-cnn/OCTDL/OCTDL images/NO\\no_8067424_1.jpg\n",
      "Deleted C:/Users/x4287225/Desktop/confounder-free-cnn/OCTDL/OCTDL images/NO\\no_8067424_2.jpg\n",
      "Deleted C:/Users/x4287225/Desktop/confounder-free-cnn/OCTDL/OCTDL images/NO\\no_8067424_3.jpg\n",
      "Deleted C:/Users/x4287225/Desktop/confounder-free-cnn/OCTDL/OCTDL images/NO\\no_8067424_4.jpg\n",
      "Deleted C:/Users/x4287225/Desktop/confounder-free-cnn/OCTDL/OCTDL images/NO\\no_8130100_1.jpg\n",
      "Deleted C:/Users/x4287225/Desktop/confounder-free-cnn/OCTDL/OCTDL images/NO\\no_8382920_1.jpg\n",
      "Deleted C:/Users/x4287225/Desktop/confounder-free-cnn/OCTDL/OCTDL images/NO\\no_8382920_2.jpg\n",
      "Deleted C:/Users/x4287225/Desktop/confounder-free-cnn/OCTDL/OCTDL images/NO\\no_8474091_1.jpg\n",
      "Deleted C:/Users/x4287225/Desktop/confounder-free-cnn/OCTDL/OCTDL images/NO\\no_8474091_2.jpg\n",
      "Deleted C:/Users/x4287225/Desktop/confounder-free-cnn/OCTDL/OCTDL images/NO\\no_8506116_1.jpg\n",
      "Deleted C:/Users/x4287225/Desktop/confounder-free-cnn/OCTDL/OCTDL images/NO\\no_8506116_2.jpg\n",
      "Deleted C:/Users/x4287225/Desktop/confounder-free-cnn/OCTDL/OCTDL images/NO\\no_8506973_1.jpg\n",
      "Deleted C:/Users/x4287225/Desktop/confounder-free-cnn/OCTDL/OCTDL images/NO\\no_8506973_2.jpg\n",
      "Deleted C:/Users/x4287225/Desktop/confounder-free-cnn/OCTDL/OCTDL images/NO\\no_8506973_3.jpg\n",
      "Deleted C:/Users/x4287225/Desktop/confounder-free-cnn/OCTDL/OCTDL images/NO\\no_8506973_4.jpg\n",
      "Deleted C:/Users/x4287225/Desktop/confounder-free-cnn/OCTDL/OCTDL images/NO\\no_8506973_5.jpg\n",
      "Deleted C:/Users/x4287225/Desktop/confounder-free-cnn/OCTDL/OCTDL images/NO\\no_8544230_1.jpg\n",
      "Deleted C:/Users/x4287225/Desktop/confounder-free-cnn/OCTDL/OCTDL images/NO\\no_8544230_2.jpg\n",
      "Deleted C:/Users/x4287225/Desktop/confounder-free-cnn/OCTDL/OCTDL images/NO\\no_8544230_3.jpg\n",
      "Deleted C:/Users/x4287225/Desktop/confounder-free-cnn/OCTDL/OCTDL images/NO\\no_8544230_4.jpg\n",
      "Deleted C:/Users/x4287225/Desktop/confounder-free-cnn/OCTDL/OCTDL images/NO\\no_8544230_5.jpg\n",
      "Deleted C:/Users/x4287225/Desktop/confounder-free-cnn/OCTDL/OCTDL images/NO\\no_8617991_1.jpg\n",
      "Deleted C:/Users/x4287225/Desktop/confounder-free-cnn/OCTDL/OCTDL images/NO\\no_8617991_2.jpg\n",
      "Deleted C:/Users/x4287225/Desktop/confounder-free-cnn/OCTDL/OCTDL images/NO\\no_8617991_3.jpg\n",
      "Deleted C:/Users/x4287225/Desktop/confounder-free-cnn/OCTDL/OCTDL images/NO\\no_8617991_4.jpg\n",
      "Deleted C:/Users/x4287225/Desktop/confounder-free-cnn/OCTDL/OCTDL images/NO\\no_8617991_5.jpg\n",
      "Deleted C:/Users/x4287225/Desktop/confounder-free-cnn/OCTDL/OCTDL images/NO\\no_8689539_1.jpg\n",
      "Deleted C:/Users/x4287225/Desktop/confounder-free-cnn/OCTDL/OCTDL images/NO\\no_8720079_1.jpg\n",
      "Deleted C:/Users/x4287225/Desktop/confounder-free-cnn/OCTDL/OCTDL images/NO\\no_8720079_2.jpg\n",
      "Deleted C:/Users/x4287225/Desktop/confounder-free-cnn/OCTDL/OCTDL images/NO\\no_9150597_1.jpg\n",
      "Deleted C:/Users/x4287225/Desktop/confounder-free-cnn/OCTDL/OCTDL images/NO\\no_9150597_2.jpg\n",
      "Deleted C:/Users/x4287225/Desktop/confounder-free-cnn/OCTDL/OCTDL images/NO\\no_9150597_3.jpg\n",
      "Deleted C:/Users/x4287225/Desktop/confounder-free-cnn/OCTDL/OCTDL images/NO\\no_9432434_1.jpg\n",
      "Deleted C:/Users/x4287225/Desktop/confounder-free-cnn/OCTDL/OCTDL images/NO\\no_9444960_1.jpg\n",
      "Deleted C:/Users/x4287225/Desktop/confounder-free-cnn/OCTDL/OCTDL images/NO\\no_9444960_2.jpg\n",
      "Deleted C:/Users/x4287225/Desktop/confounder-free-cnn/OCTDL/OCTDL images/NO\\no_9491695_1.jpg\n",
      "Deleted C:/Users/x4287225/Desktop/confounder-free-cnn/OCTDL/OCTDL images/NO\\no_9491695_2.jpg\n",
      "Deleted C:/Users/x4287225/Desktop/confounder-free-cnn/OCTDL/OCTDL images/NO\\no_9491695_3.jpg\n",
      "Deleted C:/Users/x4287225/Desktop/confounder-free-cnn/OCTDL/OCTDL images/NO\\no_9504302_1.jpg\n",
      "Deleted C:/Users/x4287225/Desktop/confounder-free-cnn/OCTDL/OCTDL images/NO\\no_9504302_2.jpg\n",
      "Deleted C:/Users/x4287225/Desktop/confounder-free-cnn/OCTDL/OCTDL images/NO\\no_9504302_3.jpg\n",
      "Deleted C:/Users/x4287225/Desktop/confounder-free-cnn/OCTDL/OCTDL images/NO\\no_9504302_4.jpg\n",
      "Deleted C:/Users/x4287225/Desktop/confounder-free-cnn/OCTDL/OCTDL images/NO\\no_9504302_5.jpg\n",
      "Deleted C:/Users/x4287225/Desktop/confounder-free-cnn/OCTDL/OCTDL images/NO\\no_9542487_1.jpg\n",
      "Deleted C:/Users/x4287225/Desktop/confounder-free-cnn/OCTDL/OCTDL images/NO\\no_9544708_1.jpg\n",
      "Deleted C:/Users/x4287225/Desktop/confounder-free-cnn/OCTDL/OCTDL images/NO\\no_9585367_1.jpg\n",
      "Deleted C:/Users/x4287225/Desktop/confounder-free-cnn/OCTDL/OCTDL images/NO\\no_9773651_1.jpg\n",
      "Deleted C:/Users/x4287225/Desktop/confounder-free-cnn/OCTDL/OCTDL images/NO\\no_9773651_2.jpg\n"
     ]
    }
   ],
   "source": [
    "\n",
    "image_ids = set(df['file_name'])\n",
    "base_directory = dir +  '/OCTDL images/'\n",
    "diseases = df['disease'].unique()\n",
    "\n",
    "for disease in diseases:\n",
    "    disease_folder_path = os.path.join(dataset_folder, disease)\n",
    "    \n",
    "    if not os.path.exists(disease_folder_path):\n",
    "        print(f\"Folder not found: {disease_folder_path}\")\n",
    "        continue\n",
    "    \n",
    "    files = os.listdir(disease_folder_path)\n",
    "    \n",
    "    for file in files:\n",
    "        if file.split('.')[0] not in image_ids:\n",
    "            file_path = os.path.join(disease_folder_path, file)\n",
    "            os.remove(file_path)\n",
    "            print(f\"Deleted {file_path}\")\n"
   ]
  },
  {
   "cell_type": "code",
   "execution_count": 16,
   "metadata": {},
   "outputs": [],
   "source": [
    "df['disease_modified'] = df['disease'].apply(lambda x: 'OTHERS' if x != 'AMD' else x)\n",
    "df['name_modified'] = df.apply(lambda row: f\"OTHERS{row['file_name'][3:]}\" if row['disease_modified'] == 'OTHERS' else row['file_name'], axis=1)\n",
    "df = df.drop(columns=['disease','file_name'], axis=1)  # Drop the original disease column\n",
    "df = df.rename(columns={'disease_modified': 'disease', 'name_modified': 'file_name'})"
   ]
  },
  {
   "cell_type": "code",
   "execution_count": 17,
   "metadata": {},
   "outputs": [],
   "source": [
    "labels = df['disease'].unique()\n",
    "labels = labels.tolist()"
   ]
  },
  {
   "cell_type": "code",
   "execution_count": 18,
   "metadata": {},
   "outputs": [
    {
     "name": "stdout",
     "output_type": "stream",
     "text": [
      "Images transferred and folders deleted successfully!\n"
     ]
    }
   ],
   "source": [
    "import os\n",
    "import shutil\n",
    "\n",
    "def transfer_and_delete(source_dir, target_dir, exclude_dir=\"AMD\"):\n",
    "\n",
    "  for subdir in os.listdir(source_dir):\n",
    "    if subdir != exclude_dir:\n",
    "      source_path = os.path.join(source_dir, subdir)\n",
    "      # Check if subdirectory exists\n",
    "      if os.path.isdir(source_path):\n",
    "        for filename in os.listdir(source_path):\n",
    "          # Check if file is an image (adjust extensions as needed)\n",
    "          if filename.lower().endswith((\".jpg\")):\n",
    "            file_path = os.path.join(source_path, filename)\n",
    "            # Create target directory if it doesn't exist\n",
    "            os.makedirs(target_dir, exist_ok=True)\n",
    "            new_filename = f\"OTHERS{filename[3:]}\"\n",
    "            target_path = os.path.join(target_dir, new_filename)\n",
    "            # Transfer the image file\n",
    "            shutil.move(file_path, target_path)\n",
    "        # Delete the subfolder after transferring images\n",
    "        os.rmdir(source_path)\n",
    "\n",
    "# Example usage (replace paths as needed)\n",
    "source_dir =  dir + \"/OCTDL images\"\n",
    "target_dir = dir + \"/OCTDL images/OTHERS\"\n",
    "\n",
    "transfer_and_delete(source_dir, target_dir)\n",
    "print(\"Images transferred and folders deleted successfully!\")\n",
    "\n",
    "\n"
   ]
  },
  {
   "cell_type": "code",
   "execution_count": 19,
   "metadata": {},
   "outputs": [
    {
     "name": "stderr",
     "output_type": "stream",
     "text": [
      "  0%|          | 0/2 [00:00<?, ?it/s]"
     ]
    },
    {
     "name": "stdout",
     "output_type": "stream",
     "text": [
      "AMD 209 49 90\n"
     ]
    },
    {
     "name": "stderr",
     "output_type": "stream",
     "text": [
      " 50%|█████     | 1/2 [00:05<00:05,  5.45s/it]"
     ]
    },
    {
     "name": "stdout",
     "output_type": "stream",
     "text": [
      "OTHERS 40 12 18\n"
     ]
    },
    {
     "name": "stderr",
     "output_type": "stream",
     "text": [
      "100%|██████████| 2/2 [00:06<00:00,  3.26s/it]\n"
     ]
    }
   ],
   "source": [
    "main()"
   ]
  },
  {
   "cell_type": "markdown",
   "metadata": {},
   "source": [
    "# Config file Prep"
   ]
  },
  {
   "cell_type": "code",
   "execution_count": 20,
   "metadata": {},
   "outputs": [],
   "source": [
    "\n",
    "# Load the YAML file\n",
    "with open(cg, 'r') as file:\n",
    "    config = yaml.safe_load(file)\n",
    "\n",
    "config['base']['data_path'] = output_folder\n",
    "config['base']['save_path'] = dir + '/run' \n",
    "config['solver']['learning_rate'] = 0.0003\n",
    "config['data']['num_classes'] = 2\n",
    "\n",
    "#config['base']['device'] = 'cuda'\n",
    "\n",
    "# Save the modified YAML back to the file\n",
    "with open(cg, 'w') as file:\n",
    "    yaml.safe_dump(config, file, default_flow_style=False)"
   ]
  },
  {
   "cell_type": "markdown",
   "metadata": {},
   "source": [
    "# Model execution"
   ]
  },
  {
   "cell_type": "code",
   "execution_count": 21,
   "metadata": {},
   "outputs": [],
   "source": [
    "def main_notebook(cfg_path, cfg_name):\n",
    "    cwd = os.getcwd()\n",
    "    \n",
    "    # Convert the absolute config path to a relative path\n",
    "    relative_cfg_path = os.path.relpath(cfg_path, cwd)\n",
    "    with initialize(config_path=relative_cfg_path):\n",
    "        cfg = compose(config_name=cfg_name)\n",
    "        worker(cfg)"
   ]
  },
  {
   "cell_type": "code",
   "execution_count": 22,
   "metadata": {},
   "outputs": [],
   "source": [
    "\n",
    "def worker(cfg):\n",
    "    if cfg.base.random_seed != -1:\n",
    "        seed = cfg.base.random_seed\n",
    "        set_random_seed(seed, cfg.base.cudnn_deterministic)\n",
    "\n",
    "    log_path = os.path.join(cfg.base.save_path, 'log')\n",
    "    logger = SummaryWriter(log_path)\n",
    "\n",
    "    # train\n",
    "    model = generate_model(cfg)\n",
    "    train_dataset, test_dataset, val_dataset = generate_dataset(cfg)\n",
    "    estimator = Estimator(cfg.train.metrics, cfg.data.num_classes, cfg.train.criterion)\n",
    "    train(\n",
    "        cfg=cfg,\n",
    "        model=model,\n",
    "        train_dataset=train_dataset,\n",
    "        val_dataset=val_dataset,\n",
    "        estimator=estimator,\n",
    "        logger=logger\n",
    "    )\n",
    "    # test\n",
    "    print('Performance of the best validation model:')\n",
    "    checkpoint = os.path.join(cfg.base.save_path, 'best_validation_weights.pt')\n",
    "    cfg.train.checkpoint = checkpoint\n",
    "    model = generate_model(cfg)\n",
    "    evaluate(cfg, model, test_dataset, estimator)\n",
    "\n",
    "    print('Performance of the final model:')\n",
    "    checkpoint = os.path.join(cfg.base.save_path, 'final_weights.pt')\n",
    "    cfg.train.checkpoint = checkpoint\n",
    "    model = generate_model(cfg)\n",
    "    evaluate(cfg, model, test_dataset, estimator)"
   ]
  },
  {
   "cell_type": "code",
   "execution_count": 23,
   "metadata": {},
   "outputs": [],
   "source": [
    "def set_random_seed(seed, deterministic=False):\n",
    "    random.seed(seed)\n",
    "    np.random.seed(seed)\n",
    "    torch.manual_seed(seed)\n",
    "    torch.cuda.manual_seed(seed)\n",
    "    torch.backends.cudnn.deterministic = deterministic"
   ]
  },
  {
   "cell_type": "code",
   "execution_count": 24,
   "metadata": {},
   "outputs": [
    {
     "name": "stderr",
     "output_type": "stream",
     "text": [
      "C:\\Users\\x4287225\\AppData\\Local\\Temp\\ipykernel_26764\\2007835564.py:6: UserWarning: \n",
      "The version_base parameter is not specified.\n",
      "Please specify a compatability version level, or None.\n",
      "Will assume defaults for version 1.1\n",
      "  with initialize(config_path=relative_cfg_path):\n"
     ]
    },
    {
     "name": "stdout",
     "output_type": "stream",
     "text": [
      "Calculating mean and std of training set for data normalization.\n"
     ]
    },
    {
     "name": "stderr",
     "output_type": "stream",
     "text": [
      "100%|██████████| 4/4 [00:15<00:00,  3.78s/it]\n",
      "100%|██████████| 4/4 [00:04<00:00,  1.01s/it]\n"
     ]
    },
    {
     "name": "stdout",
     "output_type": "stream",
     "text": [
      "mean: [0.08627883344888687, 0.08627885580062866, 0.08627854287624359]\n",
      "std: [0.15839244425296783, 0.15839247405529022, 0.15839235484600067]\n",
      "=========================\n",
      "Dataset Loaded.\n",
      "Categories:\t2\n",
      "Training:\t249\n",
      "Validation:\t61\n",
      "Test:\t\t108\n",
      "=========================\n"
     ]
    },
    {
     "name": "stderr",
     "output_type": "stream",
     "text": [
      "  0%|          | 0/3 [00:00<?, ?it/s]c:\\Users\\x4287225\\Desktop\\confounder-free-cnn\\env\\Lib\\site-packages\\torcheval\\metrics\\functional\\classification\\accuracy.py:275: UserWarning: The reduce argument of torch.scatter with Tensor src is deprecated and will be removed in a future PyTorch release. Use torch.scatter_reduce instead for more reduction options. (Triggered internally at ..\\aten\\src\\ATen\\native\\TensorAdvancedIndexing.cpp:234.)\n",
      "  num_correct = mask.new_zeros(num_classes).scatter_(0, target, mask, reduce=\"add\")\n",
      "epoch: [1 / 100], loss: 1.071619: 100%|██████████| 3/3 [00:38<00:00, 12.91s/it]\n"
     ]
    },
    {
     "name": "stdout",
     "output_type": "stream",
     "text": [
      "Training metrics: acc: 0.4945, f1: 0.4891, auc: 0.4578, precision: 0.4944, recall: 0.4945\n",
      "===================\n",
      "Validation metrics:\n",
      "acc: 0.673469\n",
      "f1: 0.471861\n",
      "auc: 0.779762\n",
      "precision: 0.636364\n",
      "recall: 0.673469\n",
      "===================\n",
      "================================================================================\n",
      "Best acc in validation set. Model save at C:/Users/x4287225/Desktop/confounder-free-cnn/OCTDL/run\n",
      "================================================================================\n"
     ]
    },
    {
     "name": "stderr",
     "output_type": "stream",
     "text": [
      "epoch: [2 / 100], loss: 0.647908: 100%|██████████| 3/3 [00:37<00:00, 12.57s/it]\n"
     ]
    },
    {
     "name": "stdout",
     "output_type": "stream",
     "text": [
      "Training metrics: acc: 0.6493, f1: 0.6464, auc: 0.6922, precision: 0.6617, recall: 0.6493\n",
      "===================\n",
      "Validation metrics:\n",
      "acc: 0.520408\n",
      "f1: 0.20823\n",
      "auc: 0.889456\n",
      "precision: 0.601695\n",
      "recall: 0.520408\n",
      "===================\n"
     ]
    },
    {
     "name": "stderr",
     "output_type": "stream",
     "text": [
      "epoch: [3 / 100], loss: 1.253675: 100%|██████████| 3/3 [00:37<00:00, 12.53s/it]\n"
     ]
    },
    {
     "name": "stdout",
     "output_type": "stream",
     "text": [
      "Training metrics: acc: 0.569, f1: 0.5555, auc: 0.6096, precision: 0.5803, recall: 0.569\n",
      "===================\n",
      "Validation metrics:\n",
      "acc: 0.510204\n",
      "f1: 0.186667\n",
      "auc: 0.913265\n",
      "precision: 0.6\n",
      "recall: 0.510204\n",
      "===================\n"
     ]
    },
    {
     "name": "stderr",
     "output_type": "stream",
     "text": [
      "epoch: [4 / 100], loss: 0.681624: 100%|██████████| 3/3 [00:38<00:00, 12.80s/it]\n"
     ]
    },
    {
     "name": "stdout",
     "output_type": "stream",
     "text": [
      "Training metrics: acc: 0.5, f1: 0.3557, auc: 0.5721, precision: 0.276, recall: 0.5\n",
      "===================\n",
      "Validation metrics:\n",
      "acc: 0.5\n",
      "f1: 0.164384\n",
      "auc: 0.880952\n",
      "precision: 0.098361\n",
      "recall: 0.5\n",
      "===================\n"
     ]
    },
    {
     "name": "stderr",
     "output_type": "stream",
     "text": [
      "epoch: [5 / 100], loss: 0.662206: 100%|██████████| 3/3 [00:37<00:00, 12.66s/it]\n"
     ]
    },
    {
     "name": "stdout",
     "output_type": "stream",
     "text": [
      "Training metrics: acc: 0.6302, f1: 0.6238, auc: 0.6906, precision: 0.6397, recall: 0.6302\n",
      "===================\n",
      "Validation metrics:\n",
      "acc: 0.683674\n",
      "f1: 0.486839\n",
      "auc: 0.90051\n",
      "precision: 0.639535\n",
      "recall: 0.683674\n",
      "===================\n",
      "================================================================================\n",
      "Best acc in validation set. Model save at C:/Users/x4287225/Desktop/confounder-free-cnn/OCTDL/run\n",
      "================================================================================\n"
     ]
    },
    {
     "name": "stderr",
     "output_type": "stream",
     "text": [
      "epoch: [6 / 100], loss: 0.719493: 100%|██████████| 3/3 [00:36<00:00, 12.20s/it]\n"
     ]
    },
    {
     "name": "stdout",
     "output_type": "stream",
     "text": [
      "Training metrics: acc: 0.5606, f1: 0.5577, auc: 0.5837, precision: 0.5628, recall: 0.5606\n",
      "===================\n",
      "Validation metrics:\n",
      "acc: 0.541667\n",
      "f1: 0.526464\n",
      "auc: 0.944728\n",
      "precision: 0.908333\n",
      "recall: 0.541667\n",
      "===================\n"
     ]
    },
    {
     "name": "stderr",
     "output_type": "stream",
     "text": [
      "epoch: [7 / 100], loss: 0.675551: 100%|██████████| 3/3 [00:36<00:00, 12.16s/it]\n"
     ]
    },
    {
     "name": "stdout",
     "output_type": "stream",
     "text": [
      "Training metrics: acc: 0.5313, f1: 0.515, auc: 0.6436, precision: 0.5352, recall: 0.5313\n",
      "===================\n",
      "Validation metrics:\n",
      "acc: 0.5\n",
      "f1: 0.164384\n",
      "auc: 0.886905\n",
      "precision: 0.098361\n",
      "recall: 0.5\n",
      "===================\n"
     ]
    },
    {
     "name": "stderr",
     "output_type": "stream",
     "text": [
      "epoch: [8 / 100], loss: 0.645828: 100%|██████████| 3/3 [00:36<00:00, 12.22s/it]\n"
     ]
    },
    {
     "name": "stdout",
     "output_type": "stream",
     "text": [
      "Training metrics: acc: 0.5954, f1: 0.5914, auc: 0.6775, precision: 0.6039, recall: 0.5954\n",
      "===================\n",
      "Validation metrics:\n",
      "acc: 0.520408\n",
      "f1: 0.20823\n",
      "auc: 0.868197\n",
      "precision: 0.601695\n",
      "recall: 0.520408\n",
      "===================\n"
     ]
    },
    {
     "name": "stderr",
     "output_type": "stream",
     "text": [
      "epoch: [9 / 100], loss: 0.644661: 100%|██████████| 3/3 [00:36<00:00, 12.13s/it]\n"
     ]
    },
    {
     "name": "stdout",
     "output_type": "stream",
     "text": [
      "Training metrics: acc: 0.6555, f1: 0.6452, auc: 0.6789, precision: 0.6591, recall: 0.6555\n",
      "===================\n",
      "Validation metrics:\n",
      "acc: 0.734694\n",
      "f1: 0.559444\n",
      "auc: 0.897109\n",
      "precision: 0.657895\n",
      "recall: 0.734694\n",
      "===================\n",
      "================================================================================\n",
      "Best acc in validation set. Model save at C:/Users/x4287225/Desktop/confounder-free-cnn/OCTDL/run\n",
      "================================================================================\n"
     ]
    },
    {
     "name": "stderr",
     "output_type": "stream",
     "text": [
      "epoch: [10 / 100], loss: 0.621893: 100%|██████████| 3/3 [00:37<00:00, 12.39s/it]\n"
     ]
    },
    {
     "name": "stdout",
     "output_type": "stream",
     "text": [
      "Training metrics: acc: 0.6678, f1: 0.6667, auc: 0.7188, precision: 0.6678, recall: 0.6678\n",
      "===================\n",
      "Validation metrics:\n",
      "acc: 0.740646\n",
      "f1: 0.740646\n",
      "auc: 0.897959\n",
      "precision: 0.740646\n",
      "recall: 0.740646\n",
      "===================\n",
      "================================================================================\n",
      "Best acc in validation set. Model save at C:/Users/x4287225/Desktop/confounder-free-cnn/OCTDL/run\n",
      "================================================================================\n"
     ]
    },
    {
     "name": "stderr",
     "output_type": "stream",
     "text": [
      "epoch: [11 / 100], loss: 0.569005: 100%|██████████| 3/3 [00:37<00:00, 12.52s/it]\n"
     ]
    },
    {
     "name": "stdout",
     "output_type": "stream",
     "text": [
      "Training metrics: acc: 0.699, f1: 0.6995, auc: 0.7747, precision: 0.7004, recall: 0.699\n",
      "===================\n",
      "Validation metrics:\n",
      "acc: 0.5\n",
      "f1: 0.445455\n",
      "auc: 0.836735\n",
      "precision: 0.401639\n",
      "recall: 0.5\n",
      "===================\n"
     ]
    },
    {
     "name": "stderr",
     "output_type": "stream",
     "text": [
      "epoch: [12 / 100], loss: 0.680321: 100%|██████████| 3/3 [00:36<00:00, 12.12s/it]\n"
     ]
    },
    {
     "name": "stdout",
     "output_type": "stream",
     "text": [
      "Training metrics: acc: 0.6344, f1: 0.6344, auc: 0.7029, precision: 0.635, recall: 0.6344\n",
      "===================\n",
      "Validation metrics:\n",
      "acc: 0.755102\n",
      "f1: 0.587838\n",
      "auc: 0.963435\n",
      "precision: 0.666667\n",
      "recall: 0.755102\n",
      "===================\n",
      "================================================================================\n",
      "Best acc in validation set. Model save at C:/Users/x4287225/Desktop/confounder-free-cnn/OCTDL/run\n",
      "================================================================================\n"
     ]
    },
    {
     "name": "stderr",
     "output_type": "stream",
     "text": [
      "epoch: [13 / 100], loss: 0.601758: 100%|██████████| 3/3 [00:35<00:00, 11.99s/it]\n"
     ]
    },
    {
     "name": "stdout",
     "output_type": "stream",
     "text": [
      "Training metrics: acc: 0.6944, f1: 0.6855, auc: 0.7969, precision: 0.7154, recall: 0.6944\n",
      "===================\n",
      "Validation metrics:\n",
      "acc: 0.813776\n",
      "f1: 0.785965\n",
      "auc: 0.959184\n",
      "precision: 0.767391\n",
      "recall: 0.813776\n",
      "===================\n",
      "================================================================================\n",
      "Best acc in validation set. Model save at C:/Users/x4287225/Desktop/confounder-free-cnn/OCTDL/run\n",
      "================================================================================\n"
     ]
    },
    {
     "name": "stderr",
     "output_type": "stream",
     "text": [
      "epoch: [14 / 100], loss: 0.565448: 100%|██████████| 3/3 [00:36<00:00, 12.25s/it]\n"
     ]
    },
    {
     "name": "stdout",
     "output_type": "stream",
     "text": [
      "Training metrics: acc: 0.7267, f1: 0.7236, auc: 0.8159, precision: 0.7294, recall: 0.7267\n",
      "===================\n",
      "Validation metrics:\n",
      "acc: 0.632653\n",
      "f1: 0.409677\n",
      "auc: 0.957483\n",
      "precision: 0.625\n",
      "recall: 0.632653\n",
      "===================\n"
     ]
    },
    {
     "name": "stderr",
     "output_type": "stream",
     "text": [
      "epoch: [15 / 100], loss: 0.501727: 100%|██████████| 3/3 [00:36<00:00, 12.10s/it]\n"
     ]
    },
    {
     "name": "stdout",
     "output_type": "stream",
     "text": [
      "Training metrics: acc: 0.7612, f1: 0.7603, auc: 0.8386, precision: 0.7621, recall: 0.7612\n",
      "===================\n",
      "Validation metrics:\n",
      "acc: 0.834184\n",
      "f1: 0.823918\n",
      "auc: 0.956633\n",
      "precision: 0.814904\n",
      "recall: 0.834184\n",
      "===================\n",
      "================================================================================\n",
      "Best acc in validation set. Model save at C:/Users/x4287225/Desktop/confounder-free-cnn/OCTDL/run\n",
      "================================================================================\n"
     ]
    },
    {
     "name": "stderr",
     "output_type": "stream",
     "text": [
      "epoch: [16 / 100], loss: 0.493262: 100%|██████████| 3/3 [00:36<00:00, 12.17s/it]\n"
     ]
    },
    {
     "name": "stdout",
     "output_type": "stream",
     "text": [
      "Training metrics: acc: 0.7726, f1: 0.7733, auc: 0.8579, precision: 0.7745, recall: 0.7726\n",
      "===================\n",
      "Validation metrics:\n",
      "acc: 0.928571\n",
      "f1: 0.848635\n",
      "auc: 0.972789\n",
      "precision: 0.815789\n",
      "recall: 0.928571\n",
      "===================\n",
      "================================================================================\n",
      "Best acc in validation set. Model save at C:/Users/x4287225/Desktop/confounder-free-cnn/OCTDL/run\n",
      "================================================================================\n"
     ]
    },
    {
     "name": "stderr",
     "output_type": "stream",
     "text": [
      "epoch: [17 / 100], loss: 0.427160: 100%|██████████| 3/3 [00:37<00:00, 12.49s/it]\n"
     ]
    },
    {
     "name": "stdout",
     "output_type": "stream",
     "text": [
      "Training metrics: acc: 0.8133, f1: 0.8124, auc: 0.8917, precision: 0.8144, recall: 0.8133\n",
      "===================\n",
      "Validation metrics:\n",
      "acc: 0.928571\n",
      "f1: 0.848635\n",
      "auc: 0.977041\n",
      "precision: 0.815789\n",
      "recall: 0.928571\n",
      "===================\n"
     ]
    },
    {
     "name": "stderr",
     "output_type": "stream",
     "text": [
      "epoch: [18 / 100], loss: 0.393684: 100%|██████████| 3/3 [00:39<00:00, 13.17s/it]\n"
     ]
    },
    {
     "name": "stdout",
     "output_type": "stream",
     "text": [
      "Training metrics: acc: 0.8112, f1: 0.8017, auc: 0.9052, precision: 0.8179, recall: 0.8112\n",
      "===================\n",
      "Validation metrics:\n",
      "acc: 0.94898\n",
      "f1: 0.886911\n",
      "auc: 0.982993\n",
      "precision: 0.852941\n",
      "recall: 0.94898\n",
      "===================\n",
      "================================================================================\n",
      "Best acc in validation set. Model save at C:/Users/x4287225/Desktop/confounder-free-cnn/OCTDL/run\n",
      "================================================================================\n"
     ]
    },
    {
     "name": "stderr",
     "output_type": "stream",
     "text": [
      "epoch: [19 / 100], loss: 0.341065: 100%|██████████| 3/3 [00:37<00:00, 12.49s/it]\n"
     ]
    },
    {
     "name": "stdout",
     "output_type": "stream",
     "text": [
      "Training metrics: acc: 0.8352, f1: 0.8324, auc: 0.9359, precision: 0.8446, recall: 0.8352\n",
      "===================\n",
      "Validation metrics:\n",
      "acc: 0.94898\n",
      "f1: 0.886911\n",
      "auc: 0.986395\n",
      "precision: 0.852941\n",
      "recall: 0.94898\n",
      "===================\n"
     ]
    },
    {
     "name": "stderr",
     "output_type": "stream",
     "text": [
      "epoch: [20 / 100], loss: 0.380770: 100%|██████████| 3/3 [00:36<00:00, 12.11s/it]\n"
     ]
    },
    {
     "name": "stdout",
     "output_type": "stream",
     "text": [
      "Training metrics: acc: 0.8104, f1: 0.8112, auc: 0.9064, precision: 0.8148, recall: 0.8104\n",
      "===================\n",
      "Validation metrics:\n",
      "acc: 0.836735\n",
      "f1: 0.702439\n",
      "auc: 0.983844\n",
      "precision: 0.714286\n",
      "recall: 0.836735\n",
      "===================\n"
     ]
    },
    {
     "name": "stderr",
     "output_type": "stream",
     "text": [
      "epoch: [21 / 100], loss: 0.511650: 100%|██████████| 3/3 [00:37<00:00, 12.48s/it]\n"
     ]
    },
    {
     "name": "stdout",
     "output_type": "stream",
     "text": [
      "Training metrics: acc: 0.7997, f1: 0.7916, auc: 0.8456, precision: 0.801, recall: 0.7997\n",
      "===================\n",
      "Validation metrics:\n",
      "acc: 0.854592\n",
      "f1: 0.866052\n",
      "auc: 0.988095\n",
      "precision: 0.879091\n",
      "recall: 0.854592\n",
      "===================\n"
     ]
    },
    {
     "name": "stderr",
     "output_type": "stream",
     "text": [
      "epoch: [22 / 100], loss: 0.395124: 100%|██████████| 3/3 [00:37<00:00, 12.55s/it]\n"
     ]
    },
    {
     "name": "stdout",
     "output_type": "stream",
     "text": [
      "Training metrics: acc: 0.8424, f1: 0.8408, auc: 0.9536, precision: 0.8673, recall: 0.8424\n",
      "===================\n",
      "Validation metrics:\n",
      "acc: 0.94898\n",
      "f1: 0.886911\n",
      "auc: 0.988095\n",
      "precision: 0.852941\n",
      "recall: 0.94898\n",
      "===================\n"
     ]
    },
    {
     "name": "stderr",
     "output_type": "stream",
     "text": [
      "epoch: [23 / 100], loss: 0.381372: 100%|██████████| 3/3 [00:37<00:00, 12.54s/it]\n"
     ]
    },
    {
     "name": "stdout",
     "output_type": "stream",
     "text": [
      "Training metrics: acc: 0.832, f1: 0.8322, auc: 0.9146, precision: 0.839, recall: 0.832\n",
      "===================\n",
      "Validation metrics:\n",
      "acc: 0.918367\n",
      "f1: 0.830556\n",
      "auc: 0.994048\n",
      "precision: 0.8\n",
      "recall: 0.918367\n",
      "===================\n"
     ]
    },
    {
     "name": "stderr",
     "output_type": "stream",
     "text": [
      "epoch: [24 / 100], loss: 0.306445: 100%|██████████| 3/3 [00:36<00:00, 12.33s/it]\n"
     ]
    },
    {
     "name": "stdout",
     "output_type": "stream",
     "text": [
      "Training metrics: acc: 0.8548, f1: 0.8541, auc: 0.9439, precision: 0.8542, recall: 0.8548\n",
      "===================\n",
      "Validation metrics:\n",
      "acc: 0.969388\n",
      "f1: 0.928655\n",
      "auc: 1.0\n",
      "precision: 0.9\n",
      "recall: 0.969388\n",
      "===================\n",
      "================================================================================\n",
      "Best acc in validation set. Model save at C:/Users/x4287225/Desktop/confounder-free-cnn/OCTDL/run\n",
      "================================================================================\n"
     ]
    },
    {
     "name": "stderr",
     "output_type": "stream",
     "text": [
      "epoch: [25 / 100], loss: 0.229649: 100%|██████████| 3/3 [00:36<00:00, 12.11s/it]\n"
     ]
    },
    {
     "name": "stdout",
     "output_type": "stream",
     "text": [
      "Training metrics: acc: 0.906, f1: 0.9062, auc: 0.9727, precision: 0.9065, recall: 0.906\n",
      "===================\n",
      "Validation metrics:\n",
      "acc: 0.928571\n",
      "f1: 0.848635\n",
      "auc: 0.996599\n",
      "precision: 0.815789\n",
      "recall: 0.928571\n",
      "===================\n"
     ]
    },
    {
     "name": "stderr",
     "output_type": "stream",
     "text": [
      "epoch: [26 / 100], loss: 0.265295: 100%|██████████| 3/3 [00:36<00:00, 12.26s/it]\n"
     ]
    },
    {
     "name": "stdout",
     "output_type": "stream",
     "text": [
      "Training metrics: acc: 0.8898, f1: 0.8898, auc: 0.971, precision: 0.9009, recall: 0.8898\n",
      "===================\n",
      "Validation metrics:\n",
      "acc: 0.959184\n",
      "f1: 0.907295\n",
      "auc: 1.0\n",
      "precision: 0.875\n",
      "recall: 0.959184\n",
      "===================\n"
     ]
    },
    {
     "name": "stderr",
     "output_type": "stream",
     "text": [
      "epoch: [27 / 100], loss: 0.251382: 100%|██████████| 3/3 [00:36<00:00, 12.25s/it]\n"
     ]
    },
    {
     "name": "stdout",
     "output_type": "stream",
     "text": [
      "Training metrics: acc: 0.9091, f1: 0.9106, auc: 0.977, precision: 0.9134, recall: 0.9091\n",
      "===================\n",
      "Validation metrics:\n",
      "acc: 0.979592\n",
      "f1: 0.951122\n",
      "auc: 0.997449\n",
      "precision: 0.928571\n",
      "recall: 0.979592\n",
      "===================\n",
      "================================================================================\n",
      "Best acc in validation set. Model save at C:/Users/x4287225/Desktop/confounder-free-cnn/OCTDL/run\n",
      "================================================================================\n"
     ]
    },
    {
     "name": "stderr",
     "output_type": "stream",
     "text": [
      "epoch: [28 / 100], loss: 0.249652: 100%|██████████| 3/3 [00:36<00:00, 12.30s/it]\n"
     ]
    },
    {
     "name": "stdout",
     "output_type": "stream",
     "text": [
      "Training metrics: acc: 0.8913, f1: 0.8854, auc: 0.9662, precision: 0.8889, recall: 0.8913\n",
      "===================\n",
      "Validation metrics:\n",
      "acc: 0.938776\n",
      "f1: 0.867391\n",
      "auc: 0.993197\n",
      "precision: 0.833333\n",
      "recall: 0.938776\n",
      "===================\n"
     ]
    },
    {
     "name": "stderr",
     "output_type": "stream",
     "text": [
      "epoch: [29 / 100], loss: 0.235704: 100%|██████████| 3/3 [00:36<00:00, 12.27s/it]\n"
     ]
    },
    {
     "name": "stdout",
     "output_type": "stream",
     "text": [
      "Training metrics: acc: 0.9083, f1: 0.8957, auc: 0.9743, precision: 0.9029, recall: 0.9083\n",
      "===================\n",
      "Validation metrics:\n",
      "acc: 0.94898\n",
      "f1: 0.886911\n",
      "auc: 0.993197\n",
      "precision: 0.852941\n",
      "recall: 0.94898\n",
      "===================\n"
     ]
    },
    {
     "name": "stderr",
     "output_type": "stream",
     "text": [
      "epoch: [30 / 100], loss: 0.194165: 100%|██████████| 3/3 [00:37<00:00, 12.63s/it]\n"
     ]
    },
    {
     "name": "stdout",
     "output_type": "stream",
     "text": [
      "Training metrics: acc: 0.9209, f1: 0.9213, auc: 0.9828, precision: 0.9217, recall: 0.9209\n",
      "===================\n",
      "Validation metrics:\n",
      "acc: 0.959184\n",
      "f1: 0.907295\n",
      "auc: 0.986395\n",
      "precision: 0.875\n",
      "recall: 0.959184\n",
      "===================\n"
     ]
    },
    {
     "name": "stderr",
     "output_type": "stream",
     "text": [
      "epoch: [31 / 100], loss: 0.202587: 100%|██████████| 3/3 [00:36<00:00, 12.11s/it]\n"
     ]
    },
    {
     "name": "stdout",
     "output_type": "stream",
     "text": [
      "Training metrics: acc: 0.9375, f1: 0.9375, auc: 0.9755, precision: 0.9375, recall: 0.9375\n",
      "===================\n",
      "Validation metrics:\n",
      "acc: 0.94898\n",
      "f1: 0.886911\n",
      "auc: 0.992347\n",
      "precision: 0.852941\n",
      "recall: 0.94898\n",
      "===================\n"
     ]
    },
    {
     "name": "stderr",
     "output_type": "stream",
     "text": [
      "epoch: [32 / 100], loss: 0.256144: 100%|██████████| 3/3 [00:36<00:00, 12.27s/it]\n"
     ]
    },
    {
     "name": "stdout",
     "output_type": "stream",
     "text": [
      "Training metrics: acc: 0.8911, f1: 0.8851, auc: 0.9645, precision: 0.8861, recall: 0.8911\n",
      "===================\n",
      "Validation metrics:\n",
      "acc: 0.969388\n",
      "f1: 0.928655\n",
      "auc: 0.993197\n",
      "precision: 0.9\n",
      "recall: 0.969388\n",
      "===================\n"
     ]
    },
    {
     "name": "stderr",
     "output_type": "stream",
     "text": [
      "epoch: [33 / 100], loss: 0.147243: 100%|██████████| 3/3 [00:36<00:00, 12.23s/it]\n"
     ]
    },
    {
     "name": "stdout",
     "output_type": "stream",
     "text": [
      "Training metrics: acc: 0.9479, f1: 0.9479, auc: 0.9886, precision: 0.9481, recall: 0.9479\n",
      "===================\n",
      "Validation metrics:\n",
      "acc: 0.94898\n",
      "f1: 0.886911\n",
      "auc: 0.994898\n",
      "precision: 0.852941\n",
      "recall: 0.94898\n",
      "===================\n"
     ]
    },
    {
     "name": "stderr",
     "output_type": "stream",
     "text": [
      "epoch: [34 / 100], loss: 0.140369: 100%|██████████| 3/3 [00:36<00:00, 12.32s/it]\n"
     ]
    },
    {
     "name": "stdout",
     "output_type": "stream",
     "text": [
      "Training metrics: acc: 0.9681, f1: 0.9686, auc: 0.9799, precision: 0.9693, recall: 0.9681\n",
      "===================\n",
      "Validation metrics:\n",
      "acc: 0.94898\n",
      "f1: 0.886911\n",
      "auc: 0.994898\n",
      "precision: 0.852941\n",
      "recall: 0.94898\n",
      "===================\n"
     ]
    },
    {
     "name": "stderr",
     "output_type": "stream",
     "text": [
      "epoch: [35 / 100], loss: 0.183497: 100%|██████████| 3/3 [00:36<00:00, 12.27s/it]\n"
     ]
    },
    {
     "name": "stdout",
     "output_type": "stream",
     "text": [
      "Training metrics: acc: 0.9291, f1: 0.9271, auc: 0.976, precision: 0.9283, recall: 0.9291\n",
      "===================\n",
      "Validation metrics:\n",
      "acc: 0.989796\n",
      "f1: 0.974845\n",
      "auc: 0.994898\n",
      "precision: 0.961538\n",
      "recall: 0.989796\n",
      "===================\n",
      "================================================================================\n",
      "Best acc in validation set. Model save at C:/Users/x4287225/Desktop/confounder-free-cnn/OCTDL/run\n",
      "================================================================================\n"
     ]
    },
    {
     "name": "stderr",
     "output_type": "stream",
     "text": [
      "epoch: [36 / 100], loss: 0.178568: 100%|██████████| 3/3 [00:36<00:00, 12.08s/it]\n"
     ]
    },
    {
     "name": "stdout",
     "output_type": "stream",
     "text": [
      "Training metrics: acc: 0.9375, f1: 0.9375, auc: 0.9785, precision: 0.9375, recall: 0.9375\n",
      "===================\n",
      "Validation metrics:\n",
      "acc: 0.94898\n",
      "f1: 0.886911\n",
      "auc: 0.988095\n",
      "precision: 0.852941\n",
      "recall: 0.94898\n",
      "===================\n"
     ]
    },
    {
     "name": "stderr",
     "output_type": "stream",
     "text": [
      "epoch: [37 / 100], loss: 0.204588: 100%|██████████| 3/3 [00:36<00:00, 12.14s/it]\n"
     ]
    },
    {
     "name": "stdout",
     "output_type": "stream",
     "text": [
      "Training metrics: acc: 0.9383, f1: 0.9375, auc: 0.9667, precision: 0.9399, recall: 0.9383\n",
      "===================\n",
      "Validation metrics:\n",
      "acc: 0.959184\n",
      "f1: 0.907295\n",
      "auc: 0.994898\n",
      "precision: 0.875\n",
      "recall: 0.959184\n",
      "===================\n"
     ]
    },
    {
     "name": "stderr",
     "output_type": "stream",
     "text": [
      "epoch: [38 / 100], loss: 0.153249: 100%|██████████| 3/3 [00:36<00:00, 12.04s/it]\n"
     ]
    },
    {
     "name": "stdout",
     "output_type": "stream",
     "text": [
      "Training metrics: acc: 0.9425, f1: 0.9427, auc: 0.9874, precision: 0.9433, recall: 0.9425\n",
      "===================\n",
      "Validation metrics:\n",
      "acc: 0.959184\n",
      "f1: 0.907295\n",
      "auc: 0.998299\n",
      "precision: 0.875\n",
      "recall: 0.959184\n",
      "===================\n"
     ]
    },
    {
     "name": "stderr",
     "output_type": "stream",
     "text": [
      "epoch: [39 / 100], loss: 0.204809: 100%|██████████| 3/3 [00:36<00:00, 12.21s/it]\n"
     ]
    },
    {
     "name": "stdout",
     "output_type": "stream",
     "text": [
      "Training metrics: acc: 0.9144, f1: 0.9159, auc: 0.9704, precision: 0.9193, recall: 0.9144\n",
      "===================\n",
      "Validation metrics:\n",
      "acc: 0.989796\n",
      "f1: 0.974845\n",
      "auc: 0.998299\n",
      "precision: 0.961538\n",
      "recall: 0.989796\n",
      "===================\n"
     ]
    },
    {
     "name": "stderr",
     "output_type": "stream",
     "text": [
      "epoch: [40 / 100], loss: 0.128051: 100%|██████████| 3/3 [00:36<00:00, 12.33s/it]\n"
     ]
    },
    {
     "name": "stdout",
     "output_type": "stream",
     "text": [
      "Training metrics: acc: 0.9477, f1: 0.9479, auc: 0.9935, precision: 0.9489, recall: 0.9477\n",
      "===================\n",
      "Validation metrics:\n",
      "acc: 0.989796\n",
      "f1: 0.974845\n",
      "auc: 1.0\n",
      "precision: 0.961538\n",
      "recall: 0.989796\n",
      "===================\n"
     ]
    },
    {
     "name": "stderr",
     "output_type": "stream",
     "text": [
      "epoch: [41 / 100], loss: 0.110271: 100%|██████████| 3/3 [00:36<00:00, 12.17s/it]\n"
     ]
    },
    {
     "name": "stdout",
     "output_type": "stream",
     "text": [
      "Training metrics: acc: 0.9734, f1: 0.9739, auc: 0.9908, precision: 0.9748, recall: 0.9734\n",
      "===================\n",
      "Validation metrics:\n",
      "acc: 1.0\n",
      "f1: 1.0\n",
      "auc: 1.0\n",
      "precision: 1.0\n",
      "recall: 1.0\n",
      "===================\n",
      "================================================================================\n",
      "Best acc in validation set. Model save at C:/Users/x4287225/Desktop/confounder-free-cnn/OCTDL/run\n",
      "================================================================================\n"
     ]
    },
    {
     "name": "stderr",
     "output_type": "stream",
     "text": [
      "epoch: [42 / 100], loss: 0.071530: 100%|██████████| 3/3 [00:36<00:00, 12.14s/it]\n"
     ]
    },
    {
     "name": "stdout",
     "output_type": "stream",
     "text": [
      "Training metrics: acc: 0.9848, f1: 0.9844, auc: 0.9931, precision: 0.9844, recall: 0.9848\n",
      "===================\n",
      "Validation metrics:\n",
      "acc: 0.875\n",
      "f1: 0.91372\n",
      "auc: 1.0\n",
      "precision: 0.971154\n",
      "recall: 0.875\n",
      "===================\n"
     ]
    },
    {
     "name": "stderr",
     "output_type": "stream",
     "text": [
      "epoch: [43 / 100], loss: 0.218062: 100%|██████████| 3/3 [00:36<00:00, 12.07s/it]\n"
     ]
    },
    {
     "name": "stdout",
     "output_type": "stream",
     "text": [
      "Training metrics: acc: 0.9269, f1: 0.927, auc: 0.9789, precision: 0.928, recall: 0.9269\n",
      "===================\n",
      "Validation metrics:\n",
      "acc: 0.969388\n",
      "f1: 0.928655\n",
      "auc: 1.0\n",
      "precision: 0.9\n",
      "recall: 0.969388\n",
      "===================\n"
     ]
    },
    {
     "name": "stderr",
     "output_type": "stream",
     "text": [
      "epoch: [44 / 100], loss: 0.180171: 100%|██████████| 3/3 [00:36<00:00, 12.13s/it]\n"
     ]
    },
    {
     "name": "stdout",
     "output_type": "stream",
     "text": [
      "Training metrics: acc: 0.9344, f1: 0.9367, auc: 0.9881, precision: 0.9408, recall: 0.9344\n",
      "===================\n",
      "Validation metrics:\n",
      "acc: 1.0\n",
      "f1: 1.0\n",
      "auc: 1.0\n",
      "precision: 1.0\n",
      "recall: 1.0\n",
      "===================\n"
     ]
    },
    {
     "name": "stderr",
     "output_type": "stream",
     "text": [
      "epoch: [45 / 100], loss: 0.147759: 100%|██████████| 3/3 [00:36<00:00, 12.13s/it]\n"
     ]
    },
    {
     "name": "stdout",
     "output_type": "stream",
     "text": [
      "Training metrics: acc: 0.965, f1: 0.9635, auc: 0.9876, precision: 0.9633, recall: 0.965\n",
      "===================\n",
      "Validation metrics:\n",
      "acc: 0.958333\n",
      "f1: 0.97321\n",
      "auc: 1.0\n",
      "precision: 0.99\n",
      "recall: 0.958333\n",
      "===================\n"
     ]
    },
    {
     "name": "stderr",
     "output_type": "stream",
     "text": [
      "epoch: [46 / 100], loss: 0.213079: 100%|██████████| 3/3 [00:36<00:00, 12.33s/it]\n"
     ]
    },
    {
     "name": "stdout",
     "output_type": "stream",
     "text": [
      "Training metrics: acc: 0.9186, f1: 0.9167, auc: 0.9713, precision: 0.9179, recall: 0.9186\n",
      "===================\n",
      "Validation metrics:\n",
      "acc: 1.0\n",
      "f1: 1.0\n",
      "auc: 1.0\n",
      "precision: 1.0\n",
      "recall: 1.0\n",
      "===================\n"
     ]
    },
    {
     "name": "stderr",
     "output_type": "stream",
     "text": [
      "epoch: [47 / 100], loss: 0.133000: 100%|██████████| 3/3 [00:36<00:00, 12.30s/it]\n"
     ]
    },
    {
     "name": "stdout",
     "output_type": "stream",
     "text": [
      "Training metrics: acc: 0.9583, f1: 0.9583, auc: 0.9935, precision: 0.9585, recall: 0.9583\n",
      "===================\n",
      "Validation metrics:\n",
      "acc: 0.979592\n",
      "f1: 0.951122\n",
      "auc: 1.0\n",
      "precision: 0.928571\n",
      "recall: 0.979592\n",
      "===================\n"
     ]
    },
    {
     "name": "stderr",
     "output_type": "stream",
     "text": [
      "epoch: [48 / 100], loss: 0.177258: 100%|██████████| 3/3 [00:36<00:00, 12.30s/it]\n"
     ]
    },
    {
     "name": "stdout",
     "output_type": "stream",
     "text": [
      "Training metrics: acc: 0.9356, f1: 0.9319, auc: 0.9866, precision: 0.9307, recall: 0.9356\n",
      "===================\n",
      "Validation metrics:\n",
      "acc: 1.0\n",
      "f1: 1.0\n",
      "auc: 1.0\n",
      "precision: 1.0\n",
      "recall: 1.0\n",
      "===================\n"
     ]
    },
    {
     "name": "stderr",
     "output_type": "stream",
     "text": [
      "epoch: [49 / 100], loss: 0.079631: 100%|██████████| 3/3 [00:35<00:00, 11.93s/it]\n"
     ]
    },
    {
     "name": "stdout",
     "output_type": "stream",
     "text": [
      "Training metrics: acc: 0.9719, f1: 0.9737, auc: 0.9954, precision: 0.9769, recall: 0.9719\n",
      "===================\n",
      "Validation metrics:\n",
      "acc: 0.989796\n",
      "f1: 0.974845\n",
      "auc: 1.0\n",
      "precision: 0.961538\n",
      "recall: 0.989796\n",
      "===================\n"
     ]
    },
    {
     "name": "stderr",
     "output_type": "stream",
     "text": [
      "epoch: [50 / 100], loss: 0.106328: 100%|██████████| 3/3 [00:36<00:00, 12.23s/it]\n"
     ]
    },
    {
     "name": "stdout",
     "output_type": "stream",
     "text": [
      "Training metrics: acc: 0.9733, f1: 0.9739, auc: 0.9883, precision: 0.975, recall: 0.9733\n",
      "===================\n",
      "Validation metrics:\n",
      "acc: 0.708333\n",
      "f1: 0.760784\n",
      "auc: 1.0\n",
      "precision: 0.9375\n",
      "recall: 0.708333\n",
      "===================\n"
     ]
    },
    {
     "name": "stderr",
     "output_type": "stream",
     "text": [
      "epoch: [51 / 100], loss: 0.073844: 100%|██████████| 3/3 [00:36<00:00, 12.22s/it]\n"
     ]
    },
    {
     "name": "stdout",
     "output_type": "stream",
     "text": [
      "Training metrics: acc: 0.9747, f1: 0.9739, auc: 0.9958, precision: 0.9736, recall: 0.9747\n",
      "===================\n",
      "Validation metrics:\n",
      "acc: 0.969388\n",
      "f1: 0.928655\n",
      "auc: 1.0\n",
      "precision: 0.9\n",
      "recall: 0.969388\n",
      "===================\n"
     ]
    },
    {
     "name": "stderr",
     "output_type": "stream",
     "text": [
      "epoch: [52 / 100], loss: 0.207126: 100%|██████████| 3/3 [00:37<00:00, 12.38s/it]\n"
     ]
    },
    {
     "name": "stdout",
     "output_type": "stream",
     "text": [
      "Training metrics: acc: 0.9433, f1: 0.9426, auc: 0.9872, precision: 0.9481, recall: 0.9433\n",
      "===================\n",
      "Validation metrics:\n",
      "acc: 0.979592\n",
      "f1: 0.951122\n",
      "auc: 1.0\n",
      "precision: 0.928571\n",
      "recall: 0.979592\n",
      "===================\n"
     ]
    },
    {
     "name": "stderr",
     "output_type": "stream",
     "text": [
      "epoch: [53 / 100], loss: 0.155552: 100%|██████████| 3/3 [00:36<00:00, 12.32s/it]\n"
     ]
    },
    {
     "name": "stdout",
     "output_type": "stream",
     "text": [
      "Training metrics: acc: 0.9537, f1: 0.9531, auc: 0.9809, precision: 0.953, recall: 0.9537\n",
      "===================\n",
      "Validation metrics:\n",
      "acc: 1.0\n",
      "f1: 1.0\n",
      "auc: 1.0\n",
      "precision: 1.0\n",
      "recall: 1.0\n",
      "===================\n"
     ]
    },
    {
     "name": "stderr",
     "output_type": "stream",
     "text": [
      "epoch: [54 / 100], loss: 0.068819: 100%|██████████| 3/3 [00:36<00:00, 12.31s/it]\n"
     ]
    },
    {
     "name": "stdout",
     "output_type": "stream",
     "text": [
      "Training metrics: acc: 0.9778, f1: 0.9789, auc: 0.998, precision: 0.9802, recall: 0.9778\n",
      "===================\n",
      "Validation metrics:\n",
      "acc: 0.938776\n",
      "f1: 0.867391\n",
      "auc: 1.0\n",
      "precision: 0.833333\n",
      "recall: 0.938776\n",
      "===================\n"
     ]
    },
    {
     "name": "stderr",
     "output_type": "stream",
     "text": [
      "epoch: [55 / 100], loss: 0.136107: 100%|██████████| 3/3 [00:36<00:00, 12.15s/it]\n"
     ]
    },
    {
     "name": "stdout",
     "output_type": "stream",
     "text": [
      "Training metrics: acc: 0.9524, f1: 0.9462, auc: 0.9877, precision: 0.9421, recall: 0.9524\n",
      "===================\n",
      "Validation metrics:\n",
      "acc: 0.938776\n",
      "f1: 0.867391\n",
      "auc: 1.0\n",
      "precision: 0.833333\n",
      "recall: 0.938776\n",
      "===================\n"
     ]
    },
    {
     "name": "stderr",
     "output_type": "stream",
     "text": [
      "epoch: [56 / 100], loss: 0.172592: 100%|██████████| 3/3 [00:36<00:00, 12.27s/it]\n"
     ]
    },
    {
     "name": "stdout",
     "output_type": "stream",
     "text": [
      "Training metrics: acc: 0.9222, f1: 0.9219, auc: 0.9814, precision: 0.922, recall: 0.9222\n",
      "===================\n",
      "Validation metrics:\n",
      "acc: 0.969388\n",
      "f1: 0.928655\n",
      "auc: 1.0\n",
      "precision: 0.9\n",
      "recall: 0.969388\n",
      "===================\n"
     ]
    },
    {
     "name": "stderr",
     "output_type": "stream",
     "text": [
      "epoch: [57 / 100], loss: 0.100842: 100%|██████████| 3/3 [00:37<00:00, 12.35s/it]\n"
     ]
    },
    {
     "name": "stdout",
     "output_type": "stream",
     "text": [
      "Training metrics: acc: 0.9826, f1: 0.9785, auc: 0.9989, precision: 0.9753, recall: 0.9826\n",
      "===================\n",
      "Validation metrics:\n",
      "acc: 0.979592\n",
      "f1: 0.951122\n",
      "auc: 1.0\n",
      "precision: 0.928571\n",
      "recall: 0.979592\n",
      "===================\n"
     ]
    },
    {
     "name": "stderr",
     "output_type": "stream",
     "text": [
      "epoch: [58 / 100], loss: 0.078952: 100%|██████████| 3/3 [00:36<00:00, 12.29s/it]\n"
     ]
    },
    {
     "name": "stdout",
     "output_type": "stream",
     "text": [
      "Training metrics: acc: 0.9791, f1: 0.9791, auc: 0.994, precision: 0.9791, recall: 0.9791\n",
      "===================\n",
      "Validation metrics:\n",
      "acc: 0.979592\n",
      "f1: 0.951122\n",
      "auc: 1.0\n",
      "precision: 0.928571\n",
      "recall: 0.979592\n",
      "===================\n"
     ]
    },
    {
     "name": "stderr",
     "output_type": "stream",
     "text": [
      "epoch: [59 / 100], loss: 0.035589: 100%|██████████| 3/3 [00:36<00:00, 12.29s/it]\n"
     ]
    },
    {
     "name": "stdout",
     "output_type": "stream",
     "text": [
      "Training metrics: acc: 0.9831, f1: 0.9843, auc: 1.0, precision: 0.9858, recall: 0.9831\n",
      "===================\n",
      "Validation metrics:\n",
      "acc: 0.979592\n",
      "f1: 0.951122\n",
      "auc: 1.0\n",
      "precision: 0.928571\n",
      "recall: 0.979592\n",
      "===================\n"
     ]
    },
    {
     "name": "stderr",
     "output_type": "stream",
     "text": [
      "epoch: [60 / 100], loss: 0.079581: 100%|██████████| 3/3 [00:36<00:00, 12.24s/it]\n"
     ]
    },
    {
     "name": "stdout",
     "output_type": "stream",
     "text": [
      "Training metrics: acc: 0.9621, f1: 0.9633, auc: 0.9978, precision: 0.9659, recall: 0.9621\n",
      "===================\n",
      "Validation metrics:\n",
      "acc: 1.0\n",
      "f1: 1.0\n",
      "auc: 1.0\n",
      "precision: 1.0\n",
      "recall: 1.0\n",
      "===================\n"
     ]
    },
    {
     "name": "stderr",
     "output_type": "stream",
     "text": [
      "epoch: [61 / 100], loss: 0.084533: 100%|██████████| 3/3 [00:36<00:00, 12.09s/it]\n"
     ]
    },
    {
     "name": "stdout",
     "output_type": "stream",
     "text": [
      "Training metrics: acc: 0.9751, f1: 0.9738, auc: 0.9974, precision: 0.9731, recall: 0.9751\n",
      "===================\n",
      "Validation metrics:\n",
      "acc: 0.989796\n",
      "f1: 0.974845\n",
      "auc: 1.0\n",
      "precision: 0.961538\n",
      "recall: 0.989796\n",
      "===================\n"
     ]
    },
    {
     "name": "stderr",
     "output_type": "stream",
     "text": [
      "epoch: [62 / 100], loss: 0.071736: 100%|██████████| 3/3 [00:36<00:00, 12.31s/it]\n"
     ]
    },
    {
     "name": "stdout",
     "output_type": "stream",
     "text": [
      "Training metrics: acc: 0.9789, f1: 0.9791, auc: 0.9949, precision: 0.9802, recall: 0.9789\n",
      "===================\n",
      "Validation metrics:\n",
      "acc: 0.989796\n",
      "f1: 0.974845\n",
      "auc: 1.0\n",
      "precision: 0.961538\n",
      "recall: 0.989796\n",
      "===================\n"
     ]
    },
    {
     "name": "stderr",
     "output_type": "stream",
     "text": [
      "epoch: [63 / 100], loss: 0.051115: 100%|██████████| 3/3 [00:37<00:00, 12.43s/it]\n"
     ]
    },
    {
     "name": "stdout",
     "output_type": "stream",
     "text": [
      "Training metrics: acc: 0.9815, f1: 0.9789, auc: 0.9979, precision: 0.9773, recall: 0.9815\n",
      "===================\n",
      "Validation metrics:\n",
      "acc: 0.989796\n",
      "f1: 0.974845\n",
      "auc: 1.0\n",
      "precision: 0.961538\n",
      "recall: 0.989796\n",
      "===================\n"
     ]
    },
    {
     "name": "stderr",
     "output_type": "stream",
     "text": [
      "epoch: [64 / 100], loss: 0.115545: 100%|██████████| 3/3 [00:36<00:00, 12.23s/it]\n"
     ]
    },
    {
     "name": "stdout",
     "output_type": "stream",
     "text": [
      "Training metrics: acc: 0.9631, f1: 0.9634, auc: 0.9889, precision: 0.9637, recall: 0.9631\n",
      "===================\n",
      "Validation metrics:\n",
      "acc: 0.979592\n",
      "f1: 0.951122\n",
      "auc: 1.0\n",
      "precision: 0.928571\n",
      "recall: 0.979592\n",
      "===================\n"
     ]
    },
    {
     "name": "stderr",
     "output_type": "stream",
     "text": [
      "epoch: [65 / 100], loss: 0.080120: 100%|██████████| 3/3 [00:36<00:00, 12.29s/it]\n"
     ]
    },
    {
     "name": "stdout",
     "output_type": "stream",
     "text": [
      "Training metrics: acc: 0.9857, f1: 0.9843, auc: 0.9947, precision: 0.9833, recall: 0.9857\n",
      "===================\n",
      "Validation metrics:\n",
      "acc: 0.979592\n",
      "f1: 0.951122\n",
      "auc: 1.0\n",
      "precision: 0.928571\n",
      "recall: 0.979592\n",
      "===================\n"
     ]
    },
    {
     "name": "stderr",
     "output_type": "stream",
     "text": [
      "epoch: [66 / 100], loss: 0.067563: 100%|██████████| 3/3 [00:36<00:00, 12.30s/it]\n"
     ]
    },
    {
     "name": "stdout",
     "output_type": "stream",
     "text": [
      "Training metrics: acc: 0.9773, f1: 0.9789, auc: 0.9959, precision: 0.9815, recall: 0.9773\n",
      "===================\n",
      "Validation metrics:\n",
      "acc: 0.989796\n",
      "f1: 0.974845\n",
      "auc: 1.0\n",
      "precision: 0.961538\n",
      "recall: 0.989796\n",
      "===================\n"
     ]
    },
    {
     "name": "stderr",
     "output_type": "stream",
     "text": [
      "epoch: [67 / 100], loss: 0.069014: 100%|██████████| 3/3 [00:36<00:00, 12.23s/it]\n"
     ]
    },
    {
     "name": "stdout",
     "output_type": "stream",
     "text": [
      "Training metrics: acc: 0.979, f1: 0.979, auc: 0.996, precision: 0.979, recall: 0.979\n",
      "===================\n",
      "Validation metrics:\n",
      "acc: 1.0\n",
      "f1: 1.0\n",
      "auc: 1.0\n",
      "precision: 1.0\n",
      "recall: 1.0\n",
      "===================\n"
     ]
    },
    {
     "name": "stderr",
     "output_type": "stream",
     "text": [
      "epoch: [68 / 100], loss: 0.073687: 100%|██████████| 3/3 [00:37<00:00, 12.37s/it]\n"
     ]
    },
    {
     "name": "stdout",
     "output_type": "stream",
     "text": [
      "Training metrics: acc: 0.9792, f1: 0.9792, auc: 0.9966, precision: 0.9792, recall: 0.9792\n",
      "===================\n",
      "Validation metrics:\n",
      "acc: 0.989796\n",
      "f1: 0.974845\n",
      "auc: 1.0\n",
      "precision: 0.961538\n",
      "recall: 0.989796\n",
      "===================\n"
     ]
    },
    {
     "name": "stderr",
     "output_type": "stream",
     "text": [
      "epoch: [69 / 100], loss: 0.062599: 100%|██████████| 3/3 [00:36<00:00, 12.31s/it]\n"
     ]
    },
    {
     "name": "stdout",
     "output_type": "stream",
     "text": [
      "Training metrics: acc: 0.9775, f1: 0.9788, auc: 0.998, precision: 0.9803, recall: 0.9775\n",
      "===================\n",
      "Validation metrics:\n",
      "acc: 0.979592\n",
      "f1: 0.951122\n",
      "auc: 1.0\n",
      "precision: 0.928571\n",
      "recall: 0.979592\n",
      "===================\n"
     ]
    },
    {
     "name": "stderr",
     "output_type": "stream",
     "text": [
      "epoch: [70 / 100], loss: 0.109026: 100%|██████████| 3/3 [00:36<00:00, 12.28s/it]\n"
     ]
    },
    {
     "name": "stdout",
     "output_type": "stream",
     "text": [
      "Training metrics: acc: 0.9803, f1: 0.9787, auc: 0.9904, precision: 0.9773, recall: 0.9803\n",
      "===================\n",
      "Validation metrics:\n",
      "acc: 0.979592\n",
      "f1: 0.951122\n",
      "auc: 1.0\n",
      "precision: 0.928571\n",
      "recall: 0.979592\n",
      "===================\n"
     ]
    },
    {
     "name": "stderr",
     "output_type": "stream",
     "text": [
      "epoch: [71 / 100], loss: 0.035995: 100%|██████████| 3/3 [00:36<00:00, 12.12s/it]\n"
     ]
    },
    {
     "name": "stdout",
     "output_type": "stream",
     "text": [
      "Training metrics: acc: 0.9919, f1: 0.9888, auc: 1.0, precision: 0.9859, recall: 0.9919\n",
      "===================\n",
      "Validation metrics:\n",
      "acc: 0.979592\n",
      "f1: 0.951122\n",
      "auc: 1.0\n",
      "precision: 0.928571\n",
      "recall: 0.979592\n",
      "===================\n"
     ]
    },
    {
     "name": "stderr",
     "output_type": "stream",
     "text": [
      "epoch: [72 / 100], loss: 0.054310: 100%|██████████| 3/3 [00:36<00:00, 12.21s/it]\n"
     ]
    },
    {
     "name": "stdout",
     "output_type": "stream",
     "text": [
      "Training metrics: acc: 0.9828, f1: 0.9842, auc: 0.9962, precision: 0.9861, recall: 0.9828\n",
      "===================\n",
      "Validation metrics:\n",
      "acc: 0.989796\n",
      "f1: 0.974845\n",
      "auc: 1.0\n",
      "precision: 0.961538\n",
      "recall: 0.989796\n",
      "===================\n"
     ]
    },
    {
     "name": "stderr",
     "output_type": "stream",
     "text": [
      "epoch: [73 / 100], loss: 0.051065: 100%|██████████| 3/3 [00:36<00:00, 12.17s/it]\n"
     ]
    },
    {
     "name": "stdout",
     "output_type": "stream",
     "text": [
      "Training metrics: acc: 0.9895, f1: 0.9895, auc: 0.998, precision: 0.9895, recall: 0.9895\n",
      "===================\n",
      "Validation metrics:\n",
      "acc: 1.0\n",
      "f1: 1.0\n",
      "auc: 1.0\n",
      "precision: 1.0\n",
      "recall: 1.0\n",
      "===================\n"
     ]
    },
    {
     "name": "stderr",
     "output_type": "stream",
     "text": [
      "epoch: [74 / 100], loss: 0.082486: 100%|██████████| 3/3 [00:46<00:00, 15.49s/it]\n"
     ]
    },
    {
     "name": "stdout",
     "output_type": "stream",
     "text": [
      "Training metrics: acc: 0.9587, f1: 0.9583, auc: 0.9979, precision: 0.9587, recall: 0.9587\n",
      "===================\n",
      "Validation metrics:\n",
      "acc: 0.989796\n",
      "f1: 0.974845\n",
      "auc: 1.0\n",
      "precision: 0.961538\n",
      "recall: 0.989796\n",
      "===================\n"
     ]
    },
    {
     "name": "stderr",
     "output_type": "stream",
     "text": [
      "epoch: [75 / 100], loss: 0.063545: 100%|██████████| 3/3 [00:36<00:00, 12.33s/it]\n"
     ]
    },
    {
     "name": "stdout",
     "output_type": "stream",
     "text": [
      "Training metrics: acc: 0.9788, f1: 0.9791, auc: 0.9956, precision: 0.9797, recall: 0.9788\n",
      "===================\n",
      "Validation metrics:\n",
      "acc: 0.979592\n",
      "f1: 0.951122\n",
      "auc: 1.0\n",
      "precision: 0.928571\n",
      "recall: 0.979592\n",
      "===================\n"
     ]
    },
    {
     "name": "stderr",
     "output_type": "stream",
     "text": [
      "epoch: [76 / 100], loss: 0.023906: 100%|██████████| 3/3 [00:36<00:00, 12.24s/it]\n"
     ]
    },
    {
     "name": "stdout",
     "output_type": "stream",
     "text": [
      "Training metrics: acc: 0.994, f1: 0.9947, auc: 0.9997, precision: 0.9955, recall: 0.994\n",
      "===================\n",
      "Validation metrics:\n",
      "acc: 0.979592\n",
      "f1: 0.951122\n",
      "auc: 1.0\n",
      "precision: 0.928571\n",
      "recall: 0.979592\n",
      "===================\n"
     ]
    },
    {
     "name": "stderr",
     "output_type": "stream",
     "text": [
      "epoch: [77 / 100], loss: 0.044866: 100%|██████████| 3/3 [00:36<00:00, 12.31s/it]\n"
     ]
    },
    {
     "name": "stdout",
     "output_type": "stream",
     "text": [
      "Training metrics: acc: 0.9752, f1: 0.9739, auc: 0.9997, precision: 0.974, recall: 0.9752\n",
      "===================\n",
      "Validation metrics:\n",
      "acc: 0.979592\n",
      "f1: 0.951122\n",
      "auc: 1.0\n",
      "precision: 0.928571\n",
      "recall: 0.979592\n",
      "===================\n"
     ]
    },
    {
     "name": "stderr",
     "output_type": "stream",
     "text": [
      "epoch: [78 / 100], loss: 0.033457: 100%|██████████| 3/3 [00:36<00:00, 12.28s/it]\n"
     ]
    },
    {
     "name": "stdout",
     "output_type": "stream",
     "text": [
      "Training metrics: acc: 0.9896, f1: 0.9896, auc: 0.9996, precision: 0.9896, recall: 0.9896\n",
      "===================\n",
      "Validation metrics:\n",
      "acc: 0.989796\n",
      "f1: 0.974845\n",
      "auc: 1.0\n",
      "precision: 0.961538\n",
      "recall: 0.989796\n",
      "===================\n"
     ]
    },
    {
     "name": "stderr",
     "output_type": "stream",
     "text": [
      "epoch: [79 / 100], loss: 0.028317: 100%|██████████| 3/3 [00:36<00:00, 12.25s/it]\n"
     ]
    },
    {
     "name": "stdout",
     "output_type": "stream",
     "text": [
      "Training metrics: acc: 0.9872, f1: 0.9892, auc: 1.0, precision: 0.9914, recall: 0.9872\n",
      "===================\n",
      "Validation metrics:\n",
      "acc: 1.0\n",
      "f1: 1.0\n",
      "auc: 1.0\n",
      "precision: 1.0\n",
      "recall: 1.0\n",
      "===================\n"
     ]
    },
    {
     "name": "stderr",
     "output_type": "stream",
     "text": [
      "epoch: [80 / 100], loss: 0.029282: 100%|██████████| 3/3 [00:36<00:00, 12.28s/it]\n"
     ]
    },
    {
     "name": "stdout",
     "output_type": "stream",
     "text": [
      "Training metrics: acc: 0.9953, f1: 0.9947, auc: 0.9993, precision: 0.9943, recall: 0.9953\n",
      "===================\n",
      "Validation metrics:\n",
      "acc: 1.0\n",
      "f1: 1.0\n",
      "auc: 1.0\n",
      "precision: 1.0\n",
      "recall: 1.0\n",
      "===================\n"
     ]
    },
    {
     "name": "stderr",
     "output_type": "stream",
     "text": [
      "epoch: [81 / 100], loss: 0.076553: 100%|██████████| 3/3 [00:36<00:00, 12.13s/it]\n"
     ]
    },
    {
     "name": "stdout",
     "output_type": "stream",
     "text": [
      "Training metrics: acc: 0.9741, f1: 0.974, auc: 0.9935, precision: 0.9743, recall: 0.9741\n",
      "===================\n",
      "Validation metrics:\n",
      "acc: 1.0\n",
      "f1: 1.0\n",
      "auc: 1.0\n",
      "precision: 1.0\n",
      "recall: 1.0\n",
      "===================\n"
     ]
    },
    {
     "name": "stderr",
     "output_type": "stream",
     "text": [
      "epoch: [82 / 100], loss: 0.051825: 100%|██████████| 3/3 [00:37<00:00, 12.38s/it]\n"
     ]
    },
    {
     "name": "stdout",
     "output_type": "stream",
     "text": [
      "Training metrics: acc: 0.9843, f1: 0.9844, auc: 0.9965, precision: 0.9845, recall: 0.9843\n",
      "===================\n",
      "Validation metrics:\n",
      "acc: 1.0\n",
      "f1: 1.0\n",
      "auc: 1.0\n",
      "precision: 1.0\n",
      "recall: 1.0\n",
      "===================\n"
     ]
    },
    {
     "name": "stderr",
     "output_type": "stream",
     "text": [
      "epoch: [83 / 100], loss: 0.090682: 100%|██████████| 3/3 [00:36<00:00, 12.17s/it]\n"
     ]
    },
    {
     "name": "stdout",
     "output_type": "stream",
     "text": [
      "Training metrics: acc: 0.9716, f1: 0.9734, auc: 0.9942, precision: 0.9758, recall: 0.9716\n",
      "===================\n",
      "Validation metrics:\n",
      "acc: 0.989796\n",
      "f1: 0.974845\n",
      "auc: 1.0\n",
      "precision: 0.961538\n",
      "recall: 0.989796\n",
      "===================\n"
     ]
    },
    {
     "name": "stderr",
     "output_type": "stream",
     "text": [
      "epoch: [84 / 100], loss: 0.049047: 100%|██████████| 3/3 [00:36<00:00, 12.03s/it]\n"
     ]
    },
    {
     "name": "stdout",
     "output_type": "stream",
     "text": [
      "Training metrics: acc: 0.9857, f1: 0.9843, auc: 0.9982, precision: 0.9833, recall: 0.9857\n",
      "===================\n",
      "Validation metrics:\n",
      "acc: 0.989796\n",
      "f1: 0.974845\n",
      "auc: 1.0\n",
      "precision: 0.961538\n",
      "recall: 0.989796\n",
      "===================\n"
     ]
    },
    {
     "name": "stderr",
     "output_type": "stream",
     "text": [
      "epoch: [85 / 100], loss: 0.029142: 100%|██████████| 3/3 [00:37<00:00, 12.34s/it]\n"
     ]
    },
    {
     "name": "stdout",
     "output_type": "stream",
     "text": [
      "Training metrics: acc: 0.9949, f1: 0.9948, auc: 0.9989, precision: 0.9947, recall: 0.9949\n",
      "===================\n",
      "Validation metrics:\n",
      "acc: 0.989796\n",
      "f1: 0.974845\n",
      "auc: 1.0\n",
      "precision: 0.961538\n",
      "recall: 0.989796\n",
      "===================\n"
     ]
    },
    {
     "name": "stderr",
     "output_type": "stream",
     "text": [
      "epoch: [86 / 100], loss: 0.071948: 100%|██████████| 3/3 [00:36<00:00, 12.30s/it]\n"
     ]
    },
    {
     "name": "stdout",
     "output_type": "stream",
     "text": [
      "Training metrics: acc: 0.9797, f1: 0.9791, auc: 0.9952, precision: 0.9787, recall: 0.9797\n",
      "===================\n",
      "Validation metrics:\n",
      "acc: 0.989796\n",
      "f1: 0.974845\n",
      "auc: 1.0\n",
      "precision: 0.961538\n",
      "recall: 0.989796\n",
      "===================\n"
     ]
    },
    {
     "name": "stderr",
     "output_type": "stream",
     "text": [
      "epoch: [87 / 100], loss: 0.067016: 100%|██████████| 3/3 [00:37<00:00, 12.36s/it]\n"
     ]
    },
    {
     "name": "stdout",
     "output_type": "stream",
     "text": [
      "Training metrics: acc: 0.9821, f1: 0.9841, auc: 0.9932, precision: 0.9865, recall: 0.9821\n",
      "===================\n",
      "Validation metrics:\n",
      "acc: 0.989796\n",
      "f1: 0.974845\n",
      "auc: 1.0\n",
      "precision: 0.961538\n",
      "recall: 0.989796\n",
      "===================\n"
     ]
    },
    {
     "name": "stderr",
     "output_type": "stream",
     "text": [
      "epoch: [88 / 100], loss: 0.023291: 100%|██████████| 3/3 [00:36<00:00, 12.26s/it]\n"
     ]
    },
    {
     "name": "stdout",
     "output_type": "stream",
     "text": [
      "Training metrics: acc: 0.9951, f1: 0.9948, auc: 0.9998, precision: 0.9944, recall: 0.9951\n",
      "===================\n",
      "Validation metrics:\n",
      "acc: 0.989796\n",
      "f1: 0.974845\n",
      "auc: 1.0\n",
      "precision: 0.961538\n",
      "recall: 0.989796\n",
      "===================\n"
     ]
    },
    {
     "name": "stderr",
     "output_type": "stream",
     "text": [
      "epoch: [89 / 100], loss: 0.030830: 100%|██████████| 3/3 [00:36<00:00, 12.03s/it]\n"
     ]
    },
    {
     "name": "stdout",
     "output_type": "stream",
     "text": [
      "Training metrics: acc: 0.9903, f1: 0.9895, auc: 0.9996, precision: 0.989, recall: 0.9903\n",
      "===================\n",
      "Validation metrics:\n",
      "acc: 1.0\n",
      "f1: 1.0\n",
      "auc: 1.0\n",
      "precision: 1.0\n",
      "recall: 1.0\n",
      "===================\n"
     ]
    },
    {
     "name": "stderr",
     "output_type": "stream",
     "text": [
      "epoch: [90 / 100], loss: 0.019521: 100%|██████████| 3/3 [00:36<00:00, 12.09s/it]\n"
     ]
    },
    {
     "name": "stdout",
     "output_type": "stream",
     "text": [
      "Training metrics: acc: 0.9944, f1: 0.9948, auc: 1.0, precision: 0.9952, recall: 0.9944\n",
      "===================\n",
      "Validation metrics:\n",
      "acc: 1.0\n",
      "f1: 1.0\n",
      "auc: 1.0\n",
      "precision: 1.0\n",
      "recall: 1.0\n",
      "===================\n"
     ]
    },
    {
     "name": "stderr",
     "output_type": "stream",
     "text": [
      "epoch: [91 / 100], loss: 0.029776: 100%|██████████| 3/3 [00:36<00:00, 12.17s/it]\n"
     ]
    },
    {
     "name": "stdout",
     "output_type": "stream",
     "text": [
      "Training metrics: acc: 0.9943, f1: 0.9947, auc: 0.9997, precision: 0.9953, recall: 0.9943\n",
      "===================\n",
      "Validation metrics:\n",
      "acc: 1.0\n",
      "f1: 1.0\n",
      "auc: 1.0\n",
      "precision: 1.0\n",
      "recall: 1.0\n",
      "===================\n"
     ]
    },
    {
     "name": "stderr",
     "output_type": "stream",
     "text": [
      "epoch: [92 / 100], loss: 0.024842: 100%|██████████| 3/3 [00:36<00:00, 12.19s/it]\n"
     ]
    },
    {
     "name": "stdout",
     "output_type": "stream",
     "text": [
      "Training metrics: acc: 0.9949, f1: 0.9948, auc: 0.9998, precision: 0.9947, recall: 0.9949\n",
      "===================\n",
      "Validation metrics:\n",
      "acc: 1.0\n",
      "f1: 1.0\n",
      "auc: 1.0\n",
      "precision: 1.0\n",
      "recall: 1.0\n",
      "===================\n"
     ]
    },
    {
     "name": "stderr",
     "output_type": "stream",
     "text": [
      "epoch: [93 / 100], loss: 0.046628: 100%|██████████| 3/3 [00:36<00:00, 12.18s/it]\n"
     ]
    },
    {
     "name": "stdout",
     "output_type": "stream",
     "text": [
      "Training metrics: acc: 0.9821, f1: 0.9841, auc: 0.9987, precision: 0.9865, recall: 0.9821\n",
      "===================\n",
      "Validation metrics:\n",
      "acc: 1.0\n",
      "f1: 1.0\n",
      "auc: 1.0\n",
      "precision: 1.0\n",
      "recall: 1.0\n",
      "===================\n"
     ]
    },
    {
     "name": "stderr",
     "output_type": "stream",
     "text": [
      "epoch: [94 / 100], loss: 0.065685: 100%|██████████| 3/3 [00:47<00:00, 15.75s/it]\n"
     ]
    },
    {
     "name": "stdout",
     "output_type": "stream",
     "text": [
      "Training metrics: acc: 0.98, f1: 0.9792, auc: 0.996, precision: 0.9792, recall: 0.98\n",
      "===================\n",
      "Validation metrics:\n",
      "acc: 1.0\n",
      "f1: 1.0\n",
      "auc: 1.0\n",
      "precision: 1.0\n",
      "recall: 1.0\n",
      "===================\n"
     ]
    },
    {
     "name": "stderr",
     "output_type": "stream",
     "text": [
      "epoch: [95 / 100], loss: 0.046055: 100%|██████████| 3/3 [00:36<00:00, 12.24s/it]\n"
     ]
    },
    {
     "name": "stdout",
     "output_type": "stream",
     "text": [
      "Training metrics: acc: 0.9811, f1: 0.979, auc: 0.9987, precision: 0.9778, recall: 0.9811\n",
      "===================\n",
      "Validation metrics:\n",
      "acc: 1.0\n",
      "f1: 1.0\n",
      "auc: 1.0\n",
      "precision: 1.0\n",
      "recall: 1.0\n",
      "===================\n"
     ]
    },
    {
     "name": "stderr",
     "output_type": "stream",
     "text": [
      "epoch: [96 / 100], loss: 0.014954: 100%|██████████| 3/3 [00:36<00:00, 12.19s/it]\n"
     ]
    },
    {
     "name": "stdout",
     "output_type": "stream",
     "text": [
      "Training metrics: acc: 0.9951, f1: 0.9948, auc: 1.0, precision: 0.9945, recall: 0.9951\n",
      "===================\n",
      "Validation metrics:\n",
      "acc: 1.0\n",
      "f1: 1.0\n",
      "auc: 1.0\n",
      "precision: 1.0\n",
      "recall: 1.0\n",
      "===================\n"
     ]
    },
    {
     "name": "stderr",
     "output_type": "stream",
     "text": [
      "epoch: [97 / 100], loss: 0.049306: 100%|██████████| 3/3 [00:36<00:00, 12.17s/it]\n"
     ]
    },
    {
     "name": "stdout",
     "output_type": "stream",
     "text": [
      "Training metrics: acc: 0.9896, f1: 0.9896, auc: 0.9983, precision: 0.9896, recall: 0.9896\n",
      "===================\n",
      "Validation metrics:\n",
      "acc: 1.0\n",
      "f1: 1.0\n",
      "auc: 1.0\n",
      "precision: 1.0\n",
      "recall: 1.0\n",
      "===================\n"
     ]
    },
    {
     "name": "stderr",
     "output_type": "stream",
     "text": [
      "epoch: [98 / 100], loss: 0.072978: 100%|██████████| 3/3 [00:36<00:00, 12.25s/it]\n"
     ]
    },
    {
     "name": "stdout",
     "output_type": "stream",
     "text": [
      "Training metrics: acc: 0.9798, f1: 0.9791, auc: 0.9995, precision: 0.9786, recall: 0.9798\n",
      "===================\n",
      "Validation metrics:\n",
      "acc: 1.0\n",
      "f1: 1.0\n",
      "auc: 1.0\n",
      "precision: 1.0\n",
      "recall: 1.0\n",
      "===================\n"
     ]
    },
    {
     "name": "stderr",
     "output_type": "stream",
     "text": [
      "epoch: [99 / 100], loss: 0.016764: 100%|██████████| 3/3 [00:39<00:00, 13.02s/it]\n"
     ]
    },
    {
     "name": "stdout",
     "output_type": "stream",
     "text": [
      "Training metrics: acc: 0.9948, f1: 0.9948, auc: 1.0, precision: 0.9948, recall: 0.9948\n",
      "===================\n",
      "Validation metrics:\n",
      "acc: 1.0\n",
      "f1: 1.0\n",
      "auc: 1.0\n",
      "precision: 1.0\n",
      "recall: 1.0\n",
      "===================\n"
     ]
    },
    {
     "name": "stderr",
     "output_type": "stream",
     "text": [
      "epoch: [100 / 100], loss: 0.030739: 100%|██████████| 3/3 [00:39<00:00, 13.08s/it]\n"
     ]
    },
    {
     "name": "stdout",
     "output_type": "stream",
     "text": [
      "Training metrics: acc: 0.9953, f1: 0.9947, auc: 0.998, precision: 0.9942, recall: 0.9953\n",
      "===================\n",
      "Validation metrics:\n",
      "acc: 1.0\n",
      "f1: 1.0\n",
      "auc: 1.0\n",
      "precision: 1.0\n",
      "recall: 1.0\n",
      "===================\n",
      "Performance of the best validation model:\n",
      "================================================================================\n",
      "Load weights form C:/Users/x4287225/Desktop/confounder-free-cnn/OCTDL/run\\best_validation_weights.pt\n",
      "================================================================================\n",
      "Running on Test set...\n",
      "================Finished================\n",
      "acc: 0.85\n",
      "f1: 0.874814\n",
      "auc: 0.979012\n",
      "precision: 0.906452\n",
      "recall: 0.85\n",
      "Confusion Matrix:\n",
      "[[88  2]\n",
      " [ 5 13]]\n",
      "========================================\n",
      "Performance of the final model:\n",
      "================================================================================\n",
      "Load weights form C:/Users/x4287225/Desktop/confounder-free-cnn/OCTDL/run\\final_weights.pt\n",
      "================================================================================\n",
      "Running on Test set...\n",
      "================Finished================\n",
      "acc: 0.877778\n",
      "f1: 0.895281\n",
      "auc: 0.980864\n",
      "precision: 0.915761\n",
      "recall: 0.877778\n",
      "Confusion Matrix:\n",
      "[[88  2]\n",
      " [ 4 14]]\n",
      "========================================\n"
     ]
    }
   ],
   "source": [
    "config_path =  dir + '/configs'\n",
    "config_name = \"OCTDL\"\n",
    "main_notebook(config_path, config_name)"
   ]
  },
  {
   "cell_type": "code",
   "execution_count": null,
   "metadata": {},
   "outputs": [],
   "source": []
  },
  {
   "cell_type": "code",
   "execution_count": null,
   "metadata": {},
   "outputs": [],
   "source": []
  }
 ],
 "metadata": {
  "kernelspec": {
   "display_name": "Python 3",
   "language": "python",
   "name": "python3"
  },
  "language_info": {
   "codemirror_mode": {
    "name": "ipython",
    "version": 3
   },
   "file_extension": ".py",
   "mimetype": "text/x-python",
   "name": "python",
   "nbconvert_exporter": "python",
   "pygments_lexer": "ipython3",
   "version": "3.11.9"
  }
 },
 "nbformat": 4,
 "nbformat_minor": 2
}
