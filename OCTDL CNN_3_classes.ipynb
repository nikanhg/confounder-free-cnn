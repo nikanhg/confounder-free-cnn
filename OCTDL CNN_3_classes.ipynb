{
 "cells": [
  {
   "cell_type": "markdown",
   "metadata": {},
   "source": [
    "# Data Preprocessing"
   ]
  },
  {
   "cell_type": "code",
   "execution_count": 2,
   "metadata": {},
   "outputs": [],
   "source": [
    "#pip install opencv-python\n",
    "import os\n",
    "from os import listdir\n",
    "from os.path import isfile\n",
    "from os.path import join\n",
    "from pathlib import Path\n",
    "import cv2\n",
    "from math import ceil\n",
    "import argparse\n",
    "from tqdm import tqdm\n",
    "from sklearn.model_selection import train_test_split\n",
    "import pandas as pd\n",
    "import yaml\n",
    "\n",
    "\n",
    "import random\n",
    "import numpy as np\n",
    "from torch.utils.tensorboard import SummaryWriter\n",
    "from utils.func import *\n",
    "from train import train, evaluate\n",
    "from utils.metrics import Estimator\n",
    "from data.builder import generate_dataset\n",
    "from modules.builder import generate_model\n",
    "import hydra\n",
    "from hydra import initialize, compose\n",
    "from omegaconf import DictConfig\n",
    "\n"
   ]
  },
  {
   "cell_type": "code",
   "execution_count": 3,
   "metadata": {},
   "outputs": [],
   "source": [
    "#Input \n",
    "dir= \"C:/Users/x4287225/Desktop/confounder-free-cnn/OCTDL\"\n",
    "dataset_folder = dir + \"/OCTDL images/\"\n",
    "#lables for each Input\n",
    "labels_path = dir + \"/OCTDL_labels.csv\"\n",
    "#Output\n",
    "output_folder = dir + \"/output\"\n",
    "#model save path\n",
    "save_path = dir + \"/run\"\n",
    "#Config file\n",
    "cg = dir + \"/configs/OCTDL.yaml\"\n",
    "config_path = dir + '/configs'\n",
    "#Defines the ratio for central cropping of images; 1 means no cropping. default=1\n",
    "crop_ratio = 1\n",
    "#Specifies the dimensions to which images should be resized Default is 512\n",
    "image_dim =512\n",
    "#validation set\n",
    "val_ratio = 0.15\n",
    "#test_ratio\n",
    "test_ratio = 0.25\n",
    "#A boolean flag that, when true, indicates images should be padded to become square. Default is False\n",
    "padding = True\n",
    "#A boolean flag that, when true, indicates images should be cropped centrally according to the crop_ratio Default is False.\n",
    "crop = False\n",
    "#A boolean flag that, when true, indicates images should be resized to image_dim. Default is False.\n",
    "resize =True\n",
    "labels = ['AMD', 'DME', 'ERM', 'NO',]\n",
    "folders = ['train', 'val', 'test']"
   ]
  },
  {
   "cell_type": "code",
   "execution_count": 4,
   "metadata": {},
   "outputs": [],
   "source": [
    "\n",
    "def main():\n",
    "    root_folder = dataset_folder\n",
    "    train_ratio = 1 - val_ratio - test_ratio\n",
    "    dim = (image_dim, image_dim)\n",
    "    padding_bool = padding\n",
    "    crop_bool = crop\n",
    "    resize_bool = resize\n",
    "    #Creating the output folder\n",
    "    for folder in folders:\n",
    "        for label in labels:\n",
    "            Path(os.path.join(output_folder, folder, label)).mkdir(parents=True, exist_ok=True)\n",
    "    \n",
    "    #Setting up Train Test Validation \n",
    "    for label in tqdm(labels):\n",
    "        df_label = df[df['disease'] == label][['file_name', 'disease', 'patient_id']]\n",
    "        patients_list = df_label.patient_id.unique()\n",
    "        if len(patients_list) < 10:\n",
    "            print(f\"Skipping {label} due to insufficient data.\")\n",
    "            continue\n",
    "        train_patients, test_patients = train_test_split(patients_list, test_size=1 - train_ratio)\n",
    "        val_patients, test_patients = train_test_split(test_patients, test_size=test_ratio / (test_ratio + val_ratio))\n",
    "        df_label_train = df_label[df_label['patient_id'].isin(train_patients)]\n",
    "        df_label_val = df_label[df_label['patient_id'].isin(val_patients)]\n",
    "        df_label_test = df_label[df_label['patient_id'].isin(test_patients)]\n",
    "        \n",
    "        print(label, len(df_label_train), len(df_label_val), len(df_label_test))\n",
    "        #Data Augmentation on the Input data (Resizing, Cropping and Padding)\n",
    "        for i in range(0, len(df_label_train)):\n",
    "            file_name = df_label_train.iloc[i, 0] + '.jpg'\n",
    "            file_label = df_label_train.iloc[i, 1]    \n",
    "            preprocessing(root_folder, output_folder, file_name, 'train', crop_ratio, dim, file_label, padding_bool, crop_bool, resize_bool)\n",
    " \n",
    "        for i in range(0, len(df_label_test)):\n",
    "            file_name = df_label_test.iloc[i, 0] + '.jpg'\n",
    "            file_label = df_label_test.iloc[i, 1]    \n",
    "            preprocessing(root_folder, output_folder, file_name, 'test', crop_ratio, dim, file_label, padding_bool, crop_bool, resize_bool)    \n",
    "    \n",
    "        for i in range(0, len(df_label_val)):\n",
    "            file_name = df_label_val.iloc[i, 0] + '.jpg'\n",
    "            file_label = df_label_val.iloc[i, 1]    \n",
    "            preprocessing(root_folder, output_folder, file_name, 'val', crop_ratio, dim, file_label, padding_bool, crop_bool, resize_bool) \n",
    "\n",
    "\n",
    "def preprocessing(root_folder, output_folder, file, folder, crop_ratio, dim, label, padding_bool, crop_bool, resize_bool):\n",
    "    img = cv2.imread(os.path.join(root_folder, label, file))\n",
    "    if padding_bool:\n",
    "        img = padding(img)\n",
    "    if crop_bool:\n",
    "        img = center_crop(img, (img.shape[1] * crop_ratio, img.shape[0] * crop_ratio))\n",
    "    if resize_bool:\n",
    "        img = cv2.resize(img, dim, interpolation=cv2.INTER_LANCZOS4)    #cv2.INTER_LANCZOS4 is used for reducing or increasing image size while maintaining high image quality.\n",
    "    cv2.imwrite(os.path.join(output_folder, folder, label, Path(file).name), img, [cv2.IMWRITE_JPEG_QUALITY, 100])  #image is saved with high JPEG quality (100), which means minimal compression and maximal quality."
   ]
  },
  {
   "cell_type": "code",
   "execution_count": 5,
   "metadata": {},
   "outputs": [],
   "source": [
    "def padding(img):\n",
    "    \"\"\"Returns padded to square image\n",
    "    \"\"\"\n",
    "    height = img.shape[0]\n",
    "    width = img.shape[1]\n",
    "    if width == height:\n",
    "        return img\n",
    "    elif width > height:\n",
    "        left = 0\n",
    "        right = 0\n",
    "        bottom = ceil((width - height) / 2)\n",
    "        top = ceil((width - height) / 2)\n",
    "        result = cv2.copyMakeBorder(img, top, bottom, left, right, cv2.BORDER_CONSTANT, value=(0, 0, 0))\n",
    "        return result\n",
    "    else:\n",
    "        left = ceil((height - width) / 2)\n",
    "        right = ceil((height - width) / 2)\n",
    "        bottom = 0\n",
    "        top = 0\n",
    "        result = cv2.copyMakeBorder(img, top, bottom, left, right, cv2.BORDER_CONSTANT, value=(0, 0, 0))\n",
    "        return result\n",
    "\n",
    "\n",
    "def center_crop(img, dim):\n",
    "    \"\"\"Returns center cropped image\n",
    "    \"\"\"\n",
    "    width, height = img.shape[1], img.shape[0]\n",
    "    # process crop width and height for max available dimension\n",
    "    crop_width = dim[0] if dim[0] < img.shape[1] else img.shape[1]\n",
    "    crop_height = dim[1] if dim[1] < img.shape[0] else img.shape[0]\n",
    "    mid_x, mid_y = int(width/2), int(height/2)\n",
    "    cw2, ch2 = int(crop_width/2), int(crop_height/2)\n",
    "    crop_img = img[mid_y-ch2:mid_y+ch2, mid_x-cw2:mid_x+cw2]\n",
    "    return crop_img\n",
    "\n",
    "def scale_image(img, factor=1):\n",
    "    \"\"\"Returns resize image by scale factor.\n",
    "    This helps to retain resolution ratio while resizing.\n",
    "    Args:\n",
    "    img: image to be scaled\n",
    "    factor: scale factor to resize\"\n",
    "    \"\"\"\n",
    "    width = int(img.shape[1] * factor)\n",
    "    height = int(img.shape[0] * factor)\n",
    "    dsize = (width, height)\n",
    "    output = cv2.resize(img, dsize, interpolation=cv2.INTER_LANCZOS4)\n",
    "    return output"
   ]
  },
  {
   "cell_type": "code",
   "execution_count": 6,
   "metadata": {},
   "outputs": [
    {
     "name": "stdout",
     "output_type": "stream",
     "text": [
      "Deleted C:/Users/x4287225/Desktop/confounder-free-cnn/OCTDL/OCTDL images/AMD\\amd_1047099_1.jpg\n",
      "Deleted C:/Users/x4287225/Desktop/confounder-free-cnn/OCTDL/OCTDL images/AMD\\amd_1047099_2.jpg\n",
      "Deleted C:/Users/x4287225/Desktop/confounder-free-cnn/OCTDL/OCTDL images/AMD\\amd_1047099_3.jpg\n",
      "Deleted C:/Users/x4287225/Desktop/confounder-free-cnn/OCTDL/OCTDL images/AMD\\amd_1047099_4.jpg\n",
      "Deleted C:/Users/x4287225/Desktop/confounder-free-cnn/OCTDL/OCTDL images/AMD\\amd_1084498_1.jpg\n",
      "Deleted C:/Users/x4287225/Desktop/confounder-free-cnn/OCTDL/OCTDL images/AMD\\amd_1084498_2.jpg\n",
      "Deleted C:/Users/x4287225/Desktop/confounder-free-cnn/OCTDL/OCTDL images/AMD\\amd_1084498_3.jpg\n",
      "Deleted C:/Users/x4287225/Desktop/confounder-free-cnn/OCTDL/OCTDL images/AMD\\amd_1096590_1.jpg\n",
      "Deleted C:/Users/x4287225/Desktop/confounder-free-cnn/OCTDL/OCTDL images/AMD\\amd_1096590_2.jpg\n",
      "Deleted C:/Users/x4287225/Desktop/confounder-free-cnn/OCTDL/OCTDL images/AMD\\amd_1096590_3.jpg\n",
      "Deleted C:/Users/x4287225/Desktop/confounder-free-cnn/OCTDL/OCTDL images/AMD\\amd_1096590_4.jpg\n",
      "Deleted C:/Users/x4287225/Desktop/confounder-free-cnn/OCTDL/OCTDL images/AMD\\amd_1096590_5.jpg\n",
      "Deleted C:/Users/x4287225/Desktop/confounder-free-cnn/OCTDL/OCTDL images/AMD\\amd_1131743_1.jpg\n",
      "Deleted C:/Users/x4287225/Desktop/confounder-free-cnn/OCTDL/OCTDL images/AMD\\amd_1163930_1.jpg\n",
      "Deleted C:/Users/x4287225/Desktop/confounder-free-cnn/OCTDL/OCTDL images/AMD\\amd_1163930_2.jpg\n",
      "Deleted C:/Users/x4287225/Desktop/confounder-free-cnn/OCTDL/OCTDL images/AMD\\amd_1163930_3.jpg\n",
      "Deleted C:/Users/x4287225/Desktop/confounder-free-cnn/OCTDL/OCTDL images/AMD\\amd_1168623_1.jpg\n",
      "Deleted C:/Users/x4287225/Desktop/confounder-free-cnn/OCTDL/OCTDL images/AMD\\amd_1168623_2.jpg\n",
      "Deleted C:/Users/x4287225/Desktop/confounder-free-cnn/OCTDL/OCTDL images/AMD\\amd_1178825_1.jpg\n",
      "Deleted C:/Users/x4287225/Desktop/confounder-free-cnn/OCTDL/OCTDL images/AMD\\amd_1178825_2.jpg\n",
      "Deleted C:/Users/x4287225/Desktop/confounder-free-cnn/OCTDL/OCTDL images/AMD\\amd_1178825_3.jpg\n",
      "Deleted C:/Users/x4287225/Desktop/confounder-free-cnn/OCTDL/OCTDL images/AMD\\amd_1178825_4.jpg\n",
      "Deleted C:/Users/x4287225/Desktop/confounder-free-cnn/OCTDL/OCTDL images/AMD\\amd_1178825_5.jpg\n",
      "Deleted C:/Users/x4287225/Desktop/confounder-free-cnn/OCTDL/OCTDL images/AMD\\amd_1214406_1.jpg\n",
      "Deleted C:/Users/x4287225/Desktop/confounder-free-cnn/OCTDL/OCTDL images/AMD\\amd_1214406_2.jpg\n",
      "Deleted C:/Users/x4287225/Desktop/confounder-free-cnn/OCTDL/OCTDL images/AMD\\amd_1214406_3.jpg\n",
      "Deleted C:/Users/x4287225/Desktop/confounder-free-cnn/OCTDL/OCTDL images/AMD\\amd_1214406_4.jpg\n",
      "Deleted C:/Users/x4287225/Desktop/confounder-free-cnn/OCTDL/OCTDL images/AMD\\amd_1262241_1.jpg\n",
      "Deleted C:/Users/x4287225/Desktop/confounder-free-cnn/OCTDL/OCTDL images/AMD\\amd_1262241_2.jpg\n",
      "Deleted C:/Users/x4287225/Desktop/confounder-free-cnn/OCTDL/OCTDL images/AMD\\amd_1262241_3.jpg\n",
      "Deleted C:/Users/x4287225/Desktop/confounder-free-cnn/OCTDL/OCTDL images/AMD\\amd_1262241_4.jpg\n",
      "Deleted C:/Users/x4287225/Desktop/confounder-free-cnn/OCTDL/OCTDL images/AMD\\amd_1262241_5.jpg\n",
      "Deleted C:/Users/x4287225/Desktop/confounder-free-cnn/OCTDL/OCTDL images/AMD\\amd_1262241_6.jpg\n",
      "Deleted C:/Users/x4287225/Desktop/confounder-free-cnn/OCTDL/OCTDL images/AMD\\amd_1262241_7.jpg\n",
      "Deleted C:/Users/x4287225/Desktop/confounder-free-cnn/OCTDL/OCTDL images/AMD\\amd_1275229_1.jpg\n",
      "Deleted C:/Users/x4287225/Desktop/confounder-free-cnn/OCTDL/OCTDL images/AMD\\amd_1275229_2.jpg\n",
      "Deleted C:/Users/x4287225/Desktop/confounder-free-cnn/OCTDL/OCTDL images/AMD\\amd_1275229_3.jpg\n",
      "Deleted C:/Users/x4287225/Desktop/confounder-free-cnn/OCTDL/OCTDL images/AMD\\amd_1283443_1.jpg\n",
      "Deleted C:/Users/x4287225/Desktop/confounder-free-cnn/OCTDL/OCTDL images/AMD\\amd_1283443_2.jpg\n",
      "Deleted C:/Users/x4287225/Desktop/confounder-free-cnn/OCTDL/OCTDL images/AMD\\amd_1283443_3.jpg\n",
      "Deleted C:/Users/x4287225/Desktop/confounder-free-cnn/OCTDL/OCTDL images/AMD\\amd_1283443_4.jpg\n",
      "Deleted C:/Users/x4287225/Desktop/confounder-free-cnn/OCTDL/OCTDL images/AMD\\amd_1285648_1.jpg\n",
      "Deleted C:/Users/x4287225/Desktop/confounder-free-cnn/OCTDL/OCTDL images/AMD\\amd_1285648_2.jpg\n",
      "Deleted C:/Users/x4287225/Desktop/confounder-free-cnn/OCTDL/OCTDL images/AMD\\amd_1333129_1.jpg\n",
      "Deleted C:/Users/x4287225/Desktop/confounder-free-cnn/OCTDL/OCTDL images/AMD\\amd_1333129_2.jpg\n",
      "Deleted C:/Users/x4287225/Desktop/confounder-free-cnn/OCTDL/OCTDL images/AMD\\amd_1333129_3.jpg\n",
      "Deleted C:/Users/x4287225/Desktop/confounder-free-cnn/OCTDL/OCTDL images/AMD\\amd_1333129_4.jpg\n",
      "Deleted C:/Users/x4287225/Desktop/confounder-free-cnn/OCTDL/OCTDL images/AMD\\amd_1356382_1.jpg\n",
      "Deleted C:/Users/x4287225/Desktop/confounder-free-cnn/OCTDL/OCTDL images/AMD\\amd_1356382_2.jpg\n",
      "Deleted C:/Users/x4287225/Desktop/confounder-free-cnn/OCTDL/OCTDL images/AMD\\amd_1472602_1.jpg\n",
      "Deleted C:/Users/x4287225/Desktop/confounder-free-cnn/OCTDL/OCTDL images/AMD\\amd_1472602_2.jpg\n",
      "Deleted C:/Users/x4287225/Desktop/confounder-free-cnn/OCTDL/OCTDL images/AMD\\amd_1472602_3.jpg\n",
      "Deleted C:/Users/x4287225/Desktop/confounder-free-cnn/OCTDL/OCTDL images/AMD\\amd_1472602_4.jpg\n",
      "Deleted C:/Users/x4287225/Desktop/confounder-free-cnn/OCTDL/OCTDL images/AMD\\amd_1472602_5.jpg\n",
      "Deleted C:/Users/x4287225/Desktop/confounder-free-cnn/OCTDL/OCTDL images/AMD\\amd_1472602_6.jpg\n",
      "Deleted C:/Users/x4287225/Desktop/confounder-free-cnn/OCTDL/OCTDL images/AMD\\amd_1475608_1.jpg\n",
      "Deleted C:/Users/x4287225/Desktop/confounder-free-cnn/OCTDL/OCTDL images/AMD\\amd_1475608_2.jpg\n",
      "Deleted C:/Users/x4287225/Desktop/confounder-free-cnn/OCTDL/OCTDL images/AMD\\amd_1475608_3.jpg\n",
      "Deleted C:/Users/x4287225/Desktop/confounder-free-cnn/OCTDL/OCTDL images/AMD\\amd_1475608_4.jpg\n",
      "Deleted C:/Users/x4287225/Desktop/confounder-free-cnn/OCTDL/OCTDL images/AMD\\amd_1475608_5.jpg\n",
      "Deleted C:/Users/x4287225/Desktop/confounder-free-cnn/OCTDL/OCTDL images/AMD\\amd_1475608_6.jpg\n",
      "Deleted C:/Users/x4287225/Desktop/confounder-free-cnn/OCTDL/OCTDL images/AMD\\amd_1485373_1.jpg\n",
      "Deleted C:/Users/x4287225/Desktop/confounder-free-cnn/OCTDL/OCTDL images/AMD\\amd_1485373_2.jpg\n",
      "Deleted C:/Users/x4287225/Desktop/confounder-free-cnn/OCTDL/OCTDL images/AMD\\amd_1485373_3.jpg\n",
      "Deleted C:/Users/x4287225/Desktop/confounder-free-cnn/OCTDL/OCTDL images/AMD\\amd_1513396_1.jpg\n",
      "Deleted C:/Users/x4287225/Desktop/confounder-free-cnn/OCTDL/OCTDL images/AMD\\amd_1513396_2.jpg\n",
      "Deleted C:/Users/x4287225/Desktop/confounder-free-cnn/OCTDL/OCTDL images/AMD\\amd_1513396_3.jpg\n",
      "Deleted C:/Users/x4287225/Desktop/confounder-free-cnn/OCTDL/OCTDL images/AMD\\amd_1521791_1.jpg\n",
      "Deleted C:/Users/x4287225/Desktop/confounder-free-cnn/OCTDL/OCTDL images/AMD\\amd_1521791_2.jpg\n",
      "Deleted C:/Users/x4287225/Desktop/confounder-free-cnn/OCTDL/OCTDL images/AMD\\amd_1521791_3.jpg\n",
      "Deleted C:/Users/x4287225/Desktop/confounder-free-cnn/OCTDL/OCTDL images/AMD\\amd_1521791_4.jpg\n",
      "Deleted C:/Users/x4287225/Desktop/confounder-free-cnn/OCTDL/OCTDL images/AMD\\amd_1523323_1.jpg\n",
      "Deleted C:/Users/x4287225/Desktop/confounder-free-cnn/OCTDL/OCTDL images/AMD\\amd_1523323_2.jpg\n",
      "Deleted C:/Users/x4287225/Desktop/confounder-free-cnn/OCTDL/OCTDL images/AMD\\amd_1523323_3.jpg\n",
      "Deleted C:/Users/x4287225/Desktop/confounder-free-cnn/OCTDL/OCTDL images/AMD\\amd_1523323_4.jpg\n",
      "Deleted C:/Users/x4287225/Desktop/confounder-free-cnn/OCTDL/OCTDL images/AMD\\amd_1639741_1.jpg\n",
      "Deleted C:/Users/x4287225/Desktop/confounder-free-cnn/OCTDL/OCTDL images/AMD\\amd_1639741_2.jpg\n",
      "Deleted C:/Users/x4287225/Desktop/confounder-free-cnn/OCTDL/OCTDL images/AMD\\amd_1639741_3.jpg\n",
      "Deleted C:/Users/x4287225/Desktop/confounder-free-cnn/OCTDL/OCTDL images/AMD\\amd_1669733_1.jpg\n",
      "Deleted C:/Users/x4287225/Desktop/confounder-free-cnn/OCTDL/OCTDL images/AMD\\amd_1777380_1.jpg\n",
      "Deleted C:/Users/x4287225/Desktop/confounder-free-cnn/OCTDL/OCTDL images/AMD\\amd_1777380_2.jpg\n",
      "Deleted C:/Users/x4287225/Desktop/confounder-free-cnn/OCTDL/OCTDL images/AMD\\amd_1777380_3.jpg\n",
      "Deleted C:/Users/x4287225/Desktop/confounder-free-cnn/OCTDL/OCTDL images/AMD\\amd_1777380_4.jpg\n",
      "Deleted C:/Users/x4287225/Desktop/confounder-free-cnn/OCTDL/OCTDL images/AMD\\amd_1777380_5.jpg\n",
      "Deleted C:/Users/x4287225/Desktop/confounder-free-cnn/OCTDL/OCTDL images/AMD\\amd_1777380_6.jpg\n",
      "Deleted C:/Users/x4287225/Desktop/confounder-free-cnn/OCTDL/OCTDL images/AMD\\amd_1781906_1.jpg\n",
      "Deleted C:/Users/x4287225/Desktop/confounder-free-cnn/OCTDL/OCTDL images/AMD\\amd_1815432_1.jpg\n",
      "Deleted C:/Users/x4287225/Desktop/confounder-free-cnn/OCTDL/OCTDL images/AMD\\amd_1840755_1.jpg\n",
      "Deleted C:/Users/x4287225/Desktop/confounder-free-cnn/OCTDL/OCTDL images/AMD\\amd_1840755_2.jpg\n",
      "Deleted C:/Users/x4287225/Desktop/confounder-free-cnn/OCTDL/OCTDL images/AMD\\amd_1840755_3.jpg\n",
      "Deleted C:/Users/x4287225/Desktop/confounder-free-cnn/OCTDL/OCTDL images/AMD\\amd_1840755_4.jpg\n",
      "Deleted C:/Users/x4287225/Desktop/confounder-free-cnn/OCTDL/OCTDL images/AMD\\amd_1871309_1.jpg\n",
      "Deleted C:/Users/x4287225/Desktop/confounder-free-cnn/OCTDL/OCTDL images/AMD\\amd_1871309_2.jpg\n",
      "Deleted C:/Users/x4287225/Desktop/confounder-free-cnn/OCTDL/OCTDL images/AMD\\amd_1893730_1.jpg\n",
      "Deleted C:/Users/x4287225/Desktop/confounder-free-cnn/OCTDL/OCTDL images/AMD\\amd_1893730_2.jpg\n",
      "Deleted C:/Users/x4287225/Desktop/confounder-free-cnn/OCTDL/OCTDL images/AMD\\amd_1893730_3.jpg\n",
      "Deleted C:/Users/x4287225/Desktop/confounder-free-cnn/OCTDL/OCTDL images/AMD\\amd_1893730_4.jpg\n",
      "Deleted C:/Users/x4287225/Desktop/confounder-free-cnn/OCTDL/OCTDL images/AMD\\amd_1893730_5.jpg\n",
      "Deleted C:/Users/x4287225/Desktop/confounder-free-cnn/OCTDL/OCTDL images/AMD\\amd_1957252_1.jpg\n",
      "Deleted C:/Users/x4287225/Desktop/confounder-free-cnn/OCTDL/OCTDL images/AMD\\amd_1957252_2.jpg\n",
      "Deleted C:/Users/x4287225/Desktop/confounder-free-cnn/OCTDL/OCTDL images/AMD\\amd_1963173_1.jpg\n",
      "Deleted C:/Users/x4287225/Desktop/confounder-free-cnn/OCTDL/OCTDL images/AMD\\amd_2006405_1.jpg\n",
      "Deleted C:/Users/x4287225/Desktop/confounder-free-cnn/OCTDL/OCTDL images/AMD\\amd_2009727_1.jpg\n",
      "Deleted C:/Users/x4287225/Desktop/confounder-free-cnn/OCTDL/OCTDL images/AMD\\amd_2009727_2.jpg\n",
      "Deleted C:/Users/x4287225/Desktop/confounder-free-cnn/OCTDL/OCTDL images/AMD\\amd_2015599_1.jpg\n",
      "Deleted C:/Users/x4287225/Desktop/confounder-free-cnn/OCTDL/OCTDL images/AMD\\amd_2015599_2.jpg\n",
      "Deleted C:/Users/x4287225/Desktop/confounder-free-cnn/OCTDL/OCTDL images/AMD\\amd_2015599_3.jpg\n",
      "Deleted C:/Users/x4287225/Desktop/confounder-free-cnn/OCTDL/OCTDL images/AMD\\amd_2037257_1.jpg\n",
      "Deleted C:/Users/x4287225/Desktop/confounder-free-cnn/OCTDL/OCTDL images/AMD\\amd_2037257_2.jpg\n",
      "Deleted C:/Users/x4287225/Desktop/confounder-free-cnn/OCTDL/OCTDL images/AMD\\amd_2037257_3.jpg\n",
      "Deleted C:/Users/x4287225/Desktop/confounder-free-cnn/OCTDL/OCTDL images/AMD\\amd_2037257_4.jpg\n",
      "Deleted C:/Users/x4287225/Desktop/confounder-free-cnn/OCTDL/OCTDL images/AMD\\amd_2092184_1.jpg\n",
      "Deleted C:/Users/x4287225/Desktop/confounder-free-cnn/OCTDL/OCTDL images/AMD\\amd_2092184_2.jpg\n",
      "Deleted C:/Users/x4287225/Desktop/confounder-free-cnn/OCTDL/OCTDL images/AMD\\amd_2092184_3.jpg\n",
      "Deleted C:/Users/x4287225/Desktop/confounder-free-cnn/OCTDL/OCTDL images/AMD\\amd_2092184_4.jpg\n",
      "Deleted C:/Users/x4287225/Desktop/confounder-free-cnn/OCTDL/OCTDL images/AMD\\amd_2108530_1.jpg\n",
      "Deleted C:/Users/x4287225/Desktop/confounder-free-cnn/OCTDL/OCTDL images/AMD\\amd_2108530_2.jpg\n",
      "Deleted C:/Users/x4287225/Desktop/confounder-free-cnn/OCTDL/OCTDL images/AMD\\amd_2131154_1.jpg\n",
      "Deleted C:/Users/x4287225/Desktop/confounder-free-cnn/OCTDL/OCTDL images/AMD\\amd_2131154_2.jpg\n",
      "Deleted C:/Users/x4287225/Desktop/confounder-free-cnn/OCTDL/OCTDL images/AMD\\amd_2135874_1.jpg\n",
      "Deleted C:/Users/x4287225/Desktop/confounder-free-cnn/OCTDL/OCTDL images/AMD\\amd_2135874_2.jpg\n",
      "Deleted C:/Users/x4287225/Desktop/confounder-free-cnn/OCTDL/OCTDL images/AMD\\amd_2135874_3.jpg\n",
      "Deleted C:/Users/x4287225/Desktop/confounder-free-cnn/OCTDL/OCTDL images/AMD\\amd_2154602_1.jpg\n",
      "Deleted C:/Users/x4287225/Desktop/confounder-free-cnn/OCTDL/OCTDL images/AMD\\amd_2154602_2.jpg\n",
      "Deleted C:/Users/x4287225/Desktop/confounder-free-cnn/OCTDL/OCTDL images/AMD\\amd_2158716_1.jpg\n",
      "Deleted C:/Users/x4287225/Desktop/confounder-free-cnn/OCTDL/OCTDL images/AMD\\amd_2158716_2.jpg\n",
      "Deleted C:/Users/x4287225/Desktop/confounder-free-cnn/OCTDL/OCTDL images/AMD\\amd_2238858_1.jpg\n",
      "Deleted C:/Users/x4287225/Desktop/confounder-free-cnn/OCTDL/OCTDL images/AMD\\amd_2238858_2.jpg\n",
      "Deleted C:/Users/x4287225/Desktop/confounder-free-cnn/OCTDL/OCTDL images/AMD\\amd_2238858_3.jpg\n",
      "Deleted C:/Users/x4287225/Desktop/confounder-free-cnn/OCTDL/OCTDL images/AMD\\amd_2238858_4.jpg\n",
      "Deleted C:/Users/x4287225/Desktop/confounder-free-cnn/OCTDL/OCTDL images/AMD\\amd_2238858_5.jpg\n",
      "Deleted C:/Users/x4287225/Desktop/confounder-free-cnn/OCTDL/OCTDL images/AMD\\amd_2238858_6.jpg\n",
      "Deleted C:/Users/x4287225/Desktop/confounder-free-cnn/OCTDL/OCTDL images/AMD\\amd_2291508_1.jpg\n",
      "Deleted C:/Users/x4287225/Desktop/confounder-free-cnn/OCTDL/OCTDL images/AMD\\amd_2291508_2.jpg\n",
      "Deleted C:/Users/x4287225/Desktop/confounder-free-cnn/OCTDL/OCTDL images/AMD\\amd_2291508_3.jpg\n",
      "Deleted C:/Users/x4287225/Desktop/confounder-free-cnn/OCTDL/OCTDL images/AMD\\amd_2291508_4.jpg\n",
      "Deleted C:/Users/x4287225/Desktop/confounder-free-cnn/OCTDL/OCTDL images/AMD\\amd_2297831_1.jpg\n",
      "Deleted C:/Users/x4287225/Desktop/confounder-free-cnn/OCTDL/OCTDL images/AMD\\amd_2297831_2.jpg\n",
      "Deleted C:/Users/x4287225/Desktop/confounder-free-cnn/OCTDL/OCTDL images/AMD\\amd_2393634_1.jpg\n",
      "Deleted C:/Users/x4287225/Desktop/confounder-free-cnn/OCTDL/OCTDL images/AMD\\amd_2393634_2.jpg\n",
      "Deleted C:/Users/x4287225/Desktop/confounder-free-cnn/OCTDL/OCTDL images/AMD\\amd_2403661_1.jpg\n",
      "Deleted C:/Users/x4287225/Desktop/confounder-free-cnn/OCTDL/OCTDL images/AMD\\amd_2403661_2.jpg\n",
      "Deleted C:/Users/x4287225/Desktop/confounder-free-cnn/OCTDL/OCTDL images/AMD\\amd_2403661_3.jpg\n",
      "Deleted C:/Users/x4287225/Desktop/confounder-free-cnn/OCTDL/OCTDL images/AMD\\amd_2403661_4.jpg\n",
      "Deleted C:/Users/x4287225/Desktop/confounder-free-cnn/OCTDL/OCTDL images/AMD\\amd_2403661_5.jpg\n",
      "Deleted C:/Users/x4287225/Desktop/confounder-free-cnn/OCTDL/OCTDL images/AMD\\amd_2403661_6.jpg\n",
      "Deleted C:/Users/x4287225/Desktop/confounder-free-cnn/OCTDL/OCTDL images/AMD\\amd_2481392_1.jpg\n",
      "Deleted C:/Users/x4287225/Desktop/confounder-free-cnn/OCTDL/OCTDL images/AMD\\amd_2481392_2.jpg\n",
      "Deleted C:/Users/x4287225/Desktop/confounder-free-cnn/OCTDL/OCTDL images/AMD\\amd_2505815_1.jpg\n",
      "Deleted C:/Users/x4287225/Desktop/confounder-free-cnn/OCTDL/OCTDL images/AMD\\amd_2505815_2.jpg\n",
      "Deleted C:/Users/x4287225/Desktop/confounder-free-cnn/OCTDL/OCTDL images/AMD\\amd_2505815_3.jpg\n",
      "Deleted C:/Users/x4287225/Desktop/confounder-free-cnn/OCTDL/OCTDL images/AMD\\amd_2505815_4.jpg\n",
      "Deleted C:/Users/x4287225/Desktop/confounder-free-cnn/OCTDL/OCTDL images/AMD\\amd_2567390_1.jpg\n",
      "Deleted C:/Users/x4287225/Desktop/confounder-free-cnn/OCTDL/OCTDL images/AMD\\amd_2567390_2.jpg\n",
      "Deleted C:/Users/x4287225/Desktop/confounder-free-cnn/OCTDL/OCTDL images/AMD\\amd_2568606_1.jpg\n",
      "Deleted C:/Users/x4287225/Desktop/confounder-free-cnn/OCTDL/OCTDL images/AMD\\amd_2568606_2.jpg\n",
      "Deleted C:/Users/x4287225/Desktop/confounder-free-cnn/OCTDL/OCTDL images/AMD\\amd_2568606_3.jpg\n",
      "Deleted C:/Users/x4287225/Desktop/confounder-free-cnn/OCTDL/OCTDL images/AMD\\amd_2651525_1.jpg\n",
      "Deleted C:/Users/x4287225/Desktop/confounder-free-cnn/OCTDL/OCTDL images/AMD\\amd_2651525_2.jpg\n",
      "Deleted C:/Users/x4287225/Desktop/confounder-free-cnn/OCTDL/OCTDL images/AMD\\amd_2651525_3.jpg\n",
      "Deleted C:/Users/x4287225/Desktop/confounder-free-cnn/OCTDL/OCTDL images/AMD\\amd_2651525_4.jpg\n",
      "Deleted C:/Users/x4287225/Desktop/confounder-free-cnn/OCTDL/OCTDL images/AMD\\amd_2651525_5.jpg\n",
      "Deleted C:/Users/x4287225/Desktop/confounder-free-cnn/OCTDL/OCTDL images/AMD\\amd_2677606_1.jpg\n",
      "Deleted C:/Users/x4287225/Desktop/confounder-free-cnn/OCTDL/OCTDL images/AMD\\amd_2677606_2.jpg\n",
      "Deleted C:/Users/x4287225/Desktop/confounder-free-cnn/OCTDL/OCTDL images/AMD\\amd_2690090_1.jpg\n",
      "Deleted C:/Users/x4287225/Desktop/confounder-free-cnn/OCTDL/OCTDL images/AMD\\amd_2690090_2.jpg\n",
      "Deleted C:/Users/x4287225/Desktop/confounder-free-cnn/OCTDL/OCTDL images/AMD\\amd_2715738_1.jpg\n",
      "Deleted C:/Users/x4287225/Desktop/confounder-free-cnn/OCTDL/OCTDL images/AMD\\amd_2715738_2.jpg\n",
      "Deleted C:/Users/x4287225/Desktop/confounder-free-cnn/OCTDL/OCTDL images/AMD\\amd_2715738_3.jpg\n",
      "Deleted C:/Users/x4287225/Desktop/confounder-free-cnn/OCTDL/OCTDL images/AMD\\amd_2715738_4.jpg\n",
      "Deleted C:/Users/x4287225/Desktop/confounder-free-cnn/OCTDL/OCTDL images/AMD\\amd_2809762_1.jpg\n",
      "Deleted C:/Users/x4287225/Desktop/confounder-free-cnn/OCTDL/OCTDL images/AMD\\amd_2809762_2.jpg\n",
      "Deleted C:/Users/x4287225/Desktop/confounder-free-cnn/OCTDL/OCTDL images/AMD\\amd_2809762_3.jpg\n",
      "Deleted C:/Users/x4287225/Desktop/confounder-free-cnn/OCTDL/OCTDL images/AMD\\amd_2820037_1.jpg\n",
      "Deleted C:/Users/x4287225/Desktop/confounder-free-cnn/OCTDL/OCTDL images/AMD\\amd_2820037_2.jpg\n",
      "Deleted C:/Users/x4287225/Desktop/confounder-free-cnn/OCTDL/OCTDL images/AMD\\amd_2827250_1.jpg\n",
      "Deleted C:/Users/x4287225/Desktop/confounder-free-cnn/OCTDL/OCTDL images/AMD\\amd_2827250_2.jpg\n",
      "Deleted C:/Users/x4287225/Desktop/confounder-free-cnn/OCTDL/OCTDL images/AMD\\amd_2827250_3.jpg\n",
      "Deleted C:/Users/x4287225/Desktop/confounder-free-cnn/OCTDL/OCTDL images/AMD\\amd_2849896_1.jpg\n",
      "Deleted C:/Users/x4287225/Desktop/confounder-free-cnn/OCTDL/OCTDL images/AMD\\amd_2849896_2.jpg\n",
      "Deleted C:/Users/x4287225/Desktop/confounder-free-cnn/OCTDL/OCTDL images/AMD\\amd_2849896_3.jpg\n",
      "Deleted C:/Users/x4287225/Desktop/confounder-free-cnn/OCTDL/OCTDL images/AMD\\amd_2849896_4.jpg\n",
      "Deleted C:/Users/x4287225/Desktop/confounder-free-cnn/OCTDL/OCTDL images/AMD\\amd_2849896_5.jpg\n",
      "Deleted C:/Users/x4287225/Desktop/confounder-free-cnn/OCTDL/OCTDL images/AMD\\amd_2865077_1.jpg\n",
      "Deleted C:/Users/x4287225/Desktop/confounder-free-cnn/OCTDL/OCTDL images/AMD\\amd_2945668_1.jpg\n",
      "Deleted C:/Users/x4287225/Desktop/confounder-free-cnn/OCTDL/OCTDL images/AMD\\amd_2945668_2.jpg\n",
      "Deleted C:/Users/x4287225/Desktop/confounder-free-cnn/OCTDL/OCTDL images/AMD\\amd_2945668_3.jpg\n",
      "Deleted C:/Users/x4287225/Desktop/confounder-free-cnn/OCTDL/OCTDL images/AMD\\amd_2945668_4.jpg\n",
      "Deleted C:/Users/x4287225/Desktop/confounder-free-cnn/OCTDL/OCTDL images/AMD\\amd_2945668_5.jpg\n",
      "Deleted C:/Users/x4287225/Desktop/confounder-free-cnn/OCTDL/OCTDL images/AMD\\amd_2945668_6.jpg\n",
      "Deleted C:/Users/x4287225/Desktop/confounder-free-cnn/OCTDL/OCTDL images/AMD\\amd_3053793_1.jpg\n",
      "Deleted C:/Users/x4287225/Desktop/confounder-free-cnn/OCTDL/OCTDL images/AMD\\amd_3053793_2.jpg\n",
      "Deleted C:/Users/x4287225/Desktop/confounder-free-cnn/OCTDL/OCTDL images/AMD\\amd_3053793_3.jpg\n",
      "Deleted C:/Users/x4287225/Desktop/confounder-free-cnn/OCTDL/OCTDL images/AMD\\amd_3053793_4.jpg\n",
      "Deleted C:/Users/x4287225/Desktop/confounder-free-cnn/OCTDL/OCTDL images/AMD\\amd_3071419_1.jpg\n",
      "Deleted C:/Users/x4287225/Desktop/confounder-free-cnn/OCTDL/OCTDL images/AMD\\amd_3071419_2.jpg\n",
      "Deleted C:/Users/x4287225/Desktop/confounder-free-cnn/OCTDL/OCTDL images/AMD\\amd_3071419_3.jpg\n",
      "Deleted C:/Users/x4287225/Desktop/confounder-free-cnn/OCTDL/OCTDL images/AMD\\amd_3071419_4.jpg\n",
      "Deleted C:/Users/x4287225/Desktop/confounder-free-cnn/OCTDL/OCTDL images/AMD\\amd_3077077_1.jpg\n",
      "Deleted C:/Users/x4287225/Desktop/confounder-free-cnn/OCTDL/OCTDL images/AMD\\amd_3077077_2.jpg\n",
      "Deleted C:/Users/x4287225/Desktop/confounder-free-cnn/OCTDL/OCTDL images/AMD\\amd_3077077_3.jpg\n",
      "Deleted C:/Users/x4287225/Desktop/confounder-free-cnn/OCTDL/OCTDL images/AMD\\amd_3131555_1.jpg\n",
      "Deleted C:/Users/x4287225/Desktop/confounder-free-cnn/OCTDL/OCTDL images/AMD\\amd_3131555_2.jpg\n",
      "Deleted C:/Users/x4287225/Desktop/confounder-free-cnn/OCTDL/OCTDL images/AMD\\amd_3131555_3.jpg\n",
      "Deleted C:/Users/x4287225/Desktop/confounder-free-cnn/OCTDL/OCTDL images/AMD\\amd_3131555_4.jpg\n",
      "Deleted C:/Users/x4287225/Desktop/confounder-free-cnn/OCTDL/OCTDL images/AMD\\amd_3138563_1.jpg\n",
      "Deleted C:/Users/x4287225/Desktop/confounder-free-cnn/OCTDL/OCTDL images/AMD\\amd_3138563_2.jpg\n",
      "Deleted C:/Users/x4287225/Desktop/confounder-free-cnn/OCTDL/OCTDL images/AMD\\amd_3138563_3.jpg\n",
      "Deleted C:/Users/x4287225/Desktop/confounder-free-cnn/OCTDL/OCTDL images/AMD\\amd_3200845_1.jpg\n",
      "Deleted C:/Users/x4287225/Desktop/confounder-free-cnn/OCTDL/OCTDL images/AMD\\amd_3200845_2.jpg\n",
      "Deleted C:/Users/x4287225/Desktop/confounder-free-cnn/OCTDL/OCTDL images/AMD\\amd_3221755_1.jpg\n",
      "Deleted C:/Users/x4287225/Desktop/confounder-free-cnn/OCTDL/OCTDL images/AMD\\amd_3221755_2.jpg\n",
      "Deleted C:/Users/x4287225/Desktop/confounder-free-cnn/OCTDL/OCTDL images/AMD\\amd_3221755_3.jpg\n",
      "Deleted C:/Users/x4287225/Desktop/confounder-free-cnn/OCTDL/OCTDL images/AMD\\amd_3221755_4.jpg\n",
      "Deleted C:/Users/x4287225/Desktop/confounder-free-cnn/OCTDL/OCTDL images/AMD\\amd_3239293_1.jpg\n",
      "Deleted C:/Users/x4287225/Desktop/confounder-free-cnn/OCTDL/OCTDL images/AMD\\amd_3239293_2.jpg\n",
      "Deleted C:/Users/x4287225/Desktop/confounder-free-cnn/OCTDL/OCTDL images/AMD\\amd_3274975_1.jpg\n",
      "Deleted C:/Users/x4287225/Desktop/confounder-free-cnn/OCTDL/OCTDL images/AMD\\amd_3274975_2.jpg\n",
      "Deleted C:/Users/x4287225/Desktop/confounder-free-cnn/OCTDL/OCTDL images/AMD\\amd_3274975_3.jpg\n",
      "Deleted C:/Users/x4287225/Desktop/confounder-free-cnn/OCTDL/OCTDL images/AMD\\amd_3290368_1.jpg\n",
      "Deleted C:/Users/x4287225/Desktop/confounder-free-cnn/OCTDL/OCTDL images/AMD\\amd_3290368_2.jpg\n",
      "Deleted C:/Users/x4287225/Desktop/confounder-free-cnn/OCTDL/OCTDL images/AMD\\amd_3313367_1.jpg\n",
      "Deleted C:/Users/x4287225/Desktop/confounder-free-cnn/OCTDL/OCTDL images/AMD\\amd_3313367_2.jpg\n",
      "Deleted C:/Users/x4287225/Desktop/confounder-free-cnn/OCTDL/OCTDL images/AMD\\amd_3313367_3.jpg\n",
      "Deleted C:/Users/x4287225/Desktop/confounder-free-cnn/OCTDL/OCTDL images/AMD\\amd_3313367_4.jpg\n",
      "Deleted C:/Users/x4287225/Desktop/confounder-free-cnn/OCTDL/OCTDL images/AMD\\amd_3313367_5.jpg\n",
      "Deleted C:/Users/x4287225/Desktop/confounder-free-cnn/OCTDL/OCTDL images/AMD\\amd_3332563_1.jpg\n",
      "Deleted C:/Users/x4287225/Desktop/confounder-free-cnn/OCTDL/OCTDL images/AMD\\amd_3332563_2.jpg\n",
      "Deleted C:/Users/x4287225/Desktop/confounder-free-cnn/OCTDL/OCTDL images/AMD\\amd_3332563_3.jpg\n",
      "Deleted C:/Users/x4287225/Desktop/confounder-free-cnn/OCTDL/OCTDL images/AMD\\amd_3332563_4.jpg\n",
      "Deleted C:/Users/x4287225/Desktop/confounder-free-cnn/OCTDL/OCTDL images/AMD\\amd_3335355_1.jpg\n",
      "Deleted C:/Users/x4287225/Desktop/confounder-free-cnn/OCTDL/OCTDL images/AMD\\amd_3335355_2.jpg\n",
      "Deleted C:/Users/x4287225/Desktop/confounder-free-cnn/OCTDL/OCTDL images/AMD\\amd_3335355_3.jpg\n",
      "Deleted C:/Users/x4287225/Desktop/confounder-free-cnn/OCTDL/OCTDL images/AMD\\amd_3335355_4.jpg\n",
      "Deleted C:/Users/x4287225/Desktop/confounder-free-cnn/OCTDL/OCTDL images/AMD\\amd_3348395_1.jpg\n",
      "Deleted C:/Users/x4287225/Desktop/confounder-free-cnn/OCTDL/OCTDL images/AMD\\amd_3348395_2.jpg\n",
      "Deleted C:/Users/x4287225/Desktop/confounder-free-cnn/OCTDL/OCTDL images/AMD\\amd_3348395_3.jpg\n",
      "Deleted C:/Users/x4287225/Desktop/confounder-free-cnn/OCTDL/OCTDL images/AMD\\amd_3348395_4.jpg\n",
      "Deleted C:/Users/x4287225/Desktop/confounder-free-cnn/OCTDL/OCTDL images/AMD\\amd_3361925_1.jpg\n",
      "Deleted C:/Users/x4287225/Desktop/confounder-free-cnn/OCTDL/OCTDL images/AMD\\amd_3368240_1.jpg\n",
      "Deleted C:/Users/x4287225/Desktop/confounder-free-cnn/OCTDL/OCTDL images/AMD\\amd_3368240_2.jpg\n",
      "Deleted C:/Users/x4287225/Desktop/confounder-free-cnn/OCTDL/OCTDL images/AMD\\amd_3404975_1.jpg\n",
      "Deleted C:/Users/x4287225/Desktop/confounder-free-cnn/OCTDL/OCTDL images/AMD\\amd_3404975_2.jpg\n",
      "Deleted C:/Users/x4287225/Desktop/confounder-free-cnn/OCTDL/OCTDL images/AMD\\amd_3404975_3.jpg\n",
      "Deleted C:/Users/x4287225/Desktop/confounder-free-cnn/OCTDL/OCTDL images/AMD\\amd_3404975_4.jpg\n",
      "Deleted C:/Users/x4287225/Desktop/confounder-free-cnn/OCTDL/OCTDL images/AMD\\amd_3409596_1.jpg\n",
      "Deleted C:/Users/x4287225/Desktop/confounder-free-cnn/OCTDL/OCTDL images/AMD\\amd_3409596_2.jpg\n",
      "Deleted C:/Users/x4287225/Desktop/confounder-free-cnn/OCTDL/OCTDL images/AMD\\amd_3409596_3.jpg\n",
      "Deleted C:/Users/x4287225/Desktop/confounder-free-cnn/OCTDL/OCTDL images/AMD\\amd_3441858_1.jpg\n",
      "Deleted C:/Users/x4287225/Desktop/confounder-free-cnn/OCTDL/OCTDL images/AMD\\amd_3441858_2.jpg\n",
      "Deleted C:/Users/x4287225/Desktop/confounder-free-cnn/OCTDL/OCTDL images/AMD\\amd_3441858_3.jpg\n",
      "Deleted C:/Users/x4287225/Desktop/confounder-free-cnn/OCTDL/OCTDL images/AMD\\amd_3441858_4.jpg\n",
      "Deleted C:/Users/x4287225/Desktop/confounder-free-cnn/OCTDL/OCTDL images/AMD\\amd_3452568_1.jpg\n",
      "Deleted C:/Users/x4287225/Desktop/confounder-free-cnn/OCTDL/OCTDL images/AMD\\amd_3452568_2.jpg\n",
      "Deleted C:/Users/x4287225/Desktop/confounder-free-cnn/OCTDL/OCTDL images/AMD\\amd_3452568_3.jpg\n",
      "Deleted C:/Users/x4287225/Desktop/confounder-free-cnn/OCTDL/OCTDL images/AMD\\amd_3471270_1.jpg\n",
      "Deleted C:/Users/x4287225/Desktop/confounder-free-cnn/OCTDL/OCTDL images/AMD\\amd_3471270_2.jpg\n",
      "Deleted C:/Users/x4287225/Desktop/confounder-free-cnn/OCTDL/OCTDL images/AMD\\amd_3471270_3.jpg\n",
      "Deleted C:/Users/x4287225/Desktop/confounder-free-cnn/OCTDL/OCTDL images/AMD\\amd_3471270_4.jpg\n",
      "Deleted C:/Users/x4287225/Desktop/confounder-free-cnn/OCTDL/OCTDL images/AMD\\amd_3471270_5.jpg\n",
      "Deleted C:/Users/x4287225/Desktop/confounder-free-cnn/OCTDL/OCTDL images/AMD\\amd_3471270_6.jpg\n",
      "Deleted C:/Users/x4287225/Desktop/confounder-free-cnn/OCTDL/OCTDL images/AMD\\amd_3471270_7.jpg\n",
      "Deleted C:/Users/x4287225/Desktop/confounder-free-cnn/OCTDL/OCTDL images/AMD\\amd_3471270_8.jpg\n",
      "Deleted C:/Users/x4287225/Desktop/confounder-free-cnn/OCTDL/OCTDL images/AMD\\amd_3471270_9.jpg\n",
      "Deleted C:/Users/x4287225/Desktop/confounder-free-cnn/OCTDL/OCTDL images/AMD\\amd_3477917_1.jpg\n",
      "Deleted C:/Users/x4287225/Desktop/confounder-free-cnn/OCTDL/OCTDL images/AMD\\amd_3477917_2.jpg\n",
      "Deleted C:/Users/x4287225/Desktop/confounder-free-cnn/OCTDL/OCTDL images/AMD\\amd_3477917_3.jpg\n",
      "Deleted C:/Users/x4287225/Desktop/confounder-free-cnn/OCTDL/OCTDL images/AMD\\amd_3477917_4.jpg\n",
      "Deleted C:/Users/x4287225/Desktop/confounder-free-cnn/OCTDL/OCTDL images/AMD\\amd_3477917_5.jpg\n",
      "Deleted C:/Users/x4287225/Desktop/confounder-free-cnn/OCTDL/OCTDL images/AMD\\amd_3524341_1.jpg\n",
      "Deleted C:/Users/x4287225/Desktop/confounder-free-cnn/OCTDL/OCTDL images/AMD\\amd_3524341_2.jpg\n",
      "Deleted C:/Users/x4287225/Desktop/confounder-free-cnn/OCTDL/OCTDL images/AMD\\amd_3524341_3.jpg\n",
      "Deleted C:/Users/x4287225/Desktop/confounder-free-cnn/OCTDL/OCTDL images/AMD\\amd_3562708_1.jpg\n",
      "Deleted C:/Users/x4287225/Desktop/confounder-free-cnn/OCTDL/OCTDL images/AMD\\amd_3562708_2.jpg\n",
      "Deleted C:/Users/x4287225/Desktop/confounder-free-cnn/OCTDL/OCTDL images/AMD\\amd_3562708_3.jpg\n",
      "Deleted C:/Users/x4287225/Desktop/confounder-free-cnn/OCTDL/OCTDL images/AMD\\amd_3562708_4.jpg\n",
      "Deleted C:/Users/x4287225/Desktop/confounder-free-cnn/OCTDL/OCTDL images/AMD\\amd_3562708_5.jpg\n",
      "Deleted C:/Users/x4287225/Desktop/confounder-free-cnn/OCTDL/OCTDL images/AMD\\amd_3567855_1.jpg\n",
      "Deleted C:/Users/x4287225/Desktop/confounder-free-cnn/OCTDL/OCTDL images/AMD\\amd_3567855_2.jpg\n",
      "Deleted C:/Users/x4287225/Desktop/confounder-free-cnn/OCTDL/OCTDL images/AMD\\amd_3567855_3.jpg\n",
      "Deleted C:/Users/x4287225/Desktop/confounder-free-cnn/OCTDL/OCTDL images/AMD\\amd_3567855_4.jpg\n",
      "Deleted C:/Users/x4287225/Desktop/confounder-free-cnn/OCTDL/OCTDL images/AMD\\amd_3574277_1.jpg\n",
      "Deleted C:/Users/x4287225/Desktop/confounder-free-cnn/OCTDL/OCTDL images/AMD\\amd_3574277_2.jpg\n",
      "Deleted C:/Users/x4287225/Desktop/confounder-free-cnn/OCTDL/OCTDL images/AMD\\amd_3579180_1.jpg\n",
      "Deleted C:/Users/x4287225/Desktop/confounder-free-cnn/OCTDL/OCTDL images/AMD\\amd_3579180_2.jpg\n",
      "Deleted C:/Users/x4287225/Desktop/confounder-free-cnn/OCTDL/OCTDL images/AMD\\amd_3579180_3.jpg\n",
      "Deleted C:/Users/x4287225/Desktop/confounder-free-cnn/OCTDL/OCTDL images/AMD\\amd_3579180_4.jpg\n",
      "Deleted C:/Users/x4287225/Desktop/confounder-free-cnn/OCTDL/OCTDL images/AMD\\amd_3579180_5.jpg\n",
      "Deleted C:/Users/x4287225/Desktop/confounder-free-cnn/OCTDL/OCTDL images/AMD\\amd_3622632_1.jpg\n",
      "Deleted C:/Users/x4287225/Desktop/confounder-free-cnn/OCTDL/OCTDL images/AMD\\amd_3637521_1.jpg\n",
      "Deleted C:/Users/x4287225/Desktop/confounder-free-cnn/OCTDL/OCTDL images/AMD\\amd_3637521_2.jpg\n",
      "Deleted C:/Users/x4287225/Desktop/confounder-free-cnn/OCTDL/OCTDL images/AMD\\amd_3661614_1.jpg\n",
      "Deleted C:/Users/x4287225/Desktop/confounder-free-cnn/OCTDL/OCTDL images/AMD\\amd_3661614_2.jpg\n",
      "Deleted C:/Users/x4287225/Desktop/confounder-free-cnn/OCTDL/OCTDL images/AMD\\amd_3661614_3.jpg\n",
      "Deleted C:/Users/x4287225/Desktop/confounder-free-cnn/OCTDL/OCTDL images/AMD\\amd_3678132_1.jpg\n",
      "Deleted C:/Users/x4287225/Desktop/confounder-free-cnn/OCTDL/OCTDL images/AMD\\amd_3678132_2.jpg\n",
      "Deleted C:/Users/x4287225/Desktop/confounder-free-cnn/OCTDL/OCTDL images/AMD\\amd_3678132_3.jpg\n",
      "Deleted C:/Users/x4287225/Desktop/confounder-free-cnn/OCTDL/OCTDL images/AMD\\amd_3687545_1.jpg\n",
      "Deleted C:/Users/x4287225/Desktop/confounder-free-cnn/OCTDL/OCTDL images/AMD\\amd_3687545_2.jpg\n",
      "Deleted C:/Users/x4287225/Desktop/confounder-free-cnn/OCTDL/OCTDL images/AMD\\amd_3738234_1.jpg\n",
      "Deleted C:/Users/x4287225/Desktop/confounder-free-cnn/OCTDL/OCTDL images/AMD\\amd_3738234_2.jpg\n",
      "Deleted C:/Users/x4287225/Desktop/confounder-free-cnn/OCTDL/OCTDL images/AMD\\amd_3738234_3.jpg\n",
      "Deleted C:/Users/x4287225/Desktop/confounder-free-cnn/OCTDL/OCTDL images/AMD\\amd_3738234_4.jpg\n",
      "Deleted C:/Users/x4287225/Desktop/confounder-free-cnn/OCTDL/OCTDL images/AMD\\amd_3742741_1.jpg\n",
      "Deleted C:/Users/x4287225/Desktop/confounder-free-cnn/OCTDL/OCTDL images/AMD\\amd_3742741_2.jpg\n",
      "Deleted C:/Users/x4287225/Desktop/confounder-free-cnn/OCTDL/OCTDL images/AMD\\amd_3742741_3.jpg\n",
      "Deleted C:/Users/x4287225/Desktop/confounder-free-cnn/OCTDL/OCTDL images/AMD\\amd_3743676_1.jpg\n",
      "Deleted C:/Users/x4287225/Desktop/confounder-free-cnn/OCTDL/OCTDL images/AMD\\amd_3743676_2.jpg\n",
      "Deleted C:/Users/x4287225/Desktop/confounder-free-cnn/OCTDL/OCTDL images/AMD\\amd_3810654_1.jpg\n",
      "Deleted C:/Users/x4287225/Desktop/confounder-free-cnn/OCTDL/OCTDL images/AMD\\amd_3810654_2.jpg\n",
      "Deleted C:/Users/x4287225/Desktop/confounder-free-cnn/OCTDL/OCTDL images/AMD\\amd_3810654_3.jpg\n",
      "Deleted C:/Users/x4287225/Desktop/confounder-free-cnn/OCTDL/OCTDL images/AMD\\amd_3820954_1.jpg\n",
      "Deleted C:/Users/x4287225/Desktop/confounder-free-cnn/OCTDL/OCTDL images/AMD\\amd_3820954_2.jpg\n",
      "Deleted C:/Users/x4287225/Desktop/confounder-free-cnn/OCTDL/OCTDL images/AMD\\amd_3982435_1.jpg\n",
      "Deleted C:/Users/x4287225/Desktop/confounder-free-cnn/OCTDL/OCTDL images/AMD\\amd_3982435_2.jpg\n",
      "Deleted C:/Users/x4287225/Desktop/confounder-free-cnn/OCTDL/OCTDL images/AMD\\amd_3982435_3.jpg\n",
      "Deleted C:/Users/x4287225/Desktop/confounder-free-cnn/OCTDL/OCTDL images/AMD\\amd_3982435_4.jpg\n",
      "Deleted C:/Users/x4287225/Desktop/confounder-free-cnn/OCTDL/OCTDL images/AMD\\amd_3982435_5.jpg\n",
      "Deleted C:/Users/x4287225/Desktop/confounder-free-cnn/OCTDL/OCTDL images/AMD\\amd_3982435_6.jpg\n",
      "Deleted C:/Users/x4287225/Desktop/confounder-free-cnn/OCTDL/OCTDL images/AMD\\amd_3982435_7.jpg\n",
      "Deleted C:/Users/x4287225/Desktop/confounder-free-cnn/OCTDL/OCTDL images/AMD\\amd_3991221_1.jpg\n",
      "Deleted C:/Users/x4287225/Desktop/confounder-free-cnn/OCTDL/OCTDL images/AMD\\amd_3991221_2.jpg\n",
      "Deleted C:/Users/x4287225/Desktop/confounder-free-cnn/OCTDL/OCTDL images/AMD\\amd_3991221_3.jpg\n",
      "Deleted C:/Users/x4287225/Desktop/confounder-free-cnn/OCTDL/OCTDL images/AMD\\amd_4006332_1.jpg\n",
      "Deleted C:/Users/x4287225/Desktop/confounder-free-cnn/OCTDL/OCTDL images/AMD\\amd_4047021_1.jpg\n",
      "Deleted C:/Users/x4287225/Desktop/confounder-free-cnn/OCTDL/OCTDL images/AMD\\amd_4047021_2.jpg\n",
      "Deleted C:/Users/x4287225/Desktop/confounder-free-cnn/OCTDL/OCTDL images/AMD\\amd_4064960_1.jpg\n",
      "Deleted C:/Users/x4287225/Desktop/confounder-free-cnn/OCTDL/OCTDL images/AMD\\amd_4064960_2.jpg\n",
      "Deleted C:/Users/x4287225/Desktop/confounder-free-cnn/OCTDL/OCTDL images/AMD\\amd_4069275_1.jpg\n",
      "Deleted C:/Users/x4287225/Desktop/confounder-free-cnn/OCTDL/OCTDL images/AMD\\amd_4069275_2.jpg\n",
      "Deleted C:/Users/x4287225/Desktop/confounder-free-cnn/OCTDL/OCTDL images/AMD\\amd_4069275_3.jpg\n",
      "Deleted C:/Users/x4287225/Desktop/confounder-free-cnn/OCTDL/OCTDL images/AMD\\amd_4069275_4.jpg\n",
      "Deleted C:/Users/x4287225/Desktop/confounder-free-cnn/OCTDL/OCTDL images/AMD\\amd_4113554_1.jpg\n",
      "Deleted C:/Users/x4287225/Desktop/confounder-free-cnn/OCTDL/OCTDL images/AMD\\amd_4113554_2.jpg\n",
      "Deleted C:/Users/x4287225/Desktop/confounder-free-cnn/OCTDL/OCTDL images/AMD\\amd_4113554_3.jpg\n",
      "Deleted C:/Users/x4287225/Desktop/confounder-free-cnn/OCTDL/OCTDL images/AMD\\amd_4113554_4.jpg\n",
      "Deleted C:/Users/x4287225/Desktop/confounder-free-cnn/OCTDL/OCTDL images/AMD\\amd_4125745_1.jpg\n",
      "Deleted C:/Users/x4287225/Desktop/confounder-free-cnn/OCTDL/OCTDL images/AMD\\amd_4125745_2.jpg\n",
      "Deleted C:/Users/x4287225/Desktop/confounder-free-cnn/OCTDL/OCTDL images/AMD\\amd_4125745_3.jpg\n",
      "Deleted C:/Users/x4287225/Desktop/confounder-free-cnn/OCTDL/OCTDL images/AMD\\amd_4125745_4.jpg\n",
      "Deleted C:/Users/x4287225/Desktop/confounder-free-cnn/OCTDL/OCTDL images/AMD\\amd_4125745_5.jpg\n",
      "Deleted C:/Users/x4287225/Desktop/confounder-free-cnn/OCTDL/OCTDL images/AMD\\amd_4125745_6.jpg\n",
      "Deleted C:/Users/x4287225/Desktop/confounder-free-cnn/OCTDL/OCTDL images/AMD\\amd_4207802_1.jpg\n",
      "Deleted C:/Users/x4287225/Desktop/confounder-free-cnn/OCTDL/OCTDL images/AMD\\amd_4207802_2.jpg\n",
      "Deleted C:/Users/x4287225/Desktop/confounder-free-cnn/OCTDL/OCTDL images/AMD\\amd_4207802_3.jpg\n",
      "Deleted C:/Users/x4287225/Desktop/confounder-free-cnn/OCTDL/OCTDL images/AMD\\amd_4256065_1.jpg\n",
      "Deleted C:/Users/x4287225/Desktop/confounder-free-cnn/OCTDL/OCTDL images/AMD\\amd_4256065_2.jpg\n",
      "Deleted C:/Users/x4287225/Desktop/confounder-free-cnn/OCTDL/OCTDL images/AMD\\amd_4256065_3.jpg\n",
      "Deleted C:/Users/x4287225/Desktop/confounder-free-cnn/OCTDL/OCTDL images/AMD\\amd_4280718_1.jpg\n",
      "Deleted C:/Users/x4287225/Desktop/confounder-free-cnn/OCTDL/OCTDL images/AMD\\amd_4280718_2.jpg\n",
      "Deleted C:/Users/x4287225/Desktop/confounder-free-cnn/OCTDL/OCTDL images/AMD\\amd_4280718_3.jpg\n",
      "Deleted C:/Users/x4287225/Desktop/confounder-free-cnn/OCTDL/OCTDL images/AMD\\amd_4280718_4.jpg\n",
      "Deleted C:/Users/x4287225/Desktop/confounder-free-cnn/OCTDL/OCTDL images/AMD\\amd_4280718_5.jpg\n",
      "Deleted C:/Users/x4287225/Desktop/confounder-free-cnn/OCTDL/OCTDL images/AMD\\amd_4280718_6.jpg\n",
      "Deleted C:/Users/x4287225/Desktop/confounder-free-cnn/OCTDL/OCTDL images/AMD\\amd_4280718_7.jpg\n",
      "Deleted C:/Users/x4287225/Desktop/confounder-free-cnn/OCTDL/OCTDL images/AMD\\amd_4280718_8.jpg\n",
      "Deleted C:/Users/x4287225/Desktop/confounder-free-cnn/OCTDL/OCTDL images/AMD\\amd_4309193_1.jpg\n",
      "Deleted C:/Users/x4287225/Desktop/confounder-free-cnn/OCTDL/OCTDL images/AMD\\amd_4309193_2.jpg\n",
      "Deleted C:/Users/x4287225/Desktop/confounder-free-cnn/OCTDL/OCTDL images/AMD\\amd_4309193_3.jpg\n",
      "Deleted C:/Users/x4287225/Desktop/confounder-free-cnn/OCTDL/OCTDL images/AMD\\amd_4342416_1.jpg\n",
      "Deleted C:/Users/x4287225/Desktop/confounder-free-cnn/OCTDL/OCTDL images/AMD\\amd_4361406_1.jpg\n",
      "Deleted C:/Users/x4287225/Desktop/confounder-free-cnn/OCTDL/OCTDL images/AMD\\amd_4361406_2.jpg\n",
      "Deleted C:/Users/x4287225/Desktop/confounder-free-cnn/OCTDL/OCTDL images/AMD\\amd_4395173_1.jpg\n",
      "Deleted C:/Users/x4287225/Desktop/confounder-free-cnn/OCTDL/OCTDL images/AMD\\amd_4395173_2.jpg\n",
      "Deleted C:/Users/x4287225/Desktop/confounder-free-cnn/OCTDL/OCTDL images/AMD\\amd_4420649_1.jpg\n",
      "Deleted C:/Users/x4287225/Desktop/confounder-free-cnn/OCTDL/OCTDL images/AMD\\amd_4420649_2.jpg\n",
      "Deleted C:/Users/x4287225/Desktop/confounder-free-cnn/OCTDL/OCTDL images/AMD\\amd_4428303_1.jpg\n",
      "Deleted C:/Users/x4287225/Desktop/confounder-free-cnn/OCTDL/OCTDL images/AMD\\amd_4428303_2.jpg\n",
      "Deleted C:/Users/x4287225/Desktop/confounder-free-cnn/OCTDL/OCTDL images/AMD\\amd_4431545_1.jpg\n",
      "Deleted C:/Users/x4287225/Desktop/confounder-free-cnn/OCTDL/OCTDL images/AMD\\amd_4431545_2.jpg\n",
      "Deleted C:/Users/x4287225/Desktop/confounder-free-cnn/OCTDL/OCTDL images/AMD\\amd_4442117_1.jpg\n",
      "Deleted C:/Users/x4287225/Desktop/confounder-free-cnn/OCTDL/OCTDL images/AMD\\amd_4442117_2.jpg\n",
      "Deleted C:/Users/x4287225/Desktop/confounder-free-cnn/OCTDL/OCTDL images/AMD\\amd_4442117_3.jpg\n",
      "Deleted C:/Users/x4287225/Desktop/confounder-free-cnn/OCTDL/OCTDL images/AMD\\amd_4443541_1.jpg\n",
      "Deleted C:/Users/x4287225/Desktop/confounder-free-cnn/OCTDL/OCTDL images/AMD\\amd_4443541_2.jpg\n",
      "Deleted C:/Users/x4287225/Desktop/confounder-free-cnn/OCTDL/OCTDL images/AMD\\amd_4443541_3.jpg\n",
      "Deleted C:/Users/x4287225/Desktop/confounder-free-cnn/OCTDL/OCTDL images/AMD\\amd_4509078_1.jpg\n",
      "Deleted C:/Users/x4287225/Desktop/confounder-free-cnn/OCTDL/OCTDL images/AMD\\amd_4510340_1.jpg\n",
      "Deleted C:/Users/x4287225/Desktop/confounder-free-cnn/OCTDL/OCTDL images/AMD\\amd_4536271_1.jpg\n",
      "Deleted C:/Users/x4287225/Desktop/confounder-free-cnn/OCTDL/OCTDL images/AMD\\amd_4536271_2.jpg\n",
      "Deleted C:/Users/x4287225/Desktop/confounder-free-cnn/OCTDL/OCTDL images/AMD\\amd_4536271_3.jpg\n",
      "Deleted C:/Users/x4287225/Desktop/confounder-free-cnn/OCTDL/OCTDL images/AMD\\amd_4536271_4.jpg\n",
      "Deleted C:/Users/x4287225/Desktop/confounder-free-cnn/OCTDL/OCTDL images/AMD\\amd_4574657_1.jpg\n",
      "Deleted C:/Users/x4287225/Desktop/confounder-free-cnn/OCTDL/OCTDL images/AMD\\amd_4574657_2.jpg\n",
      "Deleted C:/Users/x4287225/Desktop/confounder-free-cnn/OCTDL/OCTDL images/AMD\\amd_4574657_3.jpg\n",
      "Deleted C:/Users/x4287225/Desktop/confounder-free-cnn/OCTDL/OCTDL images/AMD\\amd_4574657_4.jpg\n",
      "Deleted C:/Users/x4287225/Desktop/confounder-free-cnn/OCTDL/OCTDL images/AMD\\amd_4574657_5.jpg\n",
      "Deleted C:/Users/x4287225/Desktop/confounder-free-cnn/OCTDL/OCTDL images/AMD\\amd_4602844_1.jpg\n",
      "Deleted C:/Users/x4287225/Desktop/confounder-free-cnn/OCTDL/OCTDL images/AMD\\amd_4602844_2.jpg\n",
      "Deleted C:/Users/x4287225/Desktop/confounder-free-cnn/OCTDL/OCTDL images/AMD\\amd_4602844_3.jpg\n",
      "Deleted C:/Users/x4287225/Desktop/confounder-free-cnn/OCTDL/OCTDL images/AMD\\amd_4602844_4.jpg\n",
      "Deleted C:/Users/x4287225/Desktop/confounder-free-cnn/OCTDL/OCTDL images/AMD\\amd_4620289_1.jpg\n",
      "Deleted C:/Users/x4287225/Desktop/confounder-free-cnn/OCTDL/OCTDL images/AMD\\amd_4620289_2.jpg\n",
      "Deleted C:/Users/x4287225/Desktop/confounder-free-cnn/OCTDL/OCTDL images/AMD\\amd_4627982_1.jpg\n",
      "Deleted C:/Users/x4287225/Desktop/confounder-free-cnn/OCTDL/OCTDL images/AMD\\amd_4627982_2.jpg\n",
      "Deleted C:/Users/x4287225/Desktop/confounder-free-cnn/OCTDL/OCTDL images/AMD\\amd_4627982_3.jpg\n",
      "Deleted C:/Users/x4287225/Desktop/confounder-free-cnn/OCTDL/OCTDL images/AMD\\amd_4627982_4.jpg\n",
      "Deleted C:/Users/x4287225/Desktop/confounder-free-cnn/OCTDL/OCTDL images/AMD\\amd_4627982_5.jpg\n",
      "Deleted C:/Users/x4287225/Desktop/confounder-free-cnn/OCTDL/OCTDL images/AMD\\amd_4718237_1.jpg\n",
      "Deleted C:/Users/x4287225/Desktop/confounder-free-cnn/OCTDL/OCTDL images/AMD\\amd_4718237_2.jpg\n",
      "Deleted C:/Users/x4287225/Desktop/confounder-free-cnn/OCTDL/OCTDL images/AMD\\amd_4718237_3.jpg\n",
      "Deleted C:/Users/x4287225/Desktop/confounder-free-cnn/OCTDL/OCTDL images/AMD\\amd_4722059_1.jpg\n",
      "Deleted C:/Users/x4287225/Desktop/confounder-free-cnn/OCTDL/OCTDL images/AMD\\amd_4722059_2.jpg\n",
      "Deleted C:/Users/x4287225/Desktop/confounder-free-cnn/OCTDL/OCTDL images/AMD\\amd_4722059_3.jpg\n",
      "Deleted C:/Users/x4287225/Desktop/confounder-free-cnn/OCTDL/OCTDL images/AMD\\amd_4730968_1.jpg\n",
      "Deleted C:/Users/x4287225/Desktop/confounder-free-cnn/OCTDL/OCTDL images/AMD\\amd_4730968_2.jpg\n",
      "Deleted C:/Users/x4287225/Desktop/confounder-free-cnn/OCTDL/OCTDL images/AMD\\amd_4730968_3.jpg\n",
      "Deleted C:/Users/x4287225/Desktop/confounder-free-cnn/OCTDL/OCTDL images/AMD\\amd_4730968_4.jpg\n",
      "Deleted C:/Users/x4287225/Desktop/confounder-free-cnn/OCTDL/OCTDL images/AMD\\amd_4812691_1.jpg\n",
      "Deleted C:/Users/x4287225/Desktop/confounder-free-cnn/OCTDL/OCTDL images/AMD\\amd_4812691_2.jpg\n",
      "Deleted C:/Users/x4287225/Desktop/confounder-free-cnn/OCTDL/OCTDL images/AMD\\amd_4812691_3.jpg\n",
      "Deleted C:/Users/x4287225/Desktop/confounder-free-cnn/OCTDL/OCTDL images/AMD\\amd_4812942_1.jpg\n",
      "Deleted C:/Users/x4287225/Desktop/confounder-free-cnn/OCTDL/OCTDL images/AMD\\amd_4812942_2.jpg\n",
      "Deleted C:/Users/x4287225/Desktop/confounder-free-cnn/OCTDL/OCTDL images/AMD\\amd_4812942_3.jpg\n",
      "Deleted C:/Users/x4287225/Desktop/confounder-free-cnn/OCTDL/OCTDL images/AMD\\amd_4812942_4.jpg\n",
      "Deleted C:/Users/x4287225/Desktop/confounder-free-cnn/OCTDL/OCTDL images/AMD\\amd_4857278_1.jpg\n",
      "Deleted C:/Users/x4287225/Desktop/confounder-free-cnn/OCTDL/OCTDL images/AMD\\amd_4857278_2.jpg\n",
      "Deleted C:/Users/x4287225/Desktop/confounder-free-cnn/OCTDL/OCTDL images/AMD\\amd_4857278_3.jpg\n",
      "Deleted C:/Users/x4287225/Desktop/confounder-free-cnn/OCTDL/OCTDL images/AMD\\amd_4857278_4.jpg\n",
      "Deleted C:/Users/x4287225/Desktop/confounder-free-cnn/OCTDL/OCTDL images/AMD\\amd_4857278_5.jpg\n",
      "Deleted C:/Users/x4287225/Desktop/confounder-free-cnn/OCTDL/OCTDL images/AMD\\amd_4886366_1.jpg\n",
      "Deleted C:/Users/x4287225/Desktop/confounder-free-cnn/OCTDL/OCTDL images/AMD\\amd_4886366_2.jpg\n",
      "Deleted C:/Users/x4287225/Desktop/confounder-free-cnn/OCTDL/OCTDL images/AMD\\amd_4886366_3.jpg\n",
      "Deleted C:/Users/x4287225/Desktop/confounder-free-cnn/OCTDL/OCTDL images/AMD\\amd_4886366_4.jpg\n",
      "Deleted C:/Users/x4287225/Desktop/confounder-free-cnn/OCTDL/OCTDL images/AMD\\amd_4986761_1.jpg\n",
      "Deleted C:/Users/x4287225/Desktop/confounder-free-cnn/OCTDL/OCTDL images/AMD\\amd_5022300_1.jpg\n",
      "Deleted C:/Users/x4287225/Desktop/confounder-free-cnn/OCTDL/OCTDL images/AMD\\amd_5022300_2.jpg\n",
      "Deleted C:/Users/x4287225/Desktop/confounder-free-cnn/OCTDL/OCTDL images/AMD\\amd_5064254_1.jpg\n",
      "Deleted C:/Users/x4287225/Desktop/confounder-free-cnn/OCTDL/OCTDL images/AMD\\amd_5064254_2.jpg\n",
      "Deleted C:/Users/x4287225/Desktop/confounder-free-cnn/OCTDL/OCTDL images/AMD\\amd_5064254_3.jpg\n",
      "Deleted C:/Users/x4287225/Desktop/confounder-free-cnn/OCTDL/OCTDL images/AMD\\amd_5064254_4.jpg\n",
      "Deleted C:/Users/x4287225/Desktop/confounder-free-cnn/OCTDL/OCTDL images/AMD\\amd_5064254_5.jpg\n",
      "Deleted C:/Users/x4287225/Desktop/confounder-free-cnn/OCTDL/OCTDL images/AMD\\amd_5078997_1.jpg\n",
      "Deleted C:/Users/x4287225/Desktop/confounder-free-cnn/OCTDL/OCTDL images/AMD\\amd_5078997_2.jpg\n",
      "Deleted C:/Users/x4287225/Desktop/confounder-free-cnn/OCTDL/OCTDL images/AMD\\amd_5078997_3.jpg\n",
      "Deleted C:/Users/x4287225/Desktop/confounder-free-cnn/OCTDL/OCTDL images/AMD\\amd_5101394_1.jpg\n",
      "Deleted C:/Users/x4287225/Desktop/confounder-free-cnn/OCTDL/OCTDL images/AMD\\amd_5101394_2.jpg\n",
      "Deleted C:/Users/x4287225/Desktop/confounder-free-cnn/OCTDL/OCTDL images/AMD\\amd_5126334_1.jpg\n",
      "Deleted C:/Users/x4287225/Desktop/confounder-free-cnn/OCTDL/OCTDL images/AMD\\amd_5126334_2.jpg\n",
      "Deleted C:/Users/x4287225/Desktop/confounder-free-cnn/OCTDL/OCTDL images/AMD\\amd_5142371_1.jpg\n",
      "Deleted C:/Users/x4287225/Desktop/confounder-free-cnn/OCTDL/OCTDL images/AMD\\amd_5142371_2.jpg\n",
      "Deleted C:/Users/x4287225/Desktop/confounder-free-cnn/OCTDL/OCTDL images/AMD\\amd_5183288_1.jpg\n",
      "Deleted C:/Users/x4287225/Desktop/confounder-free-cnn/OCTDL/OCTDL images/AMD\\amd_5183288_2.jpg\n",
      "Deleted C:/Users/x4287225/Desktop/confounder-free-cnn/OCTDL/OCTDL images/AMD\\amd_5183288_3.jpg\n",
      "Deleted C:/Users/x4287225/Desktop/confounder-free-cnn/OCTDL/OCTDL images/AMD\\amd_5183288_4.jpg\n",
      "Deleted C:/Users/x4287225/Desktop/confounder-free-cnn/OCTDL/OCTDL images/AMD\\amd_5207127_1.jpg\n",
      "Deleted C:/Users/x4287225/Desktop/confounder-free-cnn/OCTDL/OCTDL images/AMD\\amd_5207127_2.jpg\n",
      "Deleted C:/Users/x4287225/Desktop/confounder-free-cnn/OCTDL/OCTDL images/AMD\\amd_5207127_3.jpg\n",
      "Deleted C:/Users/x4287225/Desktop/confounder-free-cnn/OCTDL/OCTDL images/AMD\\amd_5207127_4.jpg\n",
      "Deleted C:/Users/x4287225/Desktop/confounder-free-cnn/OCTDL/OCTDL images/AMD\\amd_5265526_1.jpg\n",
      "Deleted C:/Users/x4287225/Desktop/confounder-free-cnn/OCTDL/OCTDL images/AMD\\amd_5265526_2.jpg\n",
      "Deleted C:/Users/x4287225/Desktop/confounder-free-cnn/OCTDL/OCTDL images/AMD\\amd_5265526_3.jpg\n",
      "Deleted C:/Users/x4287225/Desktop/confounder-free-cnn/OCTDL/OCTDL images/AMD\\amd_5265526_4.jpg\n",
      "Deleted C:/Users/x4287225/Desktop/confounder-free-cnn/OCTDL/OCTDL images/AMD\\amd_5265526_5.jpg\n",
      "Deleted C:/Users/x4287225/Desktop/confounder-free-cnn/OCTDL/OCTDL images/AMD\\amd_5265526_6.jpg\n",
      "Deleted C:/Users/x4287225/Desktop/confounder-free-cnn/OCTDL/OCTDL images/AMD\\amd_5344946_1.jpg\n",
      "Deleted C:/Users/x4287225/Desktop/confounder-free-cnn/OCTDL/OCTDL images/AMD\\amd_5344946_2.jpg\n",
      "Deleted C:/Users/x4287225/Desktop/confounder-free-cnn/OCTDL/OCTDL images/AMD\\amd_5344946_3.jpg\n",
      "Deleted C:/Users/x4287225/Desktop/confounder-free-cnn/OCTDL/OCTDL images/AMD\\amd_5344946_4.jpg\n",
      "Deleted C:/Users/x4287225/Desktop/confounder-free-cnn/OCTDL/OCTDL images/AMD\\amd_5344946_5.jpg\n",
      "Deleted C:/Users/x4287225/Desktop/confounder-free-cnn/OCTDL/OCTDL images/AMD\\amd_5344946_6.jpg\n",
      "Deleted C:/Users/x4287225/Desktop/confounder-free-cnn/OCTDL/OCTDL images/AMD\\amd_5410141_1.jpg\n",
      "Deleted C:/Users/x4287225/Desktop/confounder-free-cnn/OCTDL/OCTDL images/AMD\\amd_5410141_2.jpg\n",
      "Deleted C:/Users/x4287225/Desktop/confounder-free-cnn/OCTDL/OCTDL images/AMD\\amd_5410141_3.jpg\n",
      "Deleted C:/Users/x4287225/Desktop/confounder-free-cnn/OCTDL/OCTDL images/AMD\\amd_5410141_4.jpg\n",
      "Deleted C:/Users/x4287225/Desktop/confounder-free-cnn/OCTDL/OCTDL images/AMD\\amd_5413226_1.jpg\n",
      "Deleted C:/Users/x4287225/Desktop/confounder-free-cnn/OCTDL/OCTDL images/AMD\\amd_5413226_2.jpg\n",
      "Deleted C:/Users/x4287225/Desktop/confounder-free-cnn/OCTDL/OCTDL images/AMD\\amd_5413226_3.jpg\n",
      "Deleted C:/Users/x4287225/Desktop/confounder-free-cnn/OCTDL/OCTDL images/AMD\\amd_5413226_4.jpg\n",
      "Deleted C:/Users/x4287225/Desktop/confounder-free-cnn/OCTDL/OCTDL images/AMD\\amd_5413226_5.jpg\n",
      "Deleted C:/Users/x4287225/Desktop/confounder-free-cnn/OCTDL/OCTDL images/AMD\\amd_5413226_6.jpg\n",
      "Deleted C:/Users/x4287225/Desktop/confounder-free-cnn/OCTDL/OCTDL images/AMD\\amd_5418162_1.jpg\n",
      "Deleted C:/Users/x4287225/Desktop/confounder-free-cnn/OCTDL/OCTDL images/AMD\\amd_5454570_1.jpg\n",
      "Deleted C:/Users/x4287225/Desktop/confounder-free-cnn/OCTDL/OCTDL images/AMD\\amd_5454570_2.jpg\n",
      "Deleted C:/Users/x4287225/Desktop/confounder-free-cnn/OCTDL/OCTDL images/AMD\\amd_5454570_3.jpg\n",
      "Deleted C:/Users/x4287225/Desktop/confounder-free-cnn/OCTDL/OCTDL images/AMD\\amd_5454570_4.jpg\n",
      "Deleted C:/Users/x4287225/Desktop/confounder-free-cnn/OCTDL/OCTDL images/AMD\\amd_5454570_5.jpg\n",
      "Deleted C:/Users/x4287225/Desktop/confounder-free-cnn/OCTDL/OCTDL images/AMD\\amd_5518151_1.jpg\n",
      "Deleted C:/Users/x4287225/Desktop/confounder-free-cnn/OCTDL/OCTDL images/AMD\\amd_5518151_2.jpg\n",
      "Deleted C:/Users/x4287225/Desktop/confounder-free-cnn/OCTDL/OCTDL images/AMD\\amd_5519932_1.jpg\n",
      "Deleted C:/Users/x4287225/Desktop/confounder-free-cnn/OCTDL/OCTDL images/AMD\\amd_5519932_2.jpg\n",
      "Deleted C:/Users/x4287225/Desktop/confounder-free-cnn/OCTDL/OCTDL images/AMD\\amd_5618499_1.jpg\n",
      "Deleted C:/Users/x4287225/Desktop/confounder-free-cnn/OCTDL/OCTDL images/AMD\\amd_5618499_2.jpg\n",
      "Deleted C:/Users/x4287225/Desktop/confounder-free-cnn/OCTDL/OCTDL images/AMD\\amd_5618499_3.jpg\n",
      "Deleted C:/Users/x4287225/Desktop/confounder-free-cnn/OCTDL/OCTDL images/AMD\\amd_5618499_4.jpg\n",
      "Deleted C:/Users/x4287225/Desktop/confounder-free-cnn/OCTDL/OCTDL images/AMD\\amd_5633820_1.jpg\n",
      "Deleted C:/Users/x4287225/Desktop/confounder-free-cnn/OCTDL/OCTDL images/AMD\\amd_5644771_1.jpg\n",
      "Deleted C:/Users/x4287225/Desktop/confounder-free-cnn/OCTDL/OCTDL images/AMD\\amd_5673346_1.jpg\n",
      "Deleted C:/Users/x4287225/Desktop/confounder-free-cnn/OCTDL/OCTDL images/AMD\\amd_5673346_2.jpg\n",
      "Deleted C:/Users/x4287225/Desktop/confounder-free-cnn/OCTDL/OCTDL images/AMD\\amd_5689194_1.jpg\n",
      "Deleted C:/Users/x4287225/Desktop/confounder-free-cnn/OCTDL/OCTDL images/AMD\\amd_5689194_2.jpg\n",
      "Deleted C:/Users/x4287225/Desktop/confounder-free-cnn/OCTDL/OCTDL images/AMD\\amd_5689194_3.jpg\n",
      "Deleted C:/Users/x4287225/Desktop/confounder-free-cnn/OCTDL/OCTDL images/AMD\\amd_5689194_4.jpg\n",
      "Deleted C:/Users/x4287225/Desktop/confounder-free-cnn/OCTDL/OCTDL images/AMD\\amd_5748269_1.jpg\n",
      "Deleted C:/Users/x4287225/Desktop/confounder-free-cnn/OCTDL/OCTDL images/AMD\\amd_5748269_2.jpg\n",
      "Deleted C:/Users/x4287225/Desktop/confounder-free-cnn/OCTDL/OCTDL images/AMD\\amd_5748269_3.jpg\n",
      "Deleted C:/Users/x4287225/Desktop/confounder-free-cnn/OCTDL/OCTDL images/AMD\\amd_5748269_4.jpg\n",
      "Deleted C:/Users/x4287225/Desktop/confounder-free-cnn/OCTDL/OCTDL images/AMD\\amd_5748269_5.jpg\n",
      "Deleted C:/Users/x4287225/Desktop/confounder-free-cnn/OCTDL/OCTDL images/AMD\\amd_5748269_6.jpg\n",
      "Deleted C:/Users/x4287225/Desktop/confounder-free-cnn/OCTDL/OCTDL images/AMD\\amd_5748269_7.jpg\n",
      "Deleted C:/Users/x4287225/Desktop/confounder-free-cnn/OCTDL/OCTDL images/AMD\\amd_5753910_1.jpg\n",
      "Deleted C:/Users/x4287225/Desktop/confounder-free-cnn/OCTDL/OCTDL images/AMD\\amd_5753910_2.jpg\n",
      "Deleted C:/Users/x4287225/Desktop/confounder-free-cnn/OCTDL/OCTDL images/AMD\\amd_5798907_1.jpg\n",
      "Deleted C:/Users/x4287225/Desktop/confounder-free-cnn/OCTDL/OCTDL images/AMD\\amd_5798907_2.jpg\n",
      "Deleted C:/Users/x4287225/Desktop/confounder-free-cnn/OCTDL/OCTDL images/AMD\\amd_5836001_1.jpg\n",
      "Deleted C:/Users/x4287225/Desktop/confounder-free-cnn/OCTDL/OCTDL images/AMD\\amd_5836001_2.jpg\n",
      "Deleted C:/Users/x4287225/Desktop/confounder-free-cnn/OCTDL/OCTDL images/AMD\\amd_5836001_3.jpg\n",
      "Deleted C:/Users/x4287225/Desktop/confounder-free-cnn/OCTDL/OCTDL images/AMD\\amd_5836001_4.jpg\n",
      "Deleted C:/Users/x4287225/Desktop/confounder-free-cnn/OCTDL/OCTDL images/AMD\\amd_5953930_1.jpg\n",
      "Deleted C:/Users/x4287225/Desktop/confounder-free-cnn/OCTDL/OCTDL images/AMD\\amd_5953930_2.jpg\n",
      "Deleted C:/Users/x4287225/Desktop/confounder-free-cnn/OCTDL/OCTDL images/AMD\\amd_5977122_1.jpg\n",
      "Deleted C:/Users/x4287225/Desktop/confounder-free-cnn/OCTDL/OCTDL images/AMD\\amd_5977122_2.jpg\n",
      "Deleted C:/Users/x4287225/Desktop/confounder-free-cnn/OCTDL/OCTDL images/AMD\\amd_5977122_3.jpg\n",
      "Deleted C:/Users/x4287225/Desktop/confounder-free-cnn/OCTDL/OCTDL images/AMD\\amd_5977122_4.jpg\n",
      "Deleted C:/Users/x4287225/Desktop/confounder-free-cnn/OCTDL/OCTDL images/AMD\\amd_5987793_1.jpg\n",
      "Deleted C:/Users/x4287225/Desktop/confounder-free-cnn/OCTDL/OCTDL images/AMD\\amd_5987793_2.jpg\n",
      "Deleted C:/Users/x4287225/Desktop/confounder-free-cnn/OCTDL/OCTDL images/AMD\\amd_6002827_1.jpg\n",
      "Deleted C:/Users/x4287225/Desktop/confounder-free-cnn/OCTDL/OCTDL images/AMD\\amd_6002827_2.jpg\n",
      "Deleted C:/Users/x4287225/Desktop/confounder-free-cnn/OCTDL/OCTDL images/AMD\\amd_6002827_3.jpg\n",
      "Deleted C:/Users/x4287225/Desktop/confounder-free-cnn/OCTDL/OCTDL images/AMD\\amd_6002827_4.jpg\n",
      "Deleted C:/Users/x4287225/Desktop/confounder-free-cnn/OCTDL/OCTDL images/AMD\\amd_6094846_1.jpg\n",
      "Deleted C:/Users/x4287225/Desktop/confounder-free-cnn/OCTDL/OCTDL images/AMD\\amd_6094846_2.jpg\n",
      "Deleted C:/Users/x4287225/Desktop/confounder-free-cnn/OCTDL/OCTDL images/AMD\\amd_6094846_3.jpg\n",
      "Deleted C:/Users/x4287225/Desktop/confounder-free-cnn/OCTDL/OCTDL images/AMD\\amd_6117772_1.jpg\n",
      "Deleted C:/Users/x4287225/Desktop/confounder-free-cnn/OCTDL/OCTDL images/AMD\\amd_6185375_1.jpg\n",
      "Deleted C:/Users/x4287225/Desktop/confounder-free-cnn/OCTDL/OCTDL images/AMD\\amd_6217472_1.jpg\n",
      "Deleted C:/Users/x4287225/Desktop/confounder-free-cnn/OCTDL/OCTDL images/AMD\\amd_6217472_2.jpg\n",
      "Deleted C:/Users/x4287225/Desktop/confounder-free-cnn/OCTDL/OCTDL images/AMD\\amd_6217472_3.jpg\n",
      "Deleted C:/Users/x4287225/Desktop/confounder-free-cnn/OCTDL/OCTDL images/AMD\\amd_6233823_1.jpg\n",
      "Deleted C:/Users/x4287225/Desktop/confounder-free-cnn/OCTDL/OCTDL images/AMD\\amd_6233823_2.jpg\n",
      "Deleted C:/Users/x4287225/Desktop/confounder-free-cnn/OCTDL/OCTDL images/AMD\\amd_6238176_1.jpg\n",
      "Deleted C:/Users/x4287225/Desktop/confounder-free-cnn/OCTDL/OCTDL images/AMD\\amd_6238176_2.jpg\n",
      "Deleted C:/Users/x4287225/Desktop/confounder-free-cnn/OCTDL/OCTDL images/AMD\\amd_6238176_3.jpg\n",
      "Deleted C:/Users/x4287225/Desktop/confounder-free-cnn/OCTDL/OCTDL images/AMD\\amd_6238176_4.jpg\n",
      "Deleted C:/Users/x4287225/Desktop/confounder-free-cnn/OCTDL/OCTDL images/AMD\\amd_6290380_1.jpg\n",
      "Deleted C:/Users/x4287225/Desktop/confounder-free-cnn/OCTDL/OCTDL images/AMD\\amd_6290380_2.jpg\n",
      "Deleted C:/Users/x4287225/Desktop/confounder-free-cnn/OCTDL/OCTDL images/AMD\\amd_6290380_3.jpg\n",
      "Deleted C:/Users/x4287225/Desktop/confounder-free-cnn/OCTDL/OCTDL images/AMD\\amd_6290380_4.jpg\n",
      "Deleted C:/Users/x4287225/Desktop/confounder-free-cnn/OCTDL/OCTDL images/AMD\\amd_6315463_1.jpg\n",
      "Deleted C:/Users/x4287225/Desktop/confounder-free-cnn/OCTDL/OCTDL images/AMD\\amd_6315463_2.jpg\n",
      "Deleted C:/Users/x4287225/Desktop/confounder-free-cnn/OCTDL/OCTDL images/AMD\\amd_6315463_3.jpg\n",
      "Deleted C:/Users/x4287225/Desktop/confounder-free-cnn/OCTDL/OCTDL images/AMD\\amd_6315463_4.jpg\n",
      "Deleted C:/Users/x4287225/Desktop/confounder-free-cnn/OCTDL/OCTDL images/AMD\\amd_6329888_1.jpg\n",
      "Deleted C:/Users/x4287225/Desktop/confounder-free-cnn/OCTDL/OCTDL images/AMD\\amd_6329888_2.jpg\n",
      "Deleted C:/Users/x4287225/Desktop/confounder-free-cnn/OCTDL/OCTDL images/AMD\\amd_6329888_3.jpg\n",
      "Deleted C:/Users/x4287225/Desktop/confounder-free-cnn/OCTDL/OCTDL images/AMD\\amd_6329888_4.jpg\n",
      "Deleted C:/Users/x4287225/Desktop/confounder-free-cnn/OCTDL/OCTDL images/AMD\\amd_6329888_5.jpg\n",
      "Deleted C:/Users/x4287225/Desktop/confounder-free-cnn/OCTDL/OCTDL images/AMD\\amd_6329888_6.jpg\n",
      "Deleted C:/Users/x4287225/Desktop/confounder-free-cnn/OCTDL/OCTDL images/AMD\\amd_6329888_7.jpg\n",
      "Deleted C:/Users/x4287225/Desktop/confounder-free-cnn/OCTDL/OCTDL images/AMD\\amd_6329888_8.jpg\n",
      "Deleted C:/Users/x4287225/Desktop/confounder-free-cnn/OCTDL/OCTDL images/AMD\\amd_6340594_1.jpg\n",
      "Deleted C:/Users/x4287225/Desktop/confounder-free-cnn/OCTDL/OCTDL images/AMD\\amd_6340594_2.jpg\n",
      "Deleted C:/Users/x4287225/Desktop/confounder-free-cnn/OCTDL/OCTDL images/AMD\\amd_6340594_3.jpg\n",
      "Deleted C:/Users/x4287225/Desktop/confounder-free-cnn/OCTDL/OCTDL images/AMD\\amd_6401167_1.jpg\n",
      "Deleted C:/Users/x4287225/Desktop/confounder-free-cnn/OCTDL/OCTDL images/AMD\\amd_6401167_2.jpg\n",
      "Deleted C:/Users/x4287225/Desktop/confounder-free-cnn/OCTDL/OCTDL images/AMD\\amd_6404569_1.jpg\n",
      "Deleted C:/Users/x4287225/Desktop/confounder-free-cnn/OCTDL/OCTDL images/AMD\\amd_6404569_2.jpg\n",
      "Deleted C:/Users/x4287225/Desktop/confounder-free-cnn/OCTDL/OCTDL images/AMD\\amd_6404569_3.jpg\n",
      "Deleted C:/Users/x4287225/Desktop/confounder-free-cnn/OCTDL/OCTDL images/AMD\\amd_6497902_1.jpg\n",
      "Deleted C:/Users/x4287225/Desktop/confounder-free-cnn/OCTDL/OCTDL images/AMD\\amd_6497902_2.jpg\n",
      "Deleted C:/Users/x4287225/Desktop/confounder-free-cnn/OCTDL/OCTDL images/AMD\\amd_6539674_1.jpg\n",
      "Deleted C:/Users/x4287225/Desktop/confounder-free-cnn/OCTDL/OCTDL images/AMD\\amd_6539674_2.jpg\n",
      "Deleted C:/Users/x4287225/Desktop/confounder-free-cnn/OCTDL/OCTDL images/AMD\\amd_6539674_3.jpg\n",
      "Deleted C:/Users/x4287225/Desktop/confounder-free-cnn/OCTDL/OCTDL images/AMD\\amd_6553810_1.jpg\n",
      "Deleted C:/Users/x4287225/Desktop/confounder-free-cnn/OCTDL/OCTDL images/AMD\\amd_6553810_2.jpg\n",
      "Deleted C:/Users/x4287225/Desktop/confounder-free-cnn/OCTDL/OCTDL images/AMD\\amd_6554588_1.jpg\n",
      "Deleted C:/Users/x4287225/Desktop/confounder-free-cnn/OCTDL/OCTDL images/AMD\\amd_6554588_2.jpg\n",
      "Deleted C:/Users/x4287225/Desktop/confounder-free-cnn/OCTDL/OCTDL images/AMD\\amd_6575378_1.jpg\n",
      "Deleted C:/Users/x4287225/Desktop/confounder-free-cnn/OCTDL/OCTDL images/AMD\\amd_6575378_2.jpg\n",
      "Deleted C:/Users/x4287225/Desktop/confounder-free-cnn/OCTDL/OCTDL images/AMD\\amd_6611243_1.jpg\n",
      "Deleted C:/Users/x4287225/Desktop/confounder-free-cnn/OCTDL/OCTDL images/AMD\\amd_6611243_2.jpg\n",
      "Deleted C:/Users/x4287225/Desktop/confounder-free-cnn/OCTDL/OCTDL images/AMD\\amd_6611243_3.jpg\n",
      "Deleted C:/Users/x4287225/Desktop/confounder-free-cnn/OCTDL/OCTDL images/AMD\\amd_6611243_4.jpg\n",
      "Deleted C:/Users/x4287225/Desktop/confounder-free-cnn/OCTDL/OCTDL images/AMD\\amd_6633389_1.jpg\n",
      "Deleted C:/Users/x4287225/Desktop/confounder-free-cnn/OCTDL/OCTDL images/AMD\\amd_6633389_2.jpg\n",
      "Deleted C:/Users/x4287225/Desktop/confounder-free-cnn/OCTDL/OCTDL images/AMD\\amd_6698539_1.jpg\n",
      "Deleted C:/Users/x4287225/Desktop/confounder-free-cnn/OCTDL/OCTDL images/AMD\\amd_6698539_2.jpg\n",
      "Deleted C:/Users/x4287225/Desktop/confounder-free-cnn/OCTDL/OCTDL images/AMD\\amd_6698539_3.jpg\n",
      "Deleted C:/Users/x4287225/Desktop/confounder-free-cnn/OCTDL/OCTDL images/AMD\\amd_6698539_4.jpg\n",
      "Deleted C:/Users/x4287225/Desktop/confounder-free-cnn/OCTDL/OCTDL images/AMD\\amd_6723643_1.jpg\n",
      "Deleted C:/Users/x4287225/Desktop/confounder-free-cnn/OCTDL/OCTDL images/AMD\\amd_6723643_2.jpg\n",
      "Deleted C:/Users/x4287225/Desktop/confounder-free-cnn/OCTDL/OCTDL images/AMD\\amd_6723643_3.jpg\n",
      "Deleted C:/Users/x4287225/Desktop/confounder-free-cnn/OCTDL/OCTDL images/AMD\\amd_6770367_1.jpg\n",
      "Deleted C:/Users/x4287225/Desktop/confounder-free-cnn/OCTDL/OCTDL images/AMD\\amd_6770367_2.jpg\n",
      "Deleted C:/Users/x4287225/Desktop/confounder-free-cnn/OCTDL/OCTDL images/AMD\\amd_6772642_1.jpg\n",
      "Deleted C:/Users/x4287225/Desktop/confounder-free-cnn/OCTDL/OCTDL images/AMD\\amd_6772642_2.jpg\n",
      "Deleted C:/Users/x4287225/Desktop/confounder-free-cnn/OCTDL/OCTDL images/AMD\\amd_6772642_3.jpg\n",
      "Deleted C:/Users/x4287225/Desktop/confounder-free-cnn/OCTDL/OCTDL images/AMD\\amd_6772642_4.jpg\n",
      "Deleted C:/Users/x4287225/Desktop/confounder-free-cnn/OCTDL/OCTDL images/AMD\\amd_6772642_5.jpg\n",
      "Deleted C:/Users/x4287225/Desktop/confounder-free-cnn/OCTDL/OCTDL images/AMD\\amd_6782917_1.jpg\n",
      "Deleted C:/Users/x4287225/Desktop/confounder-free-cnn/OCTDL/OCTDL images/AMD\\amd_6782917_2.jpg\n",
      "Deleted C:/Users/x4287225/Desktop/confounder-free-cnn/OCTDL/OCTDL images/AMD\\amd_6804450_1.jpg\n",
      "Deleted C:/Users/x4287225/Desktop/confounder-free-cnn/OCTDL/OCTDL images/AMD\\amd_6804450_2.jpg\n",
      "Deleted C:/Users/x4287225/Desktop/confounder-free-cnn/OCTDL/OCTDL images/AMD\\amd_6872768_1.jpg\n",
      "Deleted C:/Users/x4287225/Desktop/confounder-free-cnn/OCTDL/OCTDL images/AMD\\amd_6881696_1.jpg\n",
      "Deleted C:/Users/x4287225/Desktop/confounder-free-cnn/OCTDL/OCTDL images/AMD\\amd_6881696_2.jpg\n",
      "Deleted C:/Users/x4287225/Desktop/confounder-free-cnn/OCTDL/OCTDL images/AMD\\amd_6881696_3.jpg\n",
      "Deleted C:/Users/x4287225/Desktop/confounder-free-cnn/OCTDL/OCTDL images/AMD\\amd_6881696_4.jpg\n",
      "Deleted C:/Users/x4287225/Desktop/confounder-free-cnn/OCTDL/OCTDL images/AMD\\amd_6908824_1.jpg\n",
      "Deleted C:/Users/x4287225/Desktop/confounder-free-cnn/OCTDL/OCTDL images/AMD\\amd_6908824_2.jpg\n",
      "Deleted C:/Users/x4287225/Desktop/confounder-free-cnn/OCTDL/OCTDL images/AMD\\amd_6983977_1.jpg\n",
      "Deleted C:/Users/x4287225/Desktop/confounder-free-cnn/OCTDL/OCTDL images/AMD\\amd_6983977_2.jpg\n",
      "Deleted C:/Users/x4287225/Desktop/confounder-free-cnn/OCTDL/OCTDL images/AMD\\amd_6983977_3.jpg\n",
      "Deleted C:/Users/x4287225/Desktop/confounder-free-cnn/OCTDL/OCTDL images/AMD\\amd_7034748_1.jpg\n",
      "Deleted C:/Users/x4287225/Desktop/confounder-free-cnn/OCTDL/OCTDL images/AMD\\amd_7034748_2.jpg\n",
      "Deleted C:/Users/x4287225/Desktop/confounder-free-cnn/OCTDL/OCTDL images/AMD\\amd_7067907_1.jpg\n",
      "Deleted C:/Users/x4287225/Desktop/confounder-free-cnn/OCTDL/OCTDL images/AMD\\amd_7067907_2.jpg\n",
      "Deleted C:/Users/x4287225/Desktop/confounder-free-cnn/OCTDL/OCTDL images/AMD\\amd_7067907_3.jpg\n",
      "Deleted C:/Users/x4287225/Desktop/confounder-free-cnn/OCTDL/OCTDL images/AMD\\amd_7067907_4.jpg\n",
      "Deleted C:/Users/x4287225/Desktop/confounder-free-cnn/OCTDL/OCTDL images/AMD\\amd_7075915_1.jpg\n",
      "Deleted C:/Users/x4287225/Desktop/confounder-free-cnn/OCTDL/OCTDL images/AMD\\amd_7075915_2.jpg\n",
      "Deleted C:/Users/x4287225/Desktop/confounder-free-cnn/OCTDL/OCTDL images/AMD\\amd_7075915_3.jpg\n",
      "Deleted C:/Users/x4287225/Desktop/confounder-free-cnn/OCTDL/OCTDL images/AMD\\amd_7075915_4.jpg\n",
      "Deleted C:/Users/x4287225/Desktop/confounder-free-cnn/OCTDL/OCTDL images/AMD\\amd_7075915_5.jpg\n",
      "Deleted C:/Users/x4287225/Desktop/confounder-free-cnn/OCTDL/OCTDL images/AMD\\amd_7075915_6.jpg\n",
      "Deleted C:/Users/x4287225/Desktop/confounder-free-cnn/OCTDL/OCTDL images/AMD\\amd_7075915_7.jpg\n",
      "Deleted C:/Users/x4287225/Desktop/confounder-free-cnn/OCTDL/OCTDL images/AMD\\amd_7075915_8.jpg\n",
      "Deleted C:/Users/x4287225/Desktop/confounder-free-cnn/OCTDL/OCTDL images/AMD\\amd_7126374_1.jpg\n",
      "Deleted C:/Users/x4287225/Desktop/confounder-free-cnn/OCTDL/OCTDL images/AMD\\amd_7126374_2.jpg\n",
      "Deleted C:/Users/x4287225/Desktop/confounder-free-cnn/OCTDL/OCTDL images/AMD\\amd_7126374_3.jpg\n",
      "Deleted C:/Users/x4287225/Desktop/confounder-free-cnn/OCTDL/OCTDL images/AMD\\amd_7126374_4.jpg\n",
      "Deleted C:/Users/x4287225/Desktop/confounder-free-cnn/OCTDL/OCTDL images/AMD\\amd_7141761_1.jpg\n",
      "Deleted C:/Users/x4287225/Desktop/confounder-free-cnn/OCTDL/OCTDL images/AMD\\amd_7141761_2.jpg\n",
      "Deleted C:/Users/x4287225/Desktop/confounder-free-cnn/OCTDL/OCTDL images/AMD\\amd_7141761_3.jpg\n",
      "Deleted C:/Users/x4287225/Desktop/confounder-free-cnn/OCTDL/OCTDL images/AMD\\amd_7141761_4.jpg\n",
      "Deleted C:/Users/x4287225/Desktop/confounder-free-cnn/OCTDL/OCTDL images/AMD\\amd_7148091_1.jpg\n",
      "Deleted C:/Users/x4287225/Desktop/confounder-free-cnn/OCTDL/OCTDL images/AMD\\amd_7148091_2.jpg\n",
      "Deleted C:/Users/x4287225/Desktop/confounder-free-cnn/OCTDL/OCTDL images/AMD\\amd_7190132_1.jpg\n",
      "Deleted C:/Users/x4287225/Desktop/confounder-free-cnn/OCTDL/OCTDL images/AMD\\amd_7190132_2.jpg\n",
      "Deleted C:/Users/x4287225/Desktop/confounder-free-cnn/OCTDL/OCTDL images/AMD\\amd_7231237_1.jpg\n",
      "Deleted C:/Users/x4287225/Desktop/confounder-free-cnn/OCTDL/OCTDL images/AMD\\amd_7231237_2.jpg\n",
      "Deleted C:/Users/x4287225/Desktop/confounder-free-cnn/OCTDL/OCTDL images/AMD\\amd_7231237_3.jpg\n",
      "Deleted C:/Users/x4287225/Desktop/confounder-free-cnn/OCTDL/OCTDL images/AMD\\amd_7241954_1.jpg\n",
      "Deleted C:/Users/x4287225/Desktop/confounder-free-cnn/OCTDL/OCTDL images/AMD\\amd_7241954_2.jpg\n",
      "Deleted C:/Users/x4287225/Desktop/confounder-free-cnn/OCTDL/OCTDL images/AMD\\amd_7241954_3.jpg\n",
      "Deleted C:/Users/x4287225/Desktop/confounder-free-cnn/OCTDL/OCTDL images/AMD\\amd_7241954_4.jpg\n",
      "Deleted C:/Users/x4287225/Desktop/confounder-free-cnn/OCTDL/OCTDL images/AMD\\amd_7262676_1.jpg\n",
      "Deleted C:/Users/x4287225/Desktop/confounder-free-cnn/OCTDL/OCTDL images/AMD\\amd_7262676_2.jpg\n",
      "Deleted C:/Users/x4287225/Desktop/confounder-free-cnn/OCTDL/OCTDL images/AMD\\amd_7264833_1.jpg\n",
      "Deleted C:/Users/x4287225/Desktop/confounder-free-cnn/OCTDL/OCTDL images/AMD\\amd_7264833_2.jpg\n",
      "Deleted C:/Users/x4287225/Desktop/confounder-free-cnn/OCTDL/OCTDL images/AMD\\amd_7264833_3.jpg\n",
      "Deleted C:/Users/x4287225/Desktop/confounder-free-cnn/OCTDL/OCTDL images/AMD\\amd_7264833_4.jpg\n",
      "Deleted C:/Users/x4287225/Desktop/confounder-free-cnn/OCTDL/OCTDL images/AMD\\amd_7295090_1.jpg\n",
      "Deleted C:/Users/x4287225/Desktop/confounder-free-cnn/OCTDL/OCTDL images/AMD\\amd_7295090_2.jpg\n",
      "Deleted C:/Users/x4287225/Desktop/confounder-free-cnn/OCTDL/OCTDL images/AMD\\amd_7295090_3.jpg\n",
      "Deleted C:/Users/x4287225/Desktop/confounder-free-cnn/OCTDL/OCTDL images/AMD\\amd_7301117_1.jpg\n",
      "Deleted C:/Users/x4287225/Desktop/confounder-free-cnn/OCTDL/OCTDL images/AMD\\amd_7301117_2.jpg\n",
      "Deleted C:/Users/x4287225/Desktop/confounder-free-cnn/OCTDL/OCTDL images/AMD\\amd_7301117_3.jpg\n",
      "Deleted C:/Users/x4287225/Desktop/confounder-free-cnn/OCTDL/OCTDL images/AMD\\amd_7301117_4.jpg\n",
      "Deleted C:/Users/x4287225/Desktop/confounder-free-cnn/OCTDL/OCTDL images/AMD\\amd_7329666_1.jpg\n",
      "Deleted C:/Users/x4287225/Desktop/confounder-free-cnn/OCTDL/OCTDL images/AMD\\amd_7329666_2.jpg\n",
      "Deleted C:/Users/x4287225/Desktop/confounder-free-cnn/OCTDL/OCTDL images/AMD\\amd_7329666_3.jpg\n",
      "Deleted C:/Users/x4287225/Desktop/confounder-free-cnn/OCTDL/OCTDL images/AMD\\amd_7329666_4.jpg\n",
      "Deleted C:/Users/x4287225/Desktop/confounder-free-cnn/OCTDL/OCTDL images/AMD\\amd_7329666_5.jpg\n",
      "Deleted C:/Users/x4287225/Desktop/confounder-free-cnn/OCTDL/OCTDL images/AMD\\amd_7329666_6.jpg\n",
      "Deleted C:/Users/x4287225/Desktop/confounder-free-cnn/OCTDL/OCTDL images/AMD\\amd_7378277_1.jpg\n",
      "Deleted C:/Users/x4287225/Desktop/confounder-free-cnn/OCTDL/OCTDL images/AMD\\amd_7378277_2.jpg\n",
      "Deleted C:/Users/x4287225/Desktop/confounder-free-cnn/OCTDL/OCTDL images/AMD\\amd_7378277_3.jpg\n",
      "Deleted C:/Users/x4287225/Desktop/confounder-free-cnn/OCTDL/OCTDL images/AMD\\amd_7378277_4.jpg\n",
      "Deleted C:/Users/x4287225/Desktop/confounder-free-cnn/OCTDL/OCTDL images/AMD\\amd_7378277_5.jpg\n",
      "Deleted C:/Users/x4287225/Desktop/confounder-free-cnn/OCTDL/OCTDL images/AMD\\amd_7378277_6.jpg\n",
      "Deleted C:/Users/x4287225/Desktop/confounder-free-cnn/OCTDL/OCTDL images/AMD\\amd_7466461_1.jpg\n",
      "Deleted C:/Users/x4287225/Desktop/confounder-free-cnn/OCTDL/OCTDL images/AMD\\amd_7525532_1.jpg\n",
      "Deleted C:/Users/x4287225/Desktop/confounder-free-cnn/OCTDL/OCTDL images/AMD\\amd_7525532_2.jpg\n",
      "Deleted C:/Users/x4287225/Desktop/confounder-free-cnn/OCTDL/OCTDL images/AMD\\amd_7542349_1.jpg\n",
      "Deleted C:/Users/x4287225/Desktop/confounder-free-cnn/OCTDL/OCTDL images/AMD\\amd_7542349_2.jpg\n",
      "Deleted C:/Users/x4287225/Desktop/confounder-free-cnn/OCTDL/OCTDL images/AMD\\amd_7542349_3.jpg\n",
      "Deleted C:/Users/x4287225/Desktop/confounder-free-cnn/OCTDL/OCTDL images/AMD\\amd_7542349_4.jpg\n",
      "Deleted C:/Users/x4287225/Desktop/confounder-free-cnn/OCTDL/OCTDL images/AMD\\amd_7542349_5.jpg\n",
      "Deleted C:/Users/x4287225/Desktop/confounder-free-cnn/OCTDL/OCTDL images/AMD\\amd_7542349_6.jpg\n",
      "Deleted C:/Users/x4287225/Desktop/confounder-free-cnn/OCTDL/OCTDL images/AMD\\amd_7542349_7.jpg\n",
      "Deleted C:/Users/x4287225/Desktop/confounder-free-cnn/OCTDL/OCTDL images/AMD\\amd_7625380_1.jpg\n",
      "Deleted C:/Users/x4287225/Desktop/confounder-free-cnn/OCTDL/OCTDL images/AMD\\amd_7670951_1.jpg\n",
      "Deleted C:/Users/x4287225/Desktop/confounder-free-cnn/OCTDL/OCTDL images/AMD\\amd_7670951_2.jpg\n",
      "Deleted C:/Users/x4287225/Desktop/confounder-free-cnn/OCTDL/OCTDL images/AMD\\amd_7688486_1.jpg\n",
      "Deleted C:/Users/x4287225/Desktop/confounder-free-cnn/OCTDL/OCTDL images/AMD\\amd_7688486_2.jpg\n",
      "Deleted C:/Users/x4287225/Desktop/confounder-free-cnn/OCTDL/OCTDL images/AMD\\amd_7688486_3.jpg\n",
      "Deleted C:/Users/x4287225/Desktop/confounder-free-cnn/OCTDL/OCTDL images/AMD\\amd_7745805_1.jpg\n",
      "Deleted C:/Users/x4287225/Desktop/confounder-free-cnn/OCTDL/OCTDL images/AMD\\amd_7745805_2.jpg\n",
      "Deleted C:/Users/x4287225/Desktop/confounder-free-cnn/OCTDL/OCTDL images/AMD\\amd_7789493_1.jpg\n",
      "Deleted C:/Users/x4287225/Desktop/confounder-free-cnn/OCTDL/OCTDL images/AMD\\amd_7789493_2.jpg\n",
      "Deleted C:/Users/x4287225/Desktop/confounder-free-cnn/OCTDL/OCTDL images/AMD\\amd_7789493_3.jpg\n",
      "Deleted C:/Users/x4287225/Desktop/confounder-free-cnn/OCTDL/OCTDL images/AMD\\amd_7889170_1.jpg\n",
      "Deleted C:/Users/x4287225/Desktop/confounder-free-cnn/OCTDL/OCTDL images/AMD\\amd_7889170_2.jpg\n",
      "Deleted C:/Users/x4287225/Desktop/confounder-free-cnn/OCTDL/OCTDL images/AMD\\amd_7889170_3.jpg\n",
      "Deleted C:/Users/x4287225/Desktop/confounder-free-cnn/OCTDL/OCTDL images/AMD\\amd_7889170_4.jpg\n",
      "Deleted C:/Users/x4287225/Desktop/confounder-free-cnn/OCTDL/OCTDL images/AMD\\amd_7889170_5.jpg\n",
      "Deleted C:/Users/x4287225/Desktop/confounder-free-cnn/OCTDL/OCTDL images/AMD\\amd_7889170_6.jpg\n",
      "Deleted C:/Users/x4287225/Desktop/confounder-free-cnn/OCTDL/OCTDL images/AMD\\amd_7889170_7.jpg\n",
      "Deleted C:/Users/x4287225/Desktop/confounder-free-cnn/OCTDL/OCTDL images/AMD\\amd_7892162_1.jpg\n",
      "Deleted C:/Users/x4287225/Desktop/confounder-free-cnn/OCTDL/OCTDL images/AMD\\amd_7892162_2.jpg\n",
      "Deleted C:/Users/x4287225/Desktop/confounder-free-cnn/OCTDL/OCTDL images/AMD\\amd_7950818_1.jpg\n",
      "Deleted C:/Users/x4287225/Desktop/confounder-free-cnn/OCTDL/OCTDL images/AMD\\amd_7950818_2.jpg\n",
      "Deleted C:/Users/x4287225/Desktop/confounder-free-cnn/OCTDL/OCTDL images/AMD\\amd_7950818_3.jpg\n",
      "Deleted C:/Users/x4287225/Desktop/confounder-free-cnn/OCTDL/OCTDL images/AMD\\amd_7950818_4.jpg\n",
      "Deleted C:/Users/x4287225/Desktop/confounder-free-cnn/OCTDL/OCTDL images/AMD\\amd_7950818_5.jpg\n",
      "Deleted C:/Users/x4287225/Desktop/confounder-free-cnn/OCTDL/OCTDL images/AMD\\amd_7960237_1.jpg\n",
      "Deleted C:/Users/x4287225/Desktop/confounder-free-cnn/OCTDL/OCTDL images/AMD\\amd_7960237_2.jpg\n",
      "Deleted C:/Users/x4287225/Desktop/confounder-free-cnn/OCTDL/OCTDL images/AMD\\amd_8025650_1.jpg\n",
      "Deleted C:/Users/x4287225/Desktop/confounder-free-cnn/OCTDL/OCTDL images/AMD\\amd_8025650_2.jpg\n",
      "Deleted C:/Users/x4287225/Desktop/confounder-free-cnn/OCTDL/OCTDL images/AMD\\amd_8039494_1.jpg\n",
      "Deleted C:/Users/x4287225/Desktop/confounder-free-cnn/OCTDL/OCTDL images/AMD\\amd_8039494_2.jpg\n",
      "Deleted C:/Users/x4287225/Desktop/confounder-free-cnn/OCTDL/OCTDL images/AMD\\amd_8046491_1.jpg\n",
      "Deleted C:/Users/x4287225/Desktop/confounder-free-cnn/OCTDL/OCTDL images/AMD\\amd_8046491_2.jpg\n",
      "Deleted C:/Users/x4287225/Desktop/confounder-free-cnn/OCTDL/OCTDL images/AMD\\amd_8046491_3.jpg\n",
      "Deleted C:/Users/x4287225/Desktop/confounder-free-cnn/OCTDL/OCTDL images/AMD\\amd_8046491_4.jpg\n",
      "Deleted C:/Users/x4287225/Desktop/confounder-free-cnn/OCTDL/OCTDL images/AMD\\amd_8049842_1.jpg\n",
      "Deleted C:/Users/x4287225/Desktop/confounder-free-cnn/OCTDL/OCTDL images/AMD\\amd_8049842_2.jpg\n",
      "Deleted C:/Users/x4287225/Desktop/confounder-free-cnn/OCTDL/OCTDL images/AMD\\amd_8049842_3.jpg\n",
      "Deleted C:/Users/x4287225/Desktop/confounder-free-cnn/OCTDL/OCTDL images/AMD\\amd_8049842_4.jpg\n",
      "Deleted C:/Users/x4287225/Desktop/confounder-free-cnn/OCTDL/OCTDL images/AMD\\amd_8049842_5.jpg\n",
      "Deleted C:/Users/x4287225/Desktop/confounder-free-cnn/OCTDL/OCTDL images/AMD\\amd_8049842_6.jpg\n",
      "Deleted C:/Users/x4287225/Desktop/confounder-free-cnn/OCTDL/OCTDL images/AMD\\amd_8049842_7.jpg\n",
      "Deleted C:/Users/x4287225/Desktop/confounder-free-cnn/OCTDL/OCTDL images/AMD\\amd_8049842_8.jpg\n",
      "Deleted C:/Users/x4287225/Desktop/confounder-free-cnn/OCTDL/OCTDL images/AMD\\amd_8050953_1.jpg\n",
      "Deleted C:/Users/x4287225/Desktop/confounder-free-cnn/OCTDL/OCTDL images/AMD\\amd_8052371_1.jpg\n",
      "Deleted C:/Users/x4287225/Desktop/confounder-free-cnn/OCTDL/OCTDL images/AMD\\amd_8052371_2.jpg\n",
      "Deleted C:/Users/x4287225/Desktop/confounder-free-cnn/OCTDL/OCTDL images/AMD\\amd_8074289_1.jpg\n",
      "Deleted C:/Users/x4287225/Desktop/confounder-free-cnn/OCTDL/OCTDL images/AMD\\amd_8074289_2.jpg\n",
      "Deleted C:/Users/x4287225/Desktop/confounder-free-cnn/OCTDL/OCTDL images/AMD\\amd_8074289_3.jpg\n",
      "Deleted C:/Users/x4287225/Desktop/confounder-free-cnn/OCTDL/OCTDL images/AMD\\amd_8140564_1.jpg\n",
      "Deleted C:/Users/x4287225/Desktop/confounder-free-cnn/OCTDL/OCTDL images/AMD\\amd_8140564_10.jpg\n",
      "Deleted C:/Users/x4287225/Desktop/confounder-free-cnn/OCTDL/OCTDL images/AMD\\amd_8140564_2.jpg\n",
      "Deleted C:/Users/x4287225/Desktop/confounder-free-cnn/OCTDL/OCTDL images/AMD\\amd_8140564_3.jpg\n",
      "Deleted C:/Users/x4287225/Desktop/confounder-free-cnn/OCTDL/OCTDL images/AMD\\amd_8140564_4.jpg\n",
      "Deleted C:/Users/x4287225/Desktop/confounder-free-cnn/OCTDL/OCTDL images/AMD\\amd_8140564_5.jpg\n",
      "Deleted C:/Users/x4287225/Desktop/confounder-free-cnn/OCTDL/OCTDL images/AMD\\amd_8140564_6.jpg\n",
      "Deleted C:/Users/x4287225/Desktop/confounder-free-cnn/OCTDL/OCTDL images/AMD\\amd_8140564_7.jpg\n",
      "Deleted C:/Users/x4287225/Desktop/confounder-free-cnn/OCTDL/OCTDL images/AMD\\amd_8140564_8.jpg\n",
      "Deleted C:/Users/x4287225/Desktop/confounder-free-cnn/OCTDL/OCTDL images/AMD\\amd_8140564_9.jpg\n",
      "Deleted C:/Users/x4287225/Desktop/confounder-free-cnn/OCTDL/OCTDL images/AMD\\amd_8200284_1.jpg\n",
      "Deleted C:/Users/x4287225/Desktop/confounder-free-cnn/OCTDL/OCTDL images/AMD\\amd_8214789_1.jpg\n",
      "Deleted C:/Users/x4287225/Desktop/confounder-free-cnn/OCTDL/OCTDL images/AMD\\amd_8214789_2.jpg\n",
      "Deleted C:/Users/x4287225/Desktop/confounder-free-cnn/OCTDL/OCTDL images/AMD\\amd_8214789_3.jpg\n",
      "Deleted C:/Users/x4287225/Desktop/confounder-free-cnn/OCTDL/OCTDL images/AMD\\amd_8214789_4.jpg\n",
      "Deleted C:/Users/x4287225/Desktop/confounder-free-cnn/OCTDL/OCTDL images/AMD\\amd_8214789_5.jpg\n",
      "Deleted C:/Users/x4287225/Desktop/confounder-free-cnn/OCTDL/OCTDL images/AMD\\amd_8238113_1.jpg\n",
      "Deleted C:/Users/x4287225/Desktop/confounder-free-cnn/OCTDL/OCTDL images/AMD\\amd_8238113_2.jpg\n",
      "Deleted C:/Users/x4287225/Desktop/confounder-free-cnn/OCTDL/OCTDL images/AMD\\amd_8386918_1.jpg\n",
      "Deleted C:/Users/x4287225/Desktop/confounder-free-cnn/OCTDL/OCTDL images/AMD\\amd_8386918_2.jpg\n",
      "Deleted C:/Users/x4287225/Desktop/confounder-free-cnn/OCTDL/OCTDL images/AMD\\amd_8386918_3.jpg\n",
      "Deleted C:/Users/x4287225/Desktop/confounder-free-cnn/OCTDL/OCTDL images/AMD\\amd_8386918_4.jpg\n",
      "Deleted C:/Users/x4287225/Desktop/confounder-free-cnn/OCTDL/OCTDL images/AMD\\amd_8386918_5.jpg\n",
      "Deleted C:/Users/x4287225/Desktop/confounder-free-cnn/OCTDL/OCTDL images/AMD\\amd_8426448_1.jpg\n",
      "Deleted C:/Users/x4287225/Desktop/confounder-free-cnn/OCTDL/OCTDL images/AMD\\amd_8426448_2.jpg\n",
      "Deleted C:/Users/x4287225/Desktop/confounder-free-cnn/OCTDL/OCTDL images/AMD\\amd_8426448_3.jpg\n",
      "Deleted C:/Users/x4287225/Desktop/confounder-free-cnn/OCTDL/OCTDL images/AMD\\amd_8434952_1.jpg\n",
      "Deleted C:/Users/x4287225/Desktop/confounder-free-cnn/OCTDL/OCTDL images/AMD\\amd_8434952_2.jpg\n",
      "Deleted C:/Users/x4287225/Desktop/confounder-free-cnn/OCTDL/OCTDL images/AMD\\amd_8434952_3.jpg\n",
      "Deleted C:/Users/x4287225/Desktop/confounder-free-cnn/OCTDL/OCTDL images/AMD\\amd_8434952_4.jpg\n",
      "Deleted C:/Users/x4287225/Desktop/confounder-free-cnn/OCTDL/OCTDL images/AMD\\amd_8434952_5.jpg\n",
      "Deleted C:/Users/x4287225/Desktop/confounder-free-cnn/OCTDL/OCTDL images/AMD\\amd_8468731_1.jpg\n",
      "Deleted C:/Users/x4287225/Desktop/confounder-free-cnn/OCTDL/OCTDL images/AMD\\amd_8468731_2.jpg\n",
      "Deleted C:/Users/x4287225/Desktop/confounder-free-cnn/OCTDL/OCTDL images/AMD\\amd_8468731_3.jpg\n",
      "Deleted C:/Users/x4287225/Desktop/confounder-free-cnn/OCTDL/OCTDL images/AMD\\amd_8468731_4.jpg\n",
      "Deleted C:/Users/x4287225/Desktop/confounder-free-cnn/OCTDL/OCTDL images/AMD\\amd_8468731_5.jpg\n",
      "Deleted C:/Users/x4287225/Desktop/confounder-free-cnn/OCTDL/OCTDL images/AMD\\amd_8468731_6.jpg\n",
      "Deleted C:/Users/x4287225/Desktop/confounder-free-cnn/OCTDL/OCTDL images/AMD\\amd_8471655_1.jpg\n",
      "Deleted C:/Users/x4287225/Desktop/confounder-free-cnn/OCTDL/OCTDL images/AMD\\amd_8471655_2.jpg\n",
      "Deleted C:/Users/x4287225/Desktop/confounder-free-cnn/OCTDL/OCTDL images/AMD\\amd_8471655_3.jpg\n",
      "Deleted C:/Users/x4287225/Desktop/confounder-free-cnn/OCTDL/OCTDL images/AMD\\amd_8471655_4.jpg\n",
      "Deleted C:/Users/x4287225/Desktop/confounder-free-cnn/OCTDL/OCTDL images/AMD\\amd_8494676_1.jpg\n",
      "Deleted C:/Users/x4287225/Desktop/confounder-free-cnn/OCTDL/OCTDL images/AMD\\amd_8555637_1.jpg\n",
      "Deleted C:/Users/x4287225/Desktop/confounder-free-cnn/OCTDL/OCTDL images/AMD\\amd_8555772_1.jpg\n",
      "Deleted C:/Users/x4287225/Desktop/confounder-free-cnn/OCTDL/OCTDL images/AMD\\amd_8555772_2.jpg\n",
      "Deleted C:/Users/x4287225/Desktop/confounder-free-cnn/OCTDL/OCTDL images/AMD\\amd_8555772_3.jpg\n",
      "Deleted C:/Users/x4287225/Desktop/confounder-free-cnn/OCTDL/OCTDL images/AMD\\amd_8555772_4.jpg\n",
      "Deleted C:/Users/x4287225/Desktop/confounder-free-cnn/OCTDL/OCTDL images/AMD\\amd_8565438_1.jpg\n",
      "Deleted C:/Users/x4287225/Desktop/confounder-free-cnn/OCTDL/OCTDL images/AMD\\amd_8565438_2.jpg\n",
      "Deleted C:/Users/x4287225/Desktop/confounder-free-cnn/OCTDL/OCTDL images/AMD\\amd_8695676_1.jpg\n",
      "Deleted C:/Users/x4287225/Desktop/confounder-free-cnn/OCTDL/OCTDL images/AMD\\amd_8695676_2.jpg\n",
      "Deleted C:/Users/x4287225/Desktop/confounder-free-cnn/OCTDL/OCTDL images/AMD\\amd_8695676_3.jpg\n",
      "Deleted C:/Users/x4287225/Desktop/confounder-free-cnn/OCTDL/OCTDL images/AMD\\amd_8695676_4.jpg\n",
      "Deleted C:/Users/x4287225/Desktop/confounder-free-cnn/OCTDL/OCTDL images/AMD\\amd_8695676_5.jpg\n",
      "Deleted C:/Users/x4287225/Desktop/confounder-free-cnn/OCTDL/OCTDL images/AMD\\amd_8723520_1.jpg\n",
      "Deleted C:/Users/x4287225/Desktop/confounder-free-cnn/OCTDL/OCTDL images/AMD\\amd_8751468_1.jpg\n",
      "Deleted C:/Users/x4287225/Desktop/confounder-free-cnn/OCTDL/OCTDL images/AMD\\amd_8751468_2.jpg\n",
      "Deleted C:/Users/x4287225/Desktop/confounder-free-cnn/OCTDL/OCTDL images/AMD\\amd_8751468_3.jpg\n",
      "Deleted C:/Users/x4287225/Desktop/confounder-free-cnn/OCTDL/OCTDL images/AMD\\amd_8751468_4.jpg\n",
      "Deleted C:/Users/x4287225/Desktop/confounder-free-cnn/OCTDL/OCTDL images/AMD\\amd_8751468_5.jpg\n",
      "Deleted C:/Users/x4287225/Desktop/confounder-free-cnn/OCTDL/OCTDL images/AMD\\amd_8755768_1.jpg\n",
      "Deleted C:/Users/x4287225/Desktop/confounder-free-cnn/OCTDL/OCTDL images/AMD\\amd_8755768_2.jpg\n",
      "Deleted C:/Users/x4287225/Desktop/confounder-free-cnn/OCTDL/OCTDL images/AMD\\amd_8769803_1.jpg\n",
      "Deleted C:/Users/x4287225/Desktop/confounder-free-cnn/OCTDL/OCTDL images/AMD\\amd_8769803_2.jpg\n",
      "Deleted C:/Users/x4287225/Desktop/confounder-free-cnn/OCTDL/OCTDL images/AMD\\amd_8847668_1.jpg\n",
      "Deleted C:/Users/x4287225/Desktop/confounder-free-cnn/OCTDL/OCTDL images/AMD\\amd_8847668_2.jpg\n",
      "Deleted C:/Users/x4287225/Desktop/confounder-free-cnn/OCTDL/OCTDL images/AMD\\amd_8892126_1.jpg\n",
      "Deleted C:/Users/x4287225/Desktop/confounder-free-cnn/OCTDL/OCTDL images/AMD\\amd_8892126_2.jpg\n",
      "Deleted C:/Users/x4287225/Desktop/confounder-free-cnn/OCTDL/OCTDL images/AMD\\amd_8907451_1.jpg\n",
      "Deleted C:/Users/x4287225/Desktop/confounder-free-cnn/OCTDL/OCTDL images/AMD\\amd_8907451_2.jpg\n",
      "Deleted C:/Users/x4287225/Desktop/confounder-free-cnn/OCTDL/OCTDL images/AMD\\amd_8907451_3.jpg\n",
      "Deleted C:/Users/x4287225/Desktop/confounder-free-cnn/OCTDL/OCTDL images/AMD\\amd_8907451_4.jpg\n",
      "Deleted C:/Users/x4287225/Desktop/confounder-free-cnn/OCTDL/OCTDL images/AMD\\amd_8914942_1.jpg\n",
      "Deleted C:/Users/x4287225/Desktop/confounder-free-cnn/OCTDL/OCTDL images/AMD\\amd_8914942_2.jpg\n",
      "Deleted C:/Users/x4287225/Desktop/confounder-free-cnn/OCTDL/OCTDL images/AMD\\amd_8914942_3.jpg\n",
      "Deleted C:/Users/x4287225/Desktop/confounder-free-cnn/OCTDL/OCTDL images/AMD\\amd_8914942_4.jpg\n",
      "Deleted C:/Users/x4287225/Desktop/confounder-free-cnn/OCTDL/OCTDL images/AMD\\amd_8929896_1.jpg\n",
      "Deleted C:/Users/x4287225/Desktop/confounder-free-cnn/OCTDL/OCTDL images/AMD\\amd_8929896_2.jpg\n",
      "Deleted C:/Users/x4287225/Desktop/confounder-free-cnn/OCTDL/OCTDL images/AMD\\amd_8929896_3.jpg\n",
      "Deleted C:/Users/x4287225/Desktop/confounder-free-cnn/OCTDL/OCTDL images/AMD\\amd_8929896_4.jpg\n",
      "Deleted C:/Users/x4287225/Desktop/confounder-free-cnn/OCTDL/OCTDL images/AMD\\amd_8929896_5.jpg\n",
      "Deleted C:/Users/x4287225/Desktop/confounder-free-cnn/OCTDL/OCTDL images/AMD\\amd_8929896_6.jpg\n",
      "Deleted C:/Users/x4287225/Desktop/confounder-free-cnn/OCTDL/OCTDL images/AMD\\amd_8982989_1.jpg\n",
      "Deleted C:/Users/x4287225/Desktop/confounder-free-cnn/OCTDL/OCTDL images/AMD\\amd_8982989_2.jpg\n",
      "Deleted C:/Users/x4287225/Desktop/confounder-free-cnn/OCTDL/OCTDL images/AMD\\amd_8982989_3.jpg\n",
      "Deleted C:/Users/x4287225/Desktop/confounder-free-cnn/OCTDL/OCTDL images/AMD\\amd_8982989_4.jpg\n",
      "Deleted C:/Users/x4287225/Desktop/confounder-free-cnn/OCTDL/OCTDL images/AMD\\amd_9036624_1.jpg\n",
      "Deleted C:/Users/x4287225/Desktop/confounder-free-cnn/OCTDL/OCTDL images/AMD\\amd_9036624_2.jpg\n",
      "Deleted C:/Users/x4287225/Desktop/confounder-free-cnn/OCTDL/OCTDL images/AMD\\amd_9036624_3.jpg\n",
      "Deleted C:/Users/x4287225/Desktop/confounder-free-cnn/OCTDL/OCTDL images/AMD\\amd_9036624_4.jpg\n",
      "Deleted C:/Users/x4287225/Desktop/confounder-free-cnn/OCTDL/OCTDL images/AMD\\amd_9052304_1.jpg\n",
      "Deleted C:/Users/x4287225/Desktop/confounder-free-cnn/OCTDL/OCTDL images/AMD\\amd_9052304_2.jpg\n",
      "Deleted C:/Users/x4287225/Desktop/confounder-free-cnn/OCTDL/OCTDL images/AMD\\amd_9057760_1.jpg\n",
      "Deleted C:/Users/x4287225/Desktop/confounder-free-cnn/OCTDL/OCTDL images/AMD\\amd_9057760_2.jpg\n",
      "Deleted C:/Users/x4287225/Desktop/confounder-free-cnn/OCTDL/OCTDL images/AMD\\amd_9057760_3.jpg\n",
      "Deleted C:/Users/x4287225/Desktop/confounder-free-cnn/OCTDL/OCTDL images/AMD\\amd_9057760_4.jpg\n",
      "Deleted C:/Users/x4287225/Desktop/confounder-free-cnn/OCTDL/OCTDL images/AMD\\amd_9069910_1.jpg\n",
      "Deleted C:/Users/x4287225/Desktop/confounder-free-cnn/OCTDL/OCTDL images/AMD\\amd_9069910_2.jpg\n",
      "Deleted C:/Users/x4287225/Desktop/confounder-free-cnn/OCTDL/OCTDL images/AMD\\amd_9069910_3.jpg\n",
      "Deleted C:/Users/x4287225/Desktop/confounder-free-cnn/OCTDL/OCTDL images/AMD\\amd_9069910_4.jpg\n",
      "Deleted C:/Users/x4287225/Desktop/confounder-free-cnn/OCTDL/OCTDL images/AMD\\amd_9069910_5.jpg\n",
      "Deleted C:/Users/x4287225/Desktop/confounder-free-cnn/OCTDL/OCTDL images/AMD\\amd_9077742_1.jpg\n",
      "Deleted C:/Users/x4287225/Desktop/confounder-free-cnn/OCTDL/OCTDL images/AMD\\amd_9077742_2.jpg\n",
      "Deleted C:/Users/x4287225/Desktop/confounder-free-cnn/OCTDL/OCTDL images/AMD\\amd_9077742_3.jpg\n",
      "Deleted C:/Users/x4287225/Desktop/confounder-free-cnn/OCTDL/OCTDL images/AMD\\amd_9077742_4.jpg\n",
      "Deleted C:/Users/x4287225/Desktop/confounder-free-cnn/OCTDL/OCTDL images/AMD\\amd_9077742_5.jpg\n",
      "Deleted C:/Users/x4287225/Desktop/confounder-free-cnn/OCTDL/OCTDL images/AMD\\amd_9077742_6.jpg\n",
      "Deleted C:/Users/x4287225/Desktop/confounder-free-cnn/OCTDL/OCTDL images/AMD\\amd_9077742_7.jpg\n",
      "Deleted C:/Users/x4287225/Desktop/confounder-free-cnn/OCTDL/OCTDL images/AMD\\amd_9077742_8.jpg\n",
      "Deleted C:/Users/x4287225/Desktop/confounder-free-cnn/OCTDL/OCTDL images/AMD\\amd_9131347_1.jpg\n",
      "Deleted C:/Users/x4287225/Desktop/confounder-free-cnn/OCTDL/OCTDL images/AMD\\amd_9131347_2.jpg\n",
      "Deleted C:/Users/x4287225/Desktop/confounder-free-cnn/OCTDL/OCTDL images/AMD\\amd_9131995_1.jpg\n",
      "Deleted C:/Users/x4287225/Desktop/confounder-free-cnn/OCTDL/OCTDL images/AMD\\amd_9131995_2.jpg\n",
      "Deleted C:/Users/x4287225/Desktop/confounder-free-cnn/OCTDL/OCTDL images/AMD\\amd_9131995_3.jpg\n",
      "Deleted C:/Users/x4287225/Desktop/confounder-free-cnn/OCTDL/OCTDL images/AMD\\amd_9172196_1.jpg\n",
      "Deleted C:/Users/x4287225/Desktop/confounder-free-cnn/OCTDL/OCTDL images/AMD\\amd_9172196_2.jpg\n",
      "Deleted C:/Users/x4287225/Desktop/confounder-free-cnn/OCTDL/OCTDL images/AMD\\amd_9210530_1.jpg\n",
      "Deleted C:/Users/x4287225/Desktop/confounder-free-cnn/OCTDL/OCTDL images/AMD\\amd_9251501_1.jpg\n",
      "Deleted C:/Users/x4287225/Desktop/confounder-free-cnn/OCTDL/OCTDL images/AMD\\amd_9251501_2.jpg\n",
      "Deleted C:/Users/x4287225/Desktop/confounder-free-cnn/OCTDL/OCTDL images/AMD\\amd_9251501_3.jpg\n",
      "Deleted C:/Users/x4287225/Desktop/confounder-free-cnn/OCTDL/OCTDL images/AMD\\amd_9252162_1.jpg\n",
      "Deleted C:/Users/x4287225/Desktop/confounder-free-cnn/OCTDL/OCTDL images/AMD\\amd_9252162_2.jpg\n",
      "Deleted C:/Users/x4287225/Desktop/confounder-free-cnn/OCTDL/OCTDL images/AMD\\amd_9252162_3.jpg\n",
      "Deleted C:/Users/x4287225/Desktop/confounder-free-cnn/OCTDL/OCTDL images/AMD\\amd_9252162_4.jpg\n",
      "Deleted C:/Users/x4287225/Desktop/confounder-free-cnn/OCTDL/OCTDL images/AMD\\amd_9284647_1.jpg\n",
      "Deleted C:/Users/x4287225/Desktop/confounder-free-cnn/OCTDL/OCTDL images/AMD\\amd_9284647_2.jpg\n",
      "Deleted C:/Users/x4287225/Desktop/confounder-free-cnn/OCTDL/OCTDL images/AMD\\amd_9284647_3.jpg\n",
      "Deleted C:/Users/x4287225/Desktop/confounder-free-cnn/OCTDL/OCTDL images/AMD\\amd_9284647_4.jpg\n",
      "Deleted C:/Users/x4287225/Desktop/confounder-free-cnn/OCTDL/OCTDL images/AMD\\amd_9284647_5.jpg\n",
      "Deleted C:/Users/x4287225/Desktop/confounder-free-cnn/OCTDL/OCTDL images/AMD\\amd_9339922_1.jpg\n",
      "Deleted C:/Users/x4287225/Desktop/confounder-free-cnn/OCTDL/OCTDL images/AMD\\amd_9339922_2.jpg\n",
      "Deleted C:/Users/x4287225/Desktop/confounder-free-cnn/OCTDL/OCTDL images/AMD\\amd_9339922_3.jpg\n",
      "Deleted C:/Users/x4287225/Desktop/confounder-free-cnn/OCTDL/OCTDL images/AMD\\amd_9339922_4.jpg\n",
      "Deleted C:/Users/x4287225/Desktop/confounder-free-cnn/OCTDL/OCTDL images/AMD\\amd_9454499_1.jpg\n",
      "Deleted C:/Users/x4287225/Desktop/confounder-free-cnn/OCTDL/OCTDL images/AMD\\amd_9494284_1.jpg\n",
      "Deleted C:/Users/x4287225/Desktop/confounder-free-cnn/OCTDL/OCTDL images/AMD\\amd_9494284_2.jpg\n",
      "Deleted C:/Users/x4287225/Desktop/confounder-free-cnn/OCTDL/OCTDL images/AMD\\amd_9494284_3.jpg\n",
      "Deleted C:/Users/x4287225/Desktop/confounder-free-cnn/OCTDL/OCTDL images/AMD\\amd_9553666_1.jpg\n",
      "Deleted C:/Users/x4287225/Desktop/confounder-free-cnn/OCTDL/OCTDL images/AMD\\amd_9553666_2.jpg\n",
      "Deleted C:/Users/x4287225/Desktop/confounder-free-cnn/OCTDL/OCTDL images/AMD\\amd_9556334_1.jpg\n",
      "Deleted C:/Users/x4287225/Desktop/confounder-free-cnn/OCTDL/OCTDL images/AMD\\amd_9576896_1.jpg\n",
      "Deleted C:/Users/x4287225/Desktop/confounder-free-cnn/OCTDL/OCTDL images/AMD\\amd_9576896_2.jpg\n",
      "Deleted C:/Users/x4287225/Desktop/confounder-free-cnn/OCTDL/OCTDL images/AMD\\amd_9576896_3.jpg\n",
      "Deleted C:/Users/x4287225/Desktop/confounder-free-cnn/OCTDL/OCTDL images/AMD\\amd_9576896_4.jpg\n",
      "Deleted C:/Users/x4287225/Desktop/confounder-free-cnn/OCTDL/OCTDL images/AMD\\amd_9600777_1.jpg\n",
      "Deleted C:/Users/x4287225/Desktop/confounder-free-cnn/OCTDL/OCTDL images/AMD\\amd_9600777_2.jpg\n",
      "Deleted C:/Users/x4287225/Desktop/confounder-free-cnn/OCTDL/OCTDL images/AMD\\amd_9600777_3.jpg\n",
      "Deleted C:/Users/x4287225/Desktop/confounder-free-cnn/OCTDL/OCTDL images/AMD\\amd_9638193_1.jpg\n",
      "Deleted C:/Users/x4287225/Desktop/confounder-free-cnn/OCTDL/OCTDL images/AMD\\amd_9638193_2.jpg\n",
      "Deleted C:/Users/x4287225/Desktop/confounder-free-cnn/OCTDL/OCTDL images/AMD\\amd_9638193_3.jpg\n",
      "Deleted C:/Users/x4287225/Desktop/confounder-free-cnn/OCTDL/OCTDL images/AMD\\amd_9638193_4.jpg\n",
      "Deleted C:/Users/x4287225/Desktop/confounder-free-cnn/OCTDL/OCTDL images/AMD\\amd_9681000_1.jpg\n",
      "Deleted C:/Users/x4287225/Desktop/confounder-free-cnn/OCTDL/OCTDL images/AMD\\amd_9681000_2.jpg\n",
      "Deleted C:/Users/x4287225/Desktop/confounder-free-cnn/OCTDL/OCTDL images/AMD\\amd_9715057_1.jpg\n",
      "Deleted C:/Users/x4287225/Desktop/confounder-free-cnn/OCTDL/OCTDL images/AMD\\amd_9715057_2.jpg\n",
      "Deleted C:/Users/x4287225/Desktop/confounder-free-cnn/OCTDL/OCTDL images/AMD\\amd_9715057_3.jpg\n",
      "Deleted C:/Users/x4287225/Desktop/confounder-free-cnn/OCTDL/OCTDL images/AMD\\amd_9756898_1.jpg\n",
      "Deleted C:/Users/x4287225/Desktop/confounder-free-cnn/OCTDL/OCTDL images/AMD\\amd_9810110_1.jpg\n",
      "Deleted C:/Users/x4287225/Desktop/confounder-free-cnn/OCTDL/OCTDL images/AMD\\amd_9810110_2.jpg\n",
      "Deleted C:/Users/x4287225/Desktop/confounder-free-cnn/OCTDL/OCTDL images/AMD\\amd_9819409_1.jpg\n",
      "Deleted C:/Users/x4287225/Desktop/confounder-free-cnn/OCTDL/OCTDL images/AMD\\amd_9819409_2.jpg\n",
      "Deleted C:/Users/x4287225/Desktop/confounder-free-cnn/OCTDL/OCTDL images/AMD\\amd_9977471_1.jpg\n",
      "Deleted C:/Users/x4287225/Desktop/confounder-free-cnn/OCTDL/OCTDL images/AMD\\amd_9977471_2.jpg\n",
      "Deleted C:/Users/x4287225/Desktop/confounder-free-cnn/OCTDL/OCTDL images/DME\\dme_1057060_1.jpg\n",
      "Deleted C:/Users/x4287225/Desktop/confounder-free-cnn/OCTDL/OCTDL images/DME\\dme_1072780_1.jpg\n",
      "Deleted C:/Users/x4287225/Desktop/confounder-free-cnn/OCTDL/OCTDL images/DME\\dme_1132061_1.jpg\n",
      "Deleted C:/Users/x4287225/Desktop/confounder-free-cnn/OCTDL/OCTDL images/DME\\dme_1132061_2.jpg\n",
      "Deleted C:/Users/x4287225/Desktop/confounder-free-cnn/OCTDL/OCTDL images/DME\\dme_1188282_1.jpg\n",
      "Deleted C:/Users/x4287225/Desktop/confounder-free-cnn/OCTDL/OCTDL images/DME\\dme_1193610_1.jpg\n",
      "Deleted C:/Users/x4287225/Desktop/confounder-free-cnn/OCTDL/OCTDL images/DME\\dme_1236067_1.jpg\n",
      "Deleted C:/Users/x4287225/Desktop/confounder-free-cnn/OCTDL/OCTDL images/DME\\dme_1310005_1.jpg\n",
      "Deleted C:/Users/x4287225/Desktop/confounder-free-cnn/OCTDL/OCTDL images/DME\\dme_1310005_2.jpg\n",
      "Deleted C:/Users/x4287225/Desktop/confounder-free-cnn/OCTDL/OCTDL images/DME\\dme_1310005_3.jpg\n",
      "Deleted C:/Users/x4287225/Desktop/confounder-free-cnn/OCTDL/OCTDL images/DME\\dme_1384543_1.jpg\n",
      "Deleted C:/Users/x4287225/Desktop/confounder-free-cnn/OCTDL/OCTDL images/DME\\dme_1384543_2.jpg\n",
      "Deleted C:/Users/x4287225/Desktop/confounder-free-cnn/OCTDL/OCTDL images/DME\\dme_1434389_1.jpg\n",
      "Deleted C:/Users/x4287225/Desktop/confounder-free-cnn/OCTDL/OCTDL images/DME\\dme_1512839_1.jpg\n",
      "Deleted C:/Users/x4287225/Desktop/confounder-free-cnn/OCTDL/OCTDL images/DME\\dme_1554005_1.jpg\n",
      "Deleted C:/Users/x4287225/Desktop/confounder-free-cnn/OCTDL/OCTDL images/DME\\dme_1554005_2.jpg\n",
      "Deleted C:/Users/x4287225/Desktop/confounder-free-cnn/OCTDL/OCTDL images/DME\\dme_1690933_1.jpg\n",
      "Deleted C:/Users/x4287225/Desktop/confounder-free-cnn/OCTDL/OCTDL images/DME\\dme_1876071_1.jpg\n",
      "Deleted C:/Users/x4287225/Desktop/confounder-free-cnn/OCTDL/OCTDL images/DME\\dme_2136839_1.jpg\n",
      "Deleted C:/Users/x4287225/Desktop/confounder-free-cnn/OCTDL/OCTDL images/DME\\dme_2168382_1.jpg\n",
      "Deleted C:/Users/x4287225/Desktop/confounder-free-cnn/OCTDL/OCTDL images/DME\\dme_2185630_1.jpg\n",
      "Deleted C:/Users/x4287225/Desktop/confounder-free-cnn/OCTDL/OCTDL images/DME\\dme_2185630_2.jpg\n",
      "Deleted C:/Users/x4287225/Desktop/confounder-free-cnn/OCTDL/OCTDL images/DME\\dme_2287657_1.jpg\n",
      "Deleted C:/Users/x4287225/Desktop/confounder-free-cnn/OCTDL/OCTDL images/DME\\dme_2287657_2.jpg\n",
      "Deleted C:/Users/x4287225/Desktop/confounder-free-cnn/OCTDL/OCTDL images/DME\\dme_2563706_1.jpg\n",
      "Deleted C:/Users/x4287225/Desktop/confounder-free-cnn/OCTDL/OCTDL images/DME\\dme_2707950_1.jpg\n",
      "Deleted C:/Users/x4287225/Desktop/confounder-free-cnn/OCTDL/OCTDL images/DME\\dme_2707950_2.jpg\n",
      "Deleted C:/Users/x4287225/Desktop/confounder-free-cnn/OCTDL/OCTDL images/DME\\dme_2757902_1.jpg\n",
      "Deleted C:/Users/x4287225/Desktop/confounder-free-cnn/OCTDL/OCTDL images/DME\\dme_2757902_2.jpg\n",
      "Deleted C:/Users/x4287225/Desktop/confounder-free-cnn/OCTDL/OCTDL images/DME\\dme_2919465_1.jpg\n",
      "Deleted C:/Users/x4287225/Desktop/confounder-free-cnn/OCTDL/OCTDL images/DME\\dme_2919465_2.jpg\n",
      "Deleted C:/Users/x4287225/Desktop/confounder-free-cnn/OCTDL/OCTDL images/DME\\dme_2919935_1.jpg\n",
      "Deleted C:/Users/x4287225/Desktop/confounder-free-cnn/OCTDL/OCTDL images/DME\\dme_2919935_2.jpg\n",
      "Deleted C:/Users/x4287225/Desktop/confounder-free-cnn/OCTDL/OCTDL images/DME\\dme_3013079_1.jpg\n",
      "Deleted C:/Users/x4287225/Desktop/confounder-free-cnn/OCTDL/OCTDL images/DME\\dme_3044113_1.jpg\n",
      "Deleted C:/Users/x4287225/Desktop/confounder-free-cnn/OCTDL/OCTDL images/DME\\dme_3054207_1.jpg\n",
      "Deleted C:/Users/x4287225/Desktop/confounder-free-cnn/OCTDL/OCTDL images/DME\\dme_3067818_1.jpg\n",
      "Deleted C:/Users/x4287225/Desktop/confounder-free-cnn/OCTDL/OCTDL images/DME\\dme_3285209_1.jpg\n",
      "Deleted C:/Users/x4287225/Desktop/confounder-free-cnn/OCTDL/OCTDL images/DME\\dme_3297506_1.jpg\n",
      "Deleted C:/Users/x4287225/Desktop/confounder-free-cnn/OCTDL/OCTDL images/DME\\dme_3297506_2.jpg\n",
      "Deleted C:/Users/x4287225/Desktop/confounder-free-cnn/OCTDL/OCTDL images/DME\\dme_3586661_1.jpg\n",
      "Deleted C:/Users/x4287225/Desktop/confounder-free-cnn/OCTDL/OCTDL images/DME\\dme_3649814_1.jpg\n",
      "Deleted C:/Users/x4287225/Desktop/confounder-free-cnn/OCTDL/OCTDL images/DME\\dme_3676374_1.jpg\n",
      "Deleted C:/Users/x4287225/Desktop/confounder-free-cnn/OCTDL/OCTDL images/DME\\dme_3676374_2.jpg\n",
      "Deleted C:/Users/x4287225/Desktop/confounder-free-cnn/OCTDL/OCTDL images/DME\\dme_3728480_1.jpg\n",
      "Deleted C:/Users/x4287225/Desktop/confounder-free-cnn/OCTDL/OCTDL images/DME\\dme_3728480_2.jpg\n",
      "Deleted C:/Users/x4287225/Desktop/confounder-free-cnn/OCTDL/OCTDL images/DME\\dme_3793047_1.jpg\n",
      "Deleted C:/Users/x4287225/Desktop/confounder-free-cnn/OCTDL/OCTDL images/DME\\dme_3846806_1.jpg\n",
      "Deleted C:/Users/x4287225/Desktop/confounder-free-cnn/OCTDL/OCTDL images/DME\\dme_3846806_2.jpg\n",
      "Deleted C:/Users/x4287225/Desktop/confounder-free-cnn/OCTDL/OCTDL images/DME\\dme_3925757_1.jpg\n",
      "Deleted C:/Users/x4287225/Desktop/confounder-free-cnn/OCTDL/OCTDL images/DME\\dme_4100843_1.jpg\n",
      "Deleted C:/Users/x4287225/Desktop/confounder-free-cnn/OCTDL/OCTDL images/DME\\dme_4122896_1.jpg\n",
      "Deleted C:/Users/x4287225/Desktop/confounder-free-cnn/OCTDL/OCTDL images/DME\\dme_4271958_1.jpg\n",
      "Deleted C:/Users/x4287225/Desktop/confounder-free-cnn/OCTDL/OCTDL images/DME\\dme_4388527_1.jpg\n",
      "Deleted C:/Users/x4287225/Desktop/confounder-free-cnn/OCTDL/OCTDL images/DME\\dme_4404735_1.jpg\n",
      "Deleted C:/Users/x4287225/Desktop/confounder-free-cnn/OCTDL/OCTDL images/DME\\dme_4762549_1.jpg\n",
      "Deleted C:/Users/x4287225/Desktop/confounder-free-cnn/OCTDL/OCTDL images/DME\\dme_4762549_2.jpg\n",
      "Deleted C:/Users/x4287225/Desktop/confounder-free-cnn/OCTDL/OCTDL images/DME\\dme_4899511_1.jpg\n",
      "Deleted C:/Users/x4287225/Desktop/confounder-free-cnn/OCTDL/OCTDL images/DME\\dme_4986761_2.jpg\n",
      "Deleted C:/Users/x4287225/Desktop/confounder-free-cnn/OCTDL/OCTDL images/DME\\dme_5025764_1.jpg\n",
      "Deleted C:/Users/x4287225/Desktop/confounder-free-cnn/OCTDL/OCTDL images/DME\\dme_5025764_2.jpg\n",
      "Deleted C:/Users/x4287225/Desktop/confounder-free-cnn/OCTDL/OCTDL images/DME\\dme_5027595_1.jpg\n",
      "Deleted C:/Users/x4287225/Desktop/confounder-free-cnn/OCTDL/OCTDL images/DME\\dme_5103281_1.jpg\n",
      "Deleted C:/Users/x4287225/Desktop/confounder-free-cnn/OCTDL/OCTDL images/DME\\dme_5105922_1.jpg\n",
      "Deleted C:/Users/x4287225/Desktop/confounder-free-cnn/OCTDL/OCTDL images/DME\\dme_5105922_2.jpg\n",
      "Deleted C:/Users/x4287225/Desktop/confounder-free-cnn/OCTDL/OCTDL images/DME\\dme_5190894_1.jpg\n",
      "Deleted C:/Users/x4287225/Desktop/confounder-free-cnn/OCTDL/OCTDL images/DME\\dme_5270909_1.jpg\n",
      "Deleted C:/Users/x4287225/Desktop/confounder-free-cnn/OCTDL/OCTDL images/DME\\dme_5529361_1.jpg\n",
      "Deleted C:/Users/x4287225/Desktop/confounder-free-cnn/OCTDL/OCTDL images/DME\\dme_5538542_1.jpg\n",
      "Deleted C:/Users/x4287225/Desktop/confounder-free-cnn/OCTDL/OCTDL images/DME\\dme_5614655_1.jpg\n",
      "Deleted C:/Users/x4287225/Desktop/confounder-free-cnn/OCTDL/OCTDL images/DME\\dme_5614655_2.jpg\n",
      "Deleted C:/Users/x4287225/Desktop/confounder-free-cnn/OCTDL/OCTDL images/DME\\dme_5743197_1.jpg\n",
      "Deleted C:/Users/x4287225/Desktop/confounder-free-cnn/OCTDL/OCTDL images/DME\\dme_5743197_2.jpg\n",
      "Deleted C:/Users/x4287225/Desktop/confounder-free-cnn/OCTDL/OCTDL images/DME\\dme_5805285_1.jpg\n",
      "Deleted C:/Users/x4287225/Desktop/confounder-free-cnn/OCTDL/OCTDL images/DME\\dme_5884632_1.jpg\n",
      "Deleted C:/Users/x4287225/Desktop/confounder-free-cnn/OCTDL/OCTDL images/DME\\dme_5935986_1.jpg\n",
      "Deleted C:/Users/x4287225/Desktop/confounder-free-cnn/OCTDL/OCTDL images/DME\\dme_5991787_1.jpg\n",
      "Deleted C:/Users/x4287225/Desktop/confounder-free-cnn/OCTDL/OCTDL images/DME\\dme_5991787_2.jpg\n",
      "Deleted C:/Users/x4287225/Desktop/confounder-free-cnn/OCTDL/OCTDL images/DME\\dme_6132723_1.jpg\n",
      "Deleted C:/Users/x4287225/Desktop/confounder-free-cnn/OCTDL/OCTDL images/DME\\dme_6147677_1.jpg\n",
      "Deleted C:/Users/x4287225/Desktop/confounder-free-cnn/OCTDL/OCTDL images/DME\\dme_6215610_1.jpg\n",
      "Deleted C:/Users/x4287225/Desktop/confounder-free-cnn/OCTDL/OCTDL images/DME\\dme_6320668_1.jpg\n",
      "Deleted C:/Users/x4287225/Desktop/confounder-free-cnn/OCTDL/OCTDL images/DME\\dme_6320668_2.jpg\n",
      "Deleted C:/Users/x4287225/Desktop/confounder-free-cnn/OCTDL/OCTDL images/DME\\dme_6409311_1.jpg\n",
      "Deleted C:/Users/x4287225/Desktop/confounder-free-cnn/OCTDL/OCTDL images/DME\\dme_6538474_1.jpg\n",
      "Deleted C:/Users/x4287225/Desktop/confounder-free-cnn/OCTDL/OCTDL images/DME\\dme_6538474_2.jpg\n",
      "Deleted C:/Users/x4287225/Desktop/confounder-free-cnn/OCTDL/OCTDL images/DME\\dme_6538474_3.jpg\n",
      "Deleted C:/Users/x4287225/Desktop/confounder-free-cnn/OCTDL/OCTDL images/DME\\dme_6538474_4.jpg\n",
      "Deleted C:/Users/x4287225/Desktop/confounder-free-cnn/OCTDL/OCTDL images/DME\\dme_6574070_1.jpg\n",
      "Deleted C:/Users/x4287225/Desktop/confounder-free-cnn/OCTDL/OCTDL images/DME\\dme_6626339_1.jpg\n",
      "Deleted C:/Users/x4287225/Desktop/confounder-free-cnn/OCTDL/OCTDL images/DME\\dme_6743621_1.jpg\n",
      "Deleted C:/Users/x4287225/Desktop/confounder-free-cnn/OCTDL/OCTDL images/DME\\dme_6758938_1.jpg\n",
      "Deleted C:/Users/x4287225/Desktop/confounder-free-cnn/OCTDL/OCTDL images/DME\\dme_6893063_1.jpg\n",
      "Deleted C:/Users/x4287225/Desktop/confounder-free-cnn/OCTDL/OCTDL images/DME\\dme_6930594_1.jpg\n",
      "Deleted C:/Users/x4287225/Desktop/confounder-free-cnn/OCTDL/OCTDL images/DME\\dme_6994746_1.jpg\n",
      "Deleted C:/Users/x4287225/Desktop/confounder-free-cnn/OCTDL/OCTDL images/DME\\dme_7006619_1.jpg\n",
      "Deleted C:/Users/x4287225/Desktop/confounder-free-cnn/OCTDL/OCTDL images/DME\\dme_7006619_2.jpg\n",
      "Deleted C:/Users/x4287225/Desktop/confounder-free-cnn/OCTDL/OCTDL images/DME\\dme_7039789_1.jpg\n",
      "Deleted C:/Users/x4287225/Desktop/confounder-free-cnn/OCTDL/OCTDL images/DME\\dme_7096929_1.jpg\n",
      "Deleted C:/Users/x4287225/Desktop/confounder-free-cnn/OCTDL/OCTDL images/DME\\dme_7098817_1.jpg\n",
      "Deleted C:/Users/x4287225/Desktop/confounder-free-cnn/OCTDL/OCTDL images/DME\\dme_7200781_1.jpg\n",
      "Deleted C:/Users/x4287225/Desktop/confounder-free-cnn/OCTDL/OCTDL images/DME\\dme_7200781_2.jpg\n",
      "Deleted C:/Users/x4287225/Desktop/confounder-free-cnn/OCTDL/OCTDL images/DME\\dme_7206889_1.jpg\n",
      "Deleted C:/Users/x4287225/Desktop/confounder-free-cnn/OCTDL/OCTDL images/DME\\dme_7329420_1.jpg\n",
      "Deleted C:/Users/x4287225/Desktop/confounder-free-cnn/OCTDL/OCTDL images/DME\\dme_7329420_2.jpg\n",
      "Deleted C:/Users/x4287225/Desktop/confounder-free-cnn/OCTDL/OCTDL images/DME\\dme_7335353_1.jpg\n",
      "Deleted C:/Users/x4287225/Desktop/confounder-free-cnn/OCTDL/OCTDL images/DME\\dme_7407154_1.jpg\n",
      "Deleted C:/Users/x4287225/Desktop/confounder-free-cnn/OCTDL/OCTDL images/DME\\dme_7407154_2.jpg\n",
      "Deleted C:/Users/x4287225/Desktop/confounder-free-cnn/OCTDL/OCTDL images/DME\\dme_7540978_1.jpg\n",
      "Deleted C:/Users/x4287225/Desktop/confounder-free-cnn/OCTDL/OCTDL images/DME\\dme_7678479_1.jpg\n",
      "Deleted C:/Users/x4287225/Desktop/confounder-free-cnn/OCTDL/OCTDL images/DME\\dme_7711426_1.jpg\n",
      "Deleted C:/Users/x4287225/Desktop/confounder-free-cnn/OCTDL/OCTDL images/DME\\dme_7743349_1.jpg\n",
      "Deleted C:/Users/x4287225/Desktop/confounder-free-cnn/OCTDL/OCTDL images/DME\\dme_7843471_1.jpg\n",
      "Deleted C:/Users/x4287225/Desktop/confounder-free-cnn/OCTDL/OCTDL images/DME\\dme_7843471_2.jpg\n",
      "Deleted C:/Users/x4287225/Desktop/confounder-free-cnn/OCTDL/OCTDL images/DME\\dme_7890868_1.jpg\n",
      "Deleted C:/Users/x4287225/Desktop/confounder-free-cnn/OCTDL/OCTDL images/DME\\dme_7901042_1.jpg\n",
      "Deleted C:/Users/x4287225/Desktop/confounder-free-cnn/OCTDL/OCTDL images/DME\\dme_7901042_2.jpg\n",
      "Deleted C:/Users/x4287225/Desktop/confounder-free-cnn/OCTDL/OCTDL images/DME\\dme_7901042_3.jpg\n",
      "Deleted C:/Users/x4287225/Desktop/confounder-free-cnn/OCTDL/OCTDL images/DME\\dme_7991717_1.jpg\n",
      "Deleted C:/Users/x4287225/Desktop/confounder-free-cnn/OCTDL/OCTDL images/DME\\dme_8143829_1.jpg\n",
      "Deleted C:/Users/x4287225/Desktop/confounder-free-cnn/OCTDL/OCTDL images/DME\\dme_8244843_1.jpg\n",
      "Deleted C:/Users/x4287225/Desktop/confounder-free-cnn/OCTDL/OCTDL images/DME\\dme_8325119_1.jpg\n",
      "Deleted C:/Users/x4287225/Desktop/confounder-free-cnn/OCTDL/OCTDL images/DME\\dme_8464326_1.jpg\n",
      "Deleted C:/Users/x4287225/Desktop/confounder-free-cnn/OCTDL/OCTDL images/DME\\dme_8558454_1.jpg\n",
      "Deleted C:/Users/x4287225/Desktop/confounder-free-cnn/OCTDL/OCTDL images/DME\\dme_8666007_1.jpg\n",
      "Deleted C:/Users/x4287225/Desktop/confounder-free-cnn/OCTDL/OCTDL images/DME\\dme_8800161_1.jpg\n",
      "Deleted C:/Users/x4287225/Desktop/confounder-free-cnn/OCTDL/OCTDL images/DME\\dme_8916465_1.jpg\n",
      "Deleted C:/Users/x4287225/Desktop/confounder-free-cnn/OCTDL/OCTDL images/DME\\dme_8952398_1.jpg\n",
      "Deleted C:/Users/x4287225/Desktop/confounder-free-cnn/OCTDL/OCTDL images/DME\\dme_9017151_1.jpg\n",
      "Deleted C:/Users/x4287225/Desktop/confounder-free-cnn/OCTDL/OCTDL images/DME\\dme_9017151_2.jpg\n",
      "Deleted C:/Users/x4287225/Desktop/confounder-free-cnn/OCTDL/OCTDL images/DME\\dme_9017151_3.jpg\n",
      "Deleted C:/Users/x4287225/Desktop/confounder-free-cnn/OCTDL/OCTDL images/DME\\dme_9057060_1.jpg\n",
      "Deleted C:/Users/x4287225/Desktop/confounder-free-cnn/OCTDL/OCTDL images/DME\\dme_9081529_1.jpg\n",
      "Deleted C:/Users/x4287225/Desktop/confounder-free-cnn/OCTDL/OCTDL images/DME\\dme_9220513_1.jpg\n",
      "Deleted C:/Users/x4287225/Desktop/confounder-free-cnn/OCTDL/OCTDL images/DME\\dme_9220513_2.jpg\n",
      "Deleted C:/Users/x4287225/Desktop/confounder-free-cnn/OCTDL/OCTDL images/DME\\dme_9316095_1.jpg\n",
      "Deleted C:/Users/x4287225/Desktop/confounder-free-cnn/OCTDL/OCTDL images/DME\\dme_9328495_1.jpg\n",
      "Deleted C:/Users/x4287225/Desktop/confounder-free-cnn/OCTDL/OCTDL images/DME\\dme_9328495_2.jpg\n",
      "Deleted C:/Users/x4287225/Desktop/confounder-free-cnn/OCTDL/OCTDL images/DME\\dme_9379872_1.jpg\n",
      "Deleted C:/Users/x4287225/Desktop/confounder-free-cnn/OCTDL/OCTDL images/DME\\dme_9379872_2.jpg\n",
      "Deleted C:/Users/x4287225/Desktop/confounder-free-cnn/OCTDL/OCTDL images/DME\\dme_9434533_1.jpg\n",
      "Deleted C:/Users/x4287225/Desktop/confounder-free-cnn/OCTDL/OCTDL images/DME\\dme_9470719_1.jpg\n",
      "Deleted C:/Users/x4287225/Desktop/confounder-free-cnn/OCTDL/OCTDL images/DME\\dme_9923834_1.jpg\n",
      "Deleted C:/Users/x4287225/Desktop/confounder-free-cnn/OCTDL/OCTDL images/ERM\\erm_1043186_1.jpg\n",
      "Deleted C:/Users/x4287225/Desktop/confounder-free-cnn/OCTDL/OCTDL images/ERM\\erm_1043186_2.jpg\n",
      "Deleted C:/Users/x4287225/Desktop/confounder-free-cnn/OCTDL/OCTDL images/ERM\\erm_1225803_1.jpg\n",
      "Deleted C:/Users/x4287225/Desktop/confounder-free-cnn/OCTDL/OCTDL images/ERM\\erm_1225803_2.jpg\n",
      "Deleted C:/Users/x4287225/Desktop/confounder-free-cnn/OCTDL/OCTDL images/ERM\\erm_1225803_3.jpg\n",
      "Deleted C:/Users/x4287225/Desktop/confounder-free-cnn/OCTDL/OCTDL images/ERM\\erm_1225803_4.jpg\n",
      "Deleted C:/Users/x4287225/Desktop/confounder-free-cnn/OCTDL/OCTDL images/ERM\\erm_1225803_5.jpg\n",
      "Deleted C:/Users/x4287225/Desktop/confounder-free-cnn/OCTDL/OCTDL images/ERM\\erm_1484824_1.jpg\n",
      "Deleted C:/Users/x4287225/Desktop/confounder-free-cnn/OCTDL/OCTDL images/ERM\\erm_1484824_2.jpg\n",
      "Deleted C:/Users/x4287225/Desktop/confounder-free-cnn/OCTDL/OCTDL images/ERM\\erm_1751913_1.jpg\n",
      "Deleted C:/Users/x4287225/Desktop/confounder-free-cnn/OCTDL/OCTDL images/ERM\\erm_1835147_1.jpg\n",
      "Deleted C:/Users/x4287225/Desktop/confounder-free-cnn/OCTDL/OCTDL images/ERM\\erm_1980479_1.jpg\n",
      "Deleted C:/Users/x4287225/Desktop/confounder-free-cnn/OCTDL/OCTDL images/ERM\\erm_1980479_2.jpg\n",
      "Deleted C:/Users/x4287225/Desktop/confounder-free-cnn/OCTDL/OCTDL images/ERM\\erm_1980479_3.jpg\n",
      "Deleted C:/Users/x4287225/Desktop/confounder-free-cnn/OCTDL/OCTDL images/ERM\\erm_2073089_1.jpg\n",
      "Deleted C:/Users/x4287225/Desktop/confounder-free-cnn/OCTDL/OCTDL images/ERM\\erm_2073089_2.jpg\n",
      "Deleted C:/Users/x4287225/Desktop/confounder-free-cnn/OCTDL/OCTDL images/ERM\\erm_2073089_3.jpg\n",
      "Deleted C:/Users/x4287225/Desktop/confounder-free-cnn/OCTDL/OCTDL images/ERM\\erm_2166457_1.jpg\n",
      "Deleted C:/Users/x4287225/Desktop/confounder-free-cnn/OCTDL/OCTDL images/ERM\\erm_2166457_2.jpg\n",
      "Deleted C:/Users/x4287225/Desktop/confounder-free-cnn/OCTDL/OCTDL images/ERM\\erm_2310962_1.jpg\n",
      "Deleted C:/Users/x4287225/Desktop/confounder-free-cnn/OCTDL/OCTDL images/ERM\\erm_2310962_2.jpg\n",
      "Deleted C:/Users/x4287225/Desktop/confounder-free-cnn/OCTDL/OCTDL images/ERM\\erm_2310962_3.jpg\n",
      "Deleted C:/Users/x4287225/Desktop/confounder-free-cnn/OCTDL/OCTDL images/ERM\\erm_2400030_1.jpg\n",
      "Deleted C:/Users/x4287225/Desktop/confounder-free-cnn/OCTDL/OCTDL images/ERM\\erm_2400030_2.jpg\n",
      "Deleted C:/Users/x4287225/Desktop/confounder-free-cnn/OCTDL/OCTDL images/ERM\\erm_2507788_1.jpg\n",
      "Deleted C:/Users/x4287225/Desktop/confounder-free-cnn/OCTDL/OCTDL images/ERM\\erm_2507788_2.jpg\n",
      "Deleted C:/Users/x4287225/Desktop/confounder-free-cnn/OCTDL/OCTDL images/ERM\\erm_2548202_1.jpg\n",
      "Deleted C:/Users/x4287225/Desktop/confounder-free-cnn/OCTDL/OCTDL images/ERM\\erm_2548202_2.jpg\n",
      "Deleted C:/Users/x4287225/Desktop/confounder-free-cnn/OCTDL/OCTDL images/ERM\\erm_2557141_1.jpg\n",
      "Deleted C:/Users/x4287225/Desktop/confounder-free-cnn/OCTDL/OCTDL images/ERM\\erm_2584110_1.jpg\n",
      "Deleted C:/Users/x4287225/Desktop/confounder-free-cnn/OCTDL/OCTDL images/ERM\\erm_2933504_1.jpg\n",
      "Deleted C:/Users/x4287225/Desktop/confounder-free-cnn/OCTDL/OCTDL images/ERM\\erm_3300105_1.jpg\n",
      "Deleted C:/Users/x4287225/Desktop/confounder-free-cnn/OCTDL/OCTDL images/ERM\\erm_3300105_2.jpg\n",
      "Deleted C:/Users/x4287225/Desktop/confounder-free-cnn/OCTDL/OCTDL images/ERM\\erm_3527083_1.jpg\n",
      "Deleted C:/Users/x4287225/Desktop/confounder-free-cnn/OCTDL/OCTDL images/ERM\\erm_3575502_1.jpg\n",
      "Deleted C:/Users/x4287225/Desktop/confounder-free-cnn/OCTDL/OCTDL images/ERM\\erm_3575502_2.jpg\n",
      "Deleted C:/Users/x4287225/Desktop/confounder-free-cnn/OCTDL/OCTDL images/ERM\\erm_3575502_3.jpg\n",
      "Deleted C:/Users/x4287225/Desktop/confounder-free-cnn/OCTDL/OCTDL images/ERM\\erm_3849671_1.jpg\n",
      "Deleted C:/Users/x4287225/Desktop/confounder-free-cnn/OCTDL/OCTDL images/ERM\\erm_3849671_2.jpg\n",
      "Deleted C:/Users/x4287225/Desktop/confounder-free-cnn/OCTDL/OCTDL images/ERM\\erm_4014066_1.jpg\n",
      "Deleted C:/Users/x4287225/Desktop/confounder-free-cnn/OCTDL/OCTDL images/ERM\\erm_4247823_1.jpg\n",
      "Deleted C:/Users/x4287225/Desktop/confounder-free-cnn/OCTDL/OCTDL images/ERM\\erm_4407796_1.jpg\n",
      "Deleted C:/Users/x4287225/Desktop/confounder-free-cnn/OCTDL/OCTDL images/ERM\\erm_4407796_2.jpg\n",
      "Deleted C:/Users/x4287225/Desktop/confounder-free-cnn/OCTDL/OCTDL images/ERM\\erm_4409880_1.jpg\n",
      "Deleted C:/Users/x4287225/Desktop/confounder-free-cnn/OCTDL/OCTDL images/ERM\\erm_4409880_2.jpg\n",
      "Deleted C:/Users/x4287225/Desktop/confounder-free-cnn/OCTDL/OCTDL images/ERM\\erm_4409880_3.jpg\n",
      "Deleted C:/Users/x4287225/Desktop/confounder-free-cnn/OCTDL/OCTDL images/ERM\\erm_4523545_1.jpg\n",
      "Deleted C:/Users/x4287225/Desktop/confounder-free-cnn/OCTDL/OCTDL images/ERM\\erm_4523545_2.jpg\n",
      "Deleted C:/Users/x4287225/Desktop/confounder-free-cnn/OCTDL/OCTDL images/ERM\\erm_4684093_1.jpg\n",
      "Deleted C:/Users/x4287225/Desktop/confounder-free-cnn/OCTDL/OCTDL images/ERM\\erm_4864500_1.jpg\n",
      "Deleted C:/Users/x4287225/Desktop/confounder-free-cnn/OCTDL/OCTDL images/ERM\\erm_4864500_2.jpg\n",
      "Deleted C:/Users/x4287225/Desktop/confounder-free-cnn/OCTDL/OCTDL images/ERM\\erm_4893218_1.jpg\n",
      "Deleted C:/Users/x4287225/Desktop/confounder-free-cnn/OCTDL/OCTDL images/ERM\\erm_4893218_2.jpg\n",
      "Deleted C:/Users/x4287225/Desktop/confounder-free-cnn/OCTDL/OCTDL images/ERM\\erm_5110347_1.jpg\n",
      "Deleted C:/Users/x4287225/Desktop/confounder-free-cnn/OCTDL/OCTDL images/ERM\\erm_5110347_2.jpg\n",
      "Deleted C:/Users/x4287225/Desktop/confounder-free-cnn/OCTDL/OCTDL images/ERM\\erm_5110347_3.jpg\n",
      "Deleted C:/Users/x4287225/Desktop/confounder-free-cnn/OCTDL/OCTDL images/ERM\\erm_5110347_4.jpg\n",
      "Deleted C:/Users/x4287225/Desktop/confounder-free-cnn/OCTDL/OCTDL images/ERM\\erm_5110347_5.jpg\n",
      "Deleted C:/Users/x4287225/Desktop/confounder-free-cnn/OCTDL/OCTDL images/ERM\\erm_5110347_6.jpg\n",
      "Deleted C:/Users/x4287225/Desktop/confounder-free-cnn/OCTDL/OCTDL images/ERM\\erm_5110347_7.jpg\n",
      "Deleted C:/Users/x4287225/Desktop/confounder-free-cnn/OCTDL/OCTDL images/ERM\\erm_5438495_1.jpg\n",
      "Deleted C:/Users/x4287225/Desktop/confounder-free-cnn/OCTDL/OCTDL images/ERM\\erm_5438495_2.jpg\n",
      "Deleted C:/Users/x4287225/Desktop/confounder-free-cnn/OCTDL/OCTDL images/ERM\\erm_5438495_3.jpg\n",
      "Deleted C:/Users/x4287225/Desktop/confounder-free-cnn/OCTDL/OCTDL images/ERM\\erm_5616388_1.jpg\n",
      "Deleted C:/Users/x4287225/Desktop/confounder-free-cnn/OCTDL/OCTDL images/ERM\\erm_5616388_2.jpg\n",
      "Deleted C:/Users/x4287225/Desktop/confounder-free-cnn/OCTDL/OCTDL images/ERM\\erm_5616388_3.jpg\n",
      "Deleted C:/Users/x4287225/Desktop/confounder-free-cnn/OCTDL/OCTDL images/ERM\\erm_5791022_1.jpg\n",
      "Deleted C:/Users/x4287225/Desktop/confounder-free-cnn/OCTDL/OCTDL images/ERM\\erm_5813011_1.jpg\n",
      "Deleted C:/Users/x4287225/Desktop/confounder-free-cnn/OCTDL/OCTDL images/ERM\\erm_5896471_1.jpg\n",
      "Deleted C:/Users/x4287225/Desktop/confounder-free-cnn/OCTDL/OCTDL images/ERM\\erm_5896471_2.jpg\n",
      "Deleted C:/Users/x4287225/Desktop/confounder-free-cnn/OCTDL/OCTDL images/ERM\\erm_5951557_1.jpg\n",
      "Deleted C:/Users/x4287225/Desktop/confounder-free-cnn/OCTDL/OCTDL images/ERM\\erm_5951557_2.jpg\n",
      "Deleted C:/Users/x4287225/Desktop/confounder-free-cnn/OCTDL/OCTDL images/ERM\\erm_6081919_1.jpg\n",
      "Deleted C:/Users/x4287225/Desktop/confounder-free-cnn/OCTDL/OCTDL images/ERM\\erm_6081919_2.jpg\n",
      "Deleted C:/Users/x4287225/Desktop/confounder-free-cnn/OCTDL/OCTDL images/ERM\\erm_6189656_1.jpg\n",
      "Deleted C:/Users/x4287225/Desktop/confounder-free-cnn/OCTDL/OCTDL images/ERM\\erm_6189656_2.jpg\n",
      "Deleted C:/Users/x4287225/Desktop/confounder-free-cnn/OCTDL/OCTDL images/ERM\\erm_6189656_3.jpg\n",
      "Deleted C:/Users/x4287225/Desktop/confounder-free-cnn/OCTDL/OCTDL images/ERM\\erm_6189656_4.jpg\n",
      "Deleted C:/Users/x4287225/Desktop/confounder-free-cnn/OCTDL/OCTDL images/ERM\\erm_6193565_1.jpg\n",
      "Deleted C:/Users/x4287225/Desktop/confounder-free-cnn/OCTDL/OCTDL images/ERM\\erm_6193565_2.jpg\n",
      "Deleted C:/Users/x4287225/Desktop/confounder-free-cnn/OCTDL/OCTDL images/ERM\\erm_6310682_1.jpg\n",
      "Deleted C:/Users/x4287225/Desktop/confounder-free-cnn/OCTDL/OCTDL images/ERM\\erm_6310682_2.jpg\n",
      "Deleted C:/Users/x4287225/Desktop/confounder-free-cnn/OCTDL/OCTDL images/ERM\\erm_6310682_3.jpg\n",
      "Deleted C:/Users/x4287225/Desktop/confounder-free-cnn/OCTDL/OCTDL images/ERM\\erm_6391922_1.jpg\n",
      "Deleted C:/Users/x4287225/Desktop/confounder-free-cnn/OCTDL/OCTDL images/ERM\\erm_6532944_1.jpg\n",
      "Deleted C:/Users/x4287225/Desktop/confounder-free-cnn/OCTDL/OCTDL images/ERM\\erm_6532944_2.jpg\n",
      "Deleted C:/Users/x4287225/Desktop/confounder-free-cnn/OCTDL/OCTDL images/ERM\\erm_6860395_1.jpg\n",
      "Deleted C:/Users/x4287225/Desktop/confounder-free-cnn/OCTDL/OCTDL images/ERM\\erm_7033723_1.jpg\n",
      "Deleted C:/Users/x4287225/Desktop/confounder-free-cnn/OCTDL/OCTDL images/ERM\\erm_7033723_2.jpg\n",
      "Deleted C:/Users/x4287225/Desktop/confounder-free-cnn/OCTDL/OCTDL images/ERM\\erm_7033723_3.jpg\n",
      "Deleted C:/Users/x4287225/Desktop/confounder-free-cnn/OCTDL/OCTDL images/ERM\\erm_7123170_1.jpg\n",
      "Deleted C:/Users/x4287225/Desktop/confounder-free-cnn/OCTDL/OCTDL images/ERM\\erm_7123170_2.jpg\n",
      "Deleted C:/Users/x4287225/Desktop/confounder-free-cnn/OCTDL/OCTDL images/ERM\\erm_7123170_3.jpg\n",
      "Deleted C:/Users/x4287225/Desktop/confounder-free-cnn/OCTDL/OCTDL images/ERM\\erm_7123170_4.jpg\n",
      "Deleted C:/Users/x4287225/Desktop/confounder-free-cnn/OCTDL/OCTDL images/ERM\\erm_7308378_1.jpg\n",
      "Deleted C:/Users/x4287225/Desktop/confounder-free-cnn/OCTDL/OCTDL images/ERM\\erm_7326803_1.jpg\n",
      "Deleted C:/Users/x4287225/Desktop/confounder-free-cnn/OCTDL/OCTDL images/ERM\\erm_7336541_1.jpg\n",
      "Deleted C:/Users/x4287225/Desktop/confounder-free-cnn/OCTDL/OCTDL images/ERM\\erm_7336541_2.jpg\n",
      "Deleted C:/Users/x4287225/Desktop/confounder-free-cnn/OCTDL/OCTDL images/ERM\\erm_7596475_1.jpg\n",
      "Deleted C:/Users/x4287225/Desktop/confounder-free-cnn/OCTDL/OCTDL images/ERM\\erm_7596475_2.jpg\n",
      "Deleted C:/Users/x4287225/Desktop/confounder-free-cnn/OCTDL/OCTDL images/ERM\\erm_7596475_3.jpg\n",
      "Deleted C:/Users/x4287225/Desktop/confounder-free-cnn/OCTDL/OCTDL images/ERM\\erm_7642868_1.jpg\n",
      "Deleted C:/Users/x4287225/Desktop/confounder-free-cnn/OCTDL/OCTDL images/ERM\\erm_7642868_2.jpg\n",
      "Deleted C:/Users/x4287225/Desktop/confounder-free-cnn/OCTDL/OCTDL images/ERM\\erm_7729617_1.jpg\n",
      "Deleted C:/Users/x4287225/Desktop/confounder-free-cnn/OCTDL/OCTDL images/ERM\\erm_7815098_1.jpg\n",
      "Deleted C:/Users/x4287225/Desktop/confounder-free-cnn/OCTDL/OCTDL images/ERM\\erm_7815098_2.jpg\n",
      "Deleted C:/Users/x4287225/Desktop/confounder-free-cnn/OCTDL/OCTDL images/ERM\\erm_7815098_3.jpg\n",
      "Deleted C:/Users/x4287225/Desktop/confounder-free-cnn/OCTDL/OCTDL images/ERM\\erm_7815098_4.jpg\n",
      "Deleted C:/Users/x4287225/Desktop/confounder-free-cnn/OCTDL/OCTDL images/ERM\\erm_7901996_1.jpg\n",
      "Deleted C:/Users/x4287225/Desktop/confounder-free-cnn/OCTDL/OCTDL images/ERM\\erm_7901996_2.jpg\n",
      "Deleted C:/Users/x4287225/Desktop/confounder-free-cnn/OCTDL/OCTDL images/ERM\\erm_7901996_3.jpg\n",
      "Deleted C:/Users/x4287225/Desktop/confounder-free-cnn/OCTDL/OCTDL images/ERM\\erm_8708516_1.jpg\n",
      "Deleted C:/Users/x4287225/Desktop/confounder-free-cnn/OCTDL/OCTDL images/ERM\\erm_8708516_2.jpg\n",
      "Deleted C:/Users/x4287225/Desktop/confounder-free-cnn/OCTDL/OCTDL images/ERM\\erm_8851485_1.jpg\n",
      "Deleted C:/Users/x4287225/Desktop/confounder-free-cnn/OCTDL/OCTDL images/ERM\\erm_8851485_2.jpg\n",
      "Deleted C:/Users/x4287225/Desktop/confounder-free-cnn/OCTDL/OCTDL images/ERM\\erm_8851485_3.jpg\n",
      "Deleted C:/Users/x4287225/Desktop/confounder-free-cnn/OCTDL/OCTDL images/ERM\\erm_8851485_4.jpg\n",
      "Deleted C:/Users/x4287225/Desktop/confounder-free-cnn/OCTDL/OCTDL images/ERM\\erm_8851485_5.jpg\n",
      "Deleted C:/Users/x4287225/Desktop/confounder-free-cnn/OCTDL/OCTDL images/ERM\\erm_9092947_1.jpg\n",
      "Deleted C:/Users/x4287225/Desktop/confounder-free-cnn/OCTDL/OCTDL images/ERM\\erm_9137933_1.jpg\n",
      "Deleted C:/Users/x4287225/Desktop/confounder-free-cnn/OCTDL/OCTDL images/ERM\\erm_9313328_1.jpg\n",
      "Deleted C:/Users/x4287225/Desktop/confounder-free-cnn/OCTDL/OCTDL images/ERM\\erm_9313328_2.jpg\n",
      "Deleted C:/Users/x4287225/Desktop/confounder-free-cnn/OCTDL/OCTDL images/ERM\\erm_9444865_1.jpg\n",
      "Deleted C:/Users/x4287225/Desktop/confounder-free-cnn/OCTDL/OCTDL images/ERM\\erm_9444865_2.jpg\n",
      "Deleted C:/Users/x4287225/Desktop/confounder-free-cnn/OCTDL/OCTDL images/ERM\\erm_9444865_3.jpg\n",
      "Deleted C:/Users/x4287225/Desktop/confounder-free-cnn/OCTDL/OCTDL images/ERM\\erm_9444865_4.jpg\n",
      "Deleted C:/Users/x4287225/Desktop/confounder-free-cnn/OCTDL/OCTDL images/ERM\\erm_9444865_5.jpg\n",
      "Deleted C:/Users/x4287225/Desktop/confounder-free-cnn/OCTDL/OCTDL images/ERM\\erm_9444865_6.jpg\n",
      "Deleted C:/Users/x4287225/Desktop/confounder-free-cnn/OCTDL/OCTDL images/ERM\\erm_9444865_7.jpg\n",
      "Deleted C:/Users/x4287225/Desktop/confounder-free-cnn/OCTDL/OCTDL images/ERM\\erm_9461085_1.jpg\n",
      "Deleted C:/Users/x4287225/Desktop/confounder-free-cnn/OCTDL/OCTDL images/ERM\\erm_9995512_1.jpg\n",
      "Deleted C:/Users/x4287225/Desktop/confounder-free-cnn/OCTDL/OCTDL images/ERM\\erm_9995512_2.jpg\n",
      "Deleted C:/Users/x4287225/Desktop/confounder-free-cnn/OCTDL/OCTDL images/ERM\\erm_9995512_3.jpg\n",
      "Deleted C:/Users/x4287225/Desktop/confounder-free-cnn/OCTDL/OCTDL images/NO\\no_1153297_1.jpg\n",
      "Deleted C:/Users/x4287225/Desktop/confounder-free-cnn/OCTDL/OCTDL images/NO\\no_1153297_2.jpg\n",
      "Deleted C:/Users/x4287225/Desktop/confounder-free-cnn/OCTDL/OCTDL images/NO\\no_1250592_1.jpg\n",
      "Deleted C:/Users/x4287225/Desktop/confounder-free-cnn/OCTDL/OCTDL images/NO\\no_1250592_2.jpg\n",
      "Deleted C:/Users/x4287225/Desktop/confounder-free-cnn/OCTDL/OCTDL images/NO\\no_1250592_3.jpg\n",
      "Deleted C:/Users/x4287225/Desktop/confounder-free-cnn/OCTDL/OCTDL images/NO\\no_1250592_4.jpg\n",
      "Deleted C:/Users/x4287225/Desktop/confounder-free-cnn/OCTDL/OCTDL images/NO\\no_1250592_5.jpg\n",
      "Deleted C:/Users/x4287225/Desktop/confounder-free-cnn/OCTDL/OCTDL images/NO\\no_1250592_6.jpg\n",
      "Deleted C:/Users/x4287225/Desktop/confounder-free-cnn/OCTDL/OCTDL images/NO\\no_1391081_1.jpg\n",
      "Deleted C:/Users/x4287225/Desktop/confounder-free-cnn/OCTDL/OCTDL images/NO\\no_1391081_2.jpg\n",
      "Deleted C:/Users/x4287225/Desktop/confounder-free-cnn/OCTDL/OCTDL images/NO\\no_1391081_3.jpg\n",
      "Deleted C:/Users/x4287225/Desktop/confounder-free-cnn/OCTDL/OCTDL images/NO\\no_1391081_4.jpg\n",
      "Deleted C:/Users/x4287225/Desktop/confounder-free-cnn/OCTDL/OCTDL images/NO\\no_1409061_1.jpg\n",
      "Deleted C:/Users/x4287225/Desktop/confounder-free-cnn/OCTDL/OCTDL images/NO\\no_1409061_2.jpg\n",
      "Deleted C:/Users/x4287225/Desktop/confounder-free-cnn/OCTDL/OCTDL images/NO\\no_1409061_3.jpg\n",
      "Deleted C:/Users/x4287225/Desktop/confounder-free-cnn/OCTDL/OCTDL images/NO\\no_1409061_4.jpg\n",
      "Deleted C:/Users/x4287225/Desktop/confounder-free-cnn/OCTDL/OCTDL images/NO\\no_1409061_5.jpg\n",
      "Deleted C:/Users/x4287225/Desktop/confounder-free-cnn/OCTDL/OCTDL images/NO\\no_1409061_6.jpg\n",
      "Deleted C:/Users/x4287225/Desktop/confounder-free-cnn/OCTDL/OCTDL images/NO\\no_1425855_1.jpg\n",
      "Deleted C:/Users/x4287225/Desktop/confounder-free-cnn/OCTDL/OCTDL images/NO\\no_1541453_1.jpg\n",
      "Deleted C:/Users/x4287225/Desktop/confounder-free-cnn/OCTDL/OCTDL images/NO\\no_1541453_2.jpg\n",
      "Deleted C:/Users/x4287225/Desktop/confounder-free-cnn/OCTDL/OCTDL images/NO\\no_1541453_3.jpg\n",
      "Deleted C:/Users/x4287225/Desktop/confounder-free-cnn/OCTDL/OCTDL images/NO\\no_1544727_1.jpg\n",
      "Deleted C:/Users/x4287225/Desktop/confounder-free-cnn/OCTDL/OCTDL images/NO\\no_1544727_2.jpg\n",
      "Deleted C:/Users/x4287225/Desktop/confounder-free-cnn/OCTDL/OCTDL images/NO\\no_1573735_1.jpg\n",
      "Deleted C:/Users/x4287225/Desktop/confounder-free-cnn/OCTDL/OCTDL images/NO\\no_1722482_1.jpg\n",
      "Deleted C:/Users/x4287225/Desktop/confounder-free-cnn/OCTDL/OCTDL images/NO\\no_1722482_2.jpg\n",
      "Deleted C:/Users/x4287225/Desktop/confounder-free-cnn/OCTDL/OCTDL images/NO\\no_1722482_3.jpg\n",
      "Deleted C:/Users/x4287225/Desktop/confounder-free-cnn/OCTDL/OCTDL images/NO\\no_1722482_4.jpg\n",
      "Deleted C:/Users/x4287225/Desktop/confounder-free-cnn/OCTDL/OCTDL images/NO\\no_1722482_5.jpg\n",
      "Deleted C:/Users/x4287225/Desktop/confounder-free-cnn/OCTDL/OCTDL images/NO\\no_1722482_6.jpg\n",
      "Deleted C:/Users/x4287225/Desktop/confounder-free-cnn/OCTDL/OCTDL images/NO\\no_1722482_7.jpg\n",
      "Deleted C:/Users/x4287225/Desktop/confounder-free-cnn/OCTDL/OCTDL images/NO\\no_1722482_8.jpg\n",
      "Deleted C:/Users/x4287225/Desktop/confounder-free-cnn/OCTDL/OCTDL images/NO\\no_1900103_1.jpg\n",
      "Deleted C:/Users/x4287225/Desktop/confounder-free-cnn/OCTDL/OCTDL images/NO\\no_1900103_2.jpg\n",
      "Deleted C:/Users/x4287225/Desktop/confounder-free-cnn/OCTDL/OCTDL images/NO\\no_1900103_3.jpg\n",
      "Deleted C:/Users/x4287225/Desktop/confounder-free-cnn/OCTDL/OCTDL images/NO\\no_1900103_4.jpg\n",
      "Deleted C:/Users/x4287225/Desktop/confounder-free-cnn/OCTDL/OCTDL images/NO\\no_2215432_1.jpg\n",
      "Deleted C:/Users/x4287225/Desktop/confounder-free-cnn/OCTDL/OCTDL images/NO\\no_2215432_2.jpg\n",
      "Deleted C:/Users/x4287225/Desktop/confounder-free-cnn/OCTDL/OCTDL images/NO\\no_2316477_1.jpg\n",
      "Deleted C:/Users/x4287225/Desktop/confounder-free-cnn/OCTDL/OCTDL images/NO\\no_2316477_2.jpg\n",
      "Deleted C:/Users/x4287225/Desktop/confounder-free-cnn/OCTDL/OCTDL images/NO\\no_2316477_3.jpg\n",
      "Deleted C:/Users/x4287225/Desktop/confounder-free-cnn/OCTDL/OCTDL images/NO\\no_2316477_4.jpg\n",
      "Deleted C:/Users/x4287225/Desktop/confounder-free-cnn/OCTDL/OCTDL images/NO\\no_2316477_5.jpg\n",
      "Deleted C:/Users/x4287225/Desktop/confounder-free-cnn/OCTDL/OCTDL images/NO\\no_2435735_1.jpg\n",
      "Deleted C:/Users/x4287225/Desktop/confounder-free-cnn/OCTDL/OCTDL images/NO\\no_2435735_2.jpg\n",
      "Deleted C:/Users/x4287225/Desktop/confounder-free-cnn/OCTDL/OCTDL images/NO\\no_2435735_3.jpg\n",
      "Deleted C:/Users/x4287225/Desktop/confounder-free-cnn/OCTDL/OCTDL images/NO\\no_2435735_4.jpg\n",
      "Deleted C:/Users/x4287225/Desktop/confounder-free-cnn/OCTDL/OCTDL images/NO\\no_2435735_5.jpg\n",
      "Deleted C:/Users/x4287225/Desktop/confounder-free-cnn/OCTDL/OCTDL images/NO\\no_2497093_1.jpg\n",
      "Deleted C:/Users/x4287225/Desktop/confounder-free-cnn/OCTDL/OCTDL images/NO\\no_2497093_2.jpg\n",
      "Deleted C:/Users/x4287225/Desktop/confounder-free-cnn/OCTDL/OCTDL images/NO\\no_2497093_3.jpg\n",
      "Deleted C:/Users/x4287225/Desktop/confounder-free-cnn/OCTDL/OCTDL images/NO\\no_2497093_4.jpg\n",
      "Deleted C:/Users/x4287225/Desktop/confounder-free-cnn/OCTDL/OCTDL images/NO\\no_2497093_5.jpg\n",
      "Deleted C:/Users/x4287225/Desktop/confounder-free-cnn/OCTDL/OCTDL images/NO\\no_2497093_6.jpg\n",
      "Deleted C:/Users/x4287225/Desktop/confounder-free-cnn/OCTDL/OCTDL images/NO\\no_2559301_1.jpg\n",
      "Deleted C:/Users/x4287225/Desktop/confounder-free-cnn/OCTDL/OCTDL images/NO\\no_2559301_2.jpg\n",
      "Deleted C:/Users/x4287225/Desktop/confounder-free-cnn/OCTDL/OCTDL images/NO\\no_2630526_1.jpg\n",
      "Deleted C:/Users/x4287225/Desktop/confounder-free-cnn/OCTDL/OCTDL images/NO\\no_2647444_1.jpg\n",
      "Deleted C:/Users/x4287225/Desktop/confounder-free-cnn/OCTDL/OCTDL images/NO\\no_2647444_2.jpg\n",
      "Deleted C:/Users/x4287225/Desktop/confounder-free-cnn/OCTDL/OCTDL images/NO\\no_2743200_1.jpg\n",
      "Deleted C:/Users/x4287225/Desktop/confounder-free-cnn/OCTDL/OCTDL images/NO\\no_2743200_2.jpg\n",
      "Deleted C:/Users/x4287225/Desktop/confounder-free-cnn/OCTDL/OCTDL images/NO\\no_2827755_1.jpg\n",
      "Deleted C:/Users/x4287225/Desktop/confounder-free-cnn/OCTDL/OCTDL images/NO\\no_2827755_2.jpg\n",
      "Deleted C:/Users/x4287225/Desktop/confounder-free-cnn/OCTDL/OCTDL images/NO\\no_2827755_3.jpg\n",
      "Deleted C:/Users/x4287225/Desktop/confounder-free-cnn/OCTDL/OCTDL images/NO\\no_2954836_1.jpg\n",
      "Deleted C:/Users/x4287225/Desktop/confounder-free-cnn/OCTDL/OCTDL images/NO\\no_2954836_2.jpg\n",
      "Deleted C:/Users/x4287225/Desktop/confounder-free-cnn/OCTDL/OCTDL images/NO\\no_2954836_3.jpg\n",
      "Deleted C:/Users/x4287225/Desktop/confounder-free-cnn/OCTDL/OCTDL images/NO\\no_2954836_4.jpg\n",
      "Deleted C:/Users/x4287225/Desktop/confounder-free-cnn/OCTDL/OCTDL images/NO\\no_2963516_1.jpg\n",
      "Deleted C:/Users/x4287225/Desktop/confounder-free-cnn/OCTDL/OCTDL images/NO\\no_2963516_2.jpg\n",
      "Deleted C:/Users/x4287225/Desktop/confounder-free-cnn/OCTDL/OCTDL images/NO\\no_2963516_3.jpg\n",
      "Deleted C:/Users/x4287225/Desktop/confounder-free-cnn/OCTDL/OCTDL images/NO\\no_2998550_1.jpg\n",
      "Deleted C:/Users/x4287225/Desktop/confounder-free-cnn/OCTDL/OCTDL images/NO\\no_2998550_2.jpg\n",
      "Deleted C:/Users/x4287225/Desktop/confounder-free-cnn/OCTDL/OCTDL images/NO\\no_2998550_3.jpg\n",
      "Deleted C:/Users/x4287225/Desktop/confounder-free-cnn/OCTDL/OCTDL images/NO\\no_2998550_4.jpg\n",
      "Deleted C:/Users/x4287225/Desktop/confounder-free-cnn/OCTDL/OCTDL images/NO\\no_2998550_5.jpg\n",
      "Deleted C:/Users/x4287225/Desktop/confounder-free-cnn/OCTDL/OCTDL images/NO\\no_3211291_1.jpg\n",
      "Deleted C:/Users/x4287225/Desktop/confounder-free-cnn/OCTDL/OCTDL images/NO\\no_3217068_1.jpg\n",
      "Deleted C:/Users/x4287225/Desktop/confounder-free-cnn/OCTDL/OCTDL images/NO\\no_3217068_2.jpg\n",
      "Deleted C:/Users/x4287225/Desktop/confounder-free-cnn/OCTDL/OCTDL images/NO\\no_3217068_3.jpg\n",
      "Deleted C:/Users/x4287225/Desktop/confounder-free-cnn/OCTDL/OCTDL images/NO\\no_3238025_1.jpg\n",
      "Deleted C:/Users/x4287225/Desktop/confounder-free-cnn/OCTDL/OCTDL images/NO\\no_3238025_2.jpg\n",
      "Deleted C:/Users/x4287225/Desktop/confounder-free-cnn/OCTDL/OCTDL images/NO\\no_3238025_3.jpg\n",
      "Deleted C:/Users/x4287225/Desktop/confounder-free-cnn/OCTDL/OCTDL images/NO\\no_3274030_1.jpg\n",
      "Deleted C:/Users/x4287225/Desktop/confounder-free-cnn/OCTDL/OCTDL images/NO\\no_3274030_2.jpg\n",
      "Deleted C:/Users/x4287225/Desktop/confounder-free-cnn/OCTDL/OCTDL images/NO\\no_3274030_3.jpg\n",
      "Deleted C:/Users/x4287225/Desktop/confounder-free-cnn/OCTDL/OCTDL images/NO\\no_3274030_4.jpg\n",
      "Deleted C:/Users/x4287225/Desktop/confounder-free-cnn/OCTDL/OCTDL images/NO\\no_3274030_5.jpg\n",
      "Deleted C:/Users/x4287225/Desktop/confounder-free-cnn/OCTDL/OCTDL images/NO\\no_3274030_6.jpg\n",
      "Deleted C:/Users/x4287225/Desktop/confounder-free-cnn/OCTDL/OCTDL images/NO\\no_3274030_7.jpg\n",
      "Deleted C:/Users/x4287225/Desktop/confounder-free-cnn/OCTDL/OCTDL images/NO\\no_3473619_1.jpg\n",
      "Deleted C:/Users/x4287225/Desktop/confounder-free-cnn/OCTDL/OCTDL images/NO\\no_3503302_1.jpg\n",
      "Deleted C:/Users/x4287225/Desktop/confounder-free-cnn/OCTDL/OCTDL images/NO\\no_3503302_2.jpg\n",
      "Deleted C:/Users/x4287225/Desktop/confounder-free-cnn/OCTDL/OCTDL images/NO\\no_3593297_1.jpg\n",
      "Deleted C:/Users/x4287225/Desktop/confounder-free-cnn/OCTDL/OCTDL images/NO\\no_3599990_1.jpg\n",
      "Deleted C:/Users/x4287225/Desktop/confounder-free-cnn/OCTDL/OCTDL images/NO\\no_3599990_2.jpg\n",
      "Deleted C:/Users/x4287225/Desktop/confounder-free-cnn/OCTDL/OCTDL images/NO\\no_3599990_3.jpg\n",
      "Deleted C:/Users/x4287225/Desktop/confounder-free-cnn/OCTDL/OCTDL images/NO\\no_3599990_4.jpg\n",
      "Deleted C:/Users/x4287225/Desktop/confounder-free-cnn/OCTDL/OCTDL images/NO\\no_3884649_1.jpg\n",
      "Deleted C:/Users/x4287225/Desktop/confounder-free-cnn/OCTDL/OCTDL images/NO\\no_3884649_2.jpg\n",
      "Deleted C:/Users/x4287225/Desktop/confounder-free-cnn/OCTDL/OCTDL images/NO\\no_3932840_1.jpg\n",
      "Deleted C:/Users/x4287225/Desktop/confounder-free-cnn/OCTDL/OCTDL images/NO\\no_3932840_2.jpg\n",
      "Deleted C:/Users/x4287225/Desktop/confounder-free-cnn/OCTDL/OCTDL images/NO\\no_3932840_3.jpg\n",
      "Deleted C:/Users/x4287225/Desktop/confounder-free-cnn/OCTDL/OCTDL images/NO\\no_4013465_1.jpg\n",
      "Deleted C:/Users/x4287225/Desktop/confounder-free-cnn/OCTDL/OCTDL images/NO\\no_4013465_2.jpg\n",
      "Deleted C:/Users/x4287225/Desktop/confounder-free-cnn/OCTDL/OCTDL images/NO\\no_4035394_1.jpg\n",
      "Deleted C:/Users/x4287225/Desktop/confounder-free-cnn/OCTDL/OCTDL images/NO\\no_4035394_2.jpg\n",
      "Deleted C:/Users/x4287225/Desktop/confounder-free-cnn/OCTDL/OCTDL images/NO\\no_4035394_3.jpg\n",
      "Deleted C:/Users/x4287225/Desktop/confounder-free-cnn/OCTDL/OCTDL images/NO\\no_4035394_4.jpg\n",
      "Deleted C:/Users/x4287225/Desktop/confounder-free-cnn/OCTDL/OCTDL images/NO\\no_4115243_1.jpg\n",
      "Deleted C:/Users/x4287225/Desktop/confounder-free-cnn/OCTDL/OCTDL images/NO\\no_4115243_2.jpg\n",
      "Deleted C:/Users/x4287225/Desktop/confounder-free-cnn/OCTDL/OCTDL images/NO\\no_4115243_3.jpg\n",
      "Deleted C:/Users/x4287225/Desktop/confounder-free-cnn/OCTDL/OCTDL images/NO\\no_4115243_4.jpg\n",
      "Deleted C:/Users/x4287225/Desktop/confounder-free-cnn/OCTDL/OCTDL images/NO\\no_4115243_5.jpg\n",
      "Deleted C:/Users/x4287225/Desktop/confounder-free-cnn/OCTDL/OCTDL images/NO\\no_4115243_6.jpg\n",
      "Deleted C:/Users/x4287225/Desktop/confounder-free-cnn/OCTDL/OCTDL images/NO\\no_4371398_1.jpg\n",
      "Deleted C:/Users/x4287225/Desktop/confounder-free-cnn/OCTDL/OCTDL images/NO\\no_4371398_2.jpg\n",
      "Deleted C:/Users/x4287225/Desktop/confounder-free-cnn/OCTDL/OCTDL images/NO\\no_4424497_1.jpg\n",
      "Deleted C:/Users/x4287225/Desktop/confounder-free-cnn/OCTDL/OCTDL images/NO\\no_4552006_1.jpg\n",
      "Deleted C:/Users/x4287225/Desktop/confounder-free-cnn/OCTDL/OCTDL images/NO\\no_4552006_2.jpg\n",
      "Deleted C:/Users/x4287225/Desktop/confounder-free-cnn/OCTDL/OCTDL images/NO\\no_4641074_1.jpg\n",
      "Deleted C:/Users/x4287225/Desktop/confounder-free-cnn/OCTDL/OCTDL images/NO\\no_4641074_2.jpg\n",
      "Deleted C:/Users/x4287225/Desktop/confounder-free-cnn/OCTDL/OCTDL images/NO\\no_4641074_3.jpg\n",
      "Deleted C:/Users/x4287225/Desktop/confounder-free-cnn/OCTDL/OCTDL images/NO\\no_4770681_1.jpg\n",
      "Deleted C:/Users/x4287225/Desktop/confounder-free-cnn/OCTDL/OCTDL images/NO\\no_4770681_2.jpg\n",
      "Deleted C:/Users/x4287225/Desktop/confounder-free-cnn/OCTDL/OCTDL images/NO\\no_4775536_1.jpg\n",
      "Deleted C:/Users/x4287225/Desktop/confounder-free-cnn/OCTDL/OCTDL images/NO\\no_4775536_2.jpg\n",
      "Deleted C:/Users/x4287225/Desktop/confounder-free-cnn/OCTDL/OCTDL images/NO\\no_4893358_1.jpg\n",
      "Deleted C:/Users/x4287225/Desktop/confounder-free-cnn/OCTDL/OCTDL images/NO\\no_4893358_2.jpg\n",
      "Deleted C:/Users/x4287225/Desktop/confounder-free-cnn/OCTDL/OCTDL images/NO\\no_4893358_3.jpg\n",
      "Deleted C:/Users/x4287225/Desktop/confounder-free-cnn/OCTDL/OCTDL images/NO\\no_4910748_1.jpg\n",
      "Deleted C:/Users/x4287225/Desktop/confounder-free-cnn/OCTDL/OCTDL images/NO\\no_4989962_1.jpg\n",
      "Deleted C:/Users/x4287225/Desktop/confounder-free-cnn/OCTDL/OCTDL images/NO\\no_5128512_1.jpg\n",
      "Deleted C:/Users/x4287225/Desktop/confounder-free-cnn/OCTDL/OCTDL images/NO\\no_5232582_1.jpg\n",
      "Deleted C:/Users/x4287225/Desktop/confounder-free-cnn/OCTDL/OCTDL images/NO\\no_5232582_2.jpg\n",
      "Deleted C:/Users/x4287225/Desktop/confounder-free-cnn/OCTDL/OCTDL images/NO\\no_5232582_3.jpg\n",
      "Deleted C:/Users/x4287225/Desktop/confounder-free-cnn/OCTDL/OCTDL images/NO\\no_5232582_4.jpg\n",
      "Deleted C:/Users/x4287225/Desktop/confounder-free-cnn/OCTDL/OCTDL images/NO\\no_5404372_1.jpg\n",
      "Deleted C:/Users/x4287225/Desktop/confounder-free-cnn/OCTDL/OCTDL images/NO\\no_5404372_2.jpg\n",
      "Deleted C:/Users/x4287225/Desktop/confounder-free-cnn/OCTDL/OCTDL images/NO\\no_5404372_3.jpg\n",
      "Deleted C:/Users/x4287225/Desktop/confounder-free-cnn/OCTDL/OCTDL images/NO\\no_5504078_1.jpg\n",
      "Deleted C:/Users/x4287225/Desktop/confounder-free-cnn/OCTDL/OCTDL images/NO\\no_5504078_2.jpg\n",
      "Deleted C:/Users/x4287225/Desktop/confounder-free-cnn/OCTDL/OCTDL images/NO\\no_5568303_1.jpg\n",
      "Deleted C:/Users/x4287225/Desktop/confounder-free-cnn/OCTDL/OCTDL images/NO\\no_5568303_2.jpg\n",
      "Deleted C:/Users/x4287225/Desktop/confounder-free-cnn/OCTDL/OCTDL images/NO\\no_5568303_3.jpg\n",
      "Deleted C:/Users/x4287225/Desktop/confounder-free-cnn/OCTDL/OCTDL images/NO\\no_5568862_1.jpg\n",
      "Deleted C:/Users/x4287225/Desktop/confounder-free-cnn/OCTDL/OCTDL images/NO\\no_5579663_1.jpg\n",
      "Deleted C:/Users/x4287225/Desktop/confounder-free-cnn/OCTDL/OCTDL images/NO\\no_5615007_1.jpg\n",
      "Deleted C:/Users/x4287225/Desktop/confounder-free-cnn/OCTDL/OCTDL images/NO\\no_5615007_2.jpg\n",
      "Deleted C:/Users/x4287225/Desktop/confounder-free-cnn/OCTDL/OCTDL images/NO\\no_5770081_1.jpg\n",
      "Deleted C:/Users/x4287225/Desktop/confounder-free-cnn/OCTDL/OCTDL images/NO\\no_5770081_2.jpg\n",
      "Deleted C:/Users/x4287225/Desktop/confounder-free-cnn/OCTDL/OCTDL images/NO\\no_6050468_1.jpg\n",
      "Deleted C:/Users/x4287225/Desktop/confounder-free-cnn/OCTDL/OCTDL images/NO\\no_6050468_2.jpg\n",
      "Deleted C:/Users/x4287225/Desktop/confounder-free-cnn/OCTDL/OCTDL images/NO\\no_6052119_1.jpg\n",
      "Deleted C:/Users/x4287225/Desktop/confounder-free-cnn/OCTDL/OCTDL images/NO\\no_6052119_2.jpg\n",
      "Deleted C:/Users/x4287225/Desktop/confounder-free-cnn/OCTDL/OCTDL images/NO\\no_6053204_1.jpg\n",
      "Deleted C:/Users/x4287225/Desktop/confounder-free-cnn/OCTDL/OCTDL images/NO\\no_6053204_2.jpg\n",
      "Deleted C:/Users/x4287225/Desktop/confounder-free-cnn/OCTDL/OCTDL images/NO\\no_6053204_3.jpg\n",
      "Deleted C:/Users/x4287225/Desktop/confounder-free-cnn/OCTDL/OCTDL images/NO\\no_6053204_4.jpg\n",
      "Deleted C:/Users/x4287225/Desktop/confounder-free-cnn/OCTDL/OCTDL images/NO\\no_6053204_5.jpg\n",
      "Deleted C:/Users/x4287225/Desktop/confounder-free-cnn/OCTDL/OCTDL images/NO\\no_6053204_6.jpg\n",
      "Deleted C:/Users/x4287225/Desktop/confounder-free-cnn/OCTDL/OCTDL images/NO\\no_6053204_7.jpg\n",
      "Deleted C:/Users/x4287225/Desktop/confounder-free-cnn/OCTDL/OCTDL images/NO\\no_6053204_8.jpg\n",
      "Deleted C:/Users/x4287225/Desktop/confounder-free-cnn/OCTDL/OCTDL images/NO\\no_6053204_9.jpg\n",
      "Deleted C:/Users/x4287225/Desktop/confounder-free-cnn/OCTDL/OCTDL images/NO\\no_6275676_1.jpg\n",
      "Deleted C:/Users/x4287225/Desktop/confounder-free-cnn/OCTDL/OCTDL images/NO\\no_6275676_2.jpg\n",
      "Deleted C:/Users/x4287225/Desktop/confounder-free-cnn/OCTDL/OCTDL images/NO\\no_6275676_3.jpg\n",
      "Deleted C:/Users/x4287225/Desktop/confounder-free-cnn/OCTDL/OCTDL images/NO\\no_6275676_4.jpg\n",
      "Deleted C:/Users/x4287225/Desktop/confounder-free-cnn/OCTDL/OCTDL images/NO\\no_6275676_5.jpg\n",
      "Deleted C:/Users/x4287225/Desktop/confounder-free-cnn/OCTDL/OCTDL images/NO\\no_6275676_6.jpg\n",
      "Deleted C:/Users/x4287225/Desktop/confounder-free-cnn/OCTDL/OCTDL images/NO\\no_6321529_1.jpg\n",
      "Deleted C:/Users/x4287225/Desktop/confounder-free-cnn/OCTDL/OCTDL images/NO\\no_6321529_2.jpg\n",
      "Deleted C:/Users/x4287225/Desktop/confounder-free-cnn/OCTDL/OCTDL images/NO\\no_6566453_1.jpg\n",
      "Deleted C:/Users/x4287225/Desktop/confounder-free-cnn/OCTDL/OCTDL images/NO\\no_6566453_2.jpg\n",
      "Deleted C:/Users/x4287225/Desktop/confounder-free-cnn/OCTDL/OCTDL images/NO\\no_6566453_3.jpg\n",
      "Deleted C:/Users/x4287225/Desktop/confounder-free-cnn/OCTDL/OCTDL images/NO\\no_6566453_4.jpg\n",
      "Deleted C:/Users/x4287225/Desktop/confounder-free-cnn/OCTDL/OCTDL images/NO\\no_6566453_5.jpg\n",
      "Deleted C:/Users/x4287225/Desktop/confounder-free-cnn/OCTDL/OCTDL images/NO\\no_6731956_1.jpg\n",
      "Deleted C:/Users/x4287225/Desktop/confounder-free-cnn/OCTDL/OCTDL images/NO\\no_6731956_2.jpg\n",
      "Deleted C:/Users/x4287225/Desktop/confounder-free-cnn/OCTDL/OCTDL images/NO\\no_6731956_3.jpg\n",
      "Deleted C:/Users/x4287225/Desktop/confounder-free-cnn/OCTDL/OCTDL images/NO\\no_6731956_4.jpg\n",
      "Deleted C:/Users/x4287225/Desktop/confounder-free-cnn/OCTDL/OCTDL images/NO\\no_6731956_5.jpg\n",
      "Deleted C:/Users/x4287225/Desktop/confounder-free-cnn/OCTDL/OCTDL images/NO\\no_6731956_6.jpg\n",
      "Deleted C:/Users/x4287225/Desktop/confounder-free-cnn/OCTDL/OCTDL images/NO\\no_6757381_1.jpg\n",
      "Deleted C:/Users/x4287225/Desktop/confounder-free-cnn/OCTDL/OCTDL images/NO\\no_6757381_2.jpg\n",
      "Deleted C:/Users/x4287225/Desktop/confounder-free-cnn/OCTDL/OCTDL images/NO\\no_6757381_3.jpg\n",
      "Deleted C:/Users/x4287225/Desktop/confounder-free-cnn/OCTDL/OCTDL images/NO\\no_6757381_4.jpg\n",
      "Deleted C:/Users/x4287225/Desktop/confounder-free-cnn/OCTDL/OCTDL images/NO\\no_6797415_1.jpg\n",
      "Deleted C:/Users/x4287225/Desktop/confounder-free-cnn/OCTDL/OCTDL images/NO\\no_6797415_2.jpg\n",
      "Deleted C:/Users/x4287225/Desktop/confounder-free-cnn/OCTDL/OCTDL images/NO\\no_6797415_3.jpg\n",
      "Deleted C:/Users/x4287225/Desktop/confounder-free-cnn/OCTDL/OCTDL images/NO\\no_6886669_1.jpg\n",
      "Deleted C:/Users/x4287225/Desktop/confounder-free-cnn/OCTDL/OCTDL images/NO\\no_6886669_2.jpg\n",
      "Deleted C:/Users/x4287225/Desktop/confounder-free-cnn/OCTDL/OCTDL images/NO\\no_6886669_3.jpg\n",
      "Deleted C:/Users/x4287225/Desktop/confounder-free-cnn/OCTDL/OCTDL images/NO\\no_6946896_1.jpg\n",
      "Deleted C:/Users/x4287225/Desktop/confounder-free-cnn/OCTDL/OCTDL images/NO\\no_6987249_1.jpg\n",
      "Deleted C:/Users/x4287225/Desktop/confounder-free-cnn/OCTDL/OCTDL images/NO\\no_6987249_2.jpg\n",
      "Deleted C:/Users/x4287225/Desktop/confounder-free-cnn/OCTDL/OCTDL images/NO\\no_6987249_3.jpg\n",
      "Deleted C:/Users/x4287225/Desktop/confounder-free-cnn/OCTDL/OCTDL images/NO\\no_6987249_4.jpg\n",
      "Deleted C:/Users/x4287225/Desktop/confounder-free-cnn/OCTDL/OCTDL images/NO\\no_6987249_5.jpg\n",
      "Deleted C:/Users/x4287225/Desktop/confounder-free-cnn/OCTDL/OCTDL images/NO\\no_6987249_6.jpg\n",
      "Deleted C:/Users/x4287225/Desktop/confounder-free-cnn/OCTDL/OCTDL images/NO\\no_7035263_1.jpg\n",
      "Deleted C:/Users/x4287225/Desktop/confounder-free-cnn/OCTDL/OCTDL images/NO\\no_7052103_1.jpg\n",
      "Deleted C:/Users/x4287225/Desktop/confounder-free-cnn/OCTDL/OCTDL images/NO\\no_7052103_2.jpg\n",
      "Deleted C:/Users/x4287225/Desktop/confounder-free-cnn/OCTDL/OCTDL images/NO\\no_7052103_3.jpg\n",
      "Deleted C:/Users/x4287225/Desktop/confounder-free-cnn/OCTDL/OCTDL images/NO\\no_7052103_4.jpg\n",
      "Deleted C:/Users/x4287225/Desktop/confounder-free-cnn/OCTDL/OCTDL images/NO\\no_7052103_5.jpg\n",
      "Deleted C:/Users/x4287225/Desktop/confounder-free-cnn/OCTDL/OCTDL images/NO\\no_7052103_6.jpg\n",
      "Deleted C:/Users/x4287225/Desktop/confounder-free-cnn/OCTDL/OCTDL images/NO\\no_7052103_7.jpg\n",
      "Deleted C:/Users/x4287225/Desktop/confounder-free-cnn/OCTDL/OCTDL images/NO\\no_7052103_8.jpg\n",
      "Deleted C:/Users/x4287225/Desktop/confounder-free-cnn/OCTDL/OCTDL images/NO\\no_7224912_1.jpg\n",
      "Deleted C:/Users/x4287225/Desktop/confounder-free-cnn/OCTDL/OCTDL images/NO\\no_7224912_2.jpg\n",
      "Deleted C:/Users/x4287225/Desktop/confounder-free-cnn/OCTDL/OCTDL images/NO\\no_7224912_3.jpg\n",
      "Deleted C:/Users/x4287225/Desktop/confounder-free-cnn/OCTDL/OCTDL images/NO\\no_7224912_4.jpg\n",
      "Deleted C:/Users/x4287225/Desktop/confounder-free-cnn/OCTDL/OCTDL images/NO\\no_7224912_5.jpg\n",
      "Deleted C:/Users/x4287225/Desktop/confounder-free-cnn/OCTDL/OCTDL images/NO\\no_7232197_1.jpg\n",
      "Deleted C:/Users/x4287225/Desktop/confounder-free-cnn/OCTDL/OCTDL images/NO\\no_7232197_2.jpg\n",
      "Deleted C:/Users/x4287225/Desktop/confounder-free-cnn/OCTDL/OCTDL images/NO\\no_7232197_3.jpg\n",
      "Deleted C:/Users/x4287225/Desktop/confounder-free-cnn/OCTDL/OCTDL images/NO\\no_7468093_1.jpg\n",
      "Deleted C:/Users/x4287225/Desktop/confounder-free-cnn/OCTDL/OCTDL images/NO\\no_7468093_2.jpg\n",
      "Deleted C:/Users/x4287225/Desktop/confounder-free-cnn/OCTDL/OCTDL images/NO\\no_7468093_3.jpg\n",
      "Deleted C:/Users/x4287225/Desktop/confounder-free-cnn/OCTDL/OCTDL images/NO\\no_7544273_1.jpg\n",
      "Deleted C:/Users/x4287225/Desktop/confounder-free-cnn/OCTDL/OCTDL images/NO\\no_7544273_2.jpg\n",
      "Deleted C:/Users/x4287225/Desktop/confounder-free-cnn/OCTDL/OCTDL images/NO\\no_7647664_1.jpg\n",
      "Deleted C:/Users/x4287225/Desktop/confounder-free-cnn/OCTDL/OCTDL images/NO\\no_7647664_2.jpg\n",
      "Deleted C:/Users/x4287225/Desktop/confounder-free-cnn/OCTDL/OCTDL images/NO\\no_7856551_1.jpg\n",
      "Deleted C:/Users/x4287225/Desktop/confounder-free-cnn/OCTDL/OCTDL images/NO\\no_7856551_2.jpg\n",
      "Deleted C:/Users/x4287225/Desktop/confounder-free-cnn/OCTDL/OCTDL images/NO\\no_7856551_3.jpg\n",
      "Deleted C:/Users/x4287225/Desktop/confounder-free-cnn/OCTDL/OCTDL images/NO\\no_7860459_1.jpg\n",
      "Deleted C:/Users/x4287225/Desktop/confounder-free-cnn/OCTDL/OCTDL images/NO\\no_7860459_2.jpg\n",
      "Deleted C:/Users/x4287225/Desktop/confounder-free-cnn/OCTDL/OCTDL images/NO\\no_7860459_3.jpg\n",
      "Deleted C:/Users/x4287225/Desktop/confounder-free-cnn/OCTDL/OCTDL images/NO\\no_7860459_4.jpg\n",
      "Deleted C:/Users/x4287225/Desktop/confounder-free-cnn/OCTDL/OCTDL images/NO\\no_7860459_5.jpg\n",
      "Deleted C:/Users/x4287225/Desktop/confounder-free-cnn/OCTDL/OCTDL images/NO\\no_7860459_6.jpg\n",
      "Deleted C:/Users/x4287225/Desktop/confounder-free-cnn/OCTDL/OCTDL images/NO\\no_7955135_1.jpg\n",
      "Deleted C:/Users/x4287225/Desktop/confounder-free-cnn/OCTDL/OCTDL images/NO\\no_7955135_2.jpg\n",
      "Deleted C:/Users/x4287225/Desktop/confounder-free-cnn/OCTDL/OCTDL images/NO\\no_8067424_1.jpg\n",
      "Deleted C:/Users/x4287225/Desktop/confounder-free-cnn/OCTDL/OCTDL images/NO\\no_8067424_2.jpg\n",
      "Deleted C:/Users/x4287225/Desktop/confounder-free-cnn/OCTDL/OCTDL images/NO\\no_8067424_3.jpg\n",
      "Deleted C:/Users/x4287225/Desktop/confounder-free-cnn/OCTDL/OCTDL images/NO\\no_8067424_4.jpg\n",
      "Deleted C:/Users/x4287225/Desktop/confounder-free-cnn/OCTDL/OCTDL images/NO\\no_8130100_1.jpg\n",
      "Deleted C:/Users/x4287225/Desktop/confounder-free-cnn/OCTDL/OCTDL images/NO\\no_8382920_1.jpg\n",
      "Deleted C:/Users/x4287225/Desktop/confounder-free-cnn/OCTDL/OCTDL images/NO\\no_8382920_2.jpg\n",
      "Deleted C:/Users/x4287225/Desktop/confounder-free-cnn/OCTDL/OCTDL images/NO\\no_8474091_1.jpg\n",
      "Deleted C:/Users/x4287225/Desktop/confounder-free-cnn/OCTDL/OCTDL images/NO\\no_8474091_2.jpg\n",
      "Deleted C:/Users/x4287225/Desktop/confounder-free-cnn/OCTDL/OCTDL images/NO\\no_8506116_1.jpg\n",
      "Deleted C:/Users/x4287225/Desktop/confounder-free-cnn/OCTDL/OCTDL images/NO\\no_8506116_2.jpg\n",
      "Deleted C:/Users/x4287225/Desktop/confounder-free-cnn/OCTDL/OCTDL images/NO\\no_8506973_1.jpg\n",
      "Deleted C:/Users/x4287225/Desktop/confounder-free-cnn/OCTDL/OCTDL images/NO\\no_8506973_2.jpg\n",
      "Deleted C:/Users/x4287225/Desktop/confounder-free-cnn/OCTDL/OCTDL images/NO\\no_8506973_3.jpg\n",
      "Deleted C:/Users/x4287225/Desktop/confounder-free-cnn/OCTDL/OCTDL images/NO\\no_8506973_4.jpg\n",
      "Deleted C:/Users/x4287225/Desktop/confounder-free-cnn/OCTDL/OCTDL images/NO\\no_8506973_5.jpg\n",
      "Deleted C:/Users/x4287225/Desktop/confounder-free-cnn/OCTDL/OCTDL images/NO\\no_8544230_1.jpg\n",
      "Deleted C:/Users/x4287225/Desktop/confounder-free-cnn/OCTDL/OCTDL images/NO\\no_8544230_2.jpg\n",
      "Deleted C:/Users/x4287225/Desktop/confounder-free-cnn/OCTDL/OCTDL images/NO\\no_8544230_3.jpg\n",
      "Deleted C:/Users/x4287225/Desktop/confounder-free-cnn/OCTDL/OCTDL images/NO\\no_8544230_4.jpg\n",
      "Deleted C:/Users/x4287225/Desktop/confounder-free-cnn/OCTDL/OCTDL images/NO\\no_8544230_5.jpg\n",
      "Deleted C:/Users/x4287225/Desktop/confounder-free-cnn/OCTDL/OCTDL images/NO\\no_8617991_1.jpg\n",
      "Deleted C:/Users/x4287225/Desktop/confounder-free-cnn/OCTDL/OCTDL images/NO\\no_8617991_2.jpg\n",
      "Deleted C:/Users/x4287225/Desktop/confounder-free-cnn/OCTDL/OCTDL images/NO\\no_8617991_3.jpg\n",
      "Deleted C:/Users/x4287225/Desktop/confounder-free-cnn/OCTDL/OCTDL images/NO\\no_8617991_4.jpg\n",
      "Deleted C:/Users/x4287225/Desktop/confounder-free-cnn/OCTDL/OCTDL images/NO\\no_8617991_5.jpg\n",
      "Deleted C:/Users/x4287225/Desktop/confounder-free-cnn/OCTDL/OCTDL images/NO\\no_8689539_1.jpg\n",
      "Deleted C:/Users/x4287225/Desktop/confounder-free-cnn/OCTDL/OCTDL images/NO\\no_8720079_1.jpg\n",
      "Deleted C:/Users/x4287225/Desktop/confounder-free-cnn/OCTDL/OCTDL images/NO\\no_8720079_2.jpg\n",
      "Deleted C:/Users/x4287225/Desktop/confounder-free-cnn/OCTDL/OCTDL images/NO\\no_9150597_1.jpg\n",
      "Deleted C:/Users/x4287225/Desktop/confounder-free-cnn/OCTDL/OCTDL images/NO\\no_9150597_2.jpg\n",
      "Deleted C:/Users/x4287225/Desktop/confounder-free-cnn/OCTDL/OCTDL images/NO\\no_9150597_3.jpg\n",
      "Deleted C:/Users/x4287225/Desktop/confounder-free-cnn/OCTDL/OCTDL images/NO\\no_9432434_1.jpg\n",
      "Deleted C:/Users/x4287225/Desktop/confounder-free-cnn/OCTDL/OCTDL images/NO\\no_9444960_1.jpg\n",
      "Deleted C:/Users/x4287225/Desktop/confounder-free-cnn/OCTDL/OCTDL images/NO\\no_9444960_2.jpg\n",
      "Deleted C:/Users/x4287225/Desktop/confounder-free-cnn/OCTDL/OCTDL images/NO\\no_9491695_1.jpg\n",
      "Deleted C:/Users/x4287225/Desktop/confounder-free-cnn/OCTDL/OCTDL images/NO\\no_9491695_2.jpg\n",
      "Deleted C:/Users/x4287225/Desktop/confounder-free-cnn/OCTDL/OCTDL images/NO\\no_9491695_3.jpg\n",
      "Deleted C:/Users/x4287225/Desktop/confounder-free-cnn/OCTDL/OCTDL images/NO\\no_9504302_1.jpg\n",
      "Deleted C:/Users/x4287225/Desktop/confounder-free-cnn/OCTDL/OCTDL images/NO\\no_9504302_2.jpg\n",
      "Deleted C:/Users/x4287225/Desktop/confounder-free-cnn/OCTDL/OCTDL images/NO\\no_9504302_3.jpg\n",
      "Deleted C:/Users/x4287225/Desktop/confounder-free-cnn/OCTDL/OCTDL images/NO\\no_9504302_4.jpg\n",
      "Deleted C:/Users/x4287225/Desktop/confounder-free-cnn/OCTDL/OCTDL images/NO\\no_9504302_5.jpg\n",
      "Deleted C:/Users/x4287225/Desktop/confounder-free-cnn/OCTDL/OCTDL images/NO\\no_9542487_1.jpg\n",
      "Deleted C:/Users/x4287225/Desktop/confounder-free-cnn/OCTDL/OCTDL images/NO\\no_9544708_1.jpg\n",
      "Deleted C:/Users/x4287225/Desktop/confounder-free-cnn/OCTDL/OCTDL images/NO\\no_9585367_1.jpg\n",
      "Deleted C:/Users/x4287225/Desktop/confounder-free-cnn/OCTDL/OCTDL images/NO\\no_9773651_1.jpg\n",
      "Deleted C:/Users/x4287225/Desktop/confounder-free-cnn/OCTDL/OCTDL images/NO\\no_9773651_2.jpg\n",
      "Deleted C:/Users/x4287225/Desktop/confounder-free-cnn/OCTDL/OCTDL images/RVO\\rvo_1613227_1.jpg\n",
      "Deleted C:/Users/x4287225/Desktop/confounder-free-cnn/OCTDL/OCTDL images/RVO\\rvo_1613227_2.jpg\n",
      "Deleted C:/Users/x4287225/Desktop/confounder-free-cnn/OCTDL/OCTDL images/RVO\\rvo_1770807_1.jpg\n",
      "Deleted C:/Users/x4287225/Desktop/confounder-free-cnn/OCTDL/OCTDL images/RVO\\rvo_1770807_2.jpg\n",
      "Deleted C:/Users/x4287225/Desktop/confounder-free-cnn/OCTDL/OCTDL images/RVO\\rvo_1770807_3.jpg\n",
      "Deleted C:/Users/x4287225/Desktop/confounder-free-cnn/OCTDL/OCTDL images/RVO\\rvo_1770807_4.jpg\n",
      "Deleted C:/Users/x4287225/Desktop/confounder-free-cnn/OCTDL/OCTDL images/RVO\\rvo_1927617_1.jpg\n",
      "Deleted C:/Users/x4287225/Desktop/confounder-free-cnn/OCTDL/OCTDL images/RVO\\rvo_1927617_2.jpg\n",
      "Deleted C:/Users/x4287225/Desktop/confounder-free-cnn/OCTDL/OCTDL images/RVO\\rvo_2355184_1.jpg\n",
      "Deleted C:/Users/x4287225/Desktop/confounder-free-cnn/OCTDL/OCTDL images/RVO\\rvo_2355184_2.jpg\n",
      "Deleted C:/Users/x4287225/Desktop/confounder-free-cnn/OCTDL/OCTDL images/RVO\\rvo_2355184_3.jpg\n",
      "Deleted C:/Users/x4287225/Desktop/confounder-free-cnn/OCTDL/OCTDL images/RVO\\rvo_2368898_1.jpg\n",
      "Deleted C:/Users/x4287225/Desktop/confounder-free-cnn/OCTDL/OCTDL images/RVO\\rvo_2368898_2.jpg\n",
      "Deleted C:/Users/x4287225/Desktop/confounder-free-cnn/OCTDL/OCTDL images/RVO\\rvo_2368898_3.jpg\n",
      "Deleted C:/Users/x4287225/Desktop/confounder-free-cnn/OCTDL/OCTDL images/RVO\\rvo_2368898_4.jpg\n",
      "Deleted C:/Users/x4287225/Desktop/confounder-free-cnn/OCTDL/OCTDL images/RVO\\rvo_2765950_1.jpg\n",
      "Deleted C:/Users/x4287225/Desktop/confounder-free-cnn/OCTDL/OCTDL images/RVO\\rvo_2765950_2.jpg\n",
      "Deleted C:/Users/x4287225/Desktop/confounder-free-cnn/OCTDL/OCTDL images/RVO\\rvo_2967635_1.jpg\n",
      "Deleted C:/Users/x4287225/Desktop/confounder-free-cnn/OCTDL/OCTDL images/RVO\\rvo_2967635_2.jpg\n",
      "Deleted C:/Users/x4287225/Desktop/confounder-free-cnn/OCTDL/OCTDL images/RVO\\rvo_3144603_1.jpg\n",
      "Deleted C:/Users/x4287225/Desktop/confounder-free-cnn/OCTDL/OCTDL images/RVO\\rvo_3144603_2.jpg\n",
      "Deleted C:/Users/x4287225/Desktop/confounder-free-cnn/OCTDL/OCTDL images/RVO\\rvo_3509715_1.jpg\n",
      "Deleted C:/Users/x4287225/Desktop/confounder-free-cnn/OCTDL/OCTDL images/RVO\\rvo_3509715_2.jpg\n",
      "Deleted C:/Users/x4287225/Desktop/confounder-free-cnn/OCTDL/OCTDL images/RVO\\rvo_3521165_1.jpg\n",
      "Deleted C:/Users/x4287225/Desktop/confounder-free-cnn/OCTDL/OCTDL images/RVO\\rvo_3521165_2.jpg\n",
      "Deleted C:/Users/x4287225/Desktop/confounder-free-cnn/OCTDL/OCTDL images/RVO\\rvo_4536908_1.jpg\n",
      "Deleted C:/Users/x4287225/Desktop/confounder-free-cnn/OCTDL/OCTDL images/RVO\\rvo_4703942_1.jpg\n",
      "Deleted C:/Users/x4287225/Desktop/confounder-free-cnn/OCTDL/OCTDL images/RVO\\rvo_4703942_2.jpg\n",
      "Deleted C:/Users/x4287225/Desktop/confounder-free-cnn/OCTDL/OCTDL images/RVO\\rvo_4868037_1.jpg\n",
      "Deleted C:/Users/x4287225/Desktop/confounder-free-cnn/OCTDL/OCTDL images/RVO\\rvo_4871360_1.jpg\n",
      "Deleted C:/Users/x4287225/Desktop/confounder-free-cnn/OCTDL/OCTDL images/RVO\\rvo_4934821_1.jpg\n",
      "Deleted C:/Users/x4287225/Desktop/confounder-free-cnn/OCTDL/OCTDL images/RVO\\rvo_5043687_1.jpg\n",
      "Deleted C:/Users/x4287225/Desktop/confounder-free-cnn/OCTDL/OCTDL images/RVO\\rvo_5137392_1.jpg\n",
      "Deleted C:/Users/x4287225/Desktop/confounder-free-cnn/OCTDL/OCTDL images/RVO\\rvo_5137392_2.jpg\n",
      "Deleted C:/Users/x4287225/Desktop/confounder-free-cnn/OCTDL/OCTDL images/RVO\\rvo_5137392_3.jpg\n",
      "Deleted C:/Users/x4287225/Desktop/confounder-free-cnn/OCTDL/OCTDL images/RVO\\rvo_5226362_1.jpg\n",
      "Deleted C:/Users/x4287225/Desktop/confounder-free-cnn/OCTDL/OCTDL images/RVO\\rvo_5499212_1.jpg\n",
      "Deleted C:/Users/x4287225/Desktop/confounder-free-cnn/OCTDL/OCTDL images/RVO\\rvo_5499212_2.jpg\n",
      "Deleted C:/Users/x4287225/Desktop/confounder-free-cnn/OCTDL/OCTDL images/RVO\\rvo_5893211_1.jpg\n",
      "Deleted C:/Users/x4287225/Desktop/confounder-free-cnn/OCTDL/OCTDL images/RVO\\rvo_5894165_1.jpg\n",
      "Deleted C:/Users/x4287225/Desktop/confounder-free-cnn/OCTDL/OCTDL images/RVO\\rvo_5903477_1.jpg\n",
      "Deleted C:/Users/x4287225/Desktop/confounder-free-cnn/OCTDL/OCTDL images/RVO\\rvo_5975097_1.jpg\n",
      "Deleted C:/Users/x4287225/Desktop/confounder-free-cnn/OCTDL/OCTDL images/RVO\\rvo_6113464_1.jpg\n",
      "Deleted C:/Users/x4287225/Desktop/confounder-free-cnn/OCTDL/OCTDL images/RVO\\rvo_6113464_2.jpg\n",
      "Deleted C:/Users/x4287225/Desktop/confounder-free-cnn/OCTDL/OCTDL images/RVO\\rvo_6113464_3.jpg\n",
      "Deleted C:/Users/x4287225/Desktop/confounder-free-cnn/OCTDL/OCTDL images/RVO\\rvo_6113464_4.jpg\n",
      "Deleted C:/Users/x4287225/Desktop/confounder-free-cnn/OCTDL/OCTDL images/RVO\\rvo_6113464_5.jpg\n",
      "Deleted C:/Users/x4287225/Desktop/confounder-free-cnn/OCTDL/OCTDL images/RVO\\rvo_6318014_1.jpg\n",
      "Deleted C:/Users/x4287225/Desktop/confounder-free-cnn/OCTDL/OCTDL images/RVO\\rvo_6394939_1.jpg\n",
      "Deleted C:/Users/x4287225/Desktop/confounder-free-cnn/OCTDL/OCTDL images/RVO\\rvo_6394939_2.jpg\n",
      "Deleted C:/Users/x4287225/Desktop/confounder-free-cnn/OCTDL/OCTDL images/RVO\\rvo_7021526_1.jpg\n",
      "Deleted C:/Users/x4287225/Desktop/confounder-free-cnn/OCTDL/OCTDL images/RVO\\rvo_7021526_2.jpg\n",
      "Deleted C:/Users/x4287225/Desktop/confounder-free-cnn/OCTDL/OCTDL images/RVO\\rvo_7021526_3.jpg\n",
      "Deleted C:/Users/x4287225/Desktop/confounder-free-cnn/OCTDL/OCTDL images/RVO\\rvo_7061441_1.jpg\n",
      "Deleted C:/Users/x4287225/Desktop/confounder-free-cnn/OCTDL/OCTDL images/RVO\\rvo_7061441_2.jpg\n",
      "Deleted C:/Users/x4287225/Desktop/confounder-free-cnn/OCTDL/OCTDL images/RVO\\rvo_7119653_1.jpg\n",
      "Deleted C:/Users/x4287225/Desktop/confounder-free-cnn/OCTDL/OCTDL images/RVO\\rvo_7119653_2.jpg\n",
      "Deleted C:/Users/x4287225/Desktop/confounder-free-cnn/OCTDL/OCTDL images/RVO\\rvo_7119653_3.jpg\n",
      "Deleted C:/Users/x4287225/Desktop/confounder-free-cnn/OCTDL/OCTDL images/RVO\\rvo_7119653_4.jpg\n",
      "Deleted C:/Users/x4287225/Desktop/confounder-free-cnn/OCTDL/OCTDL images/RVO\\rvo_7119653_5.jpg\n",
      "Deleted C:/Users/x4287225/Desktop/confounder-free-cnn/OCTDL/OCTDL images/RVO\\rvo_7119653_6.jpg\n",
      "Deleted C:/Users/x4287225/Desktop/confounder-free-cnn/OCTDL/OCTDL images/RVO\\rvo_7227254_1.jpg\n",
      "Deleted C:/Users/x4287225/Desktop/confounder-free-cnn/OCTDL/OCTDL images/RVO\\rvo_7284574_1.jpg\n",
      "Deleted C:/Users/x4287225/Desktop/confounder-free-cnn/OCTDL/OCTDL images/RVO\\rvo_7720999_1.jpg\n",
      "Deleted C:/Users/x4287225/Desktop/confounder-free-cnn/OCTDL/OCTDL images/RVO\\rvo_7720999_2.jpg\n",
      "Deleted C:/Users/x4287225/Desktop/confounder-free-cnn/OCTDL/OCTDL images/RVO\\rvo_7720999_3.jpg\n",
      "Deleted C:/Users/x4287225/Desktop/confounder-free-cnn/OCTDL/OCTDL images/RVO\\rvo_7720999_4.jpg\n",
      "Deleted C:/Users/x4287225/Desktop/confounder-free-cnn/OCTDL/OCTDL images/RVO\\rvo_7720999_5.jpg\n",
      "Deleted C:/Users/x4287225/Desktop/confounder-free-cnn/OCTDL/OCTDL images/RVO\\rvo_7720999_6.jpg\n",
      "Deleted C:/Users/x4287225/Desktop/confounder-free-cnn/OCTDL/OCTDL images/RVO\\rvo_7931253_1.jpg\n",
      "Deleted C:/Users/x4287225/Desktop/confounder-free-cnn/OCTDL/OCTDL images/RVO\\rvo_8383277_1.jpg\n",
      "Deleted C:/Users/x4287225/Desktop/confounder-free-cnn/OCTDL/OCTDL images/RVO\\rvo_8574936_1.jpg\n",
      "Deleted C:/Users/x4287225/Desktop/confounder-free-cnn/OCTDL/OCTDL images/RVO\\rvo_8574936_2.jpg\n",
      "Deleted C:/Users/x4287225/Desktop/confounder-free-cnn/OCTDL/OCTDL images/RVO\\rvo_8574936_3.jpg\n",
      "Deleted C:/Users/x4287225/Desktop/confounder-free-cnn/OCTDL/OCTDL images/RVO\\rvo_8574936_4.jpg\n",
      "Deleted C:/Users/x4287225/Desktop/confounder-free-cnn/OCTDL/OCTDL images/RVO\\rvo_8574936_5.jpg\n",
      "Deleted C:/Users/x4287225/Desktop/confounder-free-cnn/OCTDL/OCTDL images/RVO\\rvo_8574936_6.jpg\n",
      "Deleted C:/Users/x4287225/Desktop/confounder-free-cnn/OCTDL/OCTDL images/RVO\\rvo_8574936_7.jpg\n",
      "Deleted C:/Users/x4287225/Desktop/confounder-free-cnn/OCTDL/OCTDL images/RVO\\rvo_8574936_8.jpg\n",
      "Deleted C:/Users/x4287225/Desktop/confounder-free-cnn/OCTDL/OCTDL images/RVO\\rvo_8801055_1.jpg\n",
      "Deleted C:/Users/x4287225/Desktop/confounder-free-cnn/OCTDL/OCTDL images/RVO\\rvo_8894716_1.jpg\n",
      "Deleted C:/Users/x4287225/Desktop/confounder-free-cnn/OCTDL/OCTDL images/RVO\\rvo_8908851_1.jpg\n",
      "Deleted C:/Users/x4287225/Desktop/confounder-free-cnn/OCTDL/OCTDL images/RVO\\rvo_8908851_2.jpg\n",
      "Deleted C:/Users/x4287225/Desktop/confounder-free-cnn/OCTDL/OCTDL images/RVO\\rvo_8986339_1.jpg\n",
      "Deleted C:/Users/x4287225/Desktop/confounder-free-cnn/OCTDL/OCTDL images/RVO\\rvo_8986339_2.jpg\n",
      "Deleted C:/Users/x4287225/Desktop/confounder-free-cnn/OCTDL/OCTDL images/RVO\\rvo_9218784_1.jpg\n",
      "Deleted C:/Users/x4287225/Desktop/confounder-free-cnn/OCTDL/OCTDL images/RVO\\rvo_9381682_1.jpg\n",
      "Deleted C:/Users/x4287225/Desktop/confounder-free-cnn/OCTDL/OCTDL images/RVO\\rvo_9465933_1.jpg\n",
      "Deleted C:/Users/x4287225/Desktop/confounder-free-cnn/OCTDL/OCTDL images/RVO\\rvo_9682603_1.jpg\n",
      "Deleted C:/Users/x4287225/Desktop/confounder-free-cnn/OCTDL/OCTDL images/RVO\\rvo_9682603_2.jpg\n",
      "Deleted C:/Users/x4287225/Desktop/confounder-free-cnn/OCTDL/OCTDL images/RVO\\rvo_9695128_1.jpg\n",
      "Deleted C:/Users/x4287225/Desktop/confounder-free-cnn/OCTDL/OCTDL images/RVO\\rvo_9813161_1.jpg\n",
      "Deleted C:/Users/x4287225/Desktop/confounder-free-cnn/OCTDL/OCTDL images/RVO\\rvo_9988183_1.jpg\n",
      "Deleted C:/Users/x4287225/Desktop/confounder-free-cnn/OCTDL/OCTDL images/VID\\vid_1258159_1.jpg\n",
      "Deleted C:/Users/x4287225/Desktop/confounder-free-cnn/OCTDL/OCTDL images/VID\\vid_1416874_1.jpg\n",
      "Deleted C:/Users/x4287225/Desktop/confounder-free-cnn/OCTDL/OCTDL images/VID\\vid_1416874_2.jpg\n",
      "Deleted C:/Users/x4287225/Desktop/confounder-free-cnn/OCTDL/OCTDL images/VID\\vid_1963760_1.jpg\n",
      "Deleted C:/Users/x4287225/Desktop/confounder-free-cnn/OCTDL/OCTDL images/VID\\vid_2034559_1.jpg\n",
      "Deleted C:/Users/x4287225/Desktop/confounder-free-cnn/OCTDL/OCTDL images/VID\\vid_2551689_1.jpg\n",
      "Deleted C:/Users/x4287225/Desktop/confounder-free-cnn/OCTDL/OCTDL images/VID\\vid_2551689_2.jpg\n",
      "Deleted C:/Users/x4287225/Desktop/confounder-free-cnn/OCTDL/OCTDL images/VID\\vid_3070592_1.jpg\n",
      "Deleted C:/Users/x4287225/Desktop/confounder-free-cnn/OCTDL/OCTDL images/VID\\vid_3070592_2.jpg\n",
      "Deleted C:/Users/x4287225/Desktop/confounder-free-cnn/OCTDL/OCTDL images/VID\\vid_3109576_1.jpg\n",
      "Deleted C:/Users/x4287225/Desktop/confounder-free-cnn/OCTDL/OCTDL images/VID\\vid_3139502_1.jpg\n",
      "Deleted C:/Users/x4287225/Desktop/confounder-free-cnn/OCTDL/OCTDL images/VID\\vid_3139502_2.jpg\n",
      "Deleted C:/Users/x4287225/Desktop/confounder-free-cnn/OCTDL/OCTDL images/VID\\vid_3376410_1.jpg\n",
      "Deleted C:/Users/x4287225/Desktop/confounder-free-cnn/OCTDL/OCTDL images/VID\\vid_3376410_2.jpg\n",
      "Deleted C:/Users/x4287225/Desktop/confounder-free-cnn/OCTDL/OCTDL images/VID\\vid_3525391_1.jpg\n",
      "Deleted C:/Users/x4287225/Desktop/confounder-free-cnn/OCTDL/OCTDL images/VID\\vid_3716052_1.jpg\n",
      "Deleted C:/Users/x4287225/Desktop/confounder-free-cnn/OCTDL/OCTDL images/VID\\vid_3716052_2.jpg\n",
      "Deleted C:/Users/x4287225/Desktop/confounder-free-cnn/OCTDL/OCTDL images/VID\\vid_3917025_1.jpg\n",
      "Deleted C:/Users/x4287225/Desktop/confounder-free-cnn/OCTDL/OCTDL images/VID\\vid_4308604_1.jpg\n",
      "Deleted C:/Users/x4287225/Desktop/confounder-free-cnn/OCTDL/OCTDL images/VID\\vid_4417287_1.jpg\n",
      "Deleted C:/Users/x4287225/Desktop/confounder-free-cnn/OCTDL/OCTDL images/VID\\vid_4957256_1.jpg\n",
      "Deleted C:/Users/x4287225/Desktop/confounder-free-cnn/OCTDL/OCTDL images/VID\\vid_5025571_1.jpg\n",
      "Deleted C:/Users/x4287225/Desktop/confounder-free-cnn/OCTDL/OCTDL images/VID\\vid_5025571_2.jpg\n",
      "Deleted C:/Users/x4287225/Desktop/confounder-free-cnn/OCTDL/OCTDL images/VID\\vid_5163711_1.jpg\n",
      "Deleted C:/Users/x4287225/Desktop/confounder-free-cnn/OCTDL/OCTDL images/VID\\vid_5203547_1.jpg\n",
      "Deleted C:/Users/x4287225/Desktop/confounder-free-cnn/OCTDL/OCTDL images/VID\\vid_5791970_1.jpg\n",
      "Deleted C:/Users/x4287225/Desktop/confounder-free-cnn/OCTDL/OCTDL images/VID\\vid_6299178_1.jpg\n",
      "Deleted C:/Users/x4287225/Desktop/confounder-free-cnn/OCTDL/OCTDL images/VID\\vid_6653142_1.jpg\n",
      "Deleted C:/Users/x4287225/Desktop/confounder-free-cnn/OCTDL/OCTDL images/VID\\vid_6718979_1.jpg\n",
      "Deleted C:/Users/x4287225/Desktop/confounder-free-cnn/OCTDL/OCTDL images/VID\\vid_6783248_1.jpg\n",
      "Deleted C:/Users/x4287225/Desktop/confounder-free-cnn/OCTDL/OCTDL images/VID\\vid_7041462_1.jpg\n",
      "Deleted C:/Users/x4287225/Desktop/confounder-free-cnn/OCTDL/OCTDL images/VID\\vid_7161668_1.jpg\n",
      "Deleted C:/Users/x4287225/Desktop/confounder-free-cnn/OCTDL/OCTDL images/VID\\vid_7254168_1.jpg\n",
      "Deleted C:/Users/x4287225/Desktop/confounder-free-cnn/OCTDL/OCTDL images/VID\\vid_7324955_1.jpg\n",
      "Deleted C:/Users/x4287225/Desktop/confounder-free-cnn/OCTDL/OCTDL images/VID\\vid_7324955_2.jpg\n",
      "Deleted C:/Users/x4287225/Desktop/confounder-free-cnn/OCTDL/OCTDL images/VID\\vid_7383454_1.jpg\n",
      "Deleted C:/Users/x4287225/Desktop/confounder-free-cnn/OCTDL/OCTDL images/VID\\vid_7571648_1.jpg\n",
      "Deleted C:/Users/x4287225/Desktop/confounder-free-cnn/OCTDL/OCTDL images/VID\\vid_7636917_1.jpg\n",
      "Deleted C:/Users/x4287225/Desktop/confounder-free-cnn/OCTDL/OCTDL images/VID\\vid_7636917_2.jpg\n",
      "Deleted C:/Users/x4287225/Desktop/confounder-free-cnn/OCTDL/OCTDL images/VID\\vid_7700464_1.jpg\n",
      "Deleted C:/Users/x4287225/Desktop/confounder-free-cnn/OCTDL/OCTDL images/VID\\vid_7700464_2.jpg\n",
      "Deleted C:/Users/x4287225/Desktop/confounder-free-cnn/OCTDL/OCTDL images/VID\\vid_7798185_1.jpg\n",
      "Deleted C:/Users/x4287225/Desktop/confounder-free-cnn/OCTDL/OCTDL images/VID\\vid_7820594_1.jpg\n",
      "Deleted C:/Users/x4287225/Desktop/confounder-free-cnn/OCTDL/OCTDL images/VID\\vid_8275659_1.jpg\n",
      "Deleted C:/Users/x4287225/Desktop/confounder-free-cnn/OCTDL/OCTDL images/VID\\vid_8342559_1.jpg\n",
      "Deleted C:/Users/x4287225/Desktop/confounder-free-cnn/OCTDL/OCTDL images/VID\\vid_8400975_1.jpg\n",
      "Deleted C:/Users/x4287225/Desktop/confounder-free-cnn/OCTDL/OCTDL images/VID\\vid_8400975_2.jpg\n",
      "Deleted C:/Users/x4287225/Desktop/confounder-free-cnn/OCTDL/OCTDL images/VID\\vid_8582435_1.jpg\n",
      "Deleted C:/Users/x4287225/Desktop/confounder-free-cnn/OCTDL/OCTDL images/VID\\vid_8794624_1.jpg\n",
      "Deleted C:/Users/x4287225/Desktop/confounder-free-cnn/OCTDL/OCTDL images/VID\\vid_8826928_1.jpg\n",
      "Deleted C:/Users/x4287225/Desktop/confounder-free-cnn/OCTDL/OCTDL images/VID\\vid_9227737_1.jpg\n",
      "Deleted C:/Users/x4287225/Desktop/confounder-free-cnn/OCTDL/OCTDL images/VID\\vid_9227737_2.jpg\n",
      "Deleted C:/Users/x4287225/Desktop/confounder-free-cnn/OCTDL/OCTDL images/VID\\vid_9227737_3.jpg\n",
      "Deleted C:/Users/x4287225/Desktop/confounder-free-cnn/OCTDL/OCTDL images/VID\\vid_9244118_1.jpg\n",
      "Deleted C:/Users/x4287225/Desktop/confounder-free-cnn/OCTDL/OCTDL images/VID\\vid_9412101_1.jpg\n",
      "Deleted C:/Users/x4287225/Desktop/confounder-free-cnn/OCTDL/OCTDL images/VID\\vid_9474645_1.jpg\n",
      "Deleted C:/Users/x4287225/Desktop/confounder-free-cnn/OCTDL/OCTDL images/VID\\vid_9474645_2.jpg\n",
      "Deleted C:/Users/x4287225/Desktop/confounder-free-cnn/OCTDL/OCTDL images/VID\\vid_9774695_1.jpg\n"
     ]
    }
   ],
   "source": [
    "#Reading the Labels\n",
    "df = pd.read_csv(labels_path)\n",
    "\n",
    "df= df[df['sex'] != '0']\n",
    "\n",
    "image_ids = set(df['file_name'])\n",
    "base_directory = dir +  '/OCTDL images/'\n",
    "diseases = df['disease'].unique()\n",
    "\n",
    "for disease in diseases:\n",
    "    disease_folder_path = os.path.join(dataset_folder, disease)\n",
    "    \n",
    "    if not os.path.exists(disease_folder_path):\n",
    "        print(f\"Folder not found: {disease_folder_path}\")\n",
    "        continue\n",
    "    \n",
    "    files = os.listdir(disease_folder_path)\n",
    "    \n",
    "    for file in files:\n",
    "        if file.split('.')[0] not in image_ids:\n",
    "            file_path = os.path.join(disease_folder_path, file)\n",
    "            os.remove(file_path)\n",
    "            print(f\"Deleted {file_path}\")\n",
    "df = df.groupby('disease').filter(lambda x: x['patient_id'].nunique() >= 10)\n",
    "labels = df['disease'].unique()\n",
    "labels = labels.tolist()\n",
    "\n",
    "df.to_csv(labels_path, index=False)"
   ]
  },
  {
   "cell_type": "code",
   "execution_count": 7,
   "metadata": {},
   "outputs": [
    {
     "name": "stderr",
     "output_type": "stream",
     "text": [
      "  0%|          | 0/3 [00:00<?, ?it/s]"
     ]
    },
    {
     "name": "stdout",
     "output_type": "stream",
     "text": [
      "AMD 195 49 104\n"
     ]
    },
    {
     "name": "stderr",
     "output_type": "stream",
     "text": [
      " 33%|███▎      | 1/3 [00:03<00:07,  3.78s/it]"
     ]
    },
    {
     "name": "stdout",
     "output_type": "stream",
     "text": [
      "ERM 12 2 8\n"
     ]
    },
    {
     "name": "stderr",
     "output_type": "stream",
     "text": [
      " 67%|██████▋   | 2/3 [00:04<00:01,  1.70s/it]"
     ]
    },
    {
     "name": "stdout",
     "output_type": "stream",
     "text": [
      "NO 26 8 14\n"
     ]
    },
    {
     "name": "stderr",
     "output_type": "stream",
     "text": [
      "100%|██████████| 3/3 [00:04<00:00,  1.53s/it]\n"
     ]
    }
   ],
   "source": [
    "main()"
   ]
  },
  {
   "cell_type": "markdown",
   "metadata": {},
   "source": [
    "# Config file Prep"
   ]
  },
  {
   "cell_type": "code",
   "execution_count": 8,
   "metadata": {},
   "outputs": [],
   "source": [
    "\n",
    "# Load the YAML file\n",
    "with open(cg, 'r') as file:\n",
    "    config = yaml.safe_load(file)\n",
    "\n",
    "config['base']['data_path'] = output_folder\n",
    "config['base']['save_path'] = dir + '/run' \n",
    "config['solver']['learning_rate'] = 0.0003\n",
    "config['data']['num_classes'] = 3\n",
    "\n",
    "#config['base']['device'] = 'cuda'\n",
    "\n",
    "# Save the modified YAML back to the file\n",
    "with open(cg, 'w') as file:\n",
    "    yaml.safe_dump(config, file, default_flow_style=False)"
   ]
  },
  {
   "cell_type": "markdown",
   "metadata": {},
   "source": [
    "# Model execution"
   ]
  },
  {
   "cell_type": "code",
   "execution_count": 9,
   "metadata": {},
   "outputs": [],
   "source": [
    "def main_notebook(cfg_path, cfg_name):\n",
    "    cwd = os.getcwd()\n",
    "    \n",
    "    # Convert the absolute config path to a relative path\n",
    "    relative_cfg_path = os.path.relpath(cfg_path, cwd)\n",
    "    with initialize(config_path=relative_cfg_path):\n",
    "        cfg = compose(config_name=cfg_name)\n",
    "        worker(cfg)"
   ]
  },
  {
   "cell_type": "code",
   "execution_count": 10,
   "metadata": {},
   "outputs": [],
   "source": [
    "\n",
    "def worker(cfg):\n",
    "    if cfg.base.random_seed != -1:\n",
    "        seed = cfg.base.random_seed\n",
    "        set_random_seed(seed, cfg.base.cudnn_deterministic)\n",
    "\n",
    "    log_path = os.path.join(cfg.base.save_path, 'log')\n",
    "    logger = SummaryWriter(log_path)\n",
    "\n",
    "    # train\n",
    "    model = generate_model(cfg)\n",
    "    train_dataset, test_dataset, val_dataset = generate_dataset(cfg)\n",
    "    estimator = Estimator(cfg.train.metrics, cfg.data.num_classes, cfg.train.criterion)\n",
    "    train(\n",
    "        cfg=cfg,\n",
    "        model=model,\n",
    "        train_dataset=train_dataset,\n",
    "        val_dataset=val_dataset,\n",
    "        estimator=estimator,\n",
    "        logger=logger\n",
    "    )\n",
    "    # test\n",
    "    print('Performance of the best validation model:')\n",
    "    checkpoint = os.path.join(cfg.base.save_path, 'best_validation_weights.pt')\n",
    "    cfg.train.checkpoint = checkpoint\n",
    "    model = generate_model(cfg)\n",
    "    evaluate(cfg, model, test_dataset, estimator)\n",
    "\n",
    "    print('Performance of the final model:')\n",
    "    checkpoint = os.path.join(cfg.base.save_path, 'final_weights.pt')\n",
    "    cfg.train.checkpoint = checkpoint\n",
    "    model = generate_model(cfg)\n",
    "    evaluate(cfg, model, test_dataset, estimator)"
   ]
  },
  {
   "cell_type": "code",
   "execution_count": 11,
   "metadata": {},
   "outputs": [],
   "source": [
    "def set_random_seed(seed, deterministic=False):\n",
    "    random.seed(seed)\n",
    "    np.random.seed(seed)\n",
    "    torch.manual_seed(seed)\n",
    "    torch.cuda.manual_seed(seed)\n",
    "    torch.backends.cudnn.deterministic = deterministic"
   ]
  },
  {
   "cell_type": "code",
   "execution_count": 12,
   "metadata": {},
   "outputs": [
    {
     "name": "stderr",
     "output_type": "stream",
     "text": [
      "C:\\Users\\x4287225\\AppData\\Local\\Temp\\ipykernel_24448\\2007835564.py:6: UserWarning: \n",
      "The version_base parameter is not specified.\n",
      "Please specify a compatability version level, or None.\n",
      "Will assume defaults for version 1.1\n",
      "  with initialize(config_path=relative_cfg_path):\n"
     ]
    },
    {
     "name": "stdout",
     "output_type": "stream",
     "text": [
      "Calculating mean and std of training set for data normalization.\n"
     ]
    },
    {
     "name": "stderr",
     "output_type": "stream",
     "text": [
      "100%|██████████| 4/4 [00:04<00:00,  1.17s/it]\n",
      "100%|██████████| 4/4 [00:04<00:00,  1.08s/it]\n"
     ]
    },
    {
     "name": "stdout",
     "output_type": "stream",
     "text": [
      "mean: [0.08435621857643127, 0.08435624092817307, 0.08435503393411636]\n",
      "std: [0.15632949769496918, 0.15632951259613037, 0.15632779896259308]\n",
      "=========================\n",
      "Dataset Loaded.\n",
      "Categories:\t3\n",
      "Training:\t233\n",
      "Validation:\t59\n",
      "Test:\t\t126\n",
      "=========================\n"
     ]
    },
    {
     "name": "stderr",
     "output_type": "stream",
     "text": [
      "  0%|          | 0/3 [00:00<?, ?it/s]c:\\Users\\x4287225\\Desktop\\confounder-free-cnn\\env\\Lib\\site-packages\\torcheval\\metrics\\functional\\classification\\accuracy.py:275: UserWarning: The reduce argument of torch.scatter with Tensor src is deprecated and will be removed in a future PyTorch release. Use torch.scatter_reduce instead for more reduction options. (Triggered internally at ..\\aten\\src\\ATen\\native\\TensorAdvancedIndexing.cpp:234.)\n",
      "  num_correct = mask.new_zeros(num_classes).scatter_(0, target, mask, reduce=\"add\")\n",
      "epoch: [1 / 100], loss: 1.352022: 100%|██████████| 3/3 [00:39<00:00, 13.03s/it]\n"
     ]
    },
    {
     "name": "stdout",
     "output_type": "stream",
     "text": [
      "Training metrics: acc: 0.3123, f1: 0.3123, auc: 0.4829, precision: 0.3136, recall: 0.3123\n",
      "===================\n",
      "Validation metrics:\n",
      "acc: 0.333333\n",
      "f1: 0.021858\n",
      "auc: 0.4158\n",
      "precision: 0.011299\n",
      "recall: 0.333333\n",
      "===================\n",
      "================================================================================\n",
      "Best acc in validation set. Model save at C:/Users/x4287225/Desktop/confounder-free-cnn/OCTDL/run\n",
      "================================================================================\n"
     ]
    },
    {
     "name": "stderr",
     "output_type": "stream",
     "text": [
      "epoch: [2 / 100], loss: 1.084528: 100%|██████████| 3/3 [00:38<00:00, 12.67s/it]\n"
     ]
    },
    {
     "name": "stdout",
     "output_type": "stream",
     "text": [
      "Training metrics: acc: 0.322, f1: 0.2578, auc: 0.5504, precision: 0.2337, recall: 0.322\n",
      "===================\n",
      "Validation metrics:\n",
      "acc: 0.340136\n",
      "f1: 0.035556\n",
      "auc: 0.691065\n",
      "precision: 0.344828\n",
      "recall: 0.340136\n",
      "===================\n",
      "================================================================================\n",
      "Best acc in validation set. Model save at C:/Users/x4287225/Desktop/confounder-free-cnn/OCTDL/run\n",
      "================================================================================\n"
     ]
    },
    {
     "name": "stderr",
     "output_type": "stream",
     "text": [
      "epoch: [3 / 100], loss: 1.126172: 100%|██████████| 3/3 [00:38<00:00, 12.71s/it]\n"
     ]
    },
    {
     "name": "stdout",
     "output_type": "stream",
     "text": [
      "Training metrics: acc: 0.3627, f1: 0.2905, auc: 0.5534, precision: 0.4056, recall: 0.3627\n",
      "===================\n",
      "Validation metrics:\n",
      "acc: 0.333333\n",
      "f1: 0.079602\n",
      "auc: 0.839097\n",
      "precision: 0.045198\n",
      "recall: 0.333333\n",
      "===================\n"
     ]
    },
    {
     "name": "stderr",
     "output_type": "stream",
     "text": [
      "epoch: [4 / 100], loss: 1.101677: 100%|██████████| 3/3 [00:38<00:00, 12.70s/it]\n"
     ]
    },
    {
     "name": "stdout",
     "output_type": "stream",
     "text": [
      "Training metrics: acc: 0.2937, f1: 0.2108, auc: 0.5236, precision: 0.1829, recall: 0.2937\n",
      "===================\n",
      "Validation metrics:\n",
      "acc: 0.333333\n",
      "f1: 0.021858\n",
      "auc: 0.601663\n",
      "precision: 0.011299\n",
      "recall: 0.333333\n",
      "===================\n"
     ]
    },
    {
     "name": "stderr",
     "output_type": "stream",
     "text": [
      "epoch: [5 / 100], loss: 1.089718: 100%|██████████| 3/3 [00:37<00:00, 12.62s/it]\n"
     ]
    },
    {
     "name": "stdout",
     "output_type": "stream",
     "text": [
      "Training metrics: acc: 0.3823, f1: 0.3634, auc: 0.5821, precision: 0.3867, recall: 0.3823\n",
      "===================\n",
      "Validation metrics:\n",
      "acc: 0.333333\n",
      "f1: 0.079602\n",
      "auc: 0.666878\n",
      "precision: 0.045198\n",
      "recall: 0.333333\n",
      "===================\n"
     ]
    },
    {
     "name": "stderr",
     "output_type": "stream",
     "text": [
      "epoch: [6 / 100], loss: 1.094408: 100%|██████████| 3/3 [00:37<00:00, 12.58s/it]\n"
     ]
    },
    {
     "name": "stdout",
     "output_type": "stream",
     "text": [
      "Training metrics: acc: 0.371, f1: 0.3026, auc: 0.544, precision: 0.2614, recall: 0.371\n",
      "===================\n",
      "Validation metrics:\n",
      "acc: 0.333333\n",
      "f1: 0.079602\n",
      "auc: 0.603709\n",
      "precision: 0.045198\n",
      "recall: 0.333333\n",
      "===================\n"
     ]
    },
    {
     "name": "stderr",
     "output_type": "stream",
     "text": [
      "epoch: [7 / 100], loss: 1.116024: 100%|██████████| 3/3 [00:38<00:00, 12.77s/it]\n"
     ]
    },
    {
     "name": "stdout",
     "output_type": "stream",
     "text": [
      "Training metrics: acc: 0.3569, f1: 0.3144, auc: 0.5409, precision: 0.3372, recall: 0.3569\n",
      "===================\n",
      "Validation metrics:\n",
      "acc: 0.333333\n",
      "f1: 0.021858\n",
      "auc: 0.453561\n",
      "precision: 0.011299\n",
      "recall: 0.333333\n",
      "===================\n"
     ]
    },
    {
     "name": "stderr",
     "output_type": "stream",
     "text": [
      "epoch: [8 / 100], loss: 1.093355: 100%|██████████| 3/3 [00:38<00:00, 12.72s/it]\n"
     ]
    },
    {
     "name": "stdout",
     "output_type": "stream",
     "text": [
      "Training metrics: acc: 0.3754, f1: 0.2984, auc: 0.577, precision: 0.2616, recall: 0.3754\n",
      "===================\n",
      "Validation metrics:\n",
      "acc: 0.302721\n",
      "f1: 0.20757\n",
      "auc: 0.702971\n",
      "precision: 0.326469\n",
      "recall: 0.302721\n",
      "===================\n"
     ]
    },
    {
     "name": "stderr",
     "output_type": "stream",
     "text": [
      "epoch: [9 / 100], loss: 1.084514: 100%|██████████| 3/3 [00:38<00:00, 12.86s/it]\n"
     ]
    },
    {
     "name": "stdout",
     "output_type": "stream",
     "text": [
      "Training metrics: acc: 0.3792, f1: 0.3585, auc: 0.6047, precision: 0.4072, recall: 0.3792\n",
      "===================\n",
      "Validation metrics:\n",
      "acc: 0.367347\n",
      "f1: 0.085538\n",
      "auc: 0.753536\n",
      "precision: 0.345679\n",
      "recall: 0.367347\n",
      "===================\n",
      "================================================================================\n",
      "Best acc in validation set. Model save at C:/Users/x4287225/Desktop/confounder-free-cnn/OCTDL/run\n",
      "================================================================================\n"
     ]
    },
    {
     "name": "stderr",
     "output_type": "stream",
     "text": [
      "epoch: [10 / 100], loss: 1.046079: 100%|██████████| 3/3 [00:38<00:00, 12.79s/it]\n"
     ]
    },
    {
     "name": "stdout",
     "output_type": "stream",
     "text": [
      "Training metrics: acc: 0.4759, f1: 0.4518, auc: 0.6852, precision: 0.5233, recall: 0.4759\n",
      "===================\n",
      "Validation metrics:\n",
      "acc: 0.333333\n",
      "f1: 0.021858\n",
      "auc: 0.807454\n",
      "precision: 0.011299\n",
      "recall: 0.333333\n",
      "===================\n"
     ]
    },
    {
     "name": "stderr",
     "output_type": "stream",
     "text": [
      "epoch: [11 / 100], loss: 1.146715: 100%|██████████| 3/3 [00:38<00:00, 12.88s/it]\n"
     ]
    },
    {
     "name": "stdout",
     "output_type": "stream",
     "text": [
      "Training metrics: acc: 0.4303, f1: 0.4259, auc: 0.5989, precision: 0.4496, recall: 0.4303\n",
      "===================\n",
      "Validation metrics:\n",
      "acc: 0.333333\n",
      "f1: 0.311111\n",
      "auc: 0.877259\n",
      "precision: 0.291667\n",
      "recall: 0.333333\n",
      "===================\n"
     ]
    },
    {
     "name": "stderr",
     "output_type": "stream",
     "text": [
      "epoch: [12 / 100], loss: 1.036200: 100%|██████████| 3/3 [00:38<00:00, 12.92s/it]\n"
     ]
    },
    {
     "name": "stdout",
     "output_type": "stream",
     "text": [
      "Training metrics: acc: 0.4109, f1: 0.3796, auc: 0.6346, precision: 0.3837, recall: 0.4109\n",
      "===================\n",
      "Validation metrics:\n",
      "acc: 0.375\n",
      "f1: 0.063879\n",
      "auc: 0.765469\n",
      "precision: 0.035742\n",
      "recall: 0.375\n",
      "===================\n",
      "================================================================================\n",
      "Best acc in validation set. Model save at C:/Users/x4287225/Desktop/confounder-free-cnn/OCTDL/run\n",
      "================================================================================\n"
     ]
    },
    {
     "name": "stderr",
     "output_type": "stream",
     "text": [
      "epoch: [13 / 100], loss: 1.109989: 100%|██████████| 3/3 [00:37<00:00, 12.42s/it]\n"
     ]
    },
    {
     "name": "stdout",
     "output_type": "stream",
     "text": [
      "Training metrics: acc: 0.3578, f1: 0.279, auc: 0.6515, precision: 0.2294, recall: 0.3578\n",
      "===================\n",
      "Validation metrics:\n",
      "acc: 0.27551\n",
      "f1: 0.176768\n",
      "auc: 0.726537\n",
      "precision: 0.321662\n",
      "recall: 0.27551\n",
      "===================\n"
     ]
    },
    {
     "name": "stderr",
     "output_type": "stream",
     "text": [
      "epoch: [14 / 100], loss: 1.078079: 100%|██████████| 3/3 [00:36<00:00, 12.25s/it]\n"
     ]
    },
    {
     "name": "stdout",
     "output_type": "stream",
     "text": [
      "Training metrics: acc: 0.4855, f1: 0.4478, auc: 0.6753, precision: 0.5901, recall: 0.4855\n",
      "===================\n",
      "Validation metrics:\n",
      "acc: 0.156463\n",
      "f1: 0.212963\n",
      "auc: 0.860578\n",
      "precision: 0.333333\n",
      "recall: 0.156463\n",
      "===================\n"
     ]
    },
    {
     "name": "stderr",
     "output_type": "stream",
     "text": [
      "epoch: [15 / 100], loss: 1.046958: 100%|██████████| 3/3 [00:42<00:00, 14.32s/it]\n"
     ]
    },
    {
     "name": "stdout",
     "output_type": "stream",
     "text": [
      "Training metrics: acc: 0.437, f1: 0.3951, auc: 0.7092, precision: 0.4969, recall: 0.437\n",
      "===================\n",
      "Validation metrics:\n",
      "acc: 0.312925\n",
      "f1: 0.316151\n",
      "auc: 0.734922\n",
      "precision: 0.319444\n",
      "recall: 0.312925\n",
      "===================\n"
     ]
    },
    {
     "name": "stderr",
     "output_type": "stream",
     "text": [
      "epoch: [16 / 100], loss: 0.993206: 100%|██████████| 3/3 [00:36<00:00, 12.05s/it]\n"
     ]
    },
    {
     "name": "stdout",
     "output_type": "stream",
     "text": [
      "Training metrics: acc: 0.5322, f1: 0.4702, auc: 0.7283, precision: 0.5311, recall: 0.5322\n",
      "===================\n",
      "Validation metrics:\n",
      "acc: 0.377551\n",
      "f1: 0.287319\n",
      "auc: 0.890381\n",
      "precision: 0.349206\n",
      "recall: 0.377551\n",
      "===================\n",
      "================================================================================\n",
      "Best acc in validation set. Model save at C:/Users/x4287225/Desktop/confounder-free-cnn/OCTDL/run\n",
      "================================================================================\n"
     ]
    },
    {
     "name": "stderr",
     "output_type": "stream",
     "text": [
      "epoch: [17 / 100], loss: 0.987788: 100%|██████████| 3/3 [00:36<00:00, 12.03s/it]\n"
     ]
    },
    {
     "name": "stdout",
     "output_type": "stream",
     "text": [
      "Training metrics: acc: 0.4984, f1: 0.4782, auc: 0.6942, precision: 0.4893, recall: 0.4984\n",
      "===================\n",
      "Validation metrics:\n",
      "acc: 0.653061\n",
      "f1: 0.616024\n",
      "auc: 0.747309\n",
      "precision: 0.586395\n",
      "recall: 0.653061\n",
      "===================\n",
      "================================================================================\n",
      "Best acc in validation set. Model save at C:/Users/x4287225/Desktop/confounder-free-cnn/OCTDL/run\n",
      "================================================================================\n"
     ]
    },
    {
     "name": "stderr",
     "output_type": "stream",
     "text": [
      "epoch: [18 / 100], loss: 0.906734: 100%|██████████| 3/3 [00:36<00:00, 12.01s/it]\n"
     ]
    },
    {
     "name": "stdout",
     "output_type": "stream",
     "text": [
      "Training metrics: acc: 0.5092, f1: 0.4479, auc: 0.7433, precision: 0.7008, recall: 0.5092\n",
      "===================\n",
      "Validation metrics:\n",
      "acc: 0.659864\n",
      "f1: 0.636958\n",
      "auc: 0.902077\n",
      "precision: 0.616296\n",
      "recall: 0.659864\n",
      "===================\n",
      "================================================================================\n",
      "Best acc in validation set. Model save at C:/Users/x4287225/Desktop/confounder-free-cnn/OCTDL/run\n",
      "================================================================================\n"
     ]
    },
    {
     "name": "stderr",
     "output_type": "stream",
     "text": [
      "epoch: [19 / 100], loss: 0.859071: 100%|██████████| 3/3 [00:35<00:00, 11.93s/it]\n"
     ]
    },
    {
     "name": "stdout",
     "output_type": "stream",
     "text": [
      "Training metrics: acc: 0.5657, f1: 0.5349, auc: 0.7759, precision: 0.5659, recall: 0.5657\n",
      "===================\n",
      "Validation metrics:\n",
      "acc: 0.591837\n",
      "f1: 0.481664\n",
      "auc: 0.894188\n",
      "precision: 0.466667\n",
      "recall: 0.591837\n",
      "===================\n"
     ]
    },
    {
     "name": "stderr",
     "output_type": "stream",
     "text": [
      "epoch: [20 / 100], loss: 0.958623: 100%|██████████| 3/3 [00:36<00:00, 12.13s/it]\n"
     ]
    },
    {
     "name": "stdout",
     "output_type": "stream",
     "text": [
      "Training metrics: acc: 0.5271, f1: 0.5405, auc: 0.7708, precision: 0.6209, recall: 0.5271\n",
      "===================\n",
      "Validation metrics:\n",
      "acc: 0.569728\n",
      "f1: 0.569728\n",
      "auc: 0.899833\n",
      "precision: 0.569728\n",
      "recall: 0.569728\n",
      "===================\n"
     ]
    },
    {
     "name": "stderr",
     "output_type": "stream",
     "text": [
      "epoch: [21 / 100], loss: 0.911107: 100%|██████████| 3/3 [00:35<00:00, 11.97s/it]\n"
     ]
    },
    {
     "name": "stdout",
     "output_type": "stream",
     "text": [
      "Training metrics: acc: 0.574, f1: 0.5257, auc: 0.7717, precision: 0.559, recall: 0.574\n",
      "===================\n",
      "Validation metrics:\n",
      "acc: 0.459184\n",
      "f1: 0.347459\n",
      "auc: 0.911529\n",
      "precision: 0.34798\n",
      "recall: 0.459184\n",
      "===================\n"
     ]
    },
    {
     "name": "stderr",
     "output_type": "stream",
     "text": [
      "epoch: [22 / 100], loss: 0.834085: 100%|██████████| 3/3 [00:36<00:00, 12.12s/it]\n"
     ]
    },
    {
     "name": "stdout",
     "output_type": "stream",
     "text": [
      "Training metrics: acc: 0.55, f1: 0.4648, auc: 0.7925, precision: 0.4627, recall: 0.55\n",
      "===================\n",
      "Validation metrics:\n",
      "acc: 0.557823\n",
      "f1: 0.315912\n",
      "auc: 0.864944\n",
      "precision: 0.358974\n",
      "recall: 0.557823\n",
      "===================\n"
     ]
    },
    {
     "name": "stderr",
     "output_type": "stream",
     "text": [
      "epoch: [23 / 100], loss: 0.903473: 100%|██████████| 3/3 [00:35<00:00, 11.97s/it]\n"
     ]
    },
    {
     "name": "stdout",
     "output_type": "stream",
     "text": [
      "Training metrics: acc: 0.5408, f1: 0.4725, auc: 0.7615, precision: 0.52, recall: 0.5408\n",
      "===================\n",
      "Validation metrics:\n",
      "acc: 0.403912\n",
      "f1: 0.418013\n",
      "auc: 0.854135\n",
      "precision: 0.436508\n",
      "recall: 0.403912\n",
      "===================\n"
     ]
    },
    {
     "name": "stderr",
     "output_type": "stream",
     "text": [
      "epoch: [24 / 100], loss: 0.792709: 100%|██████████| 3/3 [00:36<00:00, 12.05s/it]\n"
     ]
    },
    {
     "name": "stdout",
     "output_type": "stream",
     "text": [
      "Training metrics: acc: 0.5913, f1: 0.5911, auc: 0.7885, precision: 0.61, recall: 0.5913\n",
      "===================\n",
      "Validation metrics:\n",
      "acc: 0.659864\n",
      "f1: 0.636958\n",
      "auc: 0.875147\n",
      "precision: 0.616296\n",
      "recall: 0.659864\n",
      "===================\n"
     ]
    },
    {
     "name": "stderr",
     "output_type": "stream",
     "text": [
      "epoch: [25 / 100], loss: 0.767201: 100%|██████████| 3/3 [00:35<00:00, 11.95s/it]\n"
     ]
    },
    {
     "name": "stdout",
     "output_type": "stream",
     "text": [
      "Training metrics: acc: 0.5985, f1: 0.5474, auc: 0.7904, precision: 0.6148, recall: 0.5985\n",
      "===================\n",
      "Validation metrics:\n",
      "acc: 0.639456\n",
      "f1: 0.569758\n",
      "auc: 0.934515\n",
      "precision: 0.531215\n",
      "recall: 0.639456\n",
      "===================\n"
     ]
    },
    {
     "name": "stderr",
     "output_type": "stream",
     "text": [
      "epoch: [26 / 100], loss: 0.789635: 100%|██████████| 3/3 [00:36<00:00, 12.00s/it]\n"
     ]
    },
    {
     "name": "stdout",
     "output_type": "stream",
     "text": [
      "Training metrics: acc: 0.5635, f1: 0.5785, auc: 0.7844, precision: 0.6228, recall: 0.5635\n",
      "===================\n",
      "Validation metrics:\n",
      "acc: 0.416667\n",
      "f1: 0.451178\n",
      "auc: 0.930094\n",
      "precision: 0.548889\n",
      "recall: 0.416667\n",
      "===================\n"
     ]
    },
    {
     "name": "stderr",
     "output_type": "stream",
     "text": [
      "epoch: [27 / 100], loss: 0.717073: 100%|██████████| 3/3 [00:35<00:00, 11.96s/it]\n"
     ]
    },
    {
     "name": "stdout",
     "output_type": "stream",
     "text": [
      "Training metrics: acc: 0.607, f1: 0.6014, auc: 0.8195, precision: 0.5993, recall: 0.607\n",
      "===================\n",
      "Validation metrics:\n",
      "acc: 0.368197\n",
      "f1: 0.387137\n",
      "auc: 0.945328\n",
      "precision: 0.437642\n",
      "recall: 0.368197\n",
      "===================\n"
     ]
    },
    {
     "name": "stderr",
     "output_type": "stream",
     "text": [
      "epoch: [28 / 100], loss: 0.602542: 100%|██████████| 3/3 [00:35<00:00, 11.90s/it]\n"
     ]
    },
    {
     "name": "stdout",
     "output_type": "stream",
     "text": [
      "Training metrics: acc: 0.6697, f1: 0.6481, auc: 0.8543, precision: 0.692, recall: 0.6697\n",
      "===================\n",
      "Validation metrics:\n",
      "acc: 0.354592\n",
      "f1: 0.378363\n",
      "auc: 0.939953\n",
      "precision: 0.416667\n",
      "recall: 0.354592\n",
      "===================\n"
     ]
    },
    {
     "name": "stderr",
     "output_type": "stream",
     "text": [
      "epoch: [29 / 100], loss: 0.667084: 100%|██████████| 3/3 [00:35<00:00, 11.91s/it]\n"
     ]
    },
    {
     "name": "stdout",
     "output_type": "stream",
     "text": [
      "Training metrics: acc: 0.6487, f1: 0.6371, auc: 0.8064, precision: 0.6304, recall: 0.6487\n",
      "===================\n",
      "Validation metrics:\n",
      "acc: 0.521259\n",
      "f1: 0.507992\n",
      "auc: 0.938319\n",
      "precision: 0.5\n",
      "recall: 0.521259\n",
      "===================\n"
     ]
    },
    {
     "name": "stderr",
     "output_type": "stream",
     "text": [
      "epoch: [30 / 100], loss: 0.743525: 100%|██████████| 3/3 [00:35<00:00, 11.88s/it]\n"
     ]
    },
    {
     "name": "stdout",
     "output_type": "stream",
     "text": [
      "Training metrics: acc: 0.6389, f1: 0.6421, auc: 0.8039, precision: 0.6694, recall: 0.6389\n",
      "===================\n",
      "Validation metrics:\n",
      "acc: 0.541667\n",
      "f1: 0.558357\n",
      "auc: 0.948381\n",
      "precision: 0.585954\n",
      "recall: 0.541667\n",
      "===================\n"
     ]
    },
    {
     "name": "stderr",
     "output_type": "stream",
     "text": [
      "epoch: [31 / 100], loss: 0.683227: 100%|██████████| 3/3 [00:35<00:00, 11.80s/it]\n"
     ]
    },
    {
     "name": "stdout",
     "output_type": "stream",
     "text": [
      "Training metrics: acc: 0.604, f1: 0.6024, auc: 0.8263, precision: 0.602, recall: 0.604\n",
      "===================\n",
      "Validation metrics:\n",
      "acc: 0.659864\n",
      "f1: 0.622827\n",
      "auc: 0.937029\n",
      "precision: 0.593197\n",
      "recall: 0.659864\n",
      "===================\n"
     ]
    },
    {
     "name": "stderr",
     "output_type": "stream",
     "text": [
      "epoch: [32 / 100], loss: 0.661571: 100%|██████████| 3/3 [00:35<00:00, 11.97s/it]\n"
     ]
    },
    {
     "name": "stdout",
     "output_type": "stream",
     "text": [
      "Training metrics: acc: 0.6525, f1: 0.6146, auc: 0.8439, precision: 0.6758, recall: 0.6525\n",
      "===================\n",
      "Validation metrics:\n",
      "acc: 0.653061\n",
      "f1: 0.603726\n",
      "auc: 0.946008\n",
      "precision: 0.568813\n",
      "recall: 0.653061\n",
      "===================\n"
     ]
    },
    {
     "name": "stderr",
     "output_type": "stream",
     "text": [
      "epoch: [33 / 100], loss: 0.634931: 100%|██████████| 3/3 [00:35<00:00, 11.91s/it]\n"
     ]
    },
    {
     "name": "stdout",
     "output_type": "stream",
     "text": [
      "Training metrics: acc: 0.7113, f1: 0.714, auc: 0.8373, precision: 0.7188, recall: 0.7113\n",
      "===================\n",
      "Validation metrics:\n",
      "acc: 0.361395\n",
      "f1: 0.381944\n",
      "auc: 0.941313\n",
      "precision: 0.416667\n",
      "recall: 0.361395\n",
      "===================\n"
     ]
    },
    {
     "name": "stderr",
     "output_type": "stream",
     "text": [
      "epoch: [34 / 100], loss: 0.740713: 100%|██████████| 3/3 [00:35<00:00, 11.89s/it]\n"
     ]
    },
    {
     "name": "stdout",
     "output_type": "stream",
     "text": [
      "Training metrics: acc: 0.6232, f1: 0.5737, auc: 0.8092, precision: 0.6421, recall: 0.6232\n",
      "===================\n",
      "Validation metrics:\n",
      "acc: 0.625\n",
      "f1: 0.621633\n",
      "auc: 0.939953\n",
      "precision: 0.618333\n",
      "recall: 0.625\n",
      "===================\n"
     ]
    },
    {
     "name": "stderr",
     "output_type": "stream",
     "text": [
      "epoch: [35 / 100], loss: 0.661411: 100%|██████████| 3/3 [00:36<00:00, 12.07s/it]\n"
     ]
    },
    {
     "name": "stdout",
     "output_type": "stream",
     "text": [
      "Training metrics: acc: 0.6334, f1: 0.5895, auc: 0.8116, precision: 0.6436, recall: 0.6334\n",
      "===================\n",
      "Validation metrics:\n",
      "acc: 0.659864\n",
      "f1: 0.610599\n",
      "auc: 0.950765\n",
      "precision: 0.575758\n",
      "recall: 0.659864\n",
      "===================\n"
     ]
    },
    {
     "name": "stderr",
     "output_type": "stream",
     "text": [
      "epoch: [36 / 100], loss: 0.680134: 100%|██████████| 3/3 [00:36<00:00, 12.02s/it]\n"
     ]
    },
    {
     "name": "stdout",
     "output_type": "stream",
     "text": [
      "Training metrics: acc: 0.6029, f1: 0.5159, auc: 0.8296, precision: 0.5628, recall: 0.6029\n",
      "===================\n",
      "Validation metrics:\n",
      "acc: 0.666667\n",
      "f1: 0.643692\n",
      "auc: 0.946344\n",
      "precision: 0.622963\n",
      "recall: 0.666667\n",
      "===================\n",
      "================================================================================\n",
      "Best acc in validation set. Model save at C:/Users/x4287225/Desktop/confounder-free-cnn/OCTDL/run\n",
      "================================================================================\n"
     ]
    },
    {
     "name": "stderr",
     "output_type": "stream",
     "text": [
      "epoch: [37 / 100], loss: 0.554980: 100%|██████████| 3/3 [00:35<00:00, 11.93s/it]\n"
     ]
    },
    {
     "name": "stdout",
     "output_type": "stream",
     "text": [
      "Training metrics: acc: 0.6767, f1: 0.6797, auc: 0.8393, precision: 0.6835, recall: 0.6767\n",
      "===================\n",
      "Validation metrics:\n",
      "acc: 0.667517\n",
      "f1: 0.46544\n",
      "auc: 0.935316\n",
      "precision: 0.460606\n",
      "recall: 0.667517\n",
      "===================\n",
      "================================================================================\n",
      "Best acc in validation set. Model save at C:/Users/x4287225/Desktop/confounder-free-cnn/OCTDL/run\n",
      "================================================================================\n"
     ]
    },
    {
     "name": "stderr",
     "output_type": "stream",
     "text": [
      "epoch: [38 / 100], loss: 0.757283: 100%|██████████| 3/3 [00:35<00:00, 11.94s/it]\n"
     ]
    },
    {
     "name": "stdout",
     "output_type": "stream",
     "text": [
      "Training metrics: acc: 0.6259, f1: 0.6215, auc: 0.7868, precision: 0.643, recall: 0.6259\n",
      "===================\n",
      "Validation metrics:\n",
      "acc: 0.659864\n",
      "f1: 0.622827\n",
      "auc: 0.936133\n",
      "precision: 0.593197\n",
      "recall: 0.659864\n",
      "===================\n"
     ]
    },
    {
     "name": "stderr",
     "output_type": "stream",
     "text": [
      "epoch: [39 / 100], loss: 0.636861: 100%|██████████| 3/3 [00:36<00:00, 12.04s/it]\n"
     ]
    },
    {
     "name": "stdout",
     "output_type": "stream",
     "text": [
      "Training metrics: acc: 0.624, f1: 0.6049, auc: 0.8349, precision: 0.6233, recall: 0.624\n",
      "===================\n",
      "Validation metrics:\n",
      "acc: 0.659864\n",
      "f1: 0.622827\n",
      "auc: 0.938792\n",
      "precision: 0.593197\n",
      "recall: 0.659864\n",
      "===================\n"
     ]
    },
    {
     "name": "stderr",
     "output_type": "stream",
     "text": [
      "epoch: [40 / 100], loss: 0.612074: 100%|██████████| 3/3 [00:36<00:00, 12.06s/it]\n"
     ]
    },
    {
     "name": "stdout",
     "output_type": "stream",
     "text": [
      "Training metrics: acc: 0.745, f1: 0.751, auc: 0.8414, precision: 0.7586, recall: 0.745\n",
      "===================\n",
      "Validation metrics:\n",
      "acc: 0.819728\n",
      "f1: 0.829313\n",
      "auc: 0.950765\n",
      "precision: 0.909091\n",
      "recall: 0.819728\n",
      "===================\n",
      "================================================================================\n",
      "Best acc in validation set. Model save at C:/Users/x4287225/Desktop/confounder-free-cnn/OCTDL/run\n",
      "================================================================================\n"
     ]
    },
    {
     "name": "stderr",
     "output_type": "stream",
     "text": [
      "epoch: [41 / 100], loss: 0.588542: 100%|██████████| 3/3 [00:35<00:00, 12.00s/it]\n"
     ]
    },
    {
     "name": "stdout",
     "output_type": "stream",
     "text": [
      "Training metrics: acc: 0.6934, f1: 0.6932, auc: 0.8263, precision: 0.7, recall: 0.6934\n",
      "===================\n",
      "Validation metrics:\n",
      "acc: 0.666667\n",
      "f1: 0.643692\n",
      "auc: 0.950085\n",
      "precision: 0.622963\n",
      "recall: 0.666667\n",
      "===================\n"
     ]
    },
    {
     "name": "stderr",
     "output_type": "stream",
     "text": [
      "epoch: [42 / 100], loss: 0.617881: 100%|██████████| 3/3 [00:36<00:00, 12.15s/it]\n"
     ]
    },
    {
     "name": "stdout",
     "output_type": "stream",
     "text": [
      "Training metrics: acc: 0.692, f1: 0.687, auc: 0.8411, precision: 0.6913, recall: 0.692\n",
      "===================\n",
      "Validation metrics:\n",
      "acc: 0.666667\n",
      "f1: 0.643692\n",
      "auc: 0.950765\n",
      "precision: 0.622963\n",
      "recall: 0.666667\n",
      "===================\n"
     ]
    },
    {
     "name": "stderr",
     "output_type": "stream",
     "text": [
      "epoch: [43 / 100], loss: 0.592289: 100%|██████████| 3/3 [00:35<00:00, 11.83s/it]\n"
     ]
    },
    {
     "name": "stdout",
     "output_type": "stream",
     "text": [
      "Training metrics: acc: 0.7307, f1: 0.7307, auc: 0.8653, precision: 0.7318, recall: 0.7307\n",
      "===================\n",
      "Validation metrics:\n",
      "acc: 0.541667\n",
      "f1: 0.568062\n",
      "auc: 0.946481\n",
      "precision: 0.604444\n",
      "recall: 0.541667\n",
      "===================\n"
     ]
    },
    {
     "name": "stderr",
     "output_type": "stream",
     "text": [
      "epoch: [44 / 100], loss: 0.502937: 100%|██████████| 3/3 [00:36<00:00, 12.02s/it]\n"
     ]
    },
    {
     "name": "stdout",
     "output_type": "stream",
     "text": [
      "Training metrics: acc: 0.753, f1: 0.7515, auc: 0.8915, precision: 0.7507, recall: 0.753\n",
      "===================\n",
      "Validation metrics:\n",
      "acc: 0.666667\n",
      "f1: 0.643692\n",
      "auc: 0.946481\n",
      "precision: 0.622963\n",
      "recall: 0.666667\n",
      "===================\n"
     ]
    },
    {
     "name": "stderr",
     "output_type": "stream",
     "text": [
      "epoch: [45 / 100], loss: 0.444655: 100%|██████████| 3/3 [00:37<00:00, 12.59s/it]\n"
     ]
    },
    {
     "name": "stdout",
     "output_type": "stream",
     "text": [
      "Training metrics: acc: 0.7924, f1: 0.792, auc: 0.9148, precision: 0.7928, recall: 0.7924\n",
      "===================\n",
      "Validation metrics:\n",
      "acc: 0.666667\n",
      "f1: 0.643692\n",
      "auc: 0.945871\n",
      "precision: 0.622963\n",
      "recall: 0.666667\n",
      "===================\n"
     ]
    },
    {
     "name": "stderr",
     "output_type": "stream",
     "text": [
      "epoch: [46 / 100], loss: 0.486078: 100%|██████████| 3/3 [00:36<00:00, 12.14s/it]\n"
     ]
    },
    {
     "name": "stdout",
     "output_type": "stream",
     "text": [
      "Training metrics: acc: 0.7759, f1: 0.775, auc: 0.9042, precision: 0.7745, recall: 0.7759\n",
      "===================\n",
      "Validation metrics:\n",
      "acc: 0.541667\n",
      "f1: 0.568062\n",
      "auc: 0.944917\n",
      "precision: 0.604444\n",
      "recall: 0.541667\n",
      "===================\n"
     ]
    },
    {
     "name": "stderr",
     "output_type": "stream",
     "text": [
      "epoch: [47 / 100], loss: 0.415387: 100%|██████████| 3/3 [00:35<00:00, 11.88s/it]\n"
     ]
    },
    {
     "name": "stdout",
     "output_type": "stream",
     "text": [
      "Training metrics: acc: 0.8036, f1: 0.8018, auc: 0.9147, precision: 0.8025, recall: 0.8036\n",
      "===================\n",
      "Validation metrics:\n",
      "acc: 0.646259\n",
      "f1: 0.589474\n",
      "auc: 0.946551\n",
      "precision: 0.555556\n",
      "recall: 0.646259\n",
      "===================\n"
     ]
    },
    {
     "name": "stderr",
     "output_type": "stream",
     "text": [
      "epoch: [48 / 100], loss: 0.472311: 100%|██████████| 3/3 [00:35<00:00, 11.91s/it]\n"
     ]
    },
    {
     "name": "stdout",
     "output_type": "stream",
     "text": [
      "Training metrics: acc: 0.8006, f1: 0.8006, auc: 0.9123, precision: 0.8006, recall: 0.8006\n",
      "===================\n",
      "Validation metrics:\n",
      "acc: 0.833333\n",
      "f1: 0.869281\n",
      "auc: 0.952399\n",
      "precision: 0.962963\n",
      "recall: 0.833333\n",
      "===================\n",
      "================================================================================\n",
      "Best acc in validation set. Model save at C:/Users/x4287225/Desktop/confounder-free-cnn/OCTDL/run\n",
      "================================================================================\n"
     ]
    },
    {
     "name": "stderr",
     "output_type": "stream",
     "text": [
      "epoch: [49 / 100], loss: 0.464052: 100%|██████████| 3/3 [00:35<00:00, 11.92s/it]\n"
     ]
    },
    {
     "name": "stdout",
     "output_type": "stream",
     "text": [
      "Training metrics: acc: 0.809, f1: 0.8019, auc: 0.9162, precision: 0.807, recall: 0.809\n",
      "===================\n",
      "Validation metrics:\n",
      "acc: 0.653061\n",
      "f1: 0.593056\n",
      "auc: 0.947978\n",
      "precision: 0.555556\n",
      "recall: 0.653061\n",
      "===================\n"
     ]
    },
    {
     "name": "stderr",
     "output_type": "stream",
     "text": [
      "epoch: [50 / 100], loss: 0.442329: 100%|██████████| 3/3 [00:35<00:00, 11.99s/it]\n"
     ]
    },
    {
     "name": "stdout",
     "output_type": "stream",
     "text": [
      "Training metrics: acc: 0.8401, f1: 0.8432, auc: 0.9316, precision: 0.8489, recall: 0.8401\n",
      "===================\n",
      "Validation metrics:\n",
      "acc: 0.819728\n",
      "f1: 0.829313\n",
      "auc: 0.961308\n",
      "precision: 0.909091\n",
      "recall: 0.819728\n",
      "===================\n"
     ]
    },
    {
     "name": "stderr",
     "output_type": "stream",
     "text": [
      "epoch: [51 / 100], loss: 0.456785: 100%|██████████| 3/3 [00:35<00:00, 11.95s/it]\n"
     ]
    },
    {
     "name": "stdout",
     "output_type": "stream",
     "text": [
      "Training metrics: acc: 0.8295, f1: 0.8281, auc: 0.9326, precision: 0.8317, recall: 0.8295\n",
      "===================\n",
      "Validation metrics:\n",
      "acc: 0.659864\n",
      "f1: 0.610599\n",
      "auc: 0.950292\n",
      "precision: 0.575758\n",
      "recall: 0.659864\n",
      "===================\n"
     ]
    },
    {
     "name": "stderr",
     "output_type": "stream",
     "text": [
      "epoch: [52 / 100], loss: 0.417624: 100%|██████████| 3/3 [00:36<00:00, 12.01s/it]\n"
     ]
    },
    {
     "name": "stdout",
     "output_type": "stream",
     "text": [
      "Training metrics: acc: 0.825, f1: 0.8246, auc: 0.9325, precision: 0.8342, recall: 0.825\n",
      "===================\n",
      "Validation metrics:\n",
      "acc: 0.791667\n",
      "f1: 0.791667\n",
      "auc: 0.966202\n",
      "precision: 0.791667\n",
      "recall: 0.791667\n",
      "===================\n"
     ]
    },
    {
     "name": "stderr",
     "output_type": "stream",
     "text": [
      "epoch: [53 / 100], loss: 0.405207: 100%|██████████| 3/3 [00:35<00:00, 11.93s/it]\n"
     ]
    },
    {
     "name": "stdout",
     "output_type": "stream",
     "text": [
      "Training metrics: acc: 0.8183, f1: 0.815, auc: 0.9401, precision: 0.8168, recall: 0.8183\n",
      "===================\n",
      "Validation metrics:\n",
      "acc: 0.784864\n",
      "f1: 0.771073\n",
      "auc: 0.967492\n",
      "precision: 0.759259\n",
      "recall: 0.784864\n",
      "===================\n"
     ]
    },
    {
     "name": "stderr",
     "output_type": "stream",
     "text": [
      "epoch: [54 / 100], loss: 0.315008: 100%|██████████| 3/3 [00:35<00:00, 11.90s/it]\n"
     ]
    },
    {
     "name": "stdout",
     "output_type": "stream",
     "text": [
      "Training metrics: acc: 0.9073, f1: 0.9091, auc: 0.9699, precision: 0.9117, recall: 0.9073\n",
      "===================\n",
      "Validation metrics:\n",
      "acc: 0.806122\n",
      "f1: 0.752482\n",
      "auc: 0.97205\n",
      "precision: 0.722222\n",
      "recall: 0.806122\n",
      "===================\n"
     ]
    },
    {
     "name": "stderr",
     "output_type": "stream",
     "text": [
      "epoch: [55 / 100], loss: 0.330666: 100%|██████████| 3/3 [00:35<00:00, 11.95s/it]\n"
     ]
    },
    {
     "name": "stdout",
     "output_type": "stream",
     "text": [
      "Training metrics: acc: 0.8251, f1: 0.8249, auc: 0.9642, precision: 0.8559, recall: 0.8251\n",
      "===================\n",
      "Validation metrics:\n",
      "acc: 0.833333\n",
      "f1: 0.869281\n",
      "auc: 0.97205\n",
      "precision: 0.962963\n",
      "recall: 0.833333\n",
      "===================\n"
     ]
    },
    {
     "name": "stderr",
     "output_type": "stream",
     "text": [
      "epoch: [56 / 100], loss: 0.319679: 100%|██████████| 3/3 [00:35<00:00, 11.94s/it]\n"
     ]
    },
    {
     "name": "stdout",
     "output_type": "stream",
     "text": [
      "Training metrics: acc: 0.8758, f1: 0.878, auc: 0.9632, precision: 0.8842, recall: 0.8758\n",
      "===================\n",
      "Validation metrics:\n",
      "acc: 0.75\n",
      "f1: 0.733333\n",
      "auc: 0.98667\n",
      "precision: 0.730159\n",
      "recall: 0.75\n",
      "===================\n"
     ]
    },
    {
     "name": "stderr",
     "output_type": "stream",
     "text": [
      "epoch: [57 / 100], loss: 0.455105: 100%|██████████| 3/3 [00:35<00:00, 11.98s/it]\n"
     ]
    },
    {
     "name": "stdout",
     "output_type": "stream",
     "text": [
      "Training metrics: acc: 0.8124, f1: 0.7988, auc: 0.9415, precision: 0.8052, recall: 0.8124\n",
      "===================\n",
      "Validation metrics:\n",
      "acc: 0.833333\n",
      "f1: 0.869281\n",
      "auc: 0.97205\n",
      "precision: 0.962963\n",
      "recall: 0.833333\n",
      "===================\n"
     ]
    },
    {
     "name": "stderr",
     "output_type": "stream",
     "text": [
      "epoch: [58 / 100], loss: 0.369922: 100%|██████████| 3/3 [00:36<00:00, 12.04s/it]\n"
     ]
    },
    {
     "name": "stdout",
     "output_type": "stream",
     "text": [
      "Training metrics: acc: 0.8511, f1: 0.8472, auc: 0.9518, precision: 0.8515, recall: 0.8511\n",
      "===================\n",
      "Validation metrics:\n",
      "acc: 0.819728\n",
      "f1: 0.829313\n",
      "auc: 0.974974\n",
      "precision: 0.909091\n",
      "recall: 0.819728\n",
      "===================\n"
     ]
    },
    {
     "name": "stderr",
     "output_type": "stream",
     "text": [
      "epoch: [59 / 100], loss: 0.299950: 100%|██████████| 3/3 [00:36<00:00, 12.05s/it]\n"
     ]
    },
    {
     "name": "stdout",
     "output_type": "stream",
     "text": [
      "Training metrics: acc: 0.8957, f1: 0.8909, auc: 0.9749, precision: 0.8897, recall: 0.8957\n",
      "===================\n",
      "Validation metrics:\n",
      "acc: 0.833333\n",
      "f1: 0.869281\n",
      "auc: 0.974974\n",
      "precision: 0.962963\n",
      "recall: 0.833333\n",
      "===================\n"
     ]
    },
    {
     "name": "stderr",
     "output_type": "stream",
     "text": [
      "epoch: [60 / 100], loss: 0.301457: 100%|██████████| 3/3 [00:35<00:00, 11.91s/it]\n"
     ]
    },
    {
     "name": "stdout",
     "output_type": "stream",
     "text": [
      "Training metrics: acc: 0.8784, f1: 0.879, auc: 0.9654, precision: 0.8829, recall: 0.8784\n",
      "===================\n",
      "Validation metrics:\n",
      "acc: 0.666667\n",
      "f1: 0.643692\n",
      "auc: 0.960354\n",
      "precision: 0.622963\n",
      "recall: 0.666667\n",
      "===================\n"
     ]
    },
    {
     "name": "stderr",
     "output_type": "stream",
     "text": [
      "epoch: [61 / 100], loss: 0.253791: 100%|██████████| 3/3 [00:36<00:00, 12.05s/it]\n"
     ]
    },
    {
     "name": "stdout",
     "output_type": "stream",
     "text": [
      "Training metrics: acc: 0.9127, f1: 0.9128, auc: 0.972, precision: 0.913, recall: 0.9127\n",
      "===================\n",
      "Validation metrics:\n",
      "acc: 0.819728\n",
      "f1: 0.789352\n",
      "auc: 0.980822\n",
      "precision: 0.766667\n",
      "recall: 0.819728\n",
      "===================\n"
     ]
    },
    {
     "name": "stderr",
     "output_type": "stream",
     "text": [
      "epoch: [62 / 100], loss: 0.377404: 100%|██████████| 3/3 [00:35<00:00, 11.84s/it]\n"
     ]
    },
    {
     "name": "stdout",
     "output_type": "stream",
     "text": [
      "Training metrics: acc: 0.8639, f1: 0.8646, auc: 0.9557, precision: 0.8674, recall: 0.8639\n",
      "===================\n",
      "Validation metrics:\n",
      "acc: 0.826531\n",
      "f1: 0.848415\n",
      "auc: 0.993335\n",
      "precision: 0.933333\n",
      "recall: 0.826531\n",
      "===================\n"
     ]
    },
    {
     "name": "stderr",
     "output_type": "stream",
     "text": [
      "epoch: [63 / 100], loss: 0.186407: 100%|██████████| 3/3 [00:36<00:00, 12.13s/it]\n"
     ]
    },
    {
     "name": "stdout",
     "output_type": "stream",
     "text": [
      "Training metrics: acc: 0.9328, f1: 0.9351, auc: 0.9841, precision: 0.9383, recall: 0.9328\n",
      "===================\n",
      "Validation metrics:\n",
      "acc: 0.833333\n",
      "f1: 0.869281\n",
      "auc: 0.996259\n",
      "precision: 0.962963\n",
      "recall: 0.833333\n",
      "===================\n"
     ]
    },
    {
     "name": "stderr",
     "output_type": "stream",
     "text": [
      "epoch: [64 / 100], loss: 0.218504: 100%|██████████| 3/3 [00:35<00:00, 11.83s/it]\n"
     ]
    },
    {
     "name": "stdout",
     "output_type": "stream",
     "text": [
      "Training metrics: acc: 0.9112, f1: 0.9091, auc: 0.9835, precision: 0.9096, recall: 0.9112\n",
      "===================\n",
      "Validation metrics:\n",
      "acc: 0.666667\n",
      "f1: 0.643692\n",
      "auc: 0.992518\n",
      "precision: 0.622963\n",
      "recall: 0.666667\n",
      "===================\n"
     ]
    },
    {
     "name": "stderr",
     "output_type": "stream",
     "text": [
      "epoch: [65 / 100], loss: 0.226191: 100%|██████████| 3/3 [00:36<00:00, 12.00s/it]\n"
     ]
    },
    {
     "name": "stdout",
     "output_type": "stream",
     "text": [
      "Training metrics: acc: 0.9335, f1: 0.9327, auc: 0.982, precision: 0.9321, recall: 0.9335\n",
      "===================\n",
      "Validation metrics:\n",
      "acc: 0.826531\n",
      "f1: 0.810289\n",
      "auc: 0.994152\n",
      "precision: 0.796296\n",
      "recall: 0.826531\n",
      "===================\n"
     ]
    },
    {
     "name": "stderr",
     "output_type": "stream",
     "text": [
      "epoch: [66 / 100], loss: 0.211750: 100%|██████████| 3/3 [00:37<00:00, 12.67s/it]\n"
     ]
    },
    {
     "name": "stdout",
     "output_type": "stream",
     "text": [
      "Training metrics: acc: 0.9018, f1: 0.9014, auc: 0.9808, precision: 0.9015, recall: 0.9018\n",
      "===================\n",
      "Validation metrics:\n",
      "acc: 0.826531\n",
      "f1: 0.810289\n",
      "auc: 0.994152\n",
      "precision: 0.796296\n",
      "recall: 0.826531\n",
      "===================\n"
     ]
    },
    {
     "name": "stderr",
     "output_type": "stream",
     "text": [
      "epoch: [67 / 100], loss: 0.156840: 100%|██████████| 3/3 [00:35<00:00, 11.74s/it]\n"
     ]
    },
    {
     "name": "stdout",
     "output_type": "stream",
     "text": [
      "Training metrics: acc: 0.9334, f1: 0.9309, auc: 0.9898, precision: 0.9294, recall: 0.9334\n",
      "===================\n",
      "Validation metrics:\n",
      "acc: 0.826531\n",
      "f1: 0.810289\n",
      "auc: 0.994152\n",
      "precision: 0.796296\n",
      "recall: 0.826531\n",
      "===================\n"
     ]
    },
    {
     "name": "stderr",
     "output_type": "stream",
     "text": [
      "epoch: [68 / 100], loss: 0.136177: 100%|██████████| 3/3 [00:35<00:00, 11.96s/it]\n"
     ]
    },
    {
     "name": "stdout",
     "output_type": "stream",
     "text": [
      "Training metrics: acc: 0.9367, f1: 0.9369, auc: 0.9933, precision: 0.9372, recall: 0.9367\n",
      "===================\n",
      "Validation metrics:\n",
      "acc: 0.826531\n",
      "f1: 0.810289\n",
      "auc: 0.994152\n",
      "precision: 0.796296\n",
      "recall: 0.826531\n",
      "===================\n"
     ]
    },
    {
     "name": "stderr",
     "output_type": "stream",
     "text": [
      "epoch: [69 / 100], loss: 0.161455: 100%|██████████| 3/3 [00:36<00:00, 12.15s/it]\n"
     ]
    },
    {
     "name": "stdout",
     "output_type": "stream",
     "text": [
      "Training metrics: acc: 0.9467, f1: 0.947, auc: 0.9886, precision: 0.9473, recall: 0.9467\n",
      "===================\n",
      "Validation metrics:\n",
      "acc: 0.833333\n",
      "f1: 0.869281\n",
      "auc: 0.994152\n",
      "precision: 0.962963\n",
      "recall: 0.833333\n",
      "===================\n"
     ]
    },
    {
     "name": "stderr",
     "output_type": "stream",
     "text": [
      "epoch: [70 / 100], loss: 0.221971: 100%|██████████| 3/3 [00:35<00:00, 11.90s/it]\n"
     ]
    },
    {
     "name": "stdout",
     "output_type": "stream",
     "text": [
      "Training metrics: acc: 0.9159, f1: 0.9167, auc: 0.9825, precision: 0.919, recall: 0.9159\n",
      "===================\n",
      "Validation metrics:\n",
      "acc: 0.833333\n",
      "f1: 0.869281\n",
      "auc: 1.0\n",
      "precision: 0.962963\n",
      "recall: 0.833333\n",
      "===================\n"
     ]
    },
    {
     "name": "stderr",
     "output_type": "stream",
     "text": [
      "epoch: [71 / 100], loss: 0.247984: 100%|██████████| 3/3 [00:35<00:00, 12.00s/it]\n"
     ]
    },
    {
     "name": "stdout",
     "output_type": "stream",
     "text": [
      "Training metrics: acc: 0.8928, f1: 0.8929, auc: 0.9795, precision: 0.8935, recall: 0.8928\n",
      "===================\n",
      "Validation metrics:\n",
      "acc: 0.833333\n",
      "f1: 0.869281\n",
      "auc: 0.996259\n",
      "precision: 0.962963\n",
      "recall: 0.833333\n",
      "===================\n"
     ]
    },
    {
     "name": "stderr",
     "output_type": "stream",
     "text": [
      "epoch: [72 / 100], loss: 0.143086: 100%|██████████| 3/3 [00:36<00:00, 12.18s/it]\n"
     ]
    },
    {
     "name": "stdout",
     "output_type": "stream",
     "text": [
      "Training metrics: acc: 0.9553, f1: 0.9576, auc: 0.9917, precision: 0.9605, recall: 0.9553\n",
      "===================\n",
      "Validation metrics:\n",
      "acc: 0.833333\n",
      "f1: 0.869281\n",
      "auc: 0.996259\n",
      "precision: 0.962963\n",
      "recall: 0.833333\n",
      "===================\n"
     ]
    },
    {
     "name": "stderr",
     "output_type": "stream",
     "text": [
      "epoch: [73 / 100], loss: 0.179335: 100%|██████████| 3/3 [00:35<00:00, 11.91s/it]\n"
     ]
    },
    {
     "name": "stdout",
     "output_type": "stream",
     "text": [
      "Training metrics: acc: 0.925, f1: 0.9247, auc: 0.9896, precision: 0.9273, recall: 0.925\n",
      "===================\n",
      "Validation metrics:\n",
      "acc: 0.833333\n",
      "f1: 0.869281\n",
      "auc: 1.0\n",
      "precision: 0.962963\n",
      "recall: 0.833333\n",
      "===================\n"
     ]
    },
    {
     "name": "stderr",
     "output_type": "stream",
     "text": [
      "epoch: [74 / 100], loss: 0.152038: 100%|██████████| 3/3 [00:36<00:00, 12.04s/it]\n"
     ]
    },
    {
     "name": "stdout",
     "output_type": "stream",
     "text": [
      "Training metrics: acc: 0.9559, f1: 0.9583, auc: 0.9905, precision: 0.9616, recall: 0.9559\n",
      "===================\n",
      "Validation metrics:\n",
      "acc: 0.958333\n",
      "f1: 0.911111\n",
      "auc: 1.0\n",
      "precision: 0.888889\n",
      "recall: 0.958333\n",
      "===================\n",
      "================================================================================\n",
      "Best acc in validation set. Model save at C:/Users/x4287225/Desktop/confounder-free-cnn/OCTDL/run\n",
      "================================================================================\n"
     ]
    },
    {
     "name": "stderr",
     "output_type": "stream",
     "text": [
      "epoch: [75 / 100], loss: 0.175225: 100%|██████████| 3/3 [00:35<00:00, 11.97s/it]\n"
     ]
    },
    {
     "name": "stdout",
     "output_type": "stream",
     "text": [
      "Training metrics: acc: 0.942, f1: 0.9433, auc: 0.9925, precision: 0.9459, recall: 0.942\n",
      "===================\n",
      "Validation metrics:\n",
      "acc: 0.833333\n",
      "f1: 0.869281\n",
      "auc: 1.0\n",
      "precision: 0.962963\n",
      "recall: 0.833333\n",
      "===================\n"
     ]
    },
    {
     "name": "stderr",
     "output_type": "stream",
     "text": [
      "epoch: [76 / 100], loss: 0.140901: 100%|██████████| 3/3 [00:36<00:00, 12.05s/it]\n"
     ]
    },
    {
     "name": "stdout",
     "output_type": "stream",
     "text": [
      "Training metrics: acc: 0.941, f1: 0.9437, auc: 0.9919, precision: 0.9475, recall: 0.941\n",
      "===================\n",
      "Validation metrics:\n",
      "acc: 0.833333\n",
      "f1: 0.869281\n",
      "auc: 1.0\n",
      "precision: 0.962963\n",
      "recall: 0.833333\n",
      "===================\n"
     ]
    },
    {
     "name": "stderr",
     "output_type": "stream",
     "text": [
      "epoch: [77 / 100], loss: 0.133303: 100%|██████████| 3/3 [00:36<00:00, 12.06s/it]\n"
     ]
    },
    {
     "name": "stdout",
     "output_type": "stream",
     "text": [
      "Training metrics: acc: 0.9319, f1: 0.933, auc: 0.9931, precision: 0.9347, recall: 0.9319\n",
      "===================\n",
      "Validation metrics:\n",
      "acc: 0.833333\n",
      "f1: 0.869281\n",
      "auc: 1.0\n",
      "precision: 0.962963\n",
      "recall: 0.833333\n",
      "===================\n"
     ]
    },
    {
     "name": "stderr",
     "output_type": "stream",
     "text": [
      "epoch: [78 / 100], loss: 0.106747: 100%|██████████| 3/3 [00:35<00:00, 11.95s/it]\n"
     ]
    },
    {
     "name": "stdout",
     "output_type": "stream",
     "text": [
      "Training metrics: acc: 0.9625, f1: 0.9632, auc: 0.9961, precision: 0.9657, recall: 0.9625\n",
      "===================\n",
      "Validation metrics:\n",
      "acc: 0.833333\n",
      "f1: 0.869281\n",
      "auc: 1.0\n",
      "precision: 0.962963\n",
      "recall: 0.833333\n",
      "===================\n"
     ]
    },
    {
     "name": "stderr",
     "output_type": "stream",
     "text": [
      "epoch: [79 / 100], loss: 0.142494: 100%|██████████| 3/3 [00:36<00:00, 12.14s/it]\n"
     ]
    },
    {
     "name": "stdout",
     "output_type": "stream",
     "text": [
      "Training metrics: acc: 0.9592, f1: 0.9587, auc: 0.9937, precision: 0.9597, recall: 0.9592\n",
      "===================\n",
      "Validation metrics:\n",
      "acc: 0.833333\n",
      "f1: 0.869281\n",
      "auc: 1.0\n",
      "precision: 0.962963\n",
      "recall: 0.833333\n",
      "===================\n"
     ]
    },
    {
     "name": "stderr",
     "output_type": "stream",
     "text": [
      "epoch: [80 / 100], loss: 0.088874: 100%|██████████| 3/3 [00:36<00:00, 12.09s/it]\n"
     ]
    },
    {
     "name": "stdout",
     "output_type": "stream",
     "text": [
      "Training metrics: acc: 0.9707, f1: 0.9681, auc: 0.9974, precision: 0.9658, recall: 0.9707\n",
      "===================\n",
      "Validation metrics:\n",
      "acc: 0.833333\n",
      "f1: 0.869281\n",
      "auc: 0.997076\n",
      "precision: 0.962963\n",
      "recall: 0.833333\n",
      "===================\n"
     ]
    },
    {
     "name": "stderr",
     "output_type": "stream",
     "text": [
      "epoch: [81 / 100], loss: 0.111834: 100%|██████████| 3/3 [00:36<00:00, 12.00s/it]\n"
     ]
    },
    {
     "name": "stdout",
     "output_type": "stream",
     "text": [
      "Training metrics: acc: 0.9542, f1: 0.9468, auc: 0.9977, precision: 0.9462, recall: 0.9542\n",
      "===================\n",
      "Validation metrics:\n",
      "acc: 0.833333\n",
      "f1: 0.869281\n",
      "auc: 1.0\n",
      "precision: 0.962963\n",
      "recall: 0.833333\n",
      "===================\n"
     ]
    },
    {
     "name": "stderr",
     "output_type": "stream",
     "text": [
      "epoch: [82 / 100], loss: 0.088145: 100%|██████████| 3/3 [00:36<00:00, 12.10s/it]\n"
     ]
    },
    {
     "name": "stdout",
     "output_type": "stream",
     "text": [
      "Training metrics: acc: 0.9554, f1: 0.9575, auc: 0.9964, precision: 0.9603, recall: 0.9554\n",
      "===================\n",
      "Validation metrics:\n",
      "acc: 0.833333\n",
      "f1: 0.869281\n",
      "auc: 1.0\n",
      "precision: 0.962963\n",
      "recall: 0.833333\n",
      "===================\n"
     ]
    },
    {
     "name": "stderr",
     "output_type": "stream",
     "text": [
      "epoch: [83 / 100], loss: 0.158155: 100%|██████████| 3/3 [00:35<00:00, 11.89s/it]\n"
     ]
    },
    {
     "name": "stdout",
     "output_type": "stream",
     "text": [
      "Training metrics: acc: 0.9375, f1: 0.9384, auc: 0.9912, precision: 0.9403, recall: 0.9375\n",
      "===================\n",
      "Validation metrics:\n",
      "acc: 0.833333\n",
      "f1: 0.869281\n",
      "auc: 1.0\n",
      "precision: 0.962963\n",
      "recall: 0.833333\n",
      "===================\n"
     ]
    },
    {
     "name": "stderr",
     "output_type": "stream",
     "text": [
      "epoch: [84 / 100], loss: 0.117202: 100%|██████████| 3/3 [00:36<00:00, 12.14s/it]\n"
     ]
    },
    {
     "name": "stdout",
     "output_type": "stream",
     "text": [
      "Training metrics: acc: 0.9448, f1: 0.9447, auc: 0.9954, precision: 0.9456, recall: 0.9448\n",
      "===================\n",
      "Validation metrics:\n",
      "acc: 0.833333\n",
      "f1: 0.869281\n",
      "auc: 1.0\n",
      "precision: 0.962963\n",
      "recall: 0.833333\n",
      "===================\n"
     ]
    },
    {
     "name": "stderr",
     "output_type": "stream",
     "text": [
      "epoch: [85 / 100], loss: 0.178053: 100%|██████████| 3/3 [00:36<00:00, 12.05s/it]\n"
     ]
    },
    {
     "name": "stdout",
     "output_type": "stream",
     "text": [
      "Training metrics: acc: 0.9489, f1: 0.949, auc: 0.9919, precision: 0.9491, recall: 0.9489\n",
      "===================\n",
      "Validation metrics:\n",
      "acc: 0.833333\n",
      "f1: 0.869281\n",
      "auc: 1.0\n",
      "precision: 0.962963\n",
      "recall: 0.833333\n",
      "===================\n"
     ]
    },
    {
     "name": "stderr",
     "output_type": "stream",
     "text": [
      "epoch: [86 / 100], loss: 0.161208: 100%|██████████| 3/3 [00:36<00:00, 12.15s/it]\n"
     ]
    },
    {
     "name": "stdout",
     "output_type": "stream",
     "text": [
      "Training metrics: acc: 0.9371, f1: 0.9383, auc: 0.9917, precision: 0.9414, recall: 0.9371\n",
      "===================\n",
      "Validation metrics:\n",
      "acc: 0.833333\n",
      "f1: 0.869281\n",
      "auc: 1.0\n",
      "precision: 0.962963\n",
      "recall: 0.833333\n",
      "===================\n"
     ]
    },
    {
     "name": "stderr",
     "output_type": "stream",
     "text": [
      "epoch: [87 / 100], loss: 0.095108: 100%|██████████| 3/3 [00:36<00:00, 12.09s/it]\n"
     ]
    },
    {
     "name": "stdout",
     "output_type": "stream",
     "text": [
      "Training metrics: acc: 0.9623, f1: 0.965, auc: 0.9967, precision: 0.9682, recall: 0.9623\n",
      "===================\n",
      "Validation metrics:\n",
      "acc: 0.833333\n",
      "f1: 0.869281\n",
      "auc: 1.0\n",
      "precision: 0.962963\n",
      "recall: 0.833333\n",
      "===================\n"
     ]
    },
    {
     "name": "stderr",
     "output_type": "stream",
     "text": [
      "epoch: [88 / 100], loss: 0.127477: 100%|██████████| 3/3 [00:35<00:00, 11.98s/it]\n"
     ]
    },
    {
     "name": "stdout",
     "output_type": "stream",
     "text": [
      "Training metrics: acc: 0.9705, f1: 0.9692, auc: 0.9947, precision: 0.9683, recall: 0.9705\n",
      "===================\n",
      "Validation metrics:\n",
      "acc: 1.0\n",
      "f1: 1.0\n",
      "auc: 1.0\n",
      "precision: 1.0\n",
      "recall: 1.0\n",
      "===================\n",
      "================================================================================\n",
      "Best acc in validation set. Model save at C:/Users/x4287225/Desktop/confounder-free-cnn/OCTDL/run\n",
      "================================================================================\n"
     ]
    },
    {
     "name": "stderr",
     "output_type": "stream",
     "text": [
      "epoch: [89 / 100], loss: 0.103533: 100%|██████████| 3/3 [00:35<00:00, 11.92s/it]\n"
     ]
    },
    {
     "name": "stdout",
     "output_type": "stream",
     "text": [
      "Training metrics: acc: 0.9463, f1: 0.9464, auc: 0.9966, precision: 0.9483, recall: 0.9463\n",
      "===================\n",
      "Validation metrics:\n",
      "acc: 1.0\n",
      "f1: 1.0\n",
      "auc: 1.0\n",
      "precision: 1.0\n",
      "recall: 1.0\n",
      "===================\n"
     ]
    },
    {
     "name": "stderr",
     "output_type": "stream",
     "text": [
      "epoch: [90 / 100], loss: 0.135655: 100%|██████████| 3/3 [00:36<00:00, 12.04s/it]\n"
     ]
    },
    {
     "name": "stdout",
     "output_type": "stream",
     "text": [
      "Training metrics: acc: 0.9494, f1: 0.949, auc: 0.9905, precision: 0.95, recall: 0.9494\n",
      "===================\n",
      "Validation metrics:\n",
      "acc: 1.0\n",
      "f1: 1.0\n",
      "auc: 1.0\n",
      "precision: 1.0\n",
      "recall: 1.0\n",
      "===================\n"
     ]
    },
    {
     "name": "stderr",
     "output_type": "stream",
     "text": [
      "epoch: [91 / 100], loss: 0.137845: 100%|██████████| 3/3 [00:35<00:00, 11.97s/it]\n"
     ]
    },
    {
     "name": "stdout",
     "output_type": "stream",
     "text": [
      "Training metrics: acc: 0.9552, f1: 0.9536, auc: 0.9937, precision: 0.9525, recall: 0.9552\n",
      "===================\n",
      "Validation metrics:\n",
      "acc: 1.0\n",
      "f1: 1.0\n",
      "auc: 1.0\n",
      "precision: 1.0\n",
      "recall: 1.0\n",
      "===================\n"
     ]
    },
    {
     "name": "stderr",
     "output_type": "stream",
     "text": [
      "epoch: [92 / 100], loss: 0.142637: 100%|██████████| 3/3 [00:35<00:00, 11.96s/it]\n"
     ]
    },
    {
     "name": "stdout",
     "output_type": "stream",
     "text": [
      "Training metrics: acc: 0.9432, f1: 0.9438, auc: 0.9915, precision: 0.9449, recall: 0.9432\n",
      "===================\n",
      "Validation metrics:\n",
      "acc: 1.0\n",
      "f1: 1.0\n",
      "auc: 1.0\n",
      "precision: 1.0\n",
      "recall: 1.0\n",
      "===================\n"
     ]
    },
    {
     "name": "stderr",
     "output_type": "stream",
     "text": [
      "epoch: [93 / 100], loss: 0.102763: 100%|██████████| 3/3 [00:35<00:00, 11.99s/it]\n"
     ]
    },
    {
     "name": "stdout",
     "output_type": "stream",
     "text": [
      "Training metrics: acc: 0.9563, f1: 0.9586, auc: 0.9961, precision: 0.9622, recall: 0.9563\n",
      "===================\n",
      "Validation metrics:\n",
      "acc: 0.833333\n",
      "f1: 0.869281\n",
      "auc: 1.0\n",
      "precision: 0.962963\n",
      "recall: 0.833333\n",
      "===================\n"
     ]
    },
    {
     "name": "stderr",
     "output_type": "stream",
     "text": [
      "epoch: [94 / 100], loss: 0.117370: 100%|██████████| 3/3 [00:35<00:00, 11.98s/it]\n"
     ]
    },
    {
     "name": "stdout",
     "output_type": "stream",
     "text": [
      "Training metrics: acc: 0.96, f1: 0.9588, auc: 0.9947, precision: 0.9578, recall: 0.96\n",
      "===================\n",
      "Validation metrics:\n",
      "acc: 0.833333\n",
      "f1: 0.869281\n",
      "auc: 1.0\n",
      "precision: 0.962963\n",
      "recall: 0.833333\n",
      "===================\n"
     ]
    },
    {
     "name": "stderr",
     "output_type": "stream",
     "text": [
      "epoch: [95 / 100], loss: 0.061017: 100%|██████████| 3/3 [00:37<00:00, 12.41s/it]\n"
     ]
    },
    {
     "name": "stdout",
     "output_type": "stream",
     "text": [
      "Training metrics: acc: 0.9832, f1: 0.984, auc: 0.9987, precision: 0.985, recall: 0.9832\n",
      "===================\n",
      "Validation metrics:\n",
      "acc: 0.833333\n",
      "f1: 0.869281\n",
      "auc: 1.0\n",
      "precision: 0.962963\n",
      "recall: 0.833333\n",
      "===================\n"
     ]
    },
    {
     "name": "stderr",
     "output_type": "stream",
     "text": [
      "epoch: [96 / 100], loss: 0.088044: 100%|██████████| 3/3 [00:36<00:00, 12.19s/it]\n"
     ]
    },
    {
     "name": "stdout",
     "output_type": "stream",
     "text": [
      "Training metrics: acc: 0.9677, f1: 0.97, auc: 0.9975, precision: 0.9732, recall: 0.9677\n",
      "===================\n",
      "Validation metrics:\n",
      "acc: 0.833333\n",
      "f1: 0.869281\n",
      "auc: 1.0\n",
      "precision: 0.962963\n",
      "recall: 0.833333\n",
      "===================\n"
     ]
    },
    {
     "name": "stderr",
     "output_type": "stream",
     "text": [
      "epoch: [97 / 100], loss: 0.077216: 100%|██████████| 3/3 [00:36<00:00, 12.04s/it]\n"
     ]
    },
    {
     "name": "stdout",
     "output_type": "stream",
     "text": [
      "Training metrics: acc: 0.9776, f1: 0.9792, auc: 0.9965, precision: 0.9811, recall: 0.9776\n",
      "===================\n",
      "Validation metrics:\n",
      "acc: 0.833333\n",
      "f1: 0.869281\n",
      "auc: 1.0\n",
      "precision: 0.962963\n",
      "recall: 0.833333\n",
      "===================\n"
     ]
    },
    {
     "name": "stderr",
     "output_type": "stream",
     "text": [
      "epoch: [98 / 100], loss: 0.086173: 100%|██████████| 3/3 [00:36<00:00, 12.12s/it]\n"
     ]
    },
    {
     "name": "stdout",
     "output_type": "stream",
     "text": [
      "Training metrics: acc: 0.969, f1: 0.9686, auc: 0.9972, precision: 0.969, recall: 0.969\n",
      "===================\n",
      "Validation metrics:\n",
      "acc: 0.833333\n",
      "f1: 0.869281\n",
      "auc: 1.0\n",
      "precision: 0.962963\n",
      "recall: 0.833333\n",
      "===================\n"
     ]
    },
    {
     "name": "stderr",
     "output_type": "stream",
     "text": [
      "epoch: [99 / 100], loss: 0.069763: 100%|██████████| 3/3 [00:36<00:00, 12.04s/it]\n"
     ]
    },
    {
     "name": "stdout",
     "output_type": "stream",
     "text": [
      "Training metrics: acc: 0.9794, f1: 0.9791, auc: 0.9984, precision: 0.9789, recall: 0.9794\n",
      "===================\n",
      "Validation metrics:\n",
      "acc: 0.833333\n",
      "f1: 0.869281\n",
      "auc: 1.0\n",
      "precision: 0.962963\n",
      "recall: 0.833333\n",
      "===================\n"
     ]
    },
    {
     "name": "stderr",
     "output_type": "stream",
     "text": [
      "epoch: [100 / 100], loss: 0.043980: 100%|██████████| 3/3 [00:35<00:00, 11.99s/it]\n"
     ]
    },
    {
     "name": "stdout",
     "output_type": "stream",
     "text": [
      "Training metrics: acc: 0.9899, f1: 0.9892, auc: 0.9996, precision: 0.9887, recall: 0.9899\n",
      "===================\n",
      "Validation metrics:\n",
      "acc: 0.833333\n",
      "f1: 0.869281\n",
      "auc: 1.0\n",
      "precision: 0.962963\n",
      "recall: 0.833333\n",
      "===================\n",
      "Performance of the best validation model:\n",
      "================================================================================\n",
      "Load weights form C:/Users/x4287225/Desktop/confounder-free-cnn/OCTDL/run\\best_validation_weights.pt\n",
      "================================================================================\n",
      "Running on Test set...\n",
      "================Finished================\n",
      "acc: 0.987179\n",
      "f1: 0.951797\n",
      "auc: 0.995567\n",
      "precision: 0.925926\n",
      "recall: 0.987179\n",
      "Confusion Matrix:\n",
      "[[100   0   4]\n",
      " [  0   8   0]\n",
      " [  0   0  14]]\n",
      "========================================\n",
      "Performance of the final model:\n",
      "================================================================================\n",
      "Load weights form C:/Users/x4287225/Desktop/confounder-free-cnn/OCTDL/run\\final_weights.pt\n",
      "================================================================================\n",
      "Running on Test set...\n",
      "================Finished================\n",
      "acc: 0.987179\n",
      "f1: 0.951797\n",
      "auc: 0.995846\n",
      "precision: 0.925926\n",
      "recall: 0.987179\n",
      "Confusion Matrix:\n",
      "[[100   0   4]\n",
      " [  0   8   0]\n",
      " [  0   0  14]]\n",
      "========================================\n"
     ]
    }
   ],
   "source": [
    "config_path =  dir + '/configs'\n",
    "config_name = \"OCTDL\"\n",
    "main_notebook(config_path, config_name)"
   ]
  },
  {
   "cell_type": "code",
   "execution_count": null,
   "metadata": {},
   "outputs": [],
   "source": []
  },
  {
   "cell_type": "code",
   "execution_count": null,
   "metadata": {},
   "outputs": [],
   "source": []
  }
 ],
 "metadata": {
  "kernelspec": {
   "display_name": "Python 3",
   "language": "python",
   "name": "python3"
  },
  "language_info": {
   "codemirror_mode": {
    "name": "ipython",
    "version": 3
   },
   "file_extension": ".py",
   "mimetype": "text/x-python",
   "name": "python",
   "nbconvert_exporter": "python",
   "pygments_lexer": "ipython3",
   "version": "3.11.9"
  }
 },
 "nbformat": 4,
 "nbformat_minor": 2
}
